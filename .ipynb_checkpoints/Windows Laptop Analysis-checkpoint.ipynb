{
 "cells": [
  {
   "cell_type": "code",
   "execution_count": 1,
   "id": "b09d6126",
   "metadata": {},
   "outputs": [],
   "source": [
    "import pandas as pd\n",
    "import numpy as np\n",
    "import matplotlib.pyplot as plt\n",
    "import plotly.express as px\n",
    "import seaborn as sns"
   ]
  },
  {
   "cell_type": "code",
   "execution_count": 2,
   "id": "3de69ad1",
   "metadata": {},
   "outputs": [
    {
     "data": {
      "text/html": [
       "<div>\n",
       "<style scoped>\n",
       "    .dataframe tbody tr th:only-of-type {\n",
       "        vertical-align: middle;\n",
       "    }\n",
       "\n",
       "    .dataframe tbody tr th {\n",
       "        vertical-align: top;\n",
       "    }\n",
       "\n",
       "    .dataframe thead th {\n",
       "        text-align: right;\n",
       "    }\n",
       "</style>\n",
       "<table border=\"1\" class=\"dataframe\">\n",
       "  <thead>\n",
       "    <tr style=\"text-align: right;\">\n",
       "      <th></th>\n",
       "      <th>brand</th>\n",
       "      <th>model</th>\n",
       "      <th>aggregateRating/ratingValue</th>\n",
       "      <th>aggregateRating/reviewCount</th>\n",
       "      <th>offers/price</th>\n",
       "      <th>offers/priceCurrency</th>\n",
       "      <th>depth</th>\n",
       "      <th>width</th>\n",
       "      <th>features/0/description</th>\n",
       "      <th>features/1/description</th>\n",
       "    </tr>\n",
       "  </thead>\n",
       "  <tbody>\n",
       "    <tr>\n",
       "      <th>0</th>\n",
       "      <td>Dell</td>\n",
       "      <td>i7430-7374SLV-PUS</td>\n",
       "      <td>4.7</td>\n",
       "      <td>1088.0</td>\n",
       "      <td>NaN</td>\n",
       "      <td>USD</td>\n",
       "      <td>8.92</td>\n",
       "      <td>12.36</td>\n",
       "      <td>Windows 11 brings back the Start Menu from Win...</td>\n",
       "      <td>Equipped with a FHD+ IPS touch screen, the bor...</td>\n",
       "    </tr>\n",
       "    <tr>\n",
       "      <th>1</th>\n",
       "      <td>Dell</td>\n",
       "      <td>i3520-5810BLK-PUS</td>\n",
       "      <td>4.6</td>\n",
       "      <td>839.0</td>\n",
       "      <td>NaN</td>\n",
       "      <td>USD</td>\n",
       "      <td>9.27</td>\n",
       "      <td>14.11</td>\n",
       "      <td>Experience the most secure Windows ever built ...</td>\n",
       "      <td>Natural finger-touch navigation makes the most...</td>\n",
       "    </tr>\n",
       "    <tr>\n",
       "      <th>2</th>\n",
       "      <td>Lenovo</td>\n",
       "      <td>82YL0002US</td>\n",
       "      <td>4.7</td>\n",
       "      <td>127.0</td>\n",
       "      <td>NaN</td>\n",
       "      <td>USD</td>\n",
       "      <td>8.76</td>\n",
       "      <td>12.51</td>\n",
       "      <td>Windows 11 brings back the Start Menu from Win...</td>\n",
       "      <td>Find the relevant information and ideas you ne...</td>\n",
       "    </tr>\n",
       "    <tr>\n",
       "      <th>3</th>\n",
       "      <td>Microsoft</td>\n",
       "      <td>DTI-00001</td>\n",
       "      <td>4.7</td>\n",
       "      <td>926.0</td>\n",
       "      <td>NaN</td>\n",
       "      <td>USD</td>\n",
       "      <td>7.90</td>\n",
       "      <td>11.50</td>\n",
       "      <td>Find the relevant information and ideas you ne...</td>\n",
       "      <td>Iconic 2-in-1 design transforms into what you ...</td>\n",
       "    </tr>\n",
       "    <tr>\n",
       "      <th>4</th>\n",
       "      <td>Microsoft</td>\n",
       "      <td>R1S-00062</td>\n",
       "      <td>4.7</td>\n",
       "      <td>422.0</td>\n",
       "      <td>NaN</td>\n",
       "      <td>USD</td>\n",
       "      <td>8.80</td>\n",
       "      <td>12.10</td>\n",
       "      <td>Find the relevant information and ideas you ne...</td>\n",
       "      <td>Family, friends, passions, music, creations – ...</td>\n",
       "    </tr>\n",
       "  </tbody>\n",
       "</table>\n",
       "</div>"
      ],
      "text/plain": [
       "       brand              model  aggregateRating/ratingValue  \\\n",
       "0       Dell  i7430-7374SLV-PUS                          4.7   \n",
       "1       Dell  i3520-5810BLK-PUS                          4.6   \n",
       "2     Lenovo         82YL0002US                          4.7   \n",
       "3  Microsoft          DTI-00001                          4.7   \n",
       "4  Microsoft          R1S-00062                          4.7   \n",
       "\n",
       "   aggregateRating/reviewCount  offers/price offers/priceCurrency  depth  \\\n",
       "0                       1088.0           NaN                  USD   8.92   \n",
       "1                        839.0           NaN                  USD   9.27   \n",
       "2                        127.0           NaN                  USD   8.76   \n",
       "3                        926.0           NaN                  USD   7.90   \n",
       "4                        422.0           NaN                  USD   8.80   \n",
       "\n",
       "   width                             features/0/description  \\\n",
       "0  12.36  Windows 11 brings back the Start Menu from Win...   \n",
       "1  14.11  Experience the most secure Windows ever built ...   \n",
       "2  12.51  Windows 11 brings back the Start Menu from Win...   \n",
       "3  11.50  Find the relevant information and ideas you ne...   \n",
       "4  12.10  Find the relevant information and ideas you ne...   \n",
       "\n",
       "                              features/1/description  \n",
       "0  Equipped with a FHD+ IPS touch screen, the bor...  \n",
       "1  Natural finger-touch navigation makes the most...  \n",
       "2  Find the relevant information and ideas you ne...  \n",
       "3  Iconic 2-in-1 design transforms into what you ...  \n",
       "4  Family, friends, passions, music, creations – ...  "
      ]
     },
     "execution_count": 2,
     "metadata": {},
     "output_type": "execute_result"
    }
   ],
   "source": [
    "# Load monthly sales data \n",
    "laptops = pd.read_csv('best_buy_laptops_2024.csv')\n",
    "laptops.head()"
   ]
  },
  {
   "cell_type": "markdown",
   "id": "ae3414a5",
   "metadata": {},
   "source": [
    "This [dataset](https://www.kaggle.com/datasets/kanchana1990/best-buy-2024-windows-laptops?resource=download) encapsulates a comprehensive collection of Windows laptop listings from Best Buy for the 2024.\n",
    "\n",
    "Column Descriptions:\n",
    "1. brand (489 non-null, object): The manufacturer of the laptop, covering a diverse range of well-known companies such as Dell, Lenovo, Microsoft, and more, indicating the dataset's breadth in representing different manufacturers.\n",
    "2. model (488 non-null, object): The specific model identifier for each laptop, providing a unique distinction between different laptop offerings.\n",
    "3. aggregateRating/ratingValue (357 non-null, float64): The average consumer rating for each laptop on a scale, reflecting overall consumer satisfaction.\n",
    "4. aggregateRating/reviewCount (357 non-null, float64): The total number of reviews submitted for each laptop, offering insight into the level of consumer engagement and feedback.\n",
    "5. offers/price (262 non-null, float64): The listed selling price for each laptop on Best Buy, crucial for price trend analysis and market positioning.\n",
    "6. offers/priceCurrency (489 non-null, object): The currency of the listed price, uniformly denoted as 'USD', ensuring consistency in price data.\n",
    "7. depth (431 non-null, float64): The front-to-back measurement of each laptop, contributing to the understanding of laptop size and portability.\n",
    "8. width (431 non-null, float64): The side-to-side measurement, further detailing the physical dimensions of the laptops.\n",
    "9. features/0/description (486 non-null, object): A description of a primary feature or selling point for the laptop, highlighting unique or standout specifications.\n",
    "10. features/1/description (483 non-null, object): Descriptions of a secondary feature, providing additional insights into the laptops' capabilities and attractions."
   ]
  },
  {
   "cell_type": "code",
   "execution_count": 3,
   "id": "448fb22d",
   "metadata": {},
   "outputs": [
    {
     "name": "stdout",
     "output_type": "stream",
     "text": [
      "<class 'pandas.core.frame.DataFrame'>\n",
      "RangeIndex: 489 entries, 0 to 488\n",
      "Data columns (total 10 columns):\n",
      " #   Column                       Non-Null Count  Dtype  \n",
      "---  ------                       --------------  -----  \n",
      " 0   brand                        489 non-null    object \n",
      " 1   model                        488 non-null    object \n",
      " 2   aggregateRating/ratingValue  357 non-null    float64\n",
      " 3   aggregateRating/reviewCount  357 non-null    float64\n",
      " 4   offers/price                 262 non-null    float64\n",
      " 5   offers/priceCurrency         489 non-null    object \n",
      " 6   depth                        431 non-null    float64\n",
      " 7   width                        431 non-null    float64\n",
      " 8   features/0/description       486 non-null    object \n",
      " 9   features/1/description       483 non-null    object \n",
      "dtypes: float64(5), object(5)\n",
      "memory usage: 38.3+ KB\n"
     ]
    }
   ],
   "source": [
    "laptops.info()"
   ]
  },
  {
   "cell_type": "code",
   "execution_count": 4,
   "id": "61248bcf",
   "metadata": {},
   "outputs": [
    {
     "data": {
      "text/plain": [
       "brand                            0\n",
       "model                            1\n",
       "aggregateRating/ratingValue    132\n",
       "aggregateRating/reviewCount    132\n",
       "offers/price                   227\n",
       "offers/priceCurrency             0\n",
       "depth                           58\n",
       "width                           58\n",
       "features/0/description           3\n",
       "features/1/description           6\n",
       "dtype: int64"
      ]
     },
     "execution_count": 4,
     "metadata": {},
     "output_type": "execute_result"
    }
   ],
   "source": [
    "#Check the total number of NaNs for each column\n",
    "missing_info = laptops.isna().sum()\n",
    "missing_info"
   ]
  },
  {
   "cell_type": "code",
   "execution_count": 5,
   "id": "ce6616be",
   "metadata": {},
   "outputs": [
    {
     "data": {
      "text/html": [
       "<div>\n",
       "<style scoped>\n",
       "    .dataframe tbody tr th:only-of-type {\n",
       "        vertical-align: middle;\n",
       "    }\n",
       "\n",
       "    .dataframe tbody tr th {\n",
       "        vertical-align: top;\n",
       "    }\n",
       "\n",
       "    .dataframe thead th {\n",
       "        text-align: right;\n",
       "    }\n",
       "</style>\n",
       "<table border=\"1\" class=\"dataframe\">\n",
       "  <thead>\n",
       "    <tr style=\"text-align: right;\">\n",
       "      <th></th>\n",
       "      <th>Brand</th>\n",
       "      <th>Model</th>\n",
       "      <th>Rating</th>\n",
       "      <th>Review Count</th>\n",
       "      <th>Price</th>\n",
       "      <th>Currency</th>\n",
       "      <th>Depth</th>\n",
       "      <th>Width</th>\n",
       "      <th>Features</th>\n",
       "      <th>Description</th>\n",
       "    </tr>\n",
       "  </thead>\n",
       "  <tbody>\n",
       "    <tr>\n",
       "      <th>0</th>\n",
       "      <td>Dell</td>\n",
       "      <td>i7430-7374SLV-PUS</td>\n",
       "      <td>4.7</td>\n",
       "      <td>1088.0</td>\n",
       "      <td>NaN</td>\n",
       "      <td>USD</td>\n",
       "      <td>8.92</td>\n",
       "      <td>12.36</td>\n",
       "      <td>Windows 11 brings back the Start Menu from Win...</td>\n",
       "      <td>Equipped with a FHD+ IPS touch screen, the bor...</td>\n",
       "    </tr>\n",
       "    <tr>\n",
       "      <th>1</th>\n",
       "      <td>Dell</td>\n",
       "      <td>i3520-5810BLK-PUS</td>\n",
       "      <td>4.6</td>\n",
       "      <td>839.0</td>\n",
       "      <td>NaN</td>\n",
       "      <td>USD</td>\n",
       "      <td>9.27</td>\n",
       "      <td>14.11</td>\n",
       "      <td>Experience the most secure Windows ever built ...</td>\n",
       "      <td>Natural finger-touch navigation makes the most...</td>\n",
       "    </tr>\n",
       "    <tr>\n",
       "      <th>2</th>\n",
       "      <td>Lenovo</td>\n",
       "      <td>82YL0002US</td>\n",
       "      <td>4.7</td>\n",
       "      <td>127.0</td>\n",
       "      <td>NaN</td>\n",
       "      <td>USD</td>\n",
       "      <td>8.76</td>\n",
       "      <td>12.51</td>\n",
       "      <td>Windows 11 brings back the Start Menu from Win...</td>\n",
       "      <td>Find the relevant information and ideas you ne...</td>\n",
       "    </tr>\n",
       "    <tr>\n",
       "      <th>3</th>\n",
       "      <td>Microsoft</td>\n",
       "      <td>DTI-00001</td>\n",
       "      <td>4.7</td>\n",
       "      <td>926.0</td>\n",
       "      <td>NaN</td>\n",
       "      <td>USD</td>\n",
       "      <td>7.90</td>\n",
       "      <td>11.50</td>\n",
       "      <td>Find the relevant information and ideas you ne...</td>\n",
       "      <td>Iconic 2-in-1 design transforms into what you ...</td>\n",
       "    </tr>\n",
       "    <tr>\n",
       "      <th>4</th>\n",
       "      <td>Microsoft</td>\n",
       "      <td>R1S-00062</td>\n",
       "      <td>4.7</td>\n",
       "      <td>422.0</td>\n",
       "      <td>NaN</td>\n",
       "      <td>USD</td>\n",
       "      <td>8.80</td>\n",
       "      <td>12.10</td>\n",
       "      <td>Find the relevant information and ideas you ne...</td>\n",
       "      <td>Family, friends, passions, music, creations – ...</td>\n",
       "    </tr>\n",
       "  </tbody>\n",
       "</table>\n",
       "</div>"
      ],
      "text/plain": [
       "       Brand              Model  Rating  Review Count  Price Currency  Depth  \\\n",
       "0       Dell  i7430-7374SLV-PUS     4.7        1088.0    NaN      USD   8.92   \n",
       "1       Dell  i3520-5810BLK-PUS     4.6         839.0    NaN      USD   9.27   \n",
       "2     Lenovo         82YL0002US     4.7         127.0    NaN      USD   8.76   \n",
       "3  Microsoft          DTI-00001     4.7         926.0    NaN      USD   7.90   \n",
       "4  Microsoft          R1S-00062     4.7         422.0    NaN      USD   8.80   \n",
       "\n",
       "   Width                                           Features  \\\n",
       "0  12.36  Windows 11 brings back the Start Menu from Win...   \n",
       "1  14.11  Experience the most secure Windows ever built ...   \n",
       "2  12.51  Windows 11 brings back the Start Menu from Win...   \n",
       "3  11.50  Find the relevant information and ideas you ne...   \n",
       "4  12.10  Find the relevant information and ideas you ne...   \n",
       "\n",
       "                                         Description  \n",
       "0  Equipped with a FHD+ IPS touch screen, the bor...  \n",
       "1  Natural finger-touch navigation makes the most...  \n",
       "2  Find the relevant information and ideas you ne...  \n",
       "3  Iconic 2-in-1 design transforms into what you ...  \n",
       "4  Family, friends, passions, music, creations – ...  "
      ]
     },
     "execution_count": 5,
     "metadata": {},
     "output_type": "execute_result"
    }
   ],
   "source": [
    "#Renaming columns\n",
    "laptops.rename(columns={'brand':'Brand',\n",
    "                             'model': 'Model',\n",
    "                             'aggregateRating/ratingValue': 'Rating', \n",
    "                             'aggregateRating/reviewCount': 'Review Count', \n",
    "                             'offers/price': 'Price',\n",
    "                             'offers/priceCurrency': 'Currency',\n",
    "                             'depth':'Depth',\n",
    "                             'width':'Width',\n",
    "                             'features/0/description':'Features',\n",
    "                             'features/1/description':'Description'}, inplace=True)\n",
    "laptops.head()"
   ]
  },
  {
   "cell_type": "code",
   "execution_count": 6,
   "id": "ab5c11f1",
   "metadata": {},
   "outputs": [
    {
     "name": "stderr",
     "output_type": "stream",
     "text": [
      "C:\\Users\\Theresa\\AppData\\Local\\Temp\\ipykernel_2528\\2759884231.py:4: SettingWithCopyWarning: \n",
      "A value is trying to be set on a copy of a slice from a DataFrame\n",
      "\n",
      "See the caveats in the documentation: https://pandas.pydata.org/pandas-docs/stable/user_guide/indexing.html#returning-a-view-versus-a-copy\n",
      "  laptops_cleaned.drop(columns=['Features', 'Description'], inplace = True)\n"
     ]
    },
    {
     "data": {
      "text/html": [
       "<div>\n",
       "<style scoped>\n",
       "    .dataframe tbody tr th:only-of-type {\n",
       "        vertical-align: middle;\n",
       "    }\n",
       "\n",
       "    .dataframe tbody tr th {\n",
       "        vertical-align: top;\n",
       "    }\n",
       "\n",
       "    .dataframe thead th {\n",
       "        text-align: right;\n",
       "    }\n",
       "</style>\n",
       "<table border=\"1\" class=\"dataframe\">\n",
       "  <thead>\n",
       "    <tr style=\"text-align: right;\">\n",
       "      <th></th>\n",
       "      <th>Brand</th>\n",
       "      <th>Model</th>\n",
       "      <th>Rating</th>\n",
       "      <th>Review Count</th>\n",
       "      <th>Price</th>\n",
       "      <th>Currency</th>\n",
       "      <th>Depth</th>\n",
       "      <th>Width</th>\n",
       "    </tr>\n",
       "  </thead>\n",
       "  <tbody>\n",
       "    <tr>\n",
       "      <th>13</th>\n",
       "      <td>Acer</td>\n",
       "      <td>PHN16-71-73LT</td>\n",
       "      <td>4.6</td>\n",
       "      <td>343.0</td>\n",
       "      <td>1179.99</td>\n",
       "      <td>USD</td>\n",
       "      <td>11.02</td>\n",
       "      <td>14.18</td>\n",
       "    </tr>\n",
       "    <tr>\n",
       "      <th>23</th>\n",
       "      <td>Microsoft</td>\n",
       "      <td>QIL-00001</td>\n",
       "      <td>4.8</td>\n",
       "      <td>517.0</td>\n",
       "      <td>1199.99</td>\n",
       "      <td>USD</td>\n",
       "      <td>8.20</td>\n",
       "      <td>11.30</td>\n",
       "    </tr>\n",
       "    <tr>\n",
       "      <th>31</th>\n",
       "      <td>Microsoft</td>\n",
       "      <td>QIL-00052</td>\n",
       "      <td>4.8</td>\n",
       "      <td>517.0</td>\n",
       "      <td>1199.99</td>\n",
       "      <td>USD</td>\n",
       "      <td>8.20</td>\n",
       "      <td>11.30</td>\n",
       "    </tr>\n",
       "    <tr>\n",
       "      <th>45</th>\n",
       "      <td>Microsoft</td>\n",
       "      <td>Z2D-00001</td>\n",
       "      <td>4.4</td>\n",
       "      <td>9.0</td>\n",
       "      <td>3299.99</td>\n",
       "      <td>USD</td>\n",
       "      <td>12.72</td>\n",
       "      <td>9.06</td>\n",
       "    </tr>\n",
       "    <tr>\n",
       "      <th>49</th>\n",
       "      <td>MSI</td>\n",
       "      <td>PRE14EVO13269</td>\n",
       "      <td>NaN</td>\n",
       "      <td>NaN</td>\n",
       "      <td>1499.99</td>\n",
       "      <td>USD</td>\n",
       "      <td>9.00</td>\n",
       "      <td>12.00</td>\n",
       "    </tr>\n",
       "    <tr>\n",
       "      <th>...</th>\n",
       "      <td>...</td>\n",
       "      <td>...</td>\n",
       "      <td>...</td>\n",
       "      <td>...</td>\n",
       "      <td>...</td>\n",
       "      <td>...</td>\n",
       "      <td>...</td>\n",
       "      <td>...</td>\n",
       "    </tr>\n",
       "    <tr>\n",
       "      <th>484</th>\n",
       "      <td>Dell</td>\n",
       "      <td>5490</td>\n",
       "      <td>5.0</td>\n",
       "      <td>3.0</td>\n",
       "      <td>365.99</td>\n",
       "      <td>USD</td>\n",
       "      <td>9.00</td>\n",
       "      <td>13.10</td>\n",
       "    </tr>\n",
       "    <tr>\n",
       "      <th>485</th>\n",
       "      <td>Lenovo</td>\n",
       "      <td>21EX0008US</td>\n",
       "      <td>5.0</td>\n",
       "      <td>1.0</td>\n",
       "      <td>1449.99</td>\n",
       "      <td>USD</td>\n",
       "      <td>8.46</td>\n",
       "      <td>0.63</td>\n",
       "    </tr>\n",
       "    <tr>\n",
       "      <th>486</th>\n",
       "      <td>Lenovo</td>\n",
       "      <td>21HF000CUS</td>\n",
       "      <td>5.0</td>\n",
       "      <td>1.0</td>\n",
       "      <td>1089.99</td>\n",
       "      <td>USD</td>\n",
       "      <td>8.93</td>\n",
       "      <td>0.70</td>\n",
       "    </tr>\n",
       "    <tr>\n",
       "      <th>487</th>\n",
       "      <td>Lenovo</td>\n",
       "      <td>21EX0003US</td>\n",
       "      <td>NaN</td>\n",
       "      <td>NaN</td>\n",
       "      <td>1249.99</td>\n",
       "      <td>USD</td>\n",
       "      <td>8.46</td>\n",
       "      <td>0.63</td>\n",
       "    </tr>\n",
       "    <tr>\n",
       "      <th>488</th>\n",
       "      <td>Dell</td>\n",
       "      <td>P7N66</td>\n",
       "      <td>NaN</td>\n",
       "      <td>NaN</td>\n",
       "      <td>1319.99</td>\n",
       "      <td>USD</td>\n",
       "      <td>8.00</td>\n",
       "      <td>12.00</td>\n",
       "    </tr>\n",
       "  </tbody>\n",
       "</table>\n",
       "<p>262 rows × 8 columns</p>\n",
       "</div>"
      ],
      "text/plain": [
       "         Brand          Model  Rating  Review Count    Price Currency  Depth  \\\n",
       "13        Acer  PHN16-71-73LT     4.6         343.0  1179.99      USD  11.02   \n",
       "23   Microsoft      QIL-00001     4.8         517.0  1199.99      USD   8.20   \n",
       "31   Microsoft      QIL-00052     4.8         517.0  1199.99      USD   8.20   \n",
       "45   Microsoft      Z2D-00001     4.4           9.0  3299.99      USD  12.72   \n",
       "49         MSI  PRE14EVO13269     NaN           NaN  1499.99      USD   9.00   \n",
       "..         ...            ...     ...           ...      ...      ...    ...   \n",
       "484       Dell           5490     5.0           3.0   365.99      USD   9.00   \n",
       "485     Lenovo     21EX0008US     5.0           1.0  1449.99      USD   8.46   \n",
       "486     Lenovo     21HF000CUS     5.0           1.0  1089.99      USD   8.93   \n",
       "487     Lenovo     21EX0003US     NaN           NaN  1249.99      USD   8.46   \n",
       "488       Dell          P7N66     NaN           NaN  1319.99      USD   8.00   \n",
       "\n",
       "     Width  \n",
       "13   14.18  \n",
       "23   11.30  \n",
       "31   11.30  \n",
       "45    9.06  \n",
       "49   12.00  \n",
       "..     ...  \n",
       "484  13.10  \n",
       "485   0.63  \n",
       "486   0.70  \n",
       "487   0.63  \n",
       "488  12.00  \n",
       "\n",
       "[262 rows x 8 columns]"
      ]
     },
     "execution_count": 6,
     "metadata": {},
     "output_type": "execute_result"
    }
   ],
   "source": [
    "#Filter rows that have Price information \n",
    "laptops_cleaned = laptops[~laptops['Price'].isna()]\n",
    "#dropping columns that I will not be using\n",
    "laptops_cleaned.drop(columns=['Features', 'Description'], inplace = True)\n",
    "laptops_cleaned"
   ]
  },
  {
   "cell_type": "code",
   "execution_count": 7,
   "id": "f75af288",
   "metadata": {},
   "outputs": [
    {
     "data": {
      "text/html": [
       "<div>\n",
       "<style scoped>\n",
       "    .dataframe tbody tr th:only-of-type {\n",
       "        vertical-align: middle;\n",
       "    }\n",
       "\n",
       "    .dataframe tbody tr th {\n",
       "        vertical-align: top;\n",
       "    }\n",
       "\n",
       "    .dataframe thead th {\n",
       "        text-align: right;\n",
       "    }\n",
       "</style>\n",
       "<table border=\"1\" class=\"dataframe\">\n",
       "  <thead>\n",
       "    <tr style=\"text-align: right;\">\n",
       "      <th></th>\n",
       "      <th>Price</th>\n",
       "    </tr>\n",
       "    <tr>\n",
       "      <th>Brand</th>\n",
       "      <th></th>\n",
       "    </tr>\n",
       "  </thead>\n",
       "  <tbody>\n",
       "    <tr>\n",
       "      <th>Razer</th>\n",
       "      <td>3049.990000</td>\n",
       "    </tr>\n",
       "    <tr>\n",
       "      <th>GIGABYTE</th>\n",
       "      <td>1756.240000</td>\n",
       "    </tr>\n",
       "    <tr>\n",
       "      <th>MSI</th>\n",
       "      <td>1718.885263</td>\n",
       "    </tr>\n",
       "    <tr>\n",
       "      <th>Alienware</th>\n",
       "      <td>1649.990000</td>\n",
       "    </tr>\n",
       "    <tr>\n",
       "      <th>ASUS</th>\n",
       "      <td>1524.552500</td>\n",
       "    </tr>\n",
       "    <tr>\n",
       "      <th>Microsoft</th>\n",
       "      <td>1320.941000</td>\n",
       "    </tr>\n",
       "    <tr>\n",
       "      <th>Dell</th>\n",
       "      <td>1273.205714</td>\n",
       "    </tr>\n",
       "    <tr>\n",
       "      <th>LG</th>\n",
       "      <td>1079.990000</td>\n",
       "    </tr>\n",
       "    <tr>\n",
       "      <th>Acer</th>\n",
       "      <td>1034.403793</td>\n",
       "    </tr>\n",
       "    <tr>\n",
       "      <th>Lenovo</th>\n",
       "      <td>919.258657</td>\n",
       "    </tr>\n",
       "    <tr>\n",
       "      <th>HP</th>\n",
       "      <td>574.010625</td>\n",
       "    </tr>\n",
       "    <tr>\n",
       "      <th>Samsung</th>\n",
       "      <td>524.990000</td>\n",
       "    </tr>\n",
       "  </tbody>\n",
       "</table>\n",
       "</div>"
      ],
      "text/plain": [
       "                 Price\n",
       "Brand                 \n",
       "Razer      3049.990000\n",
       "GIGABYTE   1756.240000\n",
       "MSI        1718.885263\n",
       "Alienware  1649.990000\n",
       "ASUS       1524.552500\n",
       "Microsoft  1320.941000\n",
       "Dell       1273.205714\n",
       "LG         1079.990000\n",
       "Acer       1034.403793\n",
       "Lenovo      919.258657\n",
       "HP          574.010625\n",
       "Samsung     524.990000"
      ]
     },
     "execution_count": 7,
     "metadata": {},
     "output_type": "execute_result"
    }
   ],
   "source": [
    "#ave price vs brand pivot table\n",
    "price_brand = pd.pivot_table(laptops_cleaned, values = \"Price\", index = \"Brand\", columns=None, aggfunc=\"mean\", fill_value=None, margins=False, dropna=True, margins_name='All', observed=True)\n",
    "price_brand_sorted = price_brand.sort_values(by='Price', ascending=False)\n",
    "price_brand_sorted"
   ]
  },
  {
   "cell_type": "code",
   "execution_count": 46,
   "id": "48235dc4",
   "metadata": {},
   "outputs": [
    {
     "data": {
      "application/vnd.plotly.v1+json": {
       "config": {
        "plotlyServerURL": "https://plot.ly"
       },
       "data": [
        {
         "alignmentgroup": "True",
         "hovertemplate": "Price=%{x}<br>Brand=%{y}<extra></extra>",
         "legendgroup": "",
         "marker": {
          "color": "#636efa",
          "pattern": {
           "shape": ""
          }
         },
         "name": "",
         "offsetgroup": "",
         "orientation": "h",
         "showlegend": false,
         "textposition": "auto",
         "type": "bar",
         "x": [
          3049.99,
          1756.24,
          1718.8852631578948,
          1649.99,
          1524.5525,
          1320.941,
          1273.2057142857143,
          1079.99,
          1034.4037931034482,
          919.2586567164179,
          574.010625,
          524.99
         ],
         "xaxis": "x",
         "y": [
          "Razer",
          "GIGABYTE",
          "MSI",
          "Alienware",
          "ASUS",
          "Microsoft",
          "Dell",
          "LG",
          "Acer",
          "Lenovo",
          "HP",
          "Samsung"
         ],
         "yaxis": "y"
        }
       ],
       "layout": {
        "barmode": "relative",
        "legend": {
         "tracegroupgap": 0
        },
        "template": {
         "data": {
          "bar": [
           {
            "error_x": {
             "color": "#2a3f5f"
            },
            "error_y": {
             "color": "#2a3f5f"
            },
            "marker": {
             "line": {
              "color": "#E5ECF6",
              "width": 0.5
             },
             "pattern": {
              "fillmode": "overlay",
              "size": 10,
              "solidity": 0.2
             }
            },
            "type": "bar"
           }
          ],
          "barpolar": [
           {
            "marker": {
             "line": {
              "color": "#E5ECF6",
              "width": 0.5
             },
             "pattern": {
              "fillmode": "overlay",
              "size": 10,
              "solidity": 0.2
             }
            },
            "type": "barpolar"
           }
          ],
          "carpet": [
           {
            "aaxis": {
             "endlinecolor": "#2a3f5f",
             "gridcolor": "white",
             "linecolor": "white",
             "minorgridcolor": "white",
             "startlinecolor": "#2a3f5f"
            },
            "baxis": {
             "endlinecolor": "#2a3f5f",
             "gridcolor": "white",
             "linecolor": "white",
             "minorgridcolor": "white",
             "startlinecolor": "#2a3f5f"
            },
            "type": "carpet"
           }
          ],
          "choropleth": [
           {
            "colorbar": {
             "outlinewidth": 0,
             "ticks": ""
            },
            "type": "choropleth"
           }
          ],
          "contour": [
           {
            "colorbar": {
             "outlinewidth": 0,
             "ticks": ""
            },
            "colorscale": [
             [
              0,
              "#0d0887"
             ],
             [
              0.1111111111111111,
              "#46039f"
             ],
             [
              0.2222222222222222,
              "#7201a8"
             ],
             [
              0.3333333333333333,
              "#9c179e"
             ],
             [
              0.4444444444444444,
              "#bd3786"
             ],
             [
              0.5555555555555556,
              "#d8576b"
             ],
             [
              0.6666666666666666,
              "#ed7953"
             ],
             [
              0.7777777777777778,
              "#fb9f3a"
             ],
             [
              0.8888888888888888,
              "#fdca26"
             ],
             [
              1,
              "#f0f921"
             ]
            ],
            "type": "contour"
           }
          ],
          "contourcarpet": [
           {
            "colorbar": {
             "outlinewidth": 0,
             "ticks": ""
            },
            "type": "contourcarpet"
           }
          ],
          "heatmap": [
           {
            "colorbar": {
             "outlinewidth": 0,
             "ticks": ""
            },
            "colorscale": [
             [
              0,
              "#0d0887"
             ],
             [
              0.1111111111111111,
              "#46039f"
             ],
             [
              0.2222222222222222,
              "#7201a8"
             ],
             [
              0.3333333333333333,
              "#9c179e"
             ],
             [
              0.4444444444444444,
              "#bd3786"
             ],
             [
              0.5555555555555556,
              "#d8576b"
             ],
             [
              0.6666666666666666,
              "#ed7953"
             ],
             [
              0.7777777777777778,
              "#fb9f3a"
             ],
             [
              0.8888888888888888,
              "#fdca26"
             ],
             [
              1,
              "#f0f921"
             ]
            ],
            "type": "heatmap"
           }
          ],
          "heatmapgl": [
           {
            "colorbar": {
             "outlinewidth": 0,
             "ticks": ""
            },
            "colorscale": [
             [
              0,
              "#0d0887"
             ],
             [
              0.1111111111111111,
              "#46039f"
             ],
             [
              0.2222222222222222,
              "#7201a8"
             ],
             [
              0.3333333333333333,
              "#9c179e"
             ],
             [
              0.4444444444444444,
              "#bd3786"
             ],
             [
              0.5555555555555556,
              "#d8576b"
             ],
             [
              0.6666666666666666,
              "#ed7953"
             ],
             [
              0.7777777777777778,
              "#fb9f3a"
             ],
             [
              0.8888888888888888,
              "#fdca26"
             ],
             [
              1,
              "#f0f921"
             ]
            ],
            "type": "heatmapgl"
           }
          ],
          "histogram": [
           {
            "marker": {
             "pattern": {
              "fillmode": "overlay",
              "size": 10,
              "solidity": 0.2
             }
            },
            "type": "histogram"
           }
          ],
          "histogram2d": [
           {
            "colorbar": {
             "outlinewidth": 0,
             "ticks": ""
            },
            "colorscale": [
             [
              0,
              "#0d0887"
             ],
             [
              0.1111111111111111,
              "#46039f"
             ],
             [
              0.2222222222222222,
              "#7201a8"
             ],
             [
              0.3333333333333333,
              "#9c179e"
             ],
             [
              0.4444444444444444,
              "#bd3786"
             ],
             [
              0.5555555555555556,
              "#d8576b"
             ],
             [
              0.6666666666666666,
              "#ed7953"
             ],
             [
              0.7777777777777778,
              "#fb9f3a"
             ],
             [
              0.8888888888888888,
              "#fdca26"
             ],
             [
              1,
              "#f0f921"
             ]
            ],
            "type": "histogram2d"
           }
          ],
          "histogram2dcontour": [
           {
            "colorbar": {
             "outlinewidth": 0,
             "ticks": ""
            },
            "colorscale": [
             [
              0,
              "#0d0887"
             ],
             [
              0.1111111111111111,
              "#46039f"
             ],
             [
              0.2222222222222222,
              "#7201a8"
             ],
             [
              0.3333333333333333,
              "#9c179e"
             ],
             [
              0.4444444444444444,
              "#bd3786"
             ],
             [
              0.5555555555555556,
              "#d8576b"
             ],
             [
              0.6666666666666666,
              "#ed7953"
             ],
             [
              0.7777777777777778,
              "#fb9f3a"
             ],
             [
              0.8888888888888888,
              "#fdca26"
             ],
             [
              1,
              "#f0f921"
             ]
            ],
            "type": "histogram2dcontour"
           }
          ],
          "mesh3d": [
           {
            "colorbar": {
             "outlinewidth": 0,
             "ticks": ""
            },
            "type": "mesh3d"
           }
          ],
          "parcoords": [
           {
            "line": {
             "colorbar": {
              "outlinewidth": 0,
              "ticks": ""
             }
            },
            "type": "parcoords"
           }
          ],
          "pie": [
           {
            "automargin": true,
            "type": "pie"
           }
          ],
          "scatter": [
           {
            "fillpattern": {
             "fillmode": "overlay",
             "size": 10,
             "solidity": 0.2
            },
            "type": "scatter"
           }
          ],
          "scatter3d": [
           {
            "line": {
             "colorbar": {
              "outlinewidth": 0,
              "ticks": ""
             }
            },
            "marker": {
             "colorbar": {
              "outlinewidth": 0,
              "ticks": ""
             }
            },
            "type": "scatter3d"
           }
          ],
          "scattercarpet": [
           {
            "marker": {
             "colorbar": {
              "outlinewidth": 0,
              "ticks": ""
             }
            },
            "type": "scattercarpet"
           }
          ],
          "scattergeo": [
           {
            "marker": {
             "colorbar": {
              "outlinewidth": 0,
              "ticks": ""
             }
            },
            "type": "scattergeo"
           }
          ],
          "scattergl": [
           {
            "marker": {
             "colorbar": {
              "outlinewidth": 0,
              "ticks": ""
             }
            },
            "type": "scattergl"
           }
          ],
          "scattermapbox": [
           {
            "marker": {
             "colorbar": {
              "outlinewidth": 0,
              "ticks": ""
             }
            },
            "type": "scattermapbox"
           }
          ],
          "scatterpolar": [
           {
            "marker": {
             "colorbar": {
              "outlinewidth": 0,
              "ticks": ""
             }
            },
            "type": "scatterpolar"
           }
          ],
          "scatterpolargl": [
           {
            "marker": {
             "colorbar": {
              "outlinewidth": 0,
              "ticks": ""
             }
            },
            "type": "scatterpolargl"
           }
          ],
          "scatterternary": [
           {
            "marker": {
             "colorbar": {
              "outlinewidth": 0,
              "ticks": ""
             }
            },
            "type": "scatterternary"
           }
          ],
          "surface": [
           {
            "colorbar": {
             "outlinewidth": 0,
             "ticks": ""
            },
            "colorscale": [
             [
              0,
              "#0d0887"
             ],
             [
              0.1111111111111111,
              "#46039f"
             ],
             [
              0.2222222222222222,
              "#7201a8"
             ],
             [
              0.3333333333333333,
              "#9c179e"
             ],
             [
              0.4444444444444444,
              "#bd3786"
             ],
             [
              0.5555555555555556,
              "#d8576b"
             ],
             [
              0.6666666666666666,
              "#ed7953"
             ],
             [
              0.7777777777777778,
              "#fb9f3a"
             ],
             [
              0.8888888888888888,
              "#fdca26"
             ],
             [
              1,
              "#f0f921"
             ]
            ],
            "type": "surface"
           }
          ],
          "table": [
           {
            "cells": {
             "fill": {
              "color": "#EBF0F8"
             },
             "line": {
              "color": "white"
             }
            },
            "header": {
             "fill": {
              "color": "#C8D4E3"
             },
             "line": {
              "color": "white"
             }
            },
            "type": "table"
           }
          ]
         },
         "layout": {
          "annotationdefaults": {
           "arrowcolor": "#2a3f5f",
           "arrowhead": 0,
           "arrowwidth": 1
          },
          "autotypenumbers": "strict",
          "coloraxis": {
           "colorbar": {
            "outlinewidth": 0,
            "ticks": ""
           }
          },
          "colorscale": {
           "diverging": [
            [
             0,
             "#8e0152"
            ],
            [
             0.1,
             "#c51b7d"
            ],
            [
             0.2,
             "#de77ae"
            ],
            [
             0.3,
             "#f1b6da"
            ],
            [
             0.4,
             "#fde0ef"
            ],
            [
             0.5,
             "#f7f7f7"
            ],
            [
             0.6,
             "#e6f5d0"
            ],
            [
             0.7,
             "#b8e186"
            ],
            [
             0.8,
             "#7fbc41"
            ],
            [
             0.9,
             "#4d9221"
            ],
            [
             1,
             "#276419"
            ]
           ],
           "sequential": [
            [
             0,
             "#0d0887"
            ],
            [
             0.1111111111111111,
             "#46039f"
            ],
            [
             0.2222222222222222,
             "#7201a8"
            ],
            [
             0.3333333333333333,
             "#9c179e"
            ],
            [
             0.4444444444444444,
             "#bd3786"
            ],
            [
             0.5555555555555556,
             "#d8576b"
            ],
            [
             0.6666666666666666,
             "#ed7953"
            ],
            [
             0.7777777777777778,
             "#fb9f3a"
            ],
            [
             0.8888888888888888,
             "#fdca26"
            ],
            [
             1,
             "#f0f921"
            ]
           ],
           "sequentialminus": [
            [
             0,
             "#0d0887"
            ],
            [
             0.1111111111111111,
             "#46039f"
            ],
            [
             0.2222222222222222,
             "#7201a8"
            ],
            [
             0.3333333333333333,
             "#9c179e"
            ],
            [
             0.4444444444444444,
             "#bd3786"
            ],
            [
             0.5555555555555556,
             "#d8576b"
            ],
            [
             0.6666666666666666,
             "#ed7953"
            ],
            [
             0.7777777777777778,
             "#fb9f3a"
            ],
            [
             0.8888888888888888,
             "#fdca26"
            ],
            [
             1,
             "#f0f921"
            ]
           ]
          },
          "colorway": [
           "#636efa",
           "#EF553B",
           "#00cc96",
           "#ab63fa",
           "#FFA15A",
           "#19d3f3",
           "#FF6692",
           "#B6E880",
           "#FF97FF",
           "#FECB52"
          ],
          "font": {
           "color": "#2a3f5f"
          },
          "geo": {
           "bgcolor": "white",
           "lakecolor": "white",
           "landcolor": "#E5ECF6",
           "showlakes": true,
           "showland": true,
           "subunitcolor": "white"
          },
          "hoverlabel": {
           "align": "left"
          },
          "hovermode": "closest",
          "mapbox": {
           "style": "light"
          },
          "paper_bgcolor": "white",
          "plot_bgcolor": "#E5ECF6",
          "polar": {
           "angularaxis": {
            "gridcolor": "white",
            "linecolor": "white",
            "ticks": ""
           },
           "bgcolor": "#E5ECF6",
           "radialaxis": {
            "gridcolor": "white",
            "linecolor": "white",
            "ticks": ""
           }
          },
          "scene": {
           "xaxis": {
            "backgroundcolor": "#E5ECF6",
            "gridcolor": "white",
            "gridwidth": 2,
            "linecolor": "white",
            "showbackground": true,
            "ticks": "",
            "zerolinecolor": "white"
           },
           "yaxis": {
            "backgroundcolor": "#E5ECF6",
            "gridcolor": "white",
            "gridwidth": 2,
            "linecolor": "white",
            "showbackground": true,
            "ticks": "",
            "zerolinecolor": "white"
           },
           "zaxis": {
            "backgroundcolor": "#E5ECF6",
            "gridcolor": "white",
            "gridwidth": 2,
            "linecolor": "white",
            "showbackground": true,
            "ticks": "",
            "zerolinecolor": "white"
           }
          },
          "shapedefaults": {
           "line": {
            "color": "#2a3f5f"
           }
          },
          "ternary": {
           "aaxis": {
            "gridcolor": "white",
            "linecolor": "white",
            "ticks": ""
           },
           "baxis": {
            "gridcolor": "white",
            "linecolor": "white",
            "ticks": ""
           },
           "bgcolor": "#E5ECF6",
           "caxis": {
            "gridcolor": "white",
            "linecolor": "white",
            "ticks": ""
           }
          },
          "title": {
           "x": 0.05
          },
          "xaxis": {
           "automargin": true,
           "gridcolor": "white",
           "linecolor": "white",
           "ticks": "",
           "title": {
            "standoff": 15
           },
           "zerolinecolor": "white",
           "zerolinewidth": 2
          },
          "yaxis": {
           "automargin": true,
           "gridcolor": "white",
           "linecolor": "white",
           "ticks": "",
           "title": {
            "standoff": 15
           },
           "zerolinecolor": "white",
           "zerolinewidth": 2
          }
         }
        },
        "title": {
         "text": "Average Price by Brand"
        },
        "xaxis": {
         "anchor": "y",
         "domain": [
          0,
          1
         ],
         "title": {
          "text": "Price"
         }
        },
        "yaxis": {
         "anchor": "x",
         "domain": [
          0,
          1
         ],
         "title": {
          "text": "Brand"
         }
        }
       }
      },
      "text/html": [
       "<div>                            <div id=\"05544b40-caab-4e2a-918a-e1a07c24ba5d\" class=\"plotly-graph-div\" style=\"height:525px; width:100%;\"></div>            <script type=\"text/javascript\">                require([\"plotly\"], function(Plotly) {                    window.PLOTLYENV=window.PLOTLYENV || {};                                    if (document.getElementById(\"05544b40-caab-4e2a-918a-e1a07c24ba5d\")) {                    Plotly.newPlot(                        \"05544b40-caab-4e2a-918a-e1a07c24ba5d\",                        [{\"alignmentgroup\":\"True\",\"hovertemplate\":\"Price=%{x}\\u003cbr\\u003eBrand=%{y}\\u003cextra\\u003e\\u003c\\u002fextra\\u003e\",\"legendgroup\":\"\",\"marker\":{\"color\":\"#636efa\",\"pattern\":{\"shape\":\"\"}},\"name\":\"\",\"offsetgroup\":\"\",\"orientation\":\"h\",\"showlegend\":false,\"textposition\":\"auto\",\"x\":[3049.99,1756.24,1718.8852631578948,1649.99,1524.5525,1320.941,1273.2057142857143,1079.99,1034.4037931034482,919.2586567164179,574.010625,524.99],\"xaxis\":\"x\",\"y\":[\"Razer\",\"GIGABYTE\",\"MSI\",\"Alienware\",\"ASUS\",\"Microsoft\",\"Dell\",\"LG\",\"Acer\",\"Lenovo\",\"HP\",\"Samsung\"],\"yaxis\":\"y\",\"type\":\"bar\"}],                        {\"template\":{\"data\":{\"histogram2dcontour\":[{\"type\":\"histogram2dcontour\",\"colorbar\":{\"outlinewidth\":0,\"ticks\":\"\"},\"colorscale\":[[0.0,\"#0d0887\"],[0.1111111111111111,\"#46039f\"],[0.2222222222222222,\"#7201a8\"],[0.3333333333333333,\"#9c179e\"],[0.4444444444444444,\"#bd3786\"],[0.5555555555555556,\"#d8576b\"],[0.6666666666666666,\"#ed7953\"],[0.7777777777777778,\"#fb9f3a\"],[0.8888888888888888,\"#fdca26\"],[1.0,\"#f0f921\"]]}],\"choropleth\":[{\"type\":\"choropleth\",\"colorbar\":{\"outlinewidth\":0,\"ticks\":\"\"}}],\"histogram2d\":[{\"type\":\"histogram2d\",\"colorbar\":{\"outlinewidth\":0,\"ticks\":\"\"},\"colorscale\":[[0.0,\"#0d0887\"],[0.1111111111111111,\"#46039f\"],[0.2222222222222222,\"#7201a8\"],[0.3333333333333333,\"#9c179e\"],[0.4444444444444444,\"#bd3786\"],[0.5555555555555556,\"#d8576b\"],[0.6666666666666666,\"#ed7953\"],[0.7777777777777778,\"#fb9f3a\"],[0.8888888888888888,\"#fdca26\"],[1.0,\"#f0f921\"]]}],\"heatmap\":[{\"type\":\"heatmap\",\"colorbar\":{\"outlinewidth\":0,\"ticks\":\"\"},\"colorscale\":[[0.0,\"#0d0887\"],[0.1111111111111111,\"#46039f\"],[0.2222222222222222,\"#7201a8\"],[0.3333333333333333,\"#9c179e\"],[0.4444444444444444,\"#bd3786\"],[0.5555555555555556,\"#d8576b\"],[0.6666666666666666,\"#ed7953\"],[0.7777777777777778,\"#fb9f3a\"],[0.8888888888888888,\"#fdca26\"],[1.0,\"#f0f921\"]]}],\"heatmapgl\":[{\"type\":\"heatmapgl\",\"colorbar\":{\"outlinewidth\":0,\"ticks\":\"\"},\"colorscale\":[[0.0,\"#0d0887\"],[0.1111111111111111,\"#46039f\"],[0.2222222222222222,\"#7201a8\"],[0.3333333333333333,\"#9c179e\"],[0.4444444444444444,\"#bd3786\"],[0.5555555555555556,\"#d8576b\"],[0.6666666666666666,\"#ed7953\"],[0.7777777777777778,\"#fb9f3a\"],[0.8888888888888888,\"#fdca26\"],[1.0,\"#f0f921\"]]}],\"contourcarpet\":[{\"type\":\"contourcarpet\",\"colorbar\":{\"outlinewidth\":0,\"ticks\":\"\"}}],\"contour\":[{\"type\":\"contour\",\"colorbar\":{\"outlinewidth\":0,\"ticks\":\"\"},\"colorscale\":[[0.0,\"#0d0887\"],[0.1111111111111111,\"#46039f\"],[0.2222222222222222,\"#7201a8\"],[0.3333333333333333,\"#9c179e\"],[0.4444444444444444,\"#bd3786\"],[0.5555555555555556,\"#d8576b\"],[0.6666666666666666,\"#ed7953\"],[0.7777777777777778,\"#fb9f3a\"],[0.8888888888888888,\"#fdca26\"],[1.0,\"#f0f921\"]]}],\"surface\":[{\"type\":\"surface\",\"colorbar\":{\"outlinewidth\":0,\"ticks\":\"\"},\"colorscale\":[[0.0,\"#0d0887\"],[0.1111111111111111,\"#46039f\"],[0.2222222222222222,\"#7201a8\"],[0.3333333333333333,\"#9c179e\"],[0.4444444444444444,\"#bd3786\"],[0.5555555555555556,\"#d8576b\"],[0.6666666666666666,\"#ed7953\"],[0.7777777777777778,\"#fb9f3a\"],[0.8888888888888888,\"#fdca26\"],[1.0,\"#f0f921\"]]}],\"mesh3d\":[{\"type\":\"mesh3d\",\"colorbar\":{\"outlinewidth\":0,\"ticks\":\"\"}}],\"scatter\":[{\"fillpattern\":{\"fillmode\":\"overlay\",\"size\":10,\"solidity\":0.2},\"type\":\"scatter\"}],\"parcoords\":[{\"type\":\"parcoords\",\"line\":{\"colorbar\":{\"outlinewidth\":0,\"ticks\":\"\"}}}],\"scatterpolargl\":[{\"type\":\"scatterpolargl\",\"marker\":{\"colorbar\":{\"outlinewidth\":0,\"ticks\":\"\"}}}],\"bar\":[{\"error_x\":{\"color\":\"#2a3f5f\"},\"error_y\":{\"color\":\"#2a3f5f\"},\"marker\":{\"line\":{\"color\":\"#E5ECF6\",\"width\":0.5},\"pattern\":{\"fillmode\":\"overlay\",\"size\":10,\"solidity\":0.2}},\"type\":\"bar\"}],\"scattergeo\":[{\"type\":\"scattergeo\",\"marker\":{\"colorbar\":{\"outlinewidth\":0,\"ticks\":\"\"}}}],\"scatterpolar\":[{\"type\":\"scatterpolar\",\"marker\":{\"colorbar\":{\"outlinewidth\":0,\"ticks\":\"\"}}}],\"histogram\":[{\"marker\":{\"pattern\":{\"fillmode\":\"overlay\",\"size\":10,\"solidity\":0.2}},\"type\":\"histogram\"}],\"scattergl\":[{\"type\":\"scattergl\",\"marker\":{\"colorbar\":{\"outlinewidth\":0,\"ticks\":\"\"}}}],\"scatter3d\":[{\"type\":\"scatter3d\",\"line\":{\"colorbar\":{\"outlinewidth\":0,\"ticks\":\"\"}},\"marker\":{\"colorbar\":{\"outlinewidth\":0,\"ticks\":\"\"}}}],\"scattermapbox\":[{\"type\":\"scattermapbox\",\"marker\":{\"colorbar\":{\"outlinewidth\":0,\"ticks\":\"\"}}}],\"scatterternary\":[{\"type\":\"scatterternary\",\"marker\":{\"colorbar\":{\"outlinewidth\":0,\"ticks\":\"\"}}}],\"scattercarpet\":[{\"type\":\"scattercarpet\",\"marker\":{\"colorbar\":{\"outlinewidth\":0,\"ticks\":\"\"}}}],\"carpet\":[{\"aaxis\":{\"endlinecolor\":\"#2a3f5f\",\"gridcolor\":\"white\",\"linecolor\":\"white\",\"minorgridcolor\":\"white\",\"startlinecolor\":\"#2a3f5f\"},\"baxis\":{\"endlinecolor\":\"#2a3f5f\",\"gridcolor\":\"white\",\"linecolor\":\"white\",\"minorgridcolor\":\"white\",\"startlinecolor\":\"#2a3f5f\"},\"type\":\"carpet\"}],\"table\":[{\"cells\":{\"fill\":{\"color\":\"#EBF0F8\"},\"line\":{\"color\":\"white\"}},\"header\":{\"fill\":{\"color\":\"#C8D4E3\"},\"line\":{\"color\":\"white\"}},\"type\":\"table\"}],\"barpolar\":[{\"marker\":{\"line\":{\"color\":\"#E5ECF6\",\"width\":0.5},\"pattern\":{\"fillmode\":\"overlay\",\"size\":10,\"solidity\":0.2}},\"type\":\"barpolar\"}],\"pie\":[{\"automargin\":true,\"type\":\"pie\"}]},\"layout\":{\"autotypenumbers\":\"strict\",\"colorway\":[\"#636efa\",\"#EF553B\",\"#00cc96\",\"#ab63fa\",\"#FFA15A\",\"#19d3f3\",\"#FF6692\",\"#B6E880\",\"#FF97FF\",\"#FECB52\"],\"font\":{\"color\":\"#2a3f5f\"},\"hovermode\":\"closest\",\"hoverlabel\":{\"align\":\"left\"},\"paper_bgcolor\":\"white\",\"plot_bgcolor\":\"#E5ECF6\",\"polar\":{\"bgcolor\":\"#E5ECF6\",\"angularaxis\":{\"gridcolor\":\"white\",\"linecolor\":\"white\",\"ticks\":\"\"},\"radialaxis\":{\"gridcolor\":\"white\",\"linecolor\":\"white\",\"ticks\":\"\"}},\"ternary\":{\"bgcolor\":\"#E5ECF6\",\"aaxis\":{\"gridcolor\":\"white\",\"linecolor\":\"white\",\"ticks\":\"\"},\"baxis\":{\"gridcolor\":\"white\",\"linecolor\":\"white\",\"ticks\":\"\"},\"caxis\":{\"gridcolor\":\"white\",\"linecolor\":\"white\",\"ticks\":\"\"}},\"coloraxis\":{\"colorbar\":{\"outlinewidth\":0,\"ticks\":\"\"}},\"colorscale\":{\"sequential\":[[0.0,\"#0d0887\"],[0.1111111111111111,\"#46039f\"],[0.2222222222222222,\"#7201a8\"],[0.3333333333333333,\"#9c179e\"],[0.4444444444444444,\"#bd3786\"],[0.5555555555555556,\"#d8576b\"],[0.6666666666666666,\"#ed7953\"],[0.7777777777777778,\"#fb9f3a\"],[0.8888888888888888,\"#fdca26\"],[1.0,\"#f0f921\"]],\"sequentialminus\":[[0.0,\"#0d0887\"],[0.1111111111111111,\"#46039f\"],[0.2222222222222222,\"#7201a8\"],[0.3333333333333333,\"#9c179e\"],[0.4444444444444444,\"#bd3786\"],[0.5555555555555556,\"#d8576b\"],[0.6666666666666666,\"#ed7953\"],[0.7777777777777778,\"#fb9f3a\"],[0.8888888888888888,\"#fdca26\"],[1.0,\"#f0f921\"]],\"diverging\":[[0,\"#8e0152\"],[0.1,\"#c51b7d\"],[0.2,\"#de77ae\"],[0.3,\"#f1b6da\"],[0.4,\"#fde0ef\"],[0.5,\"#f7f7f7\"],[0.6,\"#e6f5d0\"],[0.7,\"#b8e186\"],[0.8,\"#7fbc41\"],[0.9,\"#4d9221\"],[1,\"#276419\"]]},\"xaxis\":{\"gridcolor\":\"white\",\"linecolor\":\"white\",\"ticks\":\"\",\"title\":{\"standoff\":15},\"zerolinecolor\":\"white\",\"automargin\":true,\"zerolinewidth\":2},\"yaxis\":{\"gridcolor\":\"white\",\"linecolor\":\"white\",\"ticks\":\"\",\"title\":{\"standoff\":15},\"zerolinecolor\":\"white\",\"automargin\":true,\"zerolinewidth\":2},\"scene\":{\"xaxis\":{\"backgroundcolor\":\"#E5ECF6\",\"gridcolor\":\"white\",\"linecolor\":\"white\",\"showbackground\":true,\"ticks\":\"\",\"zerolinecolor\":\"white\",\"gridwidth\":2},\"yaxis\":{\"backgroundcolor\":\"#E5ECF6\",\"gridcolor\":\"white\",\"linecolor\":\"white\",\"showbackground\":true,\"ticks\":\"\",\"zerolinecolor\":\"white\",\"gridwidth\":2},\"zaxis\":{\"backgroundcolor\":\"#E5ECF6\",\"gridcolor\":\"white\",\"linecolor\":\"white\",\"showbackground\":true,\"ticks\":\"\",\"zerolinecolor\":\"white\",\"gridwidth\":2}},\"shapedefaults\":{\"line\":{\"color\":\"#2a3f5f\"}},\"annotationdefaults\":{\"arrowcolor\":\"#2a3f5f\",\"arrowhead\":0,\"arrowwidth\":1},\"geo\":{\"bgcolor\":\"white\",\"landcolor\":\"#E5ECF6\",\"subunitcolor\":\"white\",\"showland\":true,\"showlakes\":true,\"lakecolor\":\"white\"},\"title\":{\"x\":0.05},\"mapbox\":{\"style\":\"light\"}}},\"xaxis\":{\"anchor\":\"y\",\"domain\":[0.0,1.0],\"title\":{\"text\":\"Price\"}},\"yaxis\":{\"anchor\":\"x\",\"domain\":[0.0,1.0],\"title\":{\"text\":\"Brand\"}},\"legend\":{\"tracegroupgap\":0},\"title\":{\"text\":\"Average Price by Brand\"},\"barmode\":\"relative\"},                        {\"responsive\": true}                    ).then(function(){\n",
       "                            \n",
       "var gd = document.getElementById('05544b40-caab-4e2a-918a-e1a07c24ba5d');\n",
       "var x = new MutationObserver(function (mutations, observer) {{\n",
       "        var display = window.getComputedStyle(gd).display;\n",
       "        if (!display || display === 'none') {{\n",
       "            console.log([gd, 'removed!']);\n",
       "            Plotly.purge(gd);\n",
       "            observer.disconnect();\n",
       "        }}\n",
       "}});\n",
       "\n",
       "// Listen for the removal of the full notebook cells\n",
       "var notebookContainer = gd.closest('#notebook-container');\n",
       "if (notebookContainer) {{\n",
       "    x.observe(notebookContainer, {childList: true});\n",
       "}}\n",
       "\n",
       "// Listen for the clearing of the current output cell\n",
       "var outputEl = gd.closest('.output');\n",
       "if (outputEl) {{\n",
       "    x.observe(outputEl, {childList: true});\n",
       "}}\n",
       "\n",
       "                        })                };                });            </script>        </div>"
      ]
     },
     "metadata": {},
     "output_type": "display_data"
    }
   ],
   "source": [
    "#Let's visualize our findings with a bar char\n",
    "price_brand_bar = px.bar(price_brand_sorted, x = \"Price\",\n",
    "                               title = \"Average Price by Brand\")\n",
    "price_brand_bar.show()"
   ]
  },
  {
   "cell_type": "markdown",
   "id": "bc0f684c",
   "metadata": {},
   "source": [
    "Razer laptops are the most expensive laptop brand by average price by far. This would make sense because this brand is comprised of high performance gaming laptops."
   ]
  },
  {
   "cell_type": "code",
   "execution_count": 31,
   "id": "3781b621",
   "metadata": {},
   "outputs": [
    {
     "name": "stderr",
     "output_type": "stream",
     "text": [
      "C:\\Users\\Theresa\\AppData\\Local\\Temp\\ipykernel_2528\\474013420.py:3: SettingWithCopyWarning:\n",
      "\n",
      "\n",
      "A value is trying to be set on a copy of a slice from a DataFrame.\n",
      "Try using .loc[row_indexer,col_indexer] = value instead\n",
      "\n",
      "See the caveats in the documentation: https://pandas.pydata.org/pandas-docs/stable/user_guide/indexing.html#returning-a-view-versus-a-copy\n",
      "\n"
     ]
    }
   ],
   "source": [
    "#adding a new column \"Average Rating\" to the dataframe\n",
    "average_rating = laptops_cleaned.groupby(\"Brand\")[\"Rating\"].mean()\n",
    "laptops_cleaned.loc[:, \"Average Rating\"] = laptops_cleaned[\"Brand\"].map(average_rating)"
   ]
  },
  {
   "cell_type": "code",
   "execution_count": 34,
   "id": "17cdf53f",
   "metadata": {},
   "outputs": [
    {
     "name": "stderr",
     "output_type": "stream",
     "text": [
      "C:\\Users\\Theresa\\AppData\\Local\\Temp\\ipykernel_2528\\4028141694.py:3: SettingWithCopyWarning:\n",
      "\n",
      "\n",
      "A value is trying to be set on a copy of a slice from a DataFrame.\n",
      "Try using .loc[row_indexer,col_indexer] = value instead\n",
      "\n",
      "See the caveats in the documentation: https://pandas.pydata.org/pandas-docs/stable/user_guide/indexing.html#returning-a-view-versus-a-copy\n",
      "\n"
     ]
    },
    {
     "data": {
      "text/html": [
       "<div>\n",
       "<style scoped>\n",
       "    .dataframe tbody tr th:only-of-type {\n",
       "        vertical-align: middle;\n",
       "    }\n",
       "\n",
       "    .dataframe tbody tr th {\n",
       "        vertical-align: top;\n",
       "    }\n",
       "\n",
       "    .dataframe thead th {\n",
       "        text-align: right;\n",
       "    }\n",
       "</style>\n",
       "<table border=\"1\" class=\"dataframe\">\n",
       "  <thead>\n",
       "    <tr style=\"text-align: right;\">\n",
       "      <th></th>\n",
       "      <th>Brand</th>\n",
       "      <th>Model</th>\n",
       "      <th>Rating</th>\n",
       "      <th>Review Count</th>\n",
       "      <th>Price</th>\n",
       "      <th>Currency</th>\n",
       "      <th>Depth</th>\n",
       "      <th>Width</th>\n",
       "      <th>Average Rating</th>\n",
       "      <th>Satisfaction Score</th>\n",
       "    </tr>\n",
       "  </thead>\n",
       "  <tbody>\n",
       "    <tr>\n",
       "      <th>13</th>\n",
       "      <td>Acer</td>\n",
       "      <td>PHN16-71-73LT</td>\n",
       "      <td>4.6</td>\n",
       "      <td>343.0</td>\n",
       "      <td>1179.99</td>\n",
       "      <td>USD</td>\n",
       "      <td>11.02</td>\n",
       "      <td>14.18</td>\n",
       "      <td>4.352941</td>\n",
       "      <td>0.013411</td>\n",
       "    </tr>\n",
       "    <tr>\n",
       "      <th>23</th>\n",
       "      <td>Microsoft</td>\n",
       "      <td>QIL-00001</td>\n",
       "      <td>4.8</td>\n",
       "      <td>517.0</td>\n",
       "      <td>1199.99</td>\n",
       "      <td>USD</td>\n",
       "      <td>8.20</td>\n",
       "      <td>11.30</td>\n",
       "      <td>4.508333</td>\n",
       "      <td>0.009284</td>\n",
       "    </tr>\n",
       "    <tr>\n",
       "      <th>31</th>\n",
       "      <td>Microsoft</td>\n",
       "      <td>QIL-00052</td>\n",
       "      <td>4.8</td>\n",
       "      <td>517.0</td>\n",
       "      <td>1199.99</td>\n",
       "      <td>USD</td>\n",
       "      <td>8.20</td>\n",
       "      <td>11.30</td>\n",
       "      <td>4.508333</td>\n",
       "      <td>0.009284</td>\n",
       "    </tr>\n",
       "    <tr>\n",
       "      <th>45</th>\n",
       "      <td>Microsoft</td>\n",
       "      <td>Z2D-00001</td>\n",
       "      <td>4.4</td>\n",
       "      <td>9.0</td>\n",
       "      <td>3299.99</td>\n",
       "      <td>USD</td>\n",
       "      <td>12.72</td>\n",
       "      <td>9.06</td>\n",
       "      <td>4.508333</td>\n",
       "      <td>0.488889</td>\n",
       "    </tr>\n",
       "    <tr>\n",
       "      <th>53</th>\n",
       "      <td>Lenovo</td>\n",
       "      <td>82LM00UEUS</td>\n",
       "      <td>5.0</td>\n",
       "      <td>2.0</td>\n",
       "      <td>339.99</td>\n",
       "      <td>USD</td>\n",
       "      <td>8.33</td>\n",
       "      <td>12.66</td>\n",
       "      <td>4.404000</td>\n",
       "      <td>2.500000</td>\n",
       "    </tr>\n",
       "  </tbody>\n",
       "</table>\n",
       "</div>"
      ],
      "text/plain": [
       "        Brand          Model  Rating  Review Count    Price Currency  Depth  \\\n",
       "13       Acer  PHN16-71-73LT     4.6         343.0  1179.99      USD  11.02   \n",
       "23  Microsoft      QIL-00001     4.8         517.0  1199.99      USD   8.20   \n",
       "31  Microsoft      QIL-00052     4.8         517.0  1199.99      USD   8.20   \n",
       "45  Microsoft      Z2D-00001     4.4           9.0  3299.99      USD  12.72   \n",
       "53     Lenovo     82LM00UEUS     5.0           2.0   339.99      USD   8.33   \n",
       "\n",
       "    Width  Average Rating  Satisfaction Score  \n",
       "13  14.18        4.352941            0.013411  \n",
       "23  11.30        4.508333            0.009284  \n",
       "31  11.30        4.508333            0.009284  \n",
       "45   9.06        4.508333            0.488889  \n",
       "53  12.66        4.404000            2.500000  "
      ]
     },
     "execution_count": 34,
     "metadata": {},
     "output_type": "execute_result"
    }
   ],
   "source": [
    "#dropping rows that do not have revies and adding a new column \"Average Review per Price\" to the dataframe\n",
    "laptops_cleaned = laptops_cleaned.dropna(subset=[\"Rating\"])\n",
    "laptops_cleaned[\"Satisfaction Score\"] = laptops_cleaned[\"Rating\"] / laptops_cleaned[\"Review Count\"]\n",
    "laptops_cleaned.head()"
   ]
  },
  {
   "cell_type": "code",
   "execution_count": 25,
   "id": "67c335db",
   "metadata": {},
   "outputs": [
    {
     "data": {
      "application/vnd.plotly.v1+json": {
       "config": {
        "plotlyServerURL": "https://plot.ly"
       },
       "data": [
        {
         "customdata": [
          [
           "Acer",
           "PHN16-71-73LT"
          ],
          [
           "Acer",
           "A315-24PT-R90Z"
          ],
          [
           "Acer",
           "PHN16-71-73RR"
          ],
          [
           "Acer",
           "PH16-71-93FR"
          ],
          [
           "Acer",
           "NX.VP2AA.008"
          ],
          [
           "Acer",
           "NX.A6WAA.00H"
          ],
          [
           "Acer",
           "SFG14-71T-71SZ"
          ],
          [
           "Acer",
           "PT14-51-7979"
          ],
          [
           "Acer",
           "PH18-71-94F1"
          ],
          [
           "Acer",
           "SFX16-61G-R4J6"
          ],
          [
           "Acer",
           "NH.QEWAA.001"
          ],
          [
           "Acer",
           "NX.KHFAA.004"
          ],
          [
           "Acer",
           "NX.VPDAA.003"
          ],
          [
           "Acer",
           "NX.VUTAA.002"
          ],
          [
           "Acer",
           "NX.K7UAA.001"
          ],
          [
           "Acer",
           "NH.QC5AA.001"
          ],
          [
           "Acer",
           "NH.QMHAA.001"
          ],
          [
           "Acer",
           "NH.QESAA.002"
          ],
          [
           "Acer",
           "AN515-58-527S"
          ],
          [
           "Acer",
           "NX.KN1AA.001"
          ],
          [
           "Acer",
           "NH.QMAAA.001"
          ],
          [
           "Acer",
           "NX.KJZAA.001"
          ],
          [
           "Acer",
           "TMP41452531CUS"
          ],
          [
           "Acer",
           "SFX16-61G-R9VD"
          ],
          [
           "Acer",
           "PH18-71-76B3"
          ],
          [
           "Acer",
           "SFX14-71G-5911"
          ],
          [
           "Acer",
           "NX.VN2AA.001"
          ],
          [
           "Acer",
           "AN16-41-R9ZH"
          ],
          [
           "Acer",
           "NX.A19AA.005"
          ]
         ],
         "hovertemplate": "Brand=%{customdata[0]}<br>Rating=%{x}<br>Price=%{y}<br>Model=%{customdata[1]}<extra></extra>",
         "legendgroup": "Acer",
         "marker": {
          "color": "#636efa",
          "symbol": "circle"
         },
         "mode": "markers",
         "name": "Acer",
         "orientation": "v",
         "showlegend": true,
         "type": "scatter",
         "x": [
          4.6,
          4.5,
          4.8,
          4.3,
          5,
          4.5,
          5,
          5,
          3.8,
          3,
          4,
          5,
          3,
          null,
          null,
          null,
          null,
          null,
          4.3,
          null,
          null,
          null,
          null,
          null,
          4.2,
          null,
          5,
          4,
          null
         ],
         "xaxis": "x",
         "y": [
          1179.99,
          349.99,
          949.99,
          1849.99,
          1099.99,
          185.99,
          949.99,
          1999.99,
          2499.99,
          1599.99,
          981.99,
          569.99,
          999.99,
          1064.99,
          361.99,
          835.99,
          775.99,
          789.99,
          1299.99,
          311.99,
          1033.99,
          358.99,
          1049.99,
          1249.99,
          1999.99,
          1099.99,
          429.99,
          1649.99,
          465.99
         ],
         "yaxis": "y"
        },
        {
         "customdata": [
          [
           "Microsoft",
           "QIL-00001"
          ],
          [
           "Microsoft",
           "QIL-00052"
          ],
          [
           "Microsoft",
           "Z2D-00001"
          ],
          [
           "Microsoft",
           "QEZ-00001"
          ],
          [
           "Microsoft",
           "RS1-00001"
          ],
          [
           "Microsoft",
           "XKQ-00006"
          ],
          [
           "Microsoft",
           "Z3G-00001"
          ],
          [
           "Microsoft",
           "GSRF VFL-00001"
          ],
          [
           "Microsoft",
           "QKI-00001"
          ],
          [
           "Microsoft",
           "GSRF 5BT-00058"
          ],
          [
           "Microsoft",
           "GSRF 5W6-00001"
          ],
          [
           "Microsoft",
           "GSRF VEF-00001"
          ],
          [
           "Microsoft",
           "GSRF VGY-00001"
          ],
          [
           "Microsoft",
           "GSRF V4C-00064"
          ],
          [
           "Microsoft",
           "GSRF V4C-00022"
          ],
          [
           "Microsoft",
           "GSRF 5EB-00058"
          ],
          [
           "Microsoft",
           "GSRF THH-00035"
          ],
          [
           "Microsoft",
           "GSRF V4G-00001"
          ],
          [
           "Microsoft",
           "GSRF 5IM-00001"
          ],
          [
           "Microsoft",
           "GSRF 5W6-00024"
          ]
         ],
         "hovertemplate": "Brand=%{customdata[0]}<br>Rating=%{x}<br>Price=%{y}<br>Model=%{customdata[1]}<extra></extra>",
         "legendgroup": "Microsoft",
         "marker": {
          "color": "#EF553B",
          "symbol": "circle"
         },
         "mode": "markers",
         "name": "Microsoft",
         "orientation": "v",
         "showlegend": true,
         "type": "scatter",
         "x": [
          4.8,
          4.8,
          4.4,
          4.7,
          4.8,
          null,
          5,
          null,
          4.7,
          null,
          null,
          null,
          3.6,
          null,
          5,
          null,
          4,
          4.3,
          null,
          4
         ],
         "xaxis": "x",
         "y": [
          1199.99,
          1199.99,
          3299.99,
          799.99,
          1205,
          999.99,
          3506,
          1499.99,
          1799.99,
          720.99,
          1079.99,
          1239.99,
          764.99,
          994.99,
          994.99,
          1299.99,
          472.99,
          917.99,
          1519.99,
          900.99
         ],
         "yaxis": "y"
        },
        {
         "customdata": [
          [
           "MSI",
           "PRE14EVO13269"
          ],
          [
           "MSI",
           "CYBORG1512043"
          ],
          [
           "MSI",
           "BRAVO15B7001"
          ],
          [
           "MSI",
           "Thin GF63 12UCX-898US"
          ],
          [
           "MSI",
           "Vector GP68HX 13VH-256US"
          ],
          [
           "MSI",
           "CODR13NUC069"
          ],
          [
           "MSI",
           "STEALTH1713019"
          ],
          [
           "MSI",
           "PRE16STU14020"
          ],
          [
           "MSI",
           "COM1413003"
          ],
          [
           "MSI",
           "STEALTH1713008"
          ],
          [
           "MSI",
           "CREATOR1711471"
          ],
          [
           "MSI",
           "VECTOR16HX14479"
          ],
          [
           "MSI",
           "PRE16EVO14016"
          ],
          [
           "MSI",
           "THINGF6312823"
          ],
          [
           "MSI",
           "PRE16EVO14013"
          ],
          [
           "MSI",
           "GF63111424"
          ],
          [
           "MSI",
           "Vector GP68HX 13VI-255US"
          ],
          [
           "MSI",
           "GS6612246"
          ],
          [
           "MSI",
           "PRE13EVO14027"
          ]
         ],
         "hovertemplate": "Brand=%{customdata[0]}<br>Rating=%{x}<br>Price=%{y}<br>Model=%{customdata[1]}<extra></extra>",
         "legendgroup": "MSI",
         "marker": {
          "color": "#00cc96",
          "symbol": "circle"
         },
         "mode": "markers",
         "name": "MSI",
         "orientation": "v",
         "showlegend": true,
         "type": "scatter",
         "x": [
          null,
          4.4,
          4.4,
          4.6,
          4.5,
          null,
          4,
          null,
          null,
          4,
          4,
          null,
          3,
          null,
          null,
          null,
          3,
          1.5,
          null
         ],
         "xaxis": "x",
         "y": [
          1499.99,
          749.99,
          649.99,
          699.99,
          2099.99,
          1499.99,
          2099.99,
          1899.99,
          1129.99,
          2999.99,
          2349.99,
          3299.99,
          1399.99,
          899.99,
          1449.99,
          699.99,
          3199.99,
          2729.99,
          1299
         ],
         "yaxis": "y"
        },
        {
         "customdata": [
          [
           "Lenovo",
           "82LM00UEUS"
          ],
          [
           "Lenovo",
           "T470"
          ],
          [
           "Lenovo",
           "21FJS05W00"
          ],
          [
           "Lenovo",
           "21JN003YUS"
          ],
          [
           "Lenovo",
           "21KK0004US"
          ],
          [
           "Lenovo",
           "21KG000FUS"
          ],
          [
           "Lenovo",
           "82XF001TUS"
          ],
          [
           "Lenovo",
           "82LV003WUS"
          ],
          [
           "Lenovo",
           "21JN003XUS"
          ],
          [
           "Lenovo",
           "21JT001QUS"
          ],
          [
           "Lenovo",
           "21JK0053US"
          ],
          [
           "Lenovo",
           "82KT00V8US"
          ],
          [
           "Lenovo",
           "21KG0005US"
          ],
          [
           "Lenovo",
           "21KK0009US"
          ],
          [
           "Lenovo",
           "21J8002RUS"
          ],
          [
           "Lenovo",
           "21JK0052US"
          ],
          [
           "Lenovo",
           "82XX003YUS"
          ],
          [
           "Lenovo",
           "T470.i5.8.256.Pro"
          ],
          [
           "Lenovo",
           "82XM0032US"
          ],
          [
           "Lenovo",
           "21JR001QUS"
          ],
          [
           "Lenovo",
           "82SX0002US"
          ],
          [
           "Lenovo",
           "BB5-32877"
          ],
          [
           "Lenovo",
           "21KG000AUS"
          ],
          [
           "Lenovo",
           "82R9000KUS"
          ],
          [
           "Lenovo",
           "82QC004BUS"
          ],
          [
           "Lenovo",
           "21KH0005US"
          ],
          [
           "Lenovo",
           "21JT001BUS"
          ],
          [
           "Lenovo",
           "T480.8.256.Pro"
          ],
          [
           "Lenovo",
           "82SG00BLUS"
          ],
          [
           "Lenovo",
           "21KH000AUS"
          ],
          [
           "Lenovo",
           "21JT001PUS"
          ],
          [
           "Lenovo",
           "21H1001SUS"
          ],
          [
           "Lenovo",
           "21JR001SUS"
          ],
          [
           "Lenovo",
           "82XQ001GUS"
          ],
          [
           "Lenovo",
           "21JR0019US"
          ],
          [
           "Lenovo",
           "21F6001CUS"
          ],
          [
           "Lenovo",
           "21HM000GUS"
          ],
          [
           "Lenovo",
           "21J8002LUS"
          ],
          [
           "Lenovo",
           "82XY0030US"
          ],
          [
           "Lenovo",
           "21HK0006US"
          ],
          [
           "Lenovo",
           "21KK000EUS"
          ],
          [
           "Lenovo",
           "THINKPAD-C13-8-128"
          ],
          [
           "Lenovo",
           "21JR0017US"
          ],
          [
           "Lenovo",
           "21KH000FUS"
          ],
          [
           "Lenovo",
           "82R9000SUS"
          ],
          [
           "Lenovo",
           "21KJ0009US"
          ],
          [
           "Lenovo",
           "21HK0007US"
          ],
          [
           "Lenovo",
           "21EX0005US"
          ],
          [
           "Lenovo",
           "21CF000EUS"
          ],
          [
           "Lenovo",
           "21HQ000CUS"
          ],
          [
           "Lenovo",
           "21FJS05V00"
          ],
          [
           "Lenovo",
           "21D2001SUS"
          ],
          [
           "Lenovo",
           "82XX003VUS"
          ],
          [
           "Lenovo",
           "21BT001PUS"
          ],
          [
           "Lenovo",
           "21HD0025US"
          ],
          [
           "Lenovo",
           "21JG001FUS"
          ],
          [
           "Lenovo",
           "21HH001FUS"
          ],
          [
           "Lenovo",
           "21K10007US"
          ],
          [
           "Lenovo",
           "21DJ000XUS"
          ],
          [
           "Lenovo",
           "21JN0040US"
          ],
          [
           "Lenovo",
           "21H3001DUS"
          ],
          [
           "Lenovo",
           "ThinkPad T470"
          ],
          [
           "Lenovo",
           "21BX0014US"
          ],
          [
           "Lenovo",
           "21CF005TUS"
          ],
          [
           "Lenovo",
           "21EX0008US"
          ],
          [
           "Lenovo",
           "21HF000CUS"
          ],
          [
           "Lenovo",
           "21EX0003US"
          ]
         ],
         "hovertemplate": "Brand=%{customdata[0]}<br>Rating=%{x}<br>Price=%{y}<br>Model=%{customdata[1]}<extra></extra>",
         "legendgroup": "Lenovo",
         "marker": {
          "color": "#ab63fa",
          "symbol": "circle"
         },
         "mode": "markers",
         "name": "Lenovo",
         "orientation": "v",
         "showlegend": true,
         "type": "scatter",
         "x": [
          5,
          4.6,
          null,
          4.8,
          null,
          null,
          null,
          3,
          4.5,
          5,
          null,
          4.7,
          null,
          null,
          null,
          null,
          3.5,
          3.9,
          null,
          null,
          4,
          3.8,
          null,
          4.1,
          4,
          null,
          5,
          4.7,
          null,
          null,
          4.3,
          null,
          5,
          5,
          null,
          null,
          null,
          null,
          4,
          null,
          5,
          null,
          null,
          null,
          null,
          null,
          4.5,
          null,
          null,
          null,
          null,
          null,
          null,
          null,
          null,
          null,
          null,
          null,
          null,
          4,
          null,
          3.7,
          null,
          null,
          5,
          5,
          null
         ],
         "xaxis": "x",
         "y": [
          339.99,
          349.99,
          1199.99,
          749.99,
          629.99,
          919.99,
          499.99,
          143.99,
          1039.99,
          909.99,
          1039.99,
          329.99,
          799.99,
          789.99,
          1459.99,
          939.99,
          499.99,
          215.99,
          478.99,
          639.99,
          607.99,
          445.99,
          859.99,
          425.99,
          259.99,
          799.99,
          789.99,
          263.99,
          462.99,
          879.99,
          639.99,
          1369.99,
          909.99,
          362.99,
          819.99,
          1599.99,
          1599.99,
          1249.99,
          799.99,
          1699.99,
          859.99,
          329.99,
          879.99,
          929.99,
          379.99,
          769.99,
          1759.99,
          1519.99,
          1269.99,
          2449.99,
          899.99,
          939.99,
          652.99,
          2079.99,
          1479.99,
          1219.99,
          1499.99,
          1539.99,
          789.99,
          939.99,
          1199.99,
          458.99,
          1129.99,
          989.99,
          1449.99,
          1089.99,
          1249.99
         ],
         "yaxis": "y"
        },
        {
         "customdata": [
          [
           "HP",
           "7Z183UT#ABA"
          ],
          [
           "HP",
           "840G3.8.256.Pro"
          ],
          [
           "HP",
           "7P3B6UT#ABA"
          ],
          [
           "HP",
           "822P5UT#ABA"
          ],
          [
           "HP",
           "840G6.i5.16.256"
          ],
          [
           "HP",
           "BB5-32872"
          ],
          [
           "HP",
           "840 G3"
          ],
          [
           "HP",
           "840 G6"
          ],
          [
           "HP",
           "745G6.8.256.Pro"
          ],
          [
           "HP",
           "830 G5"
          ],
          [
           "HP",
           "840 G5"
          ],
          [
           "HP",
           "830 G6"
          ],
          [
           "HP",
           "840 G5"
          ],
          [
           "HP",
           "ZBook Studio G3"
          ],
          [
           "HP",
           "840 G3"
          ],
          [
           "HP",
           "X360.1030.G3.Pro"
          ],
          [
           "HP",
           "15U.G5.i7.16.256"
          ],
          [
           "HP",
           "89D96UTABA"
          ],
          [
           "HP",
           "840 G3-32354"
          ],
          [
           "HP",
           "840 G6"
          ],
          [
           "HP",
           "840 G6"
          ],
          [
           "HP",
           "ZBook Studio G5"
          ],
          [
           "HP",
           "ZBOOK 15 G3-32463"
          ],
          [
           "HP",
           "89D95UTABA"
          ],
          [
           "HP",
           "15U.G6.i7.16.256"
          ],
          [
           "HP",
           "840G6.8.256.Pro"
          ],
          [
           "HP",
           "EliteBook 840 G7"
          ],
          [
           "HP",
           "840G5.i5.8.256.Pro"
          ],
          [
           "HP",
           "840 G3-31676"
          ],
          [
           "HP",
           "14-dq0001dx"
          ],
          [
           "HP",
           "830 G7"
          ],
          [
           "HP",
           "650 G2"
          ]
         ],
         "hovertemplate": "Brand=%{customdata[0]}<br>Rating=%{x}<br>Price=%{y}<br>Model=%{customdata[1]}<extra></extra>",
         "legendgroup": "HP",
         "marker": {
          "color": "#FFA15A",
          "symbol": "circle"
         },
         "mode": "markers",
         "name": "HP",
         "orientation": "v",
         "showlegend": true,
         "type": "scatter",
         "x": [
          null,
          3.8,
          null,
          5,
          5,
          4.4,
          4.3,
          4,
          3.4,
          4.5,
          4,
          4.7,
          null,
          4.7,
          4.3,
          3.6,
          null,
          5,
          4.1,
          4,
          null,
          5,
          3.9,
          null,
          5,
          null,
          null,
          3.9,
          4.4,
          4.4,
          5,
          3.3
         ],
         "xaxis": "x",
         "y": [
          1739.99,
          226.99,
          577.99,
          899.99,
          296.99,
          309.99,
          492.99,
          532.99,
          259.99,
          384.99,
          413.79,
          529.99,
          441.99,
          606.99,
          481.99,
          303.99,
          373.99,
          1449.99,
          318.99,
          699.99,
          645.99,
          889.99,
          549.99,
          1599.99,
          384.99,
          274.99,
          731.99,
          269.99,
          298.85,
          212.99,
          731.99,
          431.99
         ],
         "yaxis": "y"
        },
        {
         "customdata": [
          [
           "ASUS",
           "UP3404VADS74T"
          ],
          [
           "ASUS",
           "K6602VV-ES94"
          ],
          [
           "ASUS",
           "TP3604VA-DS51T"
          ],
          [
           "ASUS",
           "GU605MZ-G16.U94080"
          ],
          [
           "ASUS",
           "K3502ZA-DS51"
          ],
          [
           "ASUS",
           "GU605MY-G16.U94090"
          ],
          [
           "ASUS",
           "M1505YA-ES74"
          ],
          [
           "ASUS",
           "B1400CEA-XH51"
          ],
          [
           "ASUS",
           "GZ301ZC-PS73"
          ],
          [
           "ASUS",
           "H7600ZW-DB76"
          ],
          [
           "ASUS",
           "G533ZS-DS94"
          ],
          [
           "ASUS",
           "GA403UI-G14.R94070"
          ],
          [
           "ASUS",
           "S533EADH51"
          ],
          [
           "ASUS",
           "GA403UV-G14.R94060"
          ],
          [
           "ASUS",
           "S3502QA-DS71"
          ],
          [
           "ASUS",
           "F1704ZA-DS24"
          ]
         ],
         "hovertemplate": "Brand=%{customdata[0]}<br>Rating=%{x}<br>Price=%{y}<br>Model=%{customdata[1]}<extra></extra>",
         "legendgroup": "ASUS",
         "marker": {
          "color": "#19d3f3",
          "symbol": "circle"
         },
         "mode": "markers",
         "name": "ASUS",
         "orientation": "v",
         "showlegend": true,
         "type": "scatter",
         "x": [
          4.3,
          4.5,
          3.5,
          null,
          1,
          null,
          4.6,
          4,
          3.6,
          2,
          5,
          5,
          4.4,
          5,
          null,
          1
         ],
         "xaxis": "x",
         "y": [
          1199.99,
          1299.99,
          699.99,
          2699.99,
          899.99,
          3299.99,
          749.99,
          899.99,
          1799.99,
          2699.99,
          2499.99,
          1999.99,
          692.99,
          1599.99,
          849.99,
          499.99
         ],
         "yaxis": "y"
        },
        {
         "customdata": [
          [
           "Dell",
           "G5535-A643GRY-PUS"
          ],
          [
           "Dell",
           "5400"
          ],
          [
           "Dell",
           "7400"
          ],
          [
           "Dell",
           "5480"
          ],
          [
           "Dell",
           "BB5-32866"
          ],
          [
           "Dell",
           "9268W"
          ],
          [
           "Dell",
           "R3T1W"
          ],
          [
           "Dell",
           "V6PFC"
          ],
          [
           "Dell",
           "BB5-31852"
          ],
          [
           "Dell",
           "23KC8"
          ],
          [
           "Dell",
           "V3XYD"
          ],
          [
           "Dell",
           "4MRP5"
          ],
          [
           "Dell",
           "9DVJP"
          ],
          [
           "Dell",
           "7420"
          ],
          [
           "Dell",
           "PXRGK"
          ],
          [
           "Dell",
           "5400"
          ],
          [
           "Dell",
           "0F2DH"
          ],
          [
           "Dell",
           "Precision 7540"
          ],
          [
           "Dell",
           "F2KP3"
          ],
          [
           "Dell",
           "6R13F"
          ],
          [
           "Dell",
           "7400"
          ],
          [
           "Dell",
           "T2M08"
          ],
          [
           "Dell",
           "5FCXR"
          ],
          [
           "Dell",
           "D5J9K"
          ],
          [
           "Dell",
           "XGY4R"
          ],
          [
           "Dell",
           "NYW3Y"
          ],
          [
           "Dell",
           "3RVDT"
          ],
          [
           "Dell",
           "KPYT2"
          ],
          [
           "Dell",
           "3GCR6"
          ],
          [
           "Dell",
           "W6KXD"
          ],
          [
           "Dell",
           null
          ],
          [
           "Dell",
           "JCJH4"
          ],
          [
           "Dell",
           "2R2W8"
          ],
          [
           "Dell",
           "VX0CJ"
          ],
          [
           "Dell",
           "PRECISION 7710-32304"
          ],
          [
           "Dell",
           "7400"
          ],
          [
           "Dell",
           "E5570"
          ],
          [
           "Dell",
           "7TGXP"
          ],
          [
           "Dell",
           "8XYTH"
          ],
          [
           "Dell",
           "XDW20"
          ],
          [
           "Dell",
           "NKJW4"
          ],
          [
           "Dell",
           "VXCY2"
          ],
          [
           "Dell",
           "P83TM"
          ],
          [
           "Dell",
           "VJ8YG"
          ],
          [
           "Dell",
           "7400"
          ],
          [
           "Dell",
           "NPXC7"
          ],
          [
           "Dell",
           "1FC3X"
          ],
          [
           "Dell",
           "KCR3D"
          ],
          [
           "Dell",
           "PRECISION 7510-32297"
          ],
          [
           "Dell",
           "26DYG"
          ],
          [
           "Dell",
           "6HY8N"
          ],
          [
           "Dell",
           "5490"
          ],
          [
           "Dell",
           "84CPP"
          ],
          [
           "Dell",
           "6PCRX"
          ],
          [
           "Dell",
           "9F2WR"
          ],
          [
           "Dell",
           "4KFPT"
          ],
          [
           "Dell",
           "J75WM"
          ],
          [
           "Dell",
           "79T1D"
          ],
          [
           "Dell",
           "2H58M"
          ],
          [
           "Dell",
           "FNMGY"
          ],
          [
           "Dell",
           "8GHCF"
          ],
          [
           "Dell",
           "5490"
          ],
          [
           "Dell",
           "P7N66"
          ]
         ],
         "hovertemplate": "Brand=%{customdata[0]}<br>Rating=%{x}<br>Price=%{y}<br>Model=%{customdata[1]}<extra></extra>",
         "legendgroup": "Dell",
         "marker": {
          "color": "#FF6692",
          "symbol": "circle"
         },
         "mode": "markers",
         "name": "Dell",
         "orientation": "v",
         "showlegend": true,
         "type": "scatter",
         "x": [
          null,
          5,
          4,
          4.5,
          4.4,
          5,
          4.7,
          4.5,
          4.8,
          5,
          null,
          5,
          null,
          null,
          null,
          4.8,
          5,
          5,
          null,
          null,
          4,
          5,
          null,
          null,
          null,
          null,
          null,
          null,
          1,
          null,
          3.3,
          null,
          null,
          null,
          3,
          4,
          3,
          null,
          null,
          null,
          null,
          null,
          null,
          null,
          3.3,
          null,
          null,
          null,
          3.6,
          1,
          null,
          4.3,
          null,
          null,
          null,
          null,
          5,
          5,
          5,
          null,
          null,
          5,
          null
         ],
         "xaxis": "x",
         "y": [
          1149.99,
          394.99,
          674.99,
          323.99,
          409.99,
          1109.99,
          979.99,
          1149.99,
          353.99,
          2239.99,
          1429.99,
          879.99,
          729.99,
          899.99,
          1359.99,
          544.99,
          2569.99,
          1059.99,
          699.99,
          709.99,
          731.99,
          3639.99,
          1699.99,
          959.99,
          949.99,
          1089.99,
          2619.99,
          1699.99,
          4489.99,
          1059.99,
          172.99,
          3969.99,
          1529.99,
          989.99,
          809.99,
          560.91,
          481.99,
          1369.99,
          1569.99,
          1169.99,
          1439.99,
          899.99,
          1349.99,
          1809.99,
          566.66,
          1219.99,
          1029.99,
          1129.99,
          591.99,
          3189.99,
          1519.99,
          396.99,
          1899.99,
          1539.99,
          1819.99,
          849.99,
          1439.99,
          949.99,
          1039.99,
          1639.99,
          959.99,
          365.99,
          1319.99
         ],
         "yaxis": "y"
        },
        {
         "customdata": [
          [
           "GIGABYTE",
           "G6 KF-H3US864KH"
          ],
          [
           "GIGABYTE",
           "G5 MF-F2US313SH"
          ],
          [
           "GIGABYTE",
           "AORUS 16X 9SG-43USC64SH"
          ],
          [
           "GIGABYTE",
           "AORUS 15 BKG-13US754SH"
          ],
          [
           "GIGABYTE",
           "AORUS 17 BSG-13US654SH"
          ],
          [
           "GIGABYTE",
           "AORUS 16X ASG-53USC64SH"
          ],
          [
           "GIGABYTE",
           "AORUS 17X AZG-65US665SH"
          ],
          [
           "GIGABYTE",
           "G6 MF-H2US854KH"
          ]
         ],
         "hovertemplate": "Brand=%{customdata[0]}<br>Rating=%{x}<br>Price=%{y}<br>Model=%{customdata[1]}<extra></extra>",
         "legendgroup": "GIGABYTE",
         "marker": {
          "color": "#B6E880",
          "symbol": "circle"
         },
         "mode": "markers",
         "name": "GIGABYTE",
         "orientation": "v",
         "showlegend": true,
         "type": "scatter",
         "x": [
          null,
          5,
          null,
          null,
          null,
          null,
          null,
          null
         ],
         "xaxis": "x",
         "y": [
          1199.99,
          799.99,
          1699.99,
          1699.99,
          1999.99,
          1949.99,
          3699.99,
          999.99
         ],
         "yaxis": "y"
        },
        {
         "customdata": [
          [
           "Alienware",
           "AWM16-7032BLK-PUS"
          ]
         ],
         "hovertemplate": "Brand=%{customdata[0]}<br>Rating=%{x}<br>Price=%{y}<br>Model=%{customdata[1]}<extra></extra>",
         "legendgroup": "Alienware",
         "marker": {
          "color": "#FF97FF",
          "symbol": "circle"
         },
         "mode": "markers",
         "name": "Alienware",
         "orientation": "v",
         "showlegend": true,
         "type": "scatter",
         "x": [
          null
         ],
         "xaxis": "x",
         "y": [
          1649.99
         ],
         "yaxis": "y"
        },
        {
         "customdata": [
          [
           "Razer",
           "RZ09-05081ED3-R3U1"
          ],
          [
           "Razer",
           "RZ09-0510TEM4-R3U1"
          ],
          [
           "Razer",
           "RZ09-0510SEN3-R3U1"
          ],
          [
           "Razer",
           "RZ09-05081EM3-R3U1"
          ]
         ],
         "hovertemplate": "Brand=%{customdata[0]}<br>Rating=%{x}<br>Price=%{y}<br>Model=%{customdata[1]}<extra></extra>",
         "legendgroup": "Razer",
         "marker": {
          "color": "#FECB52",
          "symbol": "circle"
         },
         "mode": "markers",
         "name": "Razer",
         "orientation": "v",
         "showlegend": true,
         "type": "scatter",
         "x": [
          null,
          null,
          null,
          null
         ],
         "xaxis": "x",
         "y": [
          2699.99,
          3799.99,
          2999.99,
          2699.99
         ],
         "yaxis": "y"
        },
        {
         "customdata": [
          [
           "Samsung",
           "GSRF NP730QDA-KA1US"
          ],
          [
           "Samsung",
           "GSRF NP340XLA-KA1US"
          ]
         ],
         "hovertemplate": "Brand=%{customdata[0]}<br>Rating=%{x}<br>Price=%{y}<br>Model=%{customdata[1]}<extra></extra>",
         "legendgroup": "Samsung",
         "marker": {
          "color": "#636efa",
          "symbol": "circle"
         },
         "mode": "markers",
         "name": "Samsung",
         "orientation": "v",
         "showlegend": true,
         "type": "scatter",
         "x": [
          2.4,
          2.8
         ],
         "xaxis": "x",
         "y": [
          699.99,
          349.99
         ],
         "yaxis": "y"
        },
        {
         "customdata": [
          [
           "LG",
           "GSRF 14Z90P-K.AAW5U1"
          ]
         ],
         "hovertemplate": "Brand=%{customdata[0]}<br>Rating=%{x}<br>Price=%{y}<br>Model=%{customdata[1]}<extra></extra>",
         "legendgroup": "LG",
         "marker": {
          "color": "#EF553B",
          "symbol": "circle"
         },
         "mode": "markers",
         "name": "LG",
         "orientation": "v",
         "showlegend": true,
         "type": "scatter",
         "x": [
          null
         ],
         "xaxis": "x",
         "y": [
          1079.99
         ],
         "yaxis": "y"
        }
       ],
       "layout": {
        "legend": {
         "title": {
          "text": "Brand"
         },
         "tracegroupgap": 0
        },
        "template": {
         "data": {
          "bar": [
           {
            "error_x": {
             "color": "#2a3f5f"
            },
            "error_y": {
             "color": "#2a3f5f"
            },
            "marker": {
             "line": {
              "color": "#E5ECF6",
              "width": 0.5
             },
             "pattern": {
              "fillmode": "overlay",
              "size": 10,
              "solidity": 0.2
             }
            },
            "type": "bar"
           }
          ],
          "barpolar": [
           {
            "marker": {
             "line": {
              "color": "#E5ECF6",
              "width": 0.5
             },
             "pattern": {
              "fillmode": "overlay",
              "size": 10,
              "solidity": 0.2
             }
            },
            "type": "barpolar"
           }
          ],
          "carpet": [
           {
            "aaxis": {
             "endlinecolor": "#2a3f5f",
             "gridcolor": "white",
             "linecolor": "white",
             "minorgridcolor": "white",
             "startlinecolor": "#2a3f5f"
            },
            "baxis": {
             "endlinecolor": "#2a3f5f",
             "gridcolor": "white",
             "linecolor": "white",
             "minorgridcolor": "white",
             "startlinecolor": "#2a3f5f"
            },
            "type": "carpet"
           }
          ],
          "choropleth": [
           {
            "colorbar": {
             "outlinewidth": 0,
             "ticks": ""
            },
            "type": "choropleth"
           }
          ],
          "contour": [
           {
            "colorbar": {
             "outlinewidth": 0,
             "ticks": ""
            },
            "colorscale": [
             [
              0,
              "#0d0887"
             ],
             [
              0.1111111111111111,
              "#46039f"
             ],
             [
              0.2222222222222222,
              "#7201a8"
             ],
             [
              0.3333333333333333,
              "#9c179e"
             ],
             [
              0.4444444444444444,
              "#bd3786"
             ],
             [
              0.5555555555555556,
              "#d8576b"
             ],
             [
              0.6666666666666666,
              "#ed7953"
             ],
             [
              0.7777777777777778,
              "#fb9f3a"
             ],
             [
              0.8888888888888888,
              "#fdca26"
             ],
             [
              1,
              "#f0f921"
             ]
            ],
            "type": "contour"
           }
          ],
          "contourcarpet": [
           {
            "colorbar": {
             "outlinewidth": 0,
             "ticks": ""
            },
            "type": "contourcarpet"
           }
          ],
          "heatmap": [
           {
            "colorbar": {
             "outlinewidth": 0,
             "ticks": ""
            },
            "colorscale": [
             [
              0,
              "#0d0887"
             ],
             [
              0.1111111111111111,
              "#46039f"
             ],
             [
              0.2222222222222222,
              "#7201a8"
             ],
             [
              0.3333333333333333,
              "#9c179e"
             ],
             [
              0.4444444444444444,
              "#bd3786"
             ],
             [
              0.5555555555555556,
              "#d8576b"
             ],
             [
              0.6666666666666666,
              "#ed7953"
             ],
             [
              0.7777777777777778,
              "#fb9f3a"
             ],
             [
              0.8888888888888888,
              "#fdca26"
             ],
             [
              1,
              "#f0f921"
             ]
            ],
            "type": "heatmap"
           }
          ],
          "heatmapgl": [
           {
            "colorbar": {
             "outlinewidth": 0,
             "ticks": ""
            },
            "colorscale": [
             [
              0,
              "#0d0887"
             ],
             [
              0.1111111111111111,
              "#46039f"
             ],
             [
              0.2222222222222222,
              "#7201a8"
             ],
             [
              0.3333333333333333,
              "#9c179e"
             ],
             [
              0.4444444444444444,
              "#bd3786"
             ],
             [
              0.5555555555555556,
              "#d8576b"
             ],
             [
              0.6666666666666666,
              "#ed7953"
             ],
             [
              0.7777777777777778,
              "#fb9f3a"
             ],
             [
              0.8888888888888888,
              "#fdca26"
             ],
             [
              1,
              "#f0f921"
             ]
            ],
            "type": "heatmapgl"
           }
          ],
          "histogram": [
           {
            "marker": {
             "pattern": {
              "fillmode": "overlay",
              "size": 10,
              "solidity": 0.2
             }
            },
            "type": "histogram"
           }
          ],
          "histogram2d": [
           {
            "colorbar": {
             "outlinewidth": 0,
             "ticks": ""
            },
            "colorscale": [
             [
              0,
              "#0d0887"
             ],
             [
              0.1111111111111111,
              "#46039f"
             ],
             [
              0.2222222222222222,
              "#7201a8"
             ],
             [
              0.3333333333333333,
              "#9c179e"
             ],
             [
              0.4444444444444444,
              "#bd3786"
             ],
             [
              0.5555555555555556,
              "#d8576b"
             ],
             [
              0.6666666666666666,
              "#ed7953"
             ],
             [
              0.7777777777777778,
              "#fb9f3a"
             ],
             [
              0.8888888888888888,
              "#fdca26"
             ],
             [
              1,
              "#f0f921"
             ]
            ],
            "type": "histogram2d"
           }
          ],
          "histogram2dcontour": [
           {
            "colorbar": {
             "outlinewidth": 0,
             "ticks": ""
            },
            "colorscale": [
             [
              0,
              "#0d0887"
             ],
             [
              0.1111111111111111,
              "#46039f"
             ],
             [
              0.2222222222222222,
              "#7201a8"
             ],
             [
              0.3333333333333333,
              "#9c179e"
             ],
             [
              0.4444444444444444,
              "#bd3786"
             ],
             [
              0.5555555555555556,
              "#d8576b"
             ],
             [
              0.6666666666666666,
              "#ed7953"
             ],
             [
              0.7777777777777778,
              "#fb9f3a"
             ],
             [
              0.8888888888888888,
              "#fdca26"
             ],
             [
              1,
              "#f0f921"
             ]
            ],
            "type": "histogram2dcontour"
           }
          ],
          "mesh3d": [
           {
            "colorbar": {
             "outlinewidth": 0,
             "ticks": ""
            },
            "type": "mesh3d"
           }
          ],
          "parcoords": [
           {
            "line": {
             "colorbar": {
              "outlinewidth": 0,
              "ticks": ""
             }
            },
            "type": "parcoords"
           }
          ],
          "pie": [
           {
            "automargin": true,
            "type": "pie"
           }
          ],
          "scatter": [
           {
            "fillpattern": {
             "fillmode": "overlay",
             "size": 10,
             "solidity": 0.2
            },
            "type": "scatter"
           }
          ],
          "scatter3d": [
           {
            "line": {
             "colorbar": {
              "outlinewidth": 0,
              "ticks": ""
             }
            },
            "marker": {
             "colorbar": {
              "outlinewidth": 0,
              "ticks": ""
             }
            },
            "type": "scatter3d"
           }
          ],
          "scattercarpet": [
           {
            "marker": {
             "colorbar": {
              "outlinewidth": 0,
              "ticks": ""
             }
            },
            "type": "scattercarpet"
           }
          ],
          "scattergeo": [
           {
            "marker": {
             "colorbar": {
              "outlinewidth": 0,
              "ticks": ""
             }
            },
            "type": "scattergeo"
           }
          ],
          "scattergl": [
           {
            "marker": {
             "colorbar": {
              "outlinewidth": 0,
              "ticks": ""
             }
            },
            "type": "scattergl"
           }
          ],
          "scattermapbox": [
           {
            "marker": {
             "colorbar": {
              "outlinewidth": 0,
              "ticks": ""
             }
            },
            "type": "scattermapbox"
           }
          ],
          "scatterpolar": [
           {
            "marker": {
             "colorbar": {
              "outlinewidth": 0,
              "ticks": ""
             }
            },
            "type": "scatterpolar"
           }
          ],
          "scatterpolargl": [
           {
            "marker": {
             "colorbar": {
              "outlinewidth": 0,
              "ticks": ""
             }
            },
            "type": "scatterpolargl"
           }
          ],
          "scatterternary": [
           {
            "marker": {
             "colorbar": {
              "outlinewidth": 0,
              "ticks": ""
             }
            },
            "type": "scatterternary"
           }
          ],
          "surface": [
           {
            "colorbar": {
             "outlinewidth": 0,
             "ticks": ""
            },
            "colorscale": [
             [
              0,
              "#0d0887"
             ],
             [
              0.1111111111111111,
              "#46039f"
             ],
             [
              0.2222222222222222,
              "#7201a8"
             ],
             [
              0.3333333333333333,
              "#9c179e"
             ],
             [
              0.4444444444444444,
              "#bd3786"
             ],
             [
              0.5555555555555556,
              "#d8576b"
             ],
             [
              0.6666666666666666,
              "#ed7953"
             ],
             [
              0.7777777777777778,
              "#fb9f3a"
             ],
             [
              0.8888888888888888,
              "#fdca26"
             ],
             [
              1,
              "#f0f921"
             ]
            ],
            "type": "surface"
           }
          ],
          "table": [
           {
            "cells": {
             "fill": {
              "color": "#EBF0F8"
             },
             "line": {
              "color": "white"
             }
            },
            "header": {
             "fill": {
              "color": "#C8D4E3"
             },
             "line": {
              "color": "white"
             }
            },
            "type": "table"
           }
          ]
         },
         "layout": {
          "annotationdefaults": {
           "arrowcolor": "#2a3f5f",
           "arrowhead": 0,
           "arrowwidth": 1
          },
          "autotypenumbers": "strict",
          "coloraxis": {
           "colorbar": {
            "outlinewidth": 0,
            "ticks": ""
           }
          },
          "colorscale": {
           "diverging": [
            [
             0,
             "#8e0152"
            ],
            [
             0.1,
             "#c51b7d"
            ],
            [
             0.2,
             "#de77ae"
            ],
            [
             0.3,
             "#f1b6da"
            ],
            [
             0.4,
             "#fde0ef"
            ],
            [
             0.5,
             "#f7f7f7"
            ],
            [
             0.6,
             "#e6f5d0"
            ],
            [
             0.7,
             "#b8e186"
            ],
            [
             0.8,
             "#7fbc41"
            ],
            [
             0.9,
             "#4d9221"
            ],
            [
             1,
             "#276419"
            ]
           ],
           "sequential": [
            [
             0,
             "#0d0887"
            ],
            [
             0.1111111111111111,
             "#46039f"
            ],
            [
             0.2222222222222222,
             "#7201a8"
            ],
            [
             0.3333333333333333,
             "#9c179e"
            ],
            [
             0.4444444444444444,
             "#bd3786"
            ],
            [
             0.5555555555555556,
             "#d8576b"
            ],
            [
             0.6666666666666666,
             "#ed7953"
            ],
            [
             0.7777777777777778,
             "#fb9f3a"
            ],
            [
             0.8888888888888888,
             "#fdca26"
            ],
            [
             1,
             "#f0f921"
            ]
           ],
           "sequentialminus": [
            [
             0,
             "#0d0887"
            ],
            [
             0.1111111111111111,
             "#46039f"
            ],
            [
             0.2222222222222222,
             "#7201a8"
            ],
            [
             0.3333333333333333,
             "#9c179e"
            ],
            [
             0.4444444444444444,
             "#bd3786"
            ],
            [
             0.5555555555555556,
             "#d8576b"
            ],
            [
             0.6666666666666666,
             "#ed7953"
            ],
            [
             0.7777777777777778,
             "#fb9f3a"
            ],
            [
             0.8888888888888888,
             "#fdca26"
            ],
            [
             1,
             "#f0f921"
            ]
           ]
          },
          "colorway": [
           "#636efa",
           "#EF553B",
           "#00cc96",
           "#ab63fa",
           "#FFA15A",
           "#19d3f3",
           "#FF6692",
           "#B6E880",
           "#FF97FF",
           "#FECB52"
          ],
          "font": {
           "color": "#2a3f5f"
          },
          "geo": {
           "bgcolor": "white",
           "lakecolor": "white",
           "landcolor": "#E5ECF6",
           "showlakes": true,
           "showland": true,
           "subunitcolor": "white"
          },
          "hoverlabel": {
           "align": "left"
          },
          "hovermode": "closest",
          "mapbox": {
           "style": "light"
          },
          "paper_bgcolor": "white",
          "plot_bgcolor": "#E5ECF6",
          "polar": {
           "angularaxis": {
            "gridcolor": "white",
            "linecolor": "white",
            "ticks": ""
           },
           "bgcolor": "#E5ECF6",
           "radialaxis": {
            "gridcolor": "white",
            "linecolor": "white",
            "ticks": ""
           }
          },
          "scene": {
           "xaxis": {
            "backgroundcolor": "#E5ECF6",
            "gridcolor": "white",
            "gridwidth": 2,
            "linecolor": "white",
            "showbackground": true,
            "ticks": "",
            "zerolinecolor": "white"
           },
           "yaxis": {
            "backgroundcolor": "#E5ECF6",
            "gridcolor": "white",
            "gridwidth": 2,
            "linecolor": "white",
            "showbackground": true,
            "ticks": "",
            "zerolinecolor": "white"
           },
           "zaxis": {
            "backgroundcolor": "#E5ECF6",
            "gridcolor": "white",
            "gridwidth": 2,
            "linecolor": "white",
            "showbackground": true,
            "ticks": "",
            "zerolinecolor": "white"
           }
          },
          "shapedefaults": {
           "line": {
            "color": "#2a3f5f"
           }
          },
          "ternary": {
           "aaxis": {
            "gridcolor": "white",
            "linecolor": "white",
            "ticks": ""
           },
           "baxis": {
            "gridcolor": "white",
            "linecolor": "white",
            "ticks": ""
           },
           "bgcolor": "#E5ECF6",
           "caxis": {
            "gridcolor": "white",
            "linecolor": "white",
            "ticks": ""
           }
          },
          "title": {
           "x": 0.05
          },
          "xaxis": {
           "automargin": true,
           "gridcolor": "white",
           "linecolor": "white",
           "ticks": "",
           "title": {
            "standoff": 15
           },
           "zerolinecolor": "white",
           "zerolinewidth": 2
          },
          "yaxis": {
           "automargin": true,
           "gridcolor": "white",
           "linecolor": "white",
           "ticks": "",
           "title": {
            "standoff": 15
           },
           "zerolinecolor": "white",
           "zerolinewidth": 2
          }
         }
        },
        "title": {
         "text": "Scatter Plot of Laptop Price vs Rating per Brand"
        },
        "xaxis": {
         "anchor": "y",
         "domain": [
          0,
          1
         ],
         "title": {
          "text": "Rating"
         }
        },
        "yaxis": {
         "anchor": "x",
         "domain": [
          0,
          1
         ],
         "title": {
          "text": "Price"
         }
        }
       }
      },
      "text/html": [
       "<div>                            <div id=\"588bc107-146e-4607-973d-18f9ad5b3940\" class=\"plotly-graph-div\" style=\"height:525px; width:100%;\"></div>            <script type=\"text/javascript\">                require([\"plotly\"], function(Plotly) {                    window.PLOTLYENV=window.PLOTLYENV || {};                                    if (document.getElementById(\"588bc107-146e-4607-973d-18f9ad5b3940\")) {                    Plotly.newPlot(                        \"588bc107-146e-4607-973d-18f9ad5b3940\",                        [{\"customdata\":[[\"Acer\",\"PHN16-71-73LT\"],[\"Acer\",\"A315-24PT-R90Z\"],[\"Acer\",\"PHN16-71-73RR\"],[\"Acer\",\"PH16-71-93FR\"],[\"Acer\",\"NX.VP2AA.008\"],[\"Acer\",\"NX.A6WAA.00H\"],[\"Acer\",\"SFG14-71T-71SZ\"],[\"Acer\",\"PT14-51-7979\"],[\"Acer\",\"PH18-71-94F1\"],[\"Acer\",\"SFX16-61G-R4J6\"],[\"Acer\",\"NH.QEWAA.001\"],[\"Acer\",\"NX.KHFAA.004\"],[\"Acer\",\"NX.VPDAA.003\"],[\"Acer\",\"NX.VUTAA.002\"],[\"Acer\",\"NX.K7UAA.001\"],[\"Acer\",\"NH.QC5AA.001\"],[\"Acer\",\"NH.QMHAA.001\"],[\"Acer\",\"NH.QESAA.002\"],[\"Acer\",\"AN515-58-527S\"],[\"Acer\",\"NX.KN1AA.001\"],[\"Acer\",\"NH.QMAAA.001\"],[\"Acer\",\"NX.KJZAA.001\"],[\"Acer\",\"TMP41452531CUS\"],[\"Acer\",\"SFX16-61G-R9VD\"],[\"Acer\",\"PH18-71-76B3\"],[\"Acer\",\"SFX14-71G-5911\"],[\"Acer\",\"NX.VN2AA.001\"],[\"Acer\",\"AN16-41-R9ZH\"],[\"Acer\",\"NX.A19AA.005\"]],\"hovertemplate\":\"Brand=%{customdata[0]}\\u003cbr\\u003eRating=%{x}\\u003cbr\\u003ePrice=%{y}\\u003cbr\\u003eModel=%{customdata[1]}\\u003cextra\\u003e\\u003c\\u002fextra\\u003e\",\"legendgroup\":\"Acer\",\"marker\":{\"color\":\"#636efa\",\"symbol\":\"circle\"},\"mode\":\"markers\",\"name\":\"Acer\",\"orientation\":\"v\",\"showlegend\":true,\"x\":[4.6,4.5,4.8,4.3,5.0,4.5,5.0,5.0,3.8,3.0,4.0,5.0,3.0,null,null,null,null,null,4.3,null,null,null,null,null,4.2,null,5.0,4.0,null],\"xaxis\":\"x\",\"y\":[1179.99,349.99,949.99,1849.99,1099.99,185.99,949.99,1999.99,2499.99,1599.99,981.99,569.99,999.99,1064.99,361.99,835.99,775.99,789.99,1299.99,311.99,1033.99,358.99,1049.99,1249.99,1999.99,1099.99,429.99,1649.99,465.99],\"yaxis\":\"y\",\"type\":\"scatter\"},{\"customdata\":[[\"Microsoft\",\"QIL-00001\"],[\"Microsoft\",\"QIL-00052\"],[\"Microsoft\",\"Z2D-00001\"],[\"Microsoft\",\"QEZ-00001\"],[\"Microsoft\",\"RS1-00001\"],[\"Microsoft\",\"XKQ-00006\"],[\"Microsoft\",\"Z3G-00001\"],[\"Microsoft\",\"GSRF VFL-00001\"],[\"Microsoft\",\"QKI-00001\"],[\"Microsoft\",\"GSRF 5BT-00058\"],[\"Microsoft\",\"GSRF 5W6-00001\"],[\"Microsoft\",\"GSRF VEF-00001\"],[\"Microsoft\",\"GSRF VGY-00001\"],[\"Microsoft\",\"GSRF V4C-00064\"],[\"Microsoft\",\"GSRF V4C-00022\"],[\"Microsoft\",\"GSRF 5EB-00058\"],[\"Microsoft\",\"GSRF THH-00035\"],[\"Microsoft\",\"GSRF V4G-00001\"],[\"Microsoft\",\"GSRF 5IM-00001\"],[\"Microsoft\",\"GSRF 5W6-00024\"]],\"hovertemplate\":\"Brand=%{customdata[0]}\\u003cbr\\u003eRating=%{x}\\u003cbr\\u003ePrice=%{y}\\u003cbr\\u003eModel=%{customdata[1]}\\u003cextra\\u003e\\u003c\\u002fextra\\u003e\",\"legendgroup\":\"Microsoft\",\"marker\":{\"color\":\"#EF553B\",\"symbol\":\"circle\"},\"mode\":\"markers\",\"name\":\"Microsoft\",\"orientation\":\"v\",\"showlegend\":true,\"x\":[4.8,4.8,4.4,4.7,4.8,null,5.0,null,4.7,null,null,null,3.6,null,5.0,null,4.0,4.3,null,4.0],\"xaxis\":\"x\",\"y\":[1199.99,1199.99,3299.99,799.99,1205.0,999.99,3506.0,1499.99,1799.99,720.99,1079.99,1239.99,764.99,994.99,994.99,1299.99,472.99,917.99,1519.99,900.99],\"yaxis\":\"y\",\"type\":\"scatter\"},{\"customdata\":[[\"MSI\",\"PRE14EVO13269\"],[\"MSI\",\"CYBORG1512043\"],[\"MSI\",\"BRAVO15B7001\"],[\"MSI\",\"Thin GF63 12UCX-898US\"],[\"MSI\",\"Vector GP68HX 13VH-256US\"],[\"MSI\",\"CODR13NUC069\"],[\"MSI\",\"STEALTH1713019\"],[\"MSI\",\"PRE16STU14020\"],[\"MSI\",\"COM1413003\"],[\"MSI\",\"STEALTH1713008\"],[\"MSI\",\"CREATOR1711471\"],[\"MSI\",\"VECTOR16HX14479\"],[\"MSI\",\"PRE16EVO14016\"],[\"MSI\",\"THINGF6312823\"],[\"MSI\",\"PRE16EVO14013\"],[\"MSI\",\"GF63111424\"],[\"MSI\",\"Vector GP68HX 13VI-255US\"],[\"MSI\",\"GS6612246\"],[\"MSI\",\"PRE13EVO14027\"]],\"hovertemplate\":\"Brand=%{customdata[0]}\\u003cbr\\u003eRating=%{x}\\u003cbr\\u003ePrice=%{y}\\u003cbr\\u003eModel=%{customdata[1]}\\u003cextra\\u003e\\u003c\\u002fextra\\u003e\",\"legendgroup\":\"MSI\",\"marker\":{\"color\":\"#00cc96\",\"symbol\":\"circle\"},\"mode\":\"markers\",\"name\":\"MSI\",\"orientation\":\"v\",\"showlegend\":true,\"x\":[null,4.4,4.4,4.6,4.5,null,4.0,null,null,4.0,4.0,null,3.0,null,null,null,3.0,1.5,null],\"xaxis\":\"x\",\"y\":[1499.99,749.99,649.99,699.99,2099.99,1499.99,2099.99,1899.99,1129.99,2999.99,2349.99,3299.99,1399.99,899.99,1449.99,699.99,3199.99,2729.99,1299.0],\"yaxis\":\"y\",\"type\":\"scatter\"},{\"customdata\":[[\"Lenovo\",\"82LM00UEUS\"],[\"Lenovo\",\"T470\"],[\"Lenovo\",\"21FJS05W00\"],[\"Lenovo\",\"21JN003YUS\"],[\"Lenovo\",\"21KK0004US\"],[\"Lenovo\",\"21KG000FUS\"],[\"Lenovo\",\"82XF001TUS\"],[\"Lenovo\",\"82LV003WUS\"],[\"Lenovo\",\"21JN003XUS\"],[\"Lenovo\",\"21JT001QUS\"],[\"Lenovo\",\"21JK0053US\"],[\"Lenovo\",\"82KT00V8US\"],[\"Lenovo\",\"21KG0005US\"],[\"Lenovo\",\"21KK0009US\"],[\"Lenovo\",\"21J8002RUS\"],[\"Lenovo\",\"21JK0052US\"],[\"Lenovo\",\"82XX003YUS\"],[\"Lenovo\",\"T470.i5.8.256.Pro\"],[\"Lenovo\",\"82XM0032US\"],[\"Lenovo\",\"21JR001QUS\"],[\"Lenovo\",\"82SX0002US\"],[\"Lenovo\",\"BB5-32877\"],[\"Lenovo\",\"21KG000AUS\"],[\"Lenovo\",\"82R9000KUS\"],[\"Lenovo\",\"82QC004BUS\"],[\"Lenovo\",\"21KH0005US\"],[\"Lenovo\",\"21JT001BUS\"],[\"Lenovo\",\"T480.8.256.Pro\"],[\"Lenovo\",\"82SG00BLUS\"],[\"Lenovo\",\"21KH000AUS\"],[\"Lenovo\",\"21JT001PUS\"],[\"Lenovo\",\"21H1001SUS\"],[\"Lenovo\",\"21JR001SUS\"],[\"Lenovo\",\"82XQ001GUS\"],[\"Lenovo\",\"21JR0019US\"],[\"Lenovo\",\"21F6001CUS\"],[\"Lenovo\",\"21HM000GUS\"],[\"Lenovo\",\"21J8002LUS\"],[\"Lenovo\",\"82XY0030US\"],[\"Lenovo\",\"21HK0006US\"],[\"Lenovo\",\"21KK000EUS\"],[\"Lenovo\",\"THINKPAD-C13-8-128\"],[\"Lenovo\",\"21JR0017US\"],[\"Lenovo\",\"21KH000FUS\"],[\"Lenovo\",\"82R9000SUS\"],[\"Lenovo\",\"21KJ0009US\"],[\"Lenovo\",\"21HK0007US\"],[\"Lenovo\",\"21EX0005US\"],[\"Lenovo\",\"21CF000EUS\"],[\"Lenovo\",\"21HQ000CUS\"],[\"Lenovo\",\"21FJS05V00\"],[\"Lenovo\",\"21D2001SUS\"],[\"Lenovo\",\"82XX003VUS\"],[\"Lenovo\",\"21BT001PUS\"],[\"Lenovo\",\"21HD0025US\"],[\"Lenovo\",\"21JG001FUS\"],[\"Lenovo\",\"21HH001FUS\"],[\"Lenovo\",\"21K10007US\"],[\"Lenovo\",\"21DJ000XUS\"],[\"Lenovo\",\"21JN0040US\"],[\"Lenovo\",\"21H3001DUS\"],[\"Lenovo\",\"ThinkPad T470\"],[\"Lenovo\",\"21BX0014US\"],[\"Lenovo\",\"21CF005TUS\"],[\"Lenovo\",\"21EX0008US\"],[\"Lenovo\",\"21HF000CUS\"],[\"Lenovo\",\"21EX0003US\"]],\"hovertemplate\":\"Brand=%{customdata[0]}\\u003cbr\\u003eRating=%{x}\\u003cbr\\u003ePrice=%{y}\\u003cbr\\u003eModel=%{customdata[1]}\\u003cextra\\u003e\\u003c\\u002fextra\\u003e\",\"legendgroup\":\"Lenovo\",\"marker\":{\"color\":\"#ab63fa\",\"symbol\":\"circle\"},\"mode\":\"markers\",\"name\":\"Lenovo\",\"orientation\":\"v\",\"showlegend\":true,\"x\":[5.0,4.6,null,4.8,null,null,null,3.0,4.5,5.0,null,4.7,null,null,null,null,3.5,3.9,null,null,4.0,3.8,null,4.1,4.0,null,5.0,4.7,null,null,4.3,null,5.0,5.0,null,null,null,null,4.0,null,5.0,null,null,null,null,null,4.5,null,null,null,null,null,null,null,null,null,null,null,null,4.0,null,3.7,null,null,5.0,5.0,null],\"xaxis\":\"x\",\"y\":[339.99,349.99,1199.99,749.99,629.99,919.99,499.99,143.99,1039.99,909.99,1039.99,329.99,799.99,789.99,1459.99,939.99,499.99,215.99,478.99,639.99,607.99,445.99,859.99,425.99,259.99,799.99,789.99,263.99,462.99,879.99,639.99,1369.99,909.99,362.99,819.99,1599.99,1599.99,1249.99,799.99,1699.99,859.99,329.99,879.99,929.99,379.99,769.99,1759.99,1519.99,1269.99,2449.99,899.99,939.99,652.99,2079.99,1479.99,1219.99,1499.99,1539.99,789.99,939.99,1199.99,458.99,1129.99,989.99,1449.99,1089.99,1249.99],\"yaxis\":\"y\",\"type\":\"scatter\"},{\"customdata\":[[\"HP\",\"7Z183UT#ABA\"],[\"HP\",\"840G3.8.256.Pro\"],[\"HP\",\"7P3B6UT#ABA\"],[\"HP\",\"822P5UT#ABA\"],[\"HP\",\"840G6.i5.16.256\"],[\"HP\",\"BB5-32872\"],[\"HP\",\"840 G3\"],[\"HP\",\"840 G6\"],[\"HP\",\"745G6.8.256.Pro\"],[\"HP\",\"830 G5\"],[\"HP\",\"840 G5\"],[\"HP\",\"830 G6\"],[\"HP\",\"840 G5\"],[\"HP\",\"ZBook Studio G3\"],[\"HP\",\"840 G3\"],[\"HP\",\"X360.1030.G3.Pro\"],[\"HP\",\"15U.G5.i7.16.256\"],[\"HP\",\"89D96UTABA\"],[\"HP\",\"840 G3-32354\"],[\"HP\",\"840 G6\"],[\"HP\",\"840 G6\"],[\"HP\",\"ZBook Studio G5\"],[\"HP\",\"ZBOOK 15 G3-32463\"],[\"HP\",\"89D95UTABA\"],[\"HP\",\"15U.G6.i7.16.256\"],[\"HP\",\"840G6.8.256.Pro\"],[\"HP\",\"EliteBook 840 G7\"],[\"HP\",\"840G5.i5.8.256.Pro\"],[\"HP\",\"840 G3-31676\"],[\"HP\",\"14-dq0001dx\"],[\"HP\",\"830 G7\"],[\"HP\",\"650 G2\"]],\"hovertemplate\":\"Brand=%{customdata[0]}\\u003cbr\\u003eRating=%{x}\\u003cbr\\u003ePrice=%{y}\\u003cbr\\u003eModel=%{customdata[1]}\\u003cextra\\u003e\\u003c\\u002fextra\\u003e\",\"legendgroup\":\"HP\",\"marker\":{\"color\":\"#FFA15A\",\"symbol\":\"circle\"},\"mode\":\"markers\",\"name\":\"HP\",\"orientation\":\"v\",\"showlegend\":true,\"x\":[null,3.8,null,5.0,5.0,4.4,4.3,4.0,3.4,4.5,4.0,4.7,null,4.7,4.3,3.6,null,5.0,4.1,4.0,null,5.0,3.9,null,5.0,null,null,3.9,4.4,4.4,5.0,3.3],\"xaxis\":\"x\",\"y\":[1739.99,226.99,577.99,899.99,296.99,309.99,492.99,532.99,259.99,384.99,413.79,529.99,441.99,606.99,481.99,303.99,373.99,1449.99,318.99,699.99,645.99,889.99,549.99,1599.99,384.99,274.99,731.99,269.99,298.85,212.99,731.99,431.99],\"yaxis\":\"y\",\"type\":\"scatter\"},{\"customdata\":[[\"ASUS\",\"UP3404VADS74T\"],[\"ASUS\",\"K6602VV-ES94\"],[\"ASUS\",\"TP3604VA-DS51T\"],[\"ASUS\",\"GU605MZ-G16.U94080\"],[\"ASUS\",\"K3502ZA-DS51\"],[\"ASUS\",\"GU605MY-G16.U94090\"],[\"ASUS\",\"M1505YA-ES74\"],[\"ASUS\",\"B1400CEA-XH51\"],[\"ASUS\",\"GZ301ZC-PS73\"],[\"ASUS\",\"H7600ZW-DB76\"],[\"ASUS\",\"G533ZS-DS94\"],[\"ASUS\",\"GA403UI-G14.R94070\"],[\"ASUS\",\"S533EADH51\"],[\"ASUS\",\"GA403UV-G14.R94060\"],[\"ASUS\",\"S3502QA-DS71\"],[\"ASUS\",\"F1704ZA-DS24\"]],\"hovertemplate\":\"Brand=%{customdata[0]}\\u003cbr\\u003eRating=%{x}\\u003cbr\\u003ePrice=%{y}\\u003cbr\\u003eModel=%{customdata[1]}\\u003cextra\\u003e\\u003c\\u002fextra\\u003e\",\"legendgroup\":\"ASUS\",\"marker\":{\"color\":\"#19d3f3\",\"symbol\":\"circle\"},\"mode\":\"markers\",\"name\":\"ASUS\",\"orientation\":\"v\",\"showlegend\":true,\"x\":[4.3,4.5,3.5,null,1.0,null,4.6,4.0,3.6,2.0,5.0,5.0,4.4,5.0,null,1.0],\"xaxis\":\"x\",\"y\":[1199.99,1299.99,699.99,2699.99,899.99,3299.99,749.99,899.99,1799.99,2699.99,2499.99,1999.99,692.99,1599.99,849.99,499.99],\"yaxis\":\"y\",\"type\":\"scatter\"},{\"customdata\":[[\"Dell\",\"G5535-A643GRY-PUS\"],[\"Dell\",\"5400\"],[\"Dell\",\"7400\"],[\"Dell\",\"5480\"],[\"Dell\",\"BB5-32866\"],[\"Dell\",\"9268W\"],[\"Dell\",\"R3T1W\"],[\"Dell\",\"V6PFC\"],[\"Dell\",\"BB5-31852\"],[\"Dell\",\"23KC8\"],[\"Dell\",\"V3XYD\"],[\"Dell\",\"4MRP5\"],[\"Dell\",\"9DVJP\"],[\"Dell\",\"7420\"],[\"Dell\",\"PXRGK\"],[\"Dell\",\"5400\"],[\"Dell\",\"0F2DH\"],[\"Dell\",\"Precision 7540\"],[\"Dell\",\"F2KP3\"],[\"Dell\",\"6R13F\"],[\"Dell\",\"7400\"],[\"Dell\",\"T2M08\"],[\"Dell\",\"5FCXR\"],[\"Dell\",\"D5J9K\"],[\"Dell\",\"XGY4R\"],[\"Dell\",\"NYW3Y\"],[\"Dell\",\"3RVDT\"],[\"Dell\",\"KPYT2\"],[\"Dell\",\"3GCR6\"],[\"Dell\",\"W6KXD\"],[\"Dell\",null],[\"Dell\",\"JCJH4\"],[\"Dell\",\"2R2W8\"],[\"Dell\",\"VX0CJ\"],[\"Dell\",\"PRECISION 7710-32304\"],[\"Dell\",\"7400\"],[\"Dell\",\"E5570\"],[\"Dell\",\"7TGXP\"],[\"Dell\",\"8XYTH\"],[\"Dell\",\"XDW20\"],[\"Dell\",\"NKJW4\"],[\"Dell\",\"VXCY2\"],[\"Dell\",\"P83TM\"],[\"Dell\",\"VJ8YG\"],[\"Dell\",\"7400\"],[\"Dell\",\"NPXC7\"],[\"Dell\",\"1FC3X\"],[\"Dell\",\"KCR3D\"],[\"Dell\",\"PRECISION 7510-32297\"],[\"Dell\",\"26DYG\"],[\"Dell\",\"6HY8N\"],[\"Dell\",\"5490\"],[\"Dell\",\"84CPP\"],[\"Dell\",\"6PCRX\"],[\"Dell\",\"9F2WR\"],[\"Dell\",\"4KFPT\"],[\"Dell\",\"J75WM\"],[\"Dell\",\"79T1D\"],[\"Dell\",\"2H58M\"],[\"Dell\",\"FNMGY\"],[\"Dell\",\"8GHCF\"],[\"Dell\",\"5490\"],[\"Dell\",\"P7N66\"]],\"hovertemplate\":\"Brand=%{customdata[0]}\\u003cbr\\u003eRating=%{x}\\u003cbr\\u003ePrice=%{y}\\u003cbr\\u003eModel=%{customdata[1]}\\u003cextra\\u003e\\u003c\\u002fextra\\u003e\",\"legendgroup\":\"Dell\",\"marker\":{\"color\":\"#FF6692\",\"symbol\":\"circle\"},\"mode\":\"markers\",\"name\":\"Dell\",\"orientation\":\"v\",\"showlegend\":true,\"x\":[null,5.0,4.0,4.5,4.4,5.0,4.7,4.5,4.8,5.0,null,5.0,null,null,null,4.8,5.0,5.0,null,null,4.0,5.0,null,null,null,null,null,null,1.0,null,3.3,null,null,null,3.0,4.0,3.0,null,null,null,null,null,null,null,3.3,null,null,null,3.6,1.0,null,4.3,null,null,null,null,5.0,5.0,5.0,null,null,5.0,null],\"xaxis\":\"x\",\"y\":[1149.99,394.99,674.99,323.99,409.99,1109.99,979.99,1149.99,353.99,2239.99,1429.99,879.99,729.99,899.99,1359.99,544.99,2569.99,1059.99,699.99,709.99,731.99,3639.99,1699.99,959.99,949.99,1089.99,2619.99,1699.99,4489.99,1059.99,172.99,3969.99,1529.99,989.99,809.99,560.91,481.99,1369.99,1569.99,1169.99,1439.99,899.99,1349.99,1809.99,566.66,1219.99,1029.99,1129.99,591.99,3189.99,1519.99,396.99,1899.99,1539.99,1819.99,849.99,1439.99,949.99,1039.99,1639.99,959.99,365.99,1319.99],\"yaxis\":\"y\",\"type\":\"scatter\"},{\"customdata\":[[\"GIGABYTE\",\"G6 KF-H3US864KH\"],[\"GIGABYTE\",\"G5 MF-F2US313SH\"],[\"GIGABYTE\",\"AORUS 16X 9SG-43USC64SH\"],[\"GIGABYTE\",\"AORUS 15 BKG-13US754SH\"],[\"GIGABYTE\",\"AORUS 17 BSG-13US654SH\"],[\"GIGABYTE\",\"AORUS 16X ASG-53USC64SH\"],[\"GIGABYTE\",\"AORUS 17X AZG-65US665SH\"],[\"GIGABYTE\",\"G6 MF-H2US854KH\"]],\"hovertemplate\":\"Brand=%{customdata[0]}\\u003cbr\\u003eRating=%{x}\\u003cbr\\u003ePrice=%{y}\\u003cbr\\u003eModel=%{customdata[1]}\\u003cextra\\u003e\\u003c\\u002fextra\\u003e\",\"legendgroup\":\"GIGABYTE\",\"marker\":{\"color\":\"#B6E880\",\"symbol\":\"circle\"},\"mode\":\"markers\",\"name\":\"GIGABYTE\",\"orientation\":\"v\",\"showlegend\":true,\"x\":[null,5.0,null,null,null,null,null,null],\"xaxis\":\"x\",\"y\":[1199.99,799.99,1699.99,1699.99,1999.99,1949.99,3699.99,999.99],\"yaxis\":\"y\",\"type\":\"scatter\"},{\"customdata\":[[\"Alienware\",\"AWM16-7032BLK-PUS\"]],\"hovertemplate\":\"Brand=%{customdata[0]}\\u003cbr\\u003eRating=%{x}\\u003cbr\\u003ePrice=%{y}\\u003cbr\\u003eModel=%{customdata[1]}\\u003cextra\\u003e\\u003c\\u002fextra\\u003e\",\"legendgroup\":\"Alienware\",\"marker\":{\"color\":\"#FF97FF\",\"symbol\":\"circle\"},\"mode\":\"markers\",\"name\":\"Alienware\",\"orientation\":\"v\",\"showlegend\":true,\"x\":[null],\"xaxis\":\"x\",\"y\":[1649.99],\"yaxis\":\"y\",\"type\":\"scatter\"},{\"customdata\":[[\"Razer\",\"RZ09-05081ED3-R3U1\"],[\"Razer\",\"RZ09-0510TEM4-R3U1\"],[\"Razer\",\"RZ09-0510SEN3-R3U1\"],[\"Razer\",\"RZ09-05081EM3-R3U1\"]],\"hovertemplate\":\"Brand=%{customdata[0]}\\u003cbr\\u003eRating=%{x}\\u003cbr\\u003ePrice=%{y}\\u003cbr\\u003eModel=%{customdata[1]}\\u003cextra\\u003e\\u003c\\u002fextra\\u003e\",\"legendgroup\":\"Razer\",\"marker\":{\"color\":\"#FECB52\",\"symbol\":\"circle\"},\"mode\":\"markers\",\"name\":\"Razer\",\"orientation\":\"v\",\"showlegend\":true,\"x\":[null,null,null,null],\"xaxis\":\"x\",\"y\":[2699.99,3799.99,2999.99,2699.99],\"yaxis\":\"y\",\"type\":\"scatter\"},{\"customdata\":[[\"Samsung\",\"GSRF NP730QDA-KA1US\"],[\"Samsung\",\"GSRF NP340XLA-KA1US\"]],\"hovertemplate\":\"Brand=%{customdata[0]}\\u003cbr\\u003eRating=%{x}\\u003cbr\\u003ePrice=%{y}\\u003cbr\\u003eModel=%{customdata[1]}\\u003cextra\\u003e\\u003c\\u002fextra\\u003e\",\"legendgroup\":\"Samsung\",\"marker\":{\"color\":\"#636efa\",\"symbol\":\"circle\"},\"mode\":\"markers\",\"name\":\"Samsung\",\"orientation\":\"v\",\"showlegend\":true,\"x\":[2.4,2.8],\"xaxis\":\"x\",\"y\":[699.99,349.99],\"yaxis\":\"y\",\"type\":\"scatter\"},{\"customdata\":[[\"LG\",\"GSRF 14Z90P-K.AAW5U1\"]],\"hovertemplate\":\"Brand=%{customdata[0]}\\u003cbr\\u003eRating=%{x}\\u003cbr\\u003ePrice=%{y}\\u003cbr\\u003eModel=%{customdata[1]}\\u003cextra\\u003e\\u003c\\u002fextra\\u003e\",\"legendgroup\":\"LG\",\"marker\":{\"color\":\"#EF553B\",\"symbol\":\"circle\"},\"mode\":\"markers\",\"name\":\"LG\",\"orientation\":\"v\",\"showlegend\":true,\"x\":[null],\"xaxis\":\"x\",\"y\":[1079.99],\"yaxis\":\"y\",\"type\":\"scatter\"}],                        {\"template\":{\"data\":{\"histogram2dcontour\":[{\"type\":\"histogram2dcontour\",\"colorbar\":{\"outlinewidth\":0,\"ticks\":\"\"},\"colorscale\":[[0.0,\"#0d0887\"],[0.1111111111111111,\"#46039f\"],[0.2222222222222222,\"#7201a8\"],[0.3333333333333333,\"#9c179e\"],[0.4444444444444444,\"#bd3786\"],[0.5555555555555556,\"#d8576b\"],[0.6666666666666666,\"#ed7953\"],[0.7777777777777778,\"#fb9f3a\"],[0.8888888888888888,\"#fdca26\"],[1.0,\"#f0f921\"]]}],\"choropleth\":[{\"type\":\"choropleth\",\"colorbar\":{\"outlinewidth\":0,\"ticks\":\"\"}}],\"histogram2d\":[{\"type\":\"histogram2d\",\"colorbar\":{\"outlinewidth\":0,\"ticks\":\"\"},\"colorscale\":[[0.0,\"#0d0887\"],[0.1111111111111111,\"#46039f\"],[0.2222222222222222,\"#7201a8\"],[0.3333333333333333,\"#9c179e\"],[0.4444444444444444,\"#bd3786\"],[0.5555555555555556,\"#d8576b\"],[0.6666666666666666,\"#ed7953\"],[0.7777777777777778,\"#fb9f3a\"],[0.8888888888888888,\"#fdca26\"],[1.0,\"#f0f921\"]]}],\"heatmap\":[{\"type\":\"heatmap\",\"colorbar\":{\"outlinewidth\":0,\"ticks\":\"\"},\"colorscale\":[[0.0,\"#0d0887\"],[0.1111111111111111,\"#46039f\"],[0.2222222222222222,\"#7201a8\"],[0.3333333333333333,\"#9c179e\"],[0.4444444444444444,\"#bd3786\"],[0.5555555555555556,\"#d8576b\"],[0.6666666666666666,\"#ed7953\"],[0.7777777777777778,\"#fb9f3a\"],[0.8888888888888888,\"#fdca26\"],[1.0,\"#f0f921\"]]}],\"heatmapgl\":[{\"type\":\"heatmapgl\",\"colorbar\":{\"outlinewidth\":0,\"ticks\":\"\"},\"colorscale\":[[0.0,\"#0d0887\"],[0.1111111111111111,\"#46039f\"],[0.2222222222222222,\"#7201a8\"],[0.3333333333333333,\"#9c179e\"],[0.4444444444444444,\"#bd3786\"],[0.5555555555555556,\"#d8576b\"],[0.6666666666666666,\"#ed7953\"],[0.7777777777777778,\"#fb9f3a\"],[0.8888888888888888,\"#fdca26\"],[1.0,\"#f0f921\"]]}],\"contourcarpet\":[{\"type\":\"contourcarpet\",\"colorbar\":{\"outlinewidth\":0,\"ticks\":\"\"}}],\"contour\":[{\"type\":\"contour\",\"colorbar\":{\"outlinewidth\":0,\"ticks\":\"\"},\"colorscale\":[[0.0,\"#0d0887\"],[0.1111111111111111,\"#46039f\"],[0.2222222222222222,\"#7201a8\"],[0.3333333333333333,\"#9c179e\"],[0.4444444444444444,\"#bd3786\"],[0.5555555555555556,\"#d8576b\"],[0.6666666666666666,\"#ed7953\"],[0.7777777777777778,\"#fb9f3a\"],[0.8888888888888888,\"#fdca26\"],[1.0,\"#f0f921\"]]}],\"surface\":[{\"type\":\"surface\",\"colorbar\":{\"outlinewidth\":0,\"ticks\":\"\"},\"colorscale\":[[0.0,\"#0d0887\"],[0.1111111111111111,\"#46039f\"],[0.2222222222222222,\"#7201a8\"],[0.3333333333333333,\"#9c179e\"],[0.4444444444444444,\"#bd3786\"],[0.5555555555555556,\"#d8576b\"],[0.6666666666666666,\"#ed7953\"],[0.7777777777777778,\"#fb9f3a\"],[0.8888888888888888,\"#fdca26\"],[1.0,\"#f0f921\"]]}],\"mesh3d\":[{\"type\":\"mesh3d\",\"colorbar\":{\"outlinewidth\":0,\"ticks\":\"\"}}],\"scatter\":[{\"fillpattern\":{\"fillmode\":\"overlay\",\"size\":10,\"solidity\":0.2},\"type\":\"scatter\"}],\"parcoords\":[{\"type\":\"parcoords\",\"line\":{\"colorbar\":{\"outlinewidth\":0,\"ticks\":\"\"}}}],\"scatterpolargl\":[{\"type\":\"scatterpolargl\",\"marker\":{\"colorbar\":{\"outlinewidth\":0,\"ticks\":\"\"}}}],\"bar\":[{\"error_x\":{\"color\":\"#2a3f5f\"},\"error_y\":{\"color\":\"#2a3f5f\"},\"marker\":{\"line\":{\"color\":\"#E5ECF6\",\"width\":0.5},\"pattern\":{\"fillmode\":\"overlay\",\"size\":10,\"solidity\":0.2}},\"type\":\"bar\"}],\"scattergeo\":[{\"type\":\"scattergeo\",\"marker\":{\"colorbar\":{\"outlinewidth\":0,\"ticks\":\"\"}}}],\"scatterpolar\":[{\"type\":\"scatterpolar\",\"marker\":{\"colorbar\":{\"outlinewidth\":0,\"ticks\":\"\"}}}],\"histogram\":[{\"marker\":{\"pattern\":{\"fillmode\":\"overlay\",\"size\":10,\"solidity\":0.2}},\"type\":\"histogram\"}],\"scattergl\":[{\"type\":\"scattergl\",\"marker\":{\"colorbar\":{\"outlinewidth\":0,\"ticks\":\"\"}}}],\"scatter3d\":[{\"type\":\"scatter3d\",\"line\":{\"colorbar\":{\"outlinewidth\":0,\"ticks\":\"\"}},\"marker\":{\"colorbar\":{\"outlinewidth\":0,\"ticks\":\"\"}}}],\"scattermapbox\":[{\"type\":\"scattermapbox\",\"marker\":{\"colorbar\":{\"outlinewidth\":0,\"ticks\":\"\"}}}],\"scatterternary\":[{\"type\":\"scatterternary\",\"marker\":{\"colorbar\":{\"outlinewidth\":0,\"ticks\":\"\"}}}],\"scattercarpet\":[{\"type\":\"scattercarpet\",\"marker\":{\"colorbar\":{\"outlinewidth\":0,\"ticks\":\"\"}}}],\"carpet\":[{\"aaxis\":{\"endlinecolor\":\"#2a3f5f\",\"gridcolor\":\"white\",\"linecolor\":\"white\",\"minorgridcolor\":\"white\",\"startlinecolor\":\"#2a3f5f\"},\"baxis\":{\"endlinecolor\":\"#2a3f5f\",\"gridcolor\":\"white\",\"linecolor\":\"white\",\"minorgridcolor\":\"white\",\"startlinecolor\":\"#2a3f5f\"},\"type\":\"carpet\"}],\"table\":[{\"cells\":{\"fill\":{\"color\":\"#EBF0F8\"},\"line\":{\"color\":\"white\"}},\"header\":{\"fill\":{\"color\":\"#C8D4E3\"},\"line\":{\"color\":\"white\"}},\"type\":\"table\"}],\"barpolar\":[{\"marker\":{\"line\":{\"color\":\"#E5ECF6\",\"width\":0.5},\"pattern\":{\"fillmode\":\"overlay\",\"size\":10,\"solidity\":0.2}},\"type\":\"barpolar\"}],\"pie\":[{\"automargin\":true,\"type\":\"pie\"}]},\"layout\":{\"autotypenumbers\":\"strict\",\"colorway\":[\"#636efa\",\"#EF553B\",\"#00cc96\",\"#ab63fa\",\"#FFA15A\",\"#19d3f3\",\"#FF6692\",\"#B6E880\",\"#FF97FF\",\"#FECB52\"],\"font\":{\"color\":\"#2a3f5f\"},\"hovermode\":\"closest\",\"hoverlabel\":{\"align\":\"left\"},\"paper_bgcolor\":\"white\",\"plot_bgcolor\":\"#E5ECF6\",\"polar\":{\"bgcolor\":\"#E5ECF6\",\"angularaxis\":{\"gridcolor\":\"white\",\"linecolor\":\"white\",\"ticks\":\"\"},\"radialaxis\":{\"gridcolor\":\"white\",\"linecolor\":\"white\",\"ticks\":\"\"}},\"ternary\":{\"bgcolor\":\"#E5ECF6\",\"aaxis\":{\"gridcolor\":\"white\",\"linecolor\":\"white\",\"ticks\":\"\"},\"baxis\":{\"gridcolor\":\"white\",\"linecolor\":\"white\",\"ticks\":\"\"},\"caxis\":{\"gridcolor\":\"white\",\"linecolor\":\"white\",\"ticks\":\"\"}},\"coloraxis\":{\"colorbar\":{\"outlinewidth\":0,\"ticks\":\"\"}},\"colorscale\":{\"sequential\":[[0.0,\"#0d0887\"],[0.1111111111111111,\"#46039f\"],[0.2222222222222222,\"#7201a8\"],[0.3333333333333333,\"#9c179e\"],[0.4444444444444444,\"#bd3786\"],[0.5555555555555556,\"#d8576b\"],[0.6666666666666666,\"#ed7953\"],[0.7777777777777778,\"#fb9f3a\"],[0.8888888888888888,\"#fdca26\"],[1.0,\"#f0f921\"]],\"sequentialminus\":[[0.0,\"#0d0887\"],[0.1111111111111111,\"#46039f\"],[0.2222222222222222,\"#7201a8\"],[0.3333333333333333,\"#9c179e\"],[0.4444444444444444,\"#bd3786\"],[0.5555555555555556,\"#d8576b\"],[0.6666666666666666,\"#ed7953\"],[0.7777777777777778,\"#fb9f3a\"],[0.8888888888888888,\"#fdca26\"],[1.0,\"#f0f921\"]],\"diverging\":[[0,\"#8e0152\"],[0.1,\"#c51b7d\"],[0.2,\"#de77ae\"],[0.3,\"#f1b6da\"],[0.4,\"#fde0ef\"],[0.5,\"#f7f7f7\"],[0.6,\"#e6f5d0\"],[0.7,\"#b8e186\"],[0.8,\"#7fbc41\"],[0.9,\"#4d9221\"],[1,\"#276419\"]]},\"xaxis\":{\"gridcolor\":\"white\",\"linecolor\":\"white\",\"ticks\":\"\",\"title\":{\"standoff\":15},\"zerolinecolor\":\"white\",\"automargin\":true,\"zerolinewidth\":2},\"yaxis\":{\"gridcolor\":\"white\",\"linecolor\":\"white\",\"ticks\":\"\",\"title\":{\"standoff\":15},\"zerolinecolor\":\"white\",\"automargin\":true,\"zerolinewidth\":2},\"scene\":{\"xaxis\":{\"backgroundcolor\":\"#E5ECF6\",\"gridcolor\":\"white\",\"linecolor\":\"white\",\"showbackground\":true,\"ticks\":\"\",\"zerolinecolor\":\"white\",\"gridwidth\":2},\"yaxis\":{\"backgroundcolor\":\"#E5ECF6\",\"gridcolor\":\"white\",\"linecolor\":\"white\",\"showbackground\":true,\"ticks\":\"\",\"zerolinecolor\":\"white\",\"gridwidth\":2},\"zaxis\":{\"backgroundcolor\":\"#E5ECF6\",\"gridcolor\":\"white\",\"linecolor\":\"white\",\"showbackground\":true,\"ticks\":\"\",\"zerolinecolor\":\"white\",\"gridwidth\":2}},\"shapedefaults\":{\"line\":{\"color\":\"#2a3f5f\"}},\"annotationdefaults\":{\"arrowcolor\":\"#2a3f5f\",\"arrowhead\":0,\"arrowwidth\":1},\"geo\":{\"bgcolor\":\"white\",\"landcolor\":\"#E5ECF6\",\"subunitcolor\":\"white\",\"showland\":true,\"showlakes\":true,\"lakecolor\":\"white\"},\"title\":{\"x\":0.05},\"mapbox\":{\"style\":\"light\"}}},\"xaxis\":{\"anchor\":\"y\",\"domain\":[0.0,1.0],\"title\":{\"text\":\"Rating\"}},\"yaxis\":{\"anchor\":\"x\",\"domain\":[0.0,1.0],\"title\":{\"text\":\"Price\"}},\"legend\":{\"title\":{\"text\":\"Brand\"},\"tracegroupgap\":0},\"title\":{\"text\":\"Scatter Plot of Laptop Price vs Rating per Brand\"}},                        {\"responsive\": true}                    ).then(function(){\n",
       "                            \n",
       "var gd = document.getElementById('588bc107-146e-4607-973d-18f9ad5b3940');\n",
       "var x = new MutationObserver(function (mutations, observer) {{\n",
       "        var display = window.getComputedStyle(gd).display;\n",
       "        if (!display || display === 'none') {{\n",
       "            console.log([gd, 'removed!']);\n",
       "            Plotly.purge(gd);\n",
       "            observer.disconnect();\n",
       "        }}\n",
       "}});\n",
       "\n",
       "// Listen for the removal of the full notebook cells\n",
       "var notebookContainer = gd.closest('#notebook-container');\n",
       "if (notebookContainer) {{\n",
       "    x.observe(notebookContainer, {childList: true});\n",
       "}}\n",
       "\n",
       "// Listen for the clearing of the current output cell\n",
       "var outputEl = gd.closest('.output');\n",
       "if (outputEl) {{\n",
       "    x.observe(outputEl, {childList: true});\n",
       "}}\n",
       "\n",
       "                        })                };                });            </script>        </div>"
      ]
     },
     "metadata": {},
     "output_type": "display_data"
    }
   ],
   "source": [
    "scatter_price_rating = px.scatter(laptops_cleaned, x = 'Rating', y = 'Price', color = 'Brand', hover_data=[\"Brand\", \"Model\"],\n",
    "                                 labels = {'Rating': 'Rating', 'Price': \"Price\", 'Brand': 'Brand'},\n",
    "                                 title = 'Scatter Plot of Laptop Price vs Rating per Brand')\n",
    "\n",
    "scatter_price_rating.show()"
   ]
  },
  {
   "cell_type": "markdown",
   "id": "4bd245bd",
   "metadata": {},
   "source": [
    "You can see a few outliers where rating is low and the price is high, vice versa, etc. However, this graph is difficult to interpret at a glace. "
   ]
  },
  {
   "cell_type": "code",
   "execution_count": 36,
   "id": "08b6bd4b",
   "metadata": {},
   "outputs": [
    {
     "data": {
      "application/vnd.plotly.v1+json": {
       "config": {
        "plotlyServerURL": "https://plot.ly"
       },
       "data": [
        {
         "alignmentgroup": "True",
         "box": {
          "visible": false
         },
         "hovertemplate": "Brand=Acer<br>Satisfaction Score=%{y}<extra></extra>",
         "legendgroup": "Acer",
         "marker": {
          "color": "#636efa"
         },
         "name": "Acer",
         "offsetgroup": "Acer",
         "orientation": "v",
         "scalegroup": "True",
         "showlegend": true,
         "type": "violin",
         "x0": " ",
         "xaxis": "x",
         "y": [
          0.013411078717201165,
          0.006105834464043419,
          0.03428571428571429,
          0.048314606741573035,
          5,
          2.25,
          5,
          2.5,
          0.2375,
          1.5,
          4,
          5,
          1.5,
          1.4333333333333333,
          0.7000000000000001,
          5,
          4
         ],
         "y0": " ",
         "yaxis": "y"
        },
        {
         "alignmentgroup": "True",
         "box": {
          "visible": false
         },
         "hovertemplate": "Brand=Microsoft<br>Satisfaction Score=%{y}<extra></extra>",
         "legendgroup": "Microsoft",
         "marker": {
          "color": "#EF553B"
         },
         "name": "Microsoft",
         "offsetgroup": "Microsoft",
         "orientation": "v",
         "scalegroup": "True",
         "showlegend": true,
         "type": "violin",
         "x0": " ",
         "xaxis": "x",
         "y": [
          0.009284332688588007,
          0.009284332688588007,
          0.48888888888888893,
          0.00717557251908397,
          1.2,
          1.6666666666666667,
          0.23500000000000001,
          0.72,
          5,
          1,
          0.6142857142857142,
          2
         ],
         "y0": " ",
         "yaxis": "y"
        },
        {
         "alignmentgroup": "True",
         "box": {
          "visible": false
         },
         "hovertemplate": "Brand=Lenovo<br>Satisfaction Score=%{y}<extra></extra>",
         "legendgroup": "Lenovo",
         "marker": {
          "color": "#00cc96"
         },
         "name": "Lenovo",
         "offsetgroup": "Lenovo",
         "orientation": "v",
         "scalegroup": "True",
         "showlegend": true,
         "type": "violin",
         "x0": " ",
         "xaxis": "x",
         "y": [
          2.5,
          0.9199999999999999,
          1.2,
          1.5,
          1.125,
          2.5,
          1.5666666666666667,
          1.75,
          0.11470588235294117,
          0.2,
          0.31666666666666665,
          0.2157894736842105,
          4,
          5,
          0.36153846153846153,
          1.4333333333333333,
          5,
          5,
          1.3333333333333333,
          5,
          2.25,
          2,
          0.15416666666666667,
          5,
          5
         ],
         "y0": " ",
         "yaxis": "y"
        },
        {
         "alignmentgroup": "True",
         "box": {
          "visible": false
         },
         "hovertemplate": "Brand=MSI<br>Satisfaction Score=%{y}<extra></extra>",
         "legendgroup": "MSI",
         "marker": {
          "color": "#ab63fa"
         },
         "name": "MSI",
         "offsetgroup": "MSI",
         "orientation": "v",
         "scalegroup": "True",
         "showlegend": true,
         "type": "violin",
         "x0": " ",
         "xaxis": "x",
         "y": [
          0.0318840579710145,
          0.04036697247706422,
          0.04035087719298245,
          2.25,
          4,
          0.12121212121212122,
          2,
          3,
          0.75,
          0.75
         ],
         "y0": " ",
         "yaxis": "y"
        },
        {
         "alignmentgroup": "True",
         "box": {
          "visible": false
         },
         "hovertemplate": "Brand=ASUS<br>Satisfaction Score=%{y}<extra></extra>",
         "legendgroup": "ASUS",
         "marker": {
          "color": "#FFA15A"
         },
         "name": "ASUS",
         "offsetgroup": "ASUS",
         "orientation": "v",
         "scalegroup": "True",
         "showlegend": true,
         "type": "violin",
         "x0": " ",
         "xaxis": "x",
         "y": [
          0.2866666666666667,
          2.25,
          0.875,
          1,
          0.6571428571428571,
          4,
          0.3,
          1,
          0.8333333333333334,
          1.6666666666666667,
          0.11000000000000001,
          5,
          0.5
         ],
         "y0": " ",
         "yaxis": "y"
        },
        {
         "alignmentgroup": "True",
         "box": {
          "visible": false
         },
         "hovertemplate": "Brand=HP<br>Satisfaction Score=%{y}<extra></extra>",
         "legendgroup": "HP",
         "marker": {
          "color": "#19d3f3"
         },
         "name": "HP",
         "offsetgroup": "HP",
         "orientation": "v",
         "scalegroup": "True",
         "showlegend": true,
         "type": "violin",
         "x0": " ",
         "xaxis": "x",
         "y": [
          0.15833333333333333,
          5,
          2.5,
          0.10476190476190476,
          1.4333333333333333,
          1,
          0.6799999999999999,
          0.23684210526315788,
          0.8,
          1.5666666666666667,
          1.5666666666666667,
          0.6142857142857142,
          0.72,
          5,
          0.12058823529411763,
          4,
          5,
          0.3,
          5,
          0.12580645161290321,
          0.20952380952380953,
          0.0014308943089430895,
          2.5,
          0.825
         ],
         "y0": " ",
         "yaxis": "y"
        },
        {
         "alignmentgroup": "True",
         "box": {
          "visible": false
         },
         "hovertemplate": "Brand=Dell<br>Satisfaction Score=%{y}<extra></extra>",
         "legendgroup": "Dell",
         "marker": {
          "color": "#FF6692"
         },
         "name": "Dell",
         "offsetgroup": "Dell",
         "orientation": "v",
         "scalegroup": "True",
         "showlegend": true,
         "type": "violin",
         "x0": " ",
         "xaxis": "x",
         "y": [
          0.8333333333333334,
          0.4444444444444444,
          0.34615384615384615,
          0.44000000000000006,
          2.5,
          1.5666666666666667,
          0.75,
          0.39999999999999997,
          5,
          2.5,
          0.26666666666666666,
          5,
          1.25,
          1,
          5,
          1,
          0.09999999999999999,
          0.42857142857142855,
          4,
          1.5,
          1.0999999999999999,
          0.5142857142857143,
          1,
          0.35833333333333334,
          5,
          5,
          5,
          1.6666666666666667
         ],
         "y0": " ",
         "yaxis": "y"
        },
        {
         "alignmentgroup": "True",
         "box": {
          "visible": false
         },
         "hovertemplate": "Brand=GIGABYTE<br>Satisfaction Score=%{y}<extra></extra>",
         "legendgroup": "GIGABYTE",
         "marker": {
          "color": "#B6E880"
         },
         "name": "GIGABYTE",
         "offsetgroup": "GIGABYTE",
         "orientation": "v",
         "scalegroup": "True",
         "showlegend": true,
         "type": "violin",
         "x0": " ",
         "xaxis": "x",
         "y": [
          1.6666666666666667
         ],
         "y0": " ",
         "yaxis": "y"
        },
        {
         "alignmentgroup": "True",
         "box": {
          "visible": false
         },
         "hovertemplate": "Brand=Samsung<br>Satisfaction Score=%{y}<extra></extra>",
         "legendgroup": "Samsung",
         "marker": {
          "color": "#FF97FF"
         },
         "name": "Samsung",
         "offsetgroup": "Samsung",
         "orientation": "v",
         "scalegroup": "True",
         "showlegend": true,
         "type": "violin",
         "x0": " ",
         "xaxis": "x",
         "y": [
          0.34285714285714286,
          0.5599999999999999
         ],
         "y0": " ",
         "yaxis": "y"
        }
       ],
       "layout": {
        "legend": {
         "title": {
          "text": "Brand"
         },
         "tracegroupgap": 0
        },
        "margin": {
         "t": 60
        },
        "template": {
         "data": {
          "bar": [
           {
            "error_x": {
             "color": "#2a3f5f"
            },
            "error_y": {
             "color": "#2a3f5f"
            },
            "marker": {
             "line": {
              "color": "#E5ECF6",
              "width": 0.5
             },
             "pattern": {
              "fillmode": "overlay",
              "size": 10,
              "solidity": 0.2
             }
            },
            "type": "bar"
           }
          ],
          "barpolar": [
           {
            "marker": {
             "line": {
              "color": "#E5ECF6",
              "width": 0.5
             },
             "pattern": {
              "fillmode": "overlay",
              "size": 10,
              "solidity": 0.2
             }
            },
            "type": "barpolar"
           }
          ],
          "carpet": [
           {
            "aaxis": {
             "endlinecolor": "#2a3f5f",
             "gridcolor": "white",
             "linecolor": "white",
             "minorgridcolor": "white",
             "startlinecolor": "#2a3f5f"
            },
            "baxis": {
             "endlinecolor": "#2a3f5f",
             "gridcolor": "white",
             "linecolor": "white",
             "minorgridcolor": "white",
             "startlinecolor": "#2a3f5f"
            },
            "type": "carpet"
           }
          ],
          "choropleth": [
           {
            "colorbar": {
             "outlinewidth": 0,
             "ticks": ""
            },
            "type": "choropleth"
           }
          ],
          "contour": [
           {
            "colorbar": {
             "outlinewidth": 0,
             "ticks": ""
            },
            "colorscale": [
             [
              0,
              "#0d0887"
             ],
             [
              0.1111111111111111,
              "#46039f"
             ],
             [
              0.2222222222222222,
              "#7201a8"
             ],
             [
              0.3333333333333333,
              "#9c179e"
             ],
             [
              0.4444444444444444,
              "#bd3786"
             ],
             [
              0.5555555555555556,
              "#d8576b"
             ],
             [
              0.6666666666666666,
              "#ed7953"
             ],
             [
              0.7777777777777778,
              "#fb9f3a"
             ],
             [
              0.8888888888888888,
              "#fdca26"
             ],
             [
              1,
              "#f0f921"
             ]
            ],
            "type": "contour"
           }
          ],
          "contourcarpet": [
           {
            "colorbar": {
             "outlinewidth": 0,
             "ticks": ""
            },
            "type": "contourcarpet"
           }
          ],
          "heatmap": [
           {
            "colorbar": {
             "outlinewidth": 0,
             "ticks": ""
            },
            "colorscale": [
             [
              0,
              "#0d0887"
             ],
             [
              0.1111111111111111,
              "#46039f"
             ],
             [
              0.2222222222222222,
              "#7201a8"
             ],
             [
              0.3333333333333333,
              "#9c179e"
             ],
             [
              0.4444444444444444,
              "#bd3786"
             ],
             [
              0.5555555555555556,
              "#d8576b"
             ],
             [
              0.6666666666666666,
              "#ed7953"
             ],
             [
              0.7777777777777778,
              "#fb9f3a"
             ],
             [
              0.8888888888888888,
              "#fdca26"
             ],
             [
              1,
              "#f0f921"
             ]
            ],
            "type": "heatmap"
           }
          ],
          "heatmapgl": [
           {
            "colorbar": {
             "outlinewidth": 0,
             "ticks": ""
            },
            "colorscale": [
             [
              0,
              "#0d0887"
             ],
             [
              0.1111111111111111,
              "#46039f"
             ],
             [
              0.2222222222222222,
              "#7201a8"
             ],
             [
              0.3333333333333333,
              "#9c179e"
             ],
             [
              0.4444444444444444,
              "#bd3786"
             ],
             [
              0.5555555555555556,
              "#d8576b"
             ],
             [
              0.6666666666666666,
              "#ed7953"
             ],
             [
              0.7777777777777778,
              "#fb9f3a"
             ],
             [
              0.8888888888888888,
              "#fdca26"
             ],
             [
              1,
              "#f0f921"
             ]
            ],
            "type": "heatmapgl"
           }
          ],
          "histogram": [
           {
            "marker": {
             "pattern": {
              "fillmode": "overlay",
              "size": 10,
              "solidity": 0.2
             }
            },
            "type": "histogram"
           }
          ],
          "histogram2d": [
           {
            "colorbar": {
             "outlinewidth": 0,
             "ticks": ""
            },
            "colorscale": [
             [
              0,
              "#0d0887"
             ],
             [
              0.1111111111111111,
              "#46039f"
             ],
             [
              0.2222222222222222,
              "#7201a8"
             ],
             [
              0.3333333333333333,
              "#9c179e"
             ],
             [
              0.4444444444444444,
              "#bd3786"
             ],
             [
              0.5555555555555556,
              "#d8576b"
             ],
             [
              0.6666666666666666,
              "#ed7953"
             ],
             [
              0.7777777777777778,
              "#fb9f3a"
             ],
             [
              0.8888888888888888,
              "#fdca26"
             ],
             [
              1,
              "#f0f921"
             ]
            ],
            "type": "histogram2d"
           }
          ],
          "histogram2dcontour": [
           {
            "colorbar": {
             "outlinewidth": 0,
             "ticks": ""
            },
            "colorscale": [
             [
              0,
              "#0d0887"
             ],
             [
              0.1111111111111111,
              "#46039f"
             ],
             [
              0.2222222222222222,
              "#7201a8"
             ],
             [
              0.3333333333333333,
              "#9c179e"
             ],
             [
              0.4444444444444444,
              "#bd3786"
             ],
             [
              0.5555555555555556,
              "#d8576b"
             ],
             [
              0.6666666666666666,
              "#ed7953"
             ],
             [
              0.7777777777777778,
              "#fb9f3a"
             ],
             [
              0.8888888888888888,
              "#fdca26"
             ],
             [
              1,
              "#f0f921"
             ]
            ],
            "type": "histogram2dcontour"
           }
          ],
          "mesh3d": [
           {
            "colorbar": {
             "outlinewidth": 0,
             "ticks": ""
            },
            "type": "mesh3d"
           }
          ],
          "parcoords": [
           {
            "line": {
             "colorbar": {
              "outlinewidth": 0,
              "ticks": ""
             }
            },
            "type": "parcoords"
           }
          ],
          "pie": [
           {
            "automargin": true,
            "type": "pie"
           }
          ],
          "scatter": [
           {
            "fillpattern": {
             "fillmode": "overlay",
             "size": 10,
             "solidity": 0.2
            },
            "type": "scatter"
           }
          ],
          "scatter3d": [
           {
            "line": {
             "colorbar": {
              "outlinewidth": 0,
              "ticks": ""
             }
            },
            "marker": {
             "colorbar": {
              "outlinewidth": 0,
              "ticks": ""
             }
            },
            "type": "scatter3d"
           }
          ],
          "scattercarpet": [
           {
            "marker": {
             "colorbar": {
              "outlinewidth": 0,
              "ticks": ""
             }
            },
            "type": "scattercarpet"
           }
          ],
          "scattergeo": [
           {
            "marker": {
             "colorbar": {
              "outlinewidth": 0,
              "ticks": ""
             }
            },
            "type": "scattergeo"
           }
          ],
          "scattergl": [
           {
            "marker": {
             "colorbar": {
              "outlinewidth": 0,
              "ticks": ""
             }
            },
            "type": "scattergl"
           }
          ],
          "scattermapbox": [
           {
            "marker": {
             "colorbar": {
              "outlinewidth": 0,
              "ticks": ""
             }
            },
            "type": "scattermapbox"
           }
          ],
          "scatterpolar": [
           {
            "marker": {
             "colorbar": {
              "outlinewidth": 0,
              "ticks": ""
             }
            },
            "type": "scatterpolar"
           }
          ],
          "scatterpolargl": [
           {
            "marker": {
             "colorbar": {
              "outlinewidth": 0,
              "ticks": ""
             }
            },
            "type": "scatterpolargl"
           }
          ],
          "scatterternary": [
           {
            "marker": {
             "colorbar": {
              "outlinewidth": 0,
              "ticks": ""
             }
            },
            "type": "scatterternary"
           }
          ],
          "surface": [
           {
            "colorbar": {
             "outlinewidth": 0,
             "ticks": ""
            },
            "colorscale": [
             [
              0,
              "#0d0887"
             ],
             [
              0.1111111111111111,
              "#46039f"
             ],
             [
              0.2222222222222222,
              "#7201a8"
             ],
             [
              0.3333333333333333,
              "#9c179e"
             ],
             [
              0.4444444444444444,
              "#bd3786"
             ],
             [
              0.5555555555555556,
              "#d8576b"
             ],
             [
              0.6666666666666666,
              "#ed7953"
             ],
             [
              0.7777777777777778,
              "#fb9f3a"
             ],
             [
              0.8888888888888888,
              "#fdca26"
             ],
             [
              1,
              "#f0f921"
             ]
            ],
            "type": "surface"
           }
          ],
          "table": [
           {
            "cells": {
             "fill": {
              "color": "#EBF0F8"
             },
             "line": {
              "color": "white"
             }
            },
            "header": {
             "fill": {
              "color": "#C8D4E3"
             },
             "line": {
              "color": "white"
             }
            },
            "type": "table"
           }
          ]
         },
         "layout": {
          "annotationdefaults": {
           "arrowcolor": "#2a3f5f",
           "arrowhead": 0,
           "arrowwidth": 1
          },
          "autotypenumbers": "strict",
          "coloraxis": {
           "colorbar": {
            "outlinewidth": 0,
            "ticks": ""
           }
          },
          "colorscale": {
           "diverging": [
            [
             0,
             "#8e0152"
            ],
            [
             0.1,
             "#c51b7d"
            ],
            [
             0.2,
             "#de77ae"
            ],
            [
             0.3,
             "#f1b6da"
            ],
            [
             0.4,
             "#fde0ef"
            ],
            [
             0.5,
             "#f7f7f7"
            ],
            [
             0.6,
             "#e6f5d0"
            ],
            [
             0.7,
             "#b8e186"
            ],
            [
             0.8,
             "#7fbc41"
            ],
            [
             0.9,
             "#4d9221"
            ],
            [
             1,
             "#276419"
            ]
           ],
           "sequential": [
            [
             0,
             "#0d0887"
            ],
            [
             0.1111111111111111,
             "#46039f"
            ],
            [
             0.2222222222222222,
             "#7201a8"
            ],
            [
             0.3333333333333333,
             "#9c179e"
            ],
            [
             0.4444444444444444,
             "#bd3786"
            ],
            [
             0.5555555555555556,
             "#d8576b"
            ],
            [
             0.6666666666666666,
             "#ed7953"
            ],
            [
             0.7777777777777778,
             "#fb9f3a"
            ],
            [
             0.8888888888888888,
             "#fdca26"
            ],
            [
             1,
             "#f0f921"
            ]
           ],
           "sequentialminus": [
            [
             0,
             "#0d0887"
            ],
            [
             0.1111111111111111,
             "#46039f"
            ],
            [
             0.2222222222222222,
             "#7201a8"
            ],
            [
             0.3333333333333333,
             "#9c179e"
            ],
            [
             0.4444444444444444,
             "#bd3786"
            ],
            [
             0.5555555555555556,
             "#d8576b"
            ],
            [
             0.6666666666666666,
             "#ed7953"
            ],
            [
             0.7777777777777778,
             "#fb9f3a"
            ],
            [
             0.8888888888888888,
             "#fdca26"
            ],
            [
             1,
             "#f0f921"
            ]
           ]
          },
          "colorway": [
           "#636efa",
           "#EF553B",
           "#00cc96",
           "#ab63fa",
           "#FFA15A",
           "#19d3f3",
           "#FF6692",
           "#B6E880",
           "#FF97FF",
           "#FECB52"
          ],
          "font": {
           "color": "#2a3f5f"
          },
          "geo": {
           "bgcolor": "white",
           "lakecolor": "white",
           "landcolor": "#E5ECF6",
           "showlakes": true,
           "showland": true,
           "subunitcolor": "white"
          },
          "hoverlabel": {
           "align": "left"
          },
          "hovermode": "closest",
          "mapbox": {
           "style": "light"
          },
          "paper_bgcolor": "white",
          "plot_bgcolor": "#E5ECF6",
          "polar": {
           "angularaxis": {
            "gridcolor": "white",
            "linecolor": "white",
            "ticks": ""
           },
           "bgcolor": "#E5ECF6",
           "radialaxis": {
            "gridcolor": "white",
            "linecolor": "white",
            "ticks": ""
           }
          },
          "scene": {
           "xaxis": {
            "backgroundcolor": "#E5ECF6",
            "gridcolor": "white",
            "gridwidth": 2,
            "linecolor": "white",
            "showbackground": true,
            "ticks": "",
            "zerolinecolor": "white"
           },
           "yaxis": {
            "backgroundcolor": "#E5ECF6",
            "gridcolor": "white",
            "gridwidth": 2,
            "linecolor": "white",
            "showbackground": true,
            "ticks": "",
            "zerolinecolor": "white"
           },
           "zaxis": {
            "backgroundcolor": "#E5ECF6",
            "gridcolor": "white",
            "gridwidth": 2,
            "linecolor": "white",
            "showbackground": true,
            "ticks": "",
            "zerolinecolor": "white"
           }
          },
          "shapedefaults": {
           "line": {
            "color": "#2a3f5f"
           }
          },
          "ternary": {
           "aaxis": {
            "gridcolor": "white",
            "linecolor": "white",
            "ticks": ""
           },
           "baxis": {
            "gridcolor": "white",
            "linecolor": "white",
            "ticks": ""
           },
           "bgcolor": "#E5ECF6",
           "caxis": {
            "gridcolor": "white",
            "linecolor": "white",
            "ticks": ""
           }
          },
          "title": {
           "x": 0.05
          },
          "xaxis": {
           "automargin": true,
           "gridcolor": "white",
           "linecolor": "white",
           "ticks": "",
           "title": {
            "standoff": 15
           },
           "zerolinecolor": "white",
           "zerolinewidth": 2
          },
          "yaxis": {
           "automargin": true,
           "gridcolor": "white",
           "linecolor": "white",
           "ticks": "",
           "title": {
            "standoff": 15
           },
           "zerolinecolor": "white",
           "zerolinewidth": 2
          }
         }
        },
        "violinmode": "group",
        "xaxis": {
         "anchor": "y",
         "domain": [
          0,
          1
         ]
        },
        "yaxis": {
         "anchor": "x",
         "domain": [
          0,
          1
         ],
         "title": {
          "text": "Satisfaction Score"
         }
        }
       }
      },
      "text/html": [
       "<div>                            <div id=\"bab95391-325e-45aa-89bb-eb7826ceaa49\" class=\"plotly-graph-div\" style=\"height:525px; width:100%;\"></div>            <script type=\"text/javascript\">                require([\"plotly\"], function(Plotly) {                    window.PLOTLYENV=window.PLOTLYENV || {};                                    if (document.getElementById(\"bab95391-325e-45aa-89bb-eb7826ceaa49\")) {                    Plotly.newPlot(                        \"bab95391-325e-45aa-89bb-eb7826ceaa49\",                        [{\"alignmentgroup\":\"True\",\"box\":{\"visible\":false},\"hovertemplate\":\"Brand=Acer\\u003cbr\\u003eSatisfaction Score=%{y}\\u003cextra\\u003e\\u003c\\u002fextra\\u003e\",\"legendgroup\":\"Acer\",\"marker\":{\"color\":\"#636efa\"},\"name\":\"Acer\",\"offsetgroup\":\"Acer\",\"orientation\":\"v\",\"scalegroup\":\"True\",\"showlegend\":true,\"x0\":\" \",\"xaxis\":\"x\",\"y\":[0.013411078717201165,0.006105834464043419,0.03428571428571429,0.048314606741573035,5.0,2.25,5.0,2.5,0.2375,1.5,4.0,5.0,1.5,1.4333333333333333,0.7000000000000001,5.0,4.0],\"y0\":\" \",\"yaxis\":\"y\",\"type\":\"violin\"},{\"alignmentgroup\":\"True\",\"box\":{\"visible\":false},\"hovertemplate\":\"Brand=Microsoft\\u003cbr\\u003eSatisfaction Score=%{y}\\u003cextra\\u003e\\u003c\\u002fextra\\u003e\",\"legendgroup\":\"Microsoft\",\"marker\":{\"color\":\"#EF553B\"},\"name\":\"Microsoft\",\"offsetgroup\":\"Microsoft\",\"orientation\":\"v\",\"scalegroup\":\"True\",\"showlegend\":true,\"x0\":\" \",\"xaxis\":\"x\",\"y\":[0.009284332688588007,0.009284332688588007,0.48888888888888893,0.00717557251908397,1.2,1.6666666666666667,0.23500000000000001,0.72,5.0,1.0,0.6142857142857142,2.0],\"y0\":\" \",\"yaxis\":\"y\",\"type\":\"violin\"},{\"alignmentgroup\":\"True\",\"box\":{\"visible\":false},\"hovertemplate\":\"Brand=Lenovo\\u003cbr\\u003eSatisfaction Score=%{y}\\u003cextra\\u003e\\u003c\\u002fextra\\u003e\",\"legendgroup\":\"Lenovo\",\"marker\":{\"color\":\"#00cc96\"},\"name\":\"Lenovo\",\"offsetgroup\":\"Lenovo\",\"orientation\":\"v\",\"scalegroup\":\"True\",\"showlegend\":true,\"x0\":\" \",\"xaxis\":\"x\",\"y\":[2.5,0.9199999999999999,1.2,1.5,1.125,2.5,1.5666666666666667,1.75,0.11470588235294117,0.2,0.31666666666666665,0.2157894736842105,4.0,5.0,0.36153846153846153,1.4333333333333333,5.0,5.0,1.3333333333333333,5.0,2.25,2.0,0.15416666666666667,5.0,5.0],\"y0\":\" \",\"yaxis\":\"y\",\"type\":\"violin\"},{\"alignmentgroup\":\"True\",\"box\":{\"visible\":false},\"hovertemplate\":\"Brand=MSI\\u003cbr\\u003eSatisfaction Score=%{y}\\u003cextra\\u003e\\u003c\\u002fextra\\u003e\",\"legendgroup\":\"MSI\",\"marker\":{\"color\":\"#ab63fa\"},\"name\":\"MSI\",\"offsetgroup\":\"MSI\",\"orientation\":\"v\",\"scalegroup\":\"True\",\"showlegend\":true,\"x0\":\" \",\"xaxis\":\"x\",\"y\":[0.0318840579710145,0.04036697247706422,0.04035087719298245,2.25,4.0,0.12121212121212122,2.0,3.0,0.75,0.75],\"y0\":\" \",\"yaxis\":\"y\",\"type\":\"violin\"},{\"alignmentgroup\":\"True\",\"box\":{\"visible\":false},\"hovertemplate\":\"Brand=ASUS\\u003cbr\\u003eSatisfaction Score=%{y}\\u003cextra\\u003e\\u003c\\u002fextra\\u003e\",\"legendgroup\":\"ASUS\",\"marker\":{\"color\":\"#FFA15A\"},\"name\":\"ASUS\",\"offsetgroup\":\"ASUS\",\"orientation\":\"v\",\"scalegroup\":\"True\",\"showlegend\":true,\"x0\":\" \",\"xaxis\":\"x\",\"y\":[0.2866666666666667,2.25,0.875,1.0,0.6571428571428571,4.0,0.3,1.0,0.8333333333333334,1.6666666666666667,0.11000000000000001,5.0,0.5],\"y0\":\" \",\"yaxis\":\"y\",\"type\":\"violin\"},{\"alignmentgroup\":\"True\",\"box\":{\"visible\":false},\"hovertemplate\":\"Brand=HP\\u003cbr\\u003eSatisfaction Score=%{y}\\u003cextra\\u003e\\u003c\\u002fextra\\u003e\",\"legendgroup\":\"HP\",\"marker\":{\"color\":\"#19d3f3\"},\"name\":\"HP\",\"offsetgroup\":\"HP\",\"orientation\":\"v\",\"scalegroup\":\"True\",\"showlegend\":true,\"x0\":\" \",\"xaxis\":\"x\",\"y\":[0.15833333333333333,5.0,2.5,0.10476190476190476,1.4333333333333333,1.0,0.6799999999999999,0.23684210526315788,0.8,1.5666666666666667,1.5666666666666667,0.6142857142857142,0.72,5.0,0.12058823529411763,4.0,5.0,0.3,5.0,0.12580645161290321,0.20952380952380953,0.0014308943089430895,2.5,0.825],\"y0\":\" \",\"yaxis\":\"y\",\"type\":\"violin\"},{\"alignmentgroup\":\"True\",\"box\":{\"visible\":false},\"hovertemplate\":\"Brand=Dell\\u003cbr\\u003eSatisfaction Score=%{y}\\u003cextra\\u003e\\u003c\\u002fextra\\u003e\",\"legendgroup\":\"Dell\",\"marker\":{\"color\":\"#FF6692\"},\"name\":\"Dell\",\"offsetgroup\":\"Dell\",\"orientation\":\"v\",\"scalegroup\":\"True\",\"showlegend\":true,\"x0\":\" \",\"xaxis\":\"x\",\"y\":[0.8333333333333334,0.4444444444444444,0.34615384615384615,0.44000000000000006,2.5,1.5666666666666667,0.75,0.39999999999999997,5.0,2.5,0.26666666666666666,5.0,1.25,1.0,5.0,1.0,0.09999999999999999,0.42857142857142855,4.0,1.5,1.0999999999999999,0.5142857142857143,1.0,0.35833333333333334,5.0,5.0,5.0,1.6666666666666667],\"y0\":\" \",\"yaxis\":\"y\",\"type\":\"violin\"},{\"alignmentgroup\":\"True\",\"box\":{\"visible\":false},\"hovertemplate\":\"Brand=GIGABYTE\\u003cbr\\u003eSatisfaction Score=%{y}\\u003cextra\\u003e\\u003c\\u002fextra\\u003e\",\"legendgroup\":\"GIGABYTE\",\"marker\":{\"color\":\"#B6E880\"},\"name\":\"GIGABYTE\",\"offsetgroup\":\"GIGABYTE\",\"orientation\":\"v\",\"scalegroup\":\"True\",\"showlegend\":true,\"x0\":\" \",\"xaxis\":\"x\",\"y\":[1.6666666666666667],\"y0\":\" \",\"yaxis\":\"y\",\"type\":\"violin\"},{\"alignmentgroup\":\"True\",\"box\":{\"visible\":false},\"hovertemplate\":\"Brand=Samsung\\u003cbr\\u003eSatisfaction Score=%{y}\\u003cextra\\u003e\\u003c\\u002fextra\\u003e\",\"legendgroup\":\"Samsung\",\"marker\":{\"color\":\"#FF97FF\"},\"name\":\"Samsung\",\"offsetgroup\":\"Samsung\",\"orientation\":\"v\",\"scalegroup\":\"True\",\"showlegend\":true,\"x0\":\" \",\"xaxis\":\"x\",\"y\":[0.34285714285714286,0.5599999999999999],\"y0\":\" \",\"yaxis\":\"y\",\"type\":\"violin\"}],                        {\"template\":{\"data\":{\"histogram2dcontour\":[{\"type\":\"histogram2dcontour\",\"colorbar\":{\"outlinewidth\":0,\"ticks\":\"\"},\"colorscale\":[[0.0,\"#0d0887\"],[0.1111111111111111,\"#46039f\"],[0.2222222222222222,\"#7201a8\"],[0.3333333333333333,\"#9c179e\"],[0.4444444444444444,\"#bd3786\"],[0.5555555555555556,\"#d8576b\"],[0.6666666666666666,\"#ed7953\"],[0.7777777777777778,\"#fb9f3a\"],[0.8888888888888888,\"#fdca26\"],[1.0,\"#f0f921\"]]}],\"choropleth\":[{\"type\":\"choropleth\",\"colorbar\":{\"outlinewidth\":0,\"ticks\":\"\"}}],\"histogram2d\":[{\"type\":\"histogram2d\",\"colorbar\":{\"outlinewidth\":0,\"ticks\":\"\"},\"colorscale\":[[0.0,\"#0d0887\"],[0.1111111111111111,\"#46039f\"],[0.2222222222222222,\"#7201a8\"],[0.3333333333333333,\"#9c179e\"],[0.4444444444444444,\"#bd3786\"],[0.5555555555555556,\"#d8576b\"],[0.6666666666666666,\"#ed7953\"],[0.7777777777777778,\"#fb9f3a\"],[0.8888888888888888,\"#fdca26\"],[1.0,\"#f0f921\"]]}],\"heatmap\":[{\"type\":\"heatmap\",\"colorbar\":{\"outlinewidth\":0,\"ticks\":\"\"},\"colorscale\":[[0.0,\"#0d0887\"],[0.1111111111111111,\"#46039f\"],[0.2222222222222222,\"#7201a8\"],[0.3333333333333333,\"#9c179e\"],[0.4444444444444444,\"#bd3786\"],[0.5555555555555556,\"#d8576b\"],[0.6666666666666666,\"#ed7953\"],[0.7777777777777778,\"#fb9f3a\"],[0.8888888888888888,\"#fdca26\"],[1.0,\"#f0f921\"]]}],\"heatmapgl\":[{\"type\":\"heatmapgl\",\"colorbar\":{\"outlinewidth\":0,\"ticks\":\"\"},\"colorscale\":[[0.0,\"#0d0887\"],[0.1111111111111111,\"#46039f\"],[0.2222222222222222,\"#7201a8\"],[0.3333333333333333,\"#9c179e\"],[0.4444444444444444,\"#bd3786\"],[0.5555555555555556,\"#d8576b\"],[0.6666666666666666,\"#ed7953\"],[0.7777777777777778,\"#fb9f3a\"],[0.8888888888888888,\"#fdca26\"],[1.0,\"#f0f921\"]]}],\"contourcarpet\":[{\"type\":\"contourcarpet\",\"colorbar\":{\"outlinewidth\":0,\"ticks\":\"\"}}],\"contour\":[{\"type\":\"contour\",\"colorbar\":{\"outlinewidth\":0,\"ticks\":\"\"},\"colorscale\":[[0.0,\"#0d0887\"],[0.1111111111111111,\"#46039f\"],[0.2222222222222222,\"#7201a8\"],[0.3333333333333333,\"#9c179e\"],[0.4444444444444444,\"#bd3786\"],[0.5555555555555556,\"#d8576b\"],[0.6666666666666666,\"#ed7953\"],[0.7777777777777778,\"#fb9f3a\"],[0.8888888888888888,\"#fdca26\"],[1.0,\"#f0f921\"]]}],\"surface\":[{\"type\":\"surface\",\"colorbar\":{\"outlinewidth\":0,\"ticks\":\"\"},\"colorscale\":[[0.0,\"#0d0887\"],[0.1111111111111111,\"#46039f\"],[0.2222222222222222,\"#7201a8\"],[0.3333333333333333,\"#9c179e\"],[0.4444444444444444,\"#bd3786\"],[0.5555555555555556,\"#d8576b\"],[0.6666666666666666,\"#ed7953\"],[0.7777777777777778,\"#fb9f3a\"],[0.8888888888888888,\"#fdca26\"],[1.0,\"#f0f921\"]]}],\"mesh3d\":[{\"type\":\"mesh3d\",\"colorbar\":{\"outlinewidth\":0,\"ticks\":\"\"}}],\"scatter\":[{\"fillpattern\":{\"fillmode\":\"overlay\",\"size\":10,\"solidity\":0.2},\"type\":\"scatter\"}],\"parcoords\":[{\"type\":\"parcoords\",\"line\":{\"colorbar\":{\"outlinewidth\":0,\"ticks\":\"\"}}}],\"scatterpolargl\":[{\"type\":\"scatterpolargl\",\"marker\":{\"colorbar\":{\"outlinewidth\":0,\"ticks\":\"\"}}}],\"bar\":[{\"error_x\":{\"color\":\"#2a3f5f\"},\"error_y\":{\"color\":\"#2a3f5f\"},\"marker\":{\"line\":{\"color\":\"#E5ECF6\",\"width\":0.5},\"pattern\":{\"fillmode\":\"overlay\",\"size\":10,\"solidity\":0.2}},\"type\":\"bar\"}],\"scattergeo\":[{\"type\":\"scattergeo\",\"marker\":{\"colorbar\":{\"outlinewidth\":0,\"ticks\":\"\"}}}],\"scatterpolar\":[{\"type\":\"scatterpolar\",\"marker\":{\"colorbar\":{\"outlinewidth\":0,\"ticks\":\"\"}}}],\"histogram\":[{\"marker\":{\"pattern\":{\"fillmode\":\"overlay\",\"size\":10,\"solidity\":0.2}},\"type\":\"histogram\"}],\"scattergl\":[{\"type\":\"scattergl\",\"marker\":{\"colorbar\":{\"outlinewidth\":0,\"ticks\":\"\"}}}],\"scatter3d\":[{\"type\":\"scatter3d\",\"line\":{\"colorbar\":{\"outlinewidth\":0,\"ticks\":\"\"}},\"marker\":{\"colorbar\":{\"outlinewidth\":0,\"ticks\":\"\"}}}],\"scattermapbox\":[{\"type\":\"scattermapbox\",\"marker\":{\"colorbar\":{\"outlinewidth\":0,\"ticks\":\"\"}}}],\"scatterternary\":[{\"type\":\"scatterternary\",\"marker\":{\"colorbar\":{\"outlinewidth\":0,\"ticks\":\"\"}}}],\"scattercarpet\":[{\"type\":\"scattercarpet\",\"marker\":{\"colorbar\":{\"outlinewidth\":0,\"ticks\":\"\"}}}],\"carpet\":[{\"aaxis\":{\"endlinecolor\":\"#2a3f5f\",\"gridcolor\":\"white\",\"linecolor\":\"white\",\"minorgridcolor\":\"white\",\"startlinecolor\":\"#2a3f5f\"},\"baxis\":{\"endlinecolor\":\"#2a3f5f\",\"gridcolor\":\"white\",\"linecolor\":\"white\",\"minorgridcolor\":\"white\",\"startlinecolor\":\"#2a3f5f\"},\"type\":\"carpet\"}],\"table\":[{\"cells\":{\"fill\":{\"color\":\"#EBF0F8\"},\"line\":{\"color\":\"white\"}},\"header\":{\"fill\":{\"color\":\"#C8D4E3\"},\"line\":{\"color\":\"white\"}},\"type\":\"table\"}],\"barpolar\":[{\"marker\":{\"line\":{\"color\":\"#E5ECF6\",\"width\":0.5},\"pattern\":{\"fillmode\":\"overlay\",\"size\":10,\"solidity\":0.2}},\"type\":\"barpolar\"}],\"pie\":[{\"automargin\":true,\"type\":\"pie\"}]},\"layout\":{\"autotypenumbers\":\"strict\",\"colorway\":[\"#636efa\",\"#EF553B\",\"#00cc96\",\"#ab63fa\",\"#FFA15A\",\"#19d3f3\",\"#FF6692\",\"#B6E880\",\"#FF97FF\",\"#FECB52\"],\"font\":{\"color\":\"#2a3f5f\"},\"hovermode\":\"closest\",\"hoverlabel\":{\"align\":\"left\"},\"paper_bgcolor\":\"white\",\"plot_bgcolor\":\"#E5ECF6\",\"polar\":{\"bgcolor\":\"#E5ECF6\",\"angularaxis\":{\"gridcolor\":\"white\",\"linecolor\":\"white\",\"ticks\":\"\"},\"radialaxis\":{\"gridcolor\":\"white\",\"linecolor\":\"white\",\"ticks\":\"\"}},\"ternary\":{\"bgcolor\":\"#E5ECF6\",\"aaxis\":{\"gridcolor\":\"white\",\"linecolor\":\"white\",\"ticks\":\"\"},\"baxis\":{\"gridcolor\":\"white\",\"linecolor\":\"white\",\"ticks\":\"\"},\"caxis\":{\"gridcolor\":\"white\",\"linecolor\":\"white\",\"ticks\":\"\"}},\"coloraxis\":{\"colorbar\":{\"outlinewidth\":0,\"ticks\":\"\"}},\"colorscale\":{\"sequential\":[[0.0,\"#0d0887\"],[0.1111111111111111,\"#46039f\"],[0.2222222222222222,\"#7201a8\"],[0.3333333333333333,\"#9c179e\"],[0.4444444444444444,\"#bd3786\"],[0.5555555555555556,\"#d8576b\"],[0.6666666666666666,\"#ed7953\"],[0.7777777777777778,\"#fb9f3a\"],[0.8888888888888888,\"#fdca26\"],[1.0,\"#f0f921\"]],\"sequentialminus\":[[0.0,\"#0d0887\"],[0.1111111111111111,\"#46039f\"],[0.2222222222222222,\"#7201a8\"],[0.3333333333333333,\"#9c179e\"],[0.4444444444444444,\"#bd3786\"],[0.5555555555555556,\"#d8576b\"],[0.6666666666666666,\"#ed7953\"],[0.7777777777777778,\"#fb9f3a\"],[0.8888888888888888,\"#fdca26\"],[1.0,\"#f0f921\"]],\"diverging\":[[0,\"#8e0152\"],[0.1,\"#c51b7d\"],[0.2,\"#de77ae\"],[0.3,\"#f1b6da\"],[0.4,\"#fde0ef\"],[0.5,\"#f7f7f7\"],[0.6,\"#e6f5d0\"],[0.7,\"#b8e186\"],[0.8,\"#7fbc41\"],[0.9,\"#4d9221\"],[1,\"#276419\"]]},\"xaxis\":{\"gridcolor\":\"white\",\"linecolor\":\"white\",\"ticks\":\"\",\"title\":{\"standoff\":15},\"zerolinecolor\":\"white\",\"automargin\":true,\"zerolinewidth\":2},\"yaxis\":{\"gridcolor\":\"white\",\"linecolor\":\"white\",\"ticks\":\"\",\"title\":{\"standoff\":15},\"zerolinecolor\":\"white\",\"automargin\":true,\"zerolinewidth\":2},\"scene\":{\"xaxis\":{\"backgroundcolor\":\"#E5ECF6\",\"gridcolor\":\"white\",\"linecolor\":\"white\",\"showbackground\":true,\"ticks\":\"\",\"zerolinecolor\":\"white\",\"gridwidth\":2},\"yaxis\":{\"backgroundcolor\":\"#E5ECF6\",\"gridcolor\":\"white\",\"linecolor\":\"white\",\"showbackground\":true,\"ticks\":\"\",\"zerolinecolor\":\"white\",\"gridwidth\":2},\"zaxis\":{\"backgroundcolor\":\"#E5ECF6\",\"gridcolor\":\"white\",\"linecolor\":\"white\",\"showbackground\":true,\"ticks\":\"\",\"zerolinecolor\":\"white\",\"gridwidth\":2}},\"shapedefaults\":{\"line\":{\"color\":\"#2a3f5f\"}},\"annotationdefaults\":{\"arrowcolor\":\"#2a3f5f\",\"arrowhead\":0,\"arrowwidth\":1},\"geo\":{\"bgcolor\":\"white\",\"landcolor\":\"#E5ECF6\",\"subunitcolor\":\"white\",\"showland\":true,\"showlakes\":true,\"lakecolor\":\"white\"},\"title\":{\"x\":0.05},\"mapbox\":{\"style\":\"light\"}}},\"xaxis\":{\"anchor\":\"y\",\"domain\":[0.0,1.0]},\"yaxis\":{\"anchor\":\"x\",\"domain\":[0.0,1.0],\"title\":{\"text\":\"Satisfaction Score\"}},\"legend\":{\"title\":{\"text\":\"Brand\"},\"tracegroupgap\":0},\"margin\":{\"t\":60},\"violinmode\":\"group\"},                        {\"responsive\": true}                    ).then(function(){\n",
       "                            \n",
       "var gd = document.getElementById('bab95391-325e-45aa-89bb-eb7826ceaa49');\n",
       "var x = new MutationObserver(function (mutations, observer) {{\n",
       "        var display = window.getComputedStyle(gd).display;\n",
       "        if (!display || display === 'none') {{\n",
       "            console.log([gd, 'removed!']);\n",
       "            Plotly.purge(gd);\n",
       "            observer.disconnect();\n",
       "        }}\n",
       "}});\n",
       "\n",
       "// Listen for the removal of the full notebook cells\n",
       "var notebookContainer = gd.closest('#notebook-container');\n",
       "if (notebookContainer) {{\n",
       "    x.observe(notebookContainer, {childList: true});\n",
       "}}\n",
       "\n",
       "// Listen for the clearing of the current output cell\n",
       "var outputEl = gd.closest('.output');\n",
       "if (outputEl) {{\n",
       "    x.observe(outputEl, {childList: true});\n",
       "}}\n",
       "\n",
       "                        })                };                });            </script>        </div>"
      ]
     },
     "metadata": {},
     "output_type": "display_data"
    }
   ],
   "source": [
    "#violin plot\n",
    "violin_fig = px.violin(laptops_cleaned, y = \"Satisfaction Score\", color = \"Brand\")\n",
    "violin_fig.show()"
   ]
  },
  {
   "cell_type": "markdown",
   "id": "fcb924dc",
   "metadata": {},
   "source": [
    "The violin plot illustrates that there is a roughly even distribution of customer satisfaction across brands except for GIGABYTE and Samsung laptops.  These two brands have satisfaction scores of less than 2. "
   ]
  },
  {
   "cell_type": "code",
   "execution_count": 43,
   "id": "182fb5b8",
   "metadata": {},
   "outputs": [
    {
     "data": {
      "application/vnd.plotly.v1+json": {
       "config": {
        "plotlyServerURL": "https://plot.ly"
       },
       "data": [
        {
         "alignmentgroup": "True",
         "bingroup": "x",
         "histfunc": "sum",
         "histnorm": "probability density",
         "hovertemplate": "Brand=%{x}<br>probability density weighted by Satisfaction Score=%{y}<extra></extra>",
         "legendgroup": "",
         "marker": {
          "color": "#636efa",
          "pattern": {
           "shape": ""
          }
         },
         "name": "",
         "offsetgroup": "",
         "orientation": "v",
         "showlegend": false,
         "type": "histogram",
         "x": [
          "Acer",
          "Microsoft",
          "Microsoft",
          "Microsoft",
          "Lenovo",
          "Lenovo",
          "Microsoft",
          "Acer",
          "Lenovo",
          "MSI",
          "ASUS",
          "HP",
          "Acer",
          "Microsoft",
          "Acer",
          "MSI",
          "Lenovo",
          "HP",
          "Dell",
          "HP",
          "Dell",
          "Lenovo",
          "Lenovo",
          "Dell",
          "Dell",
          "Dell",
          "HP",
          "Dell",
          "MSI",
          "Microsoft",
          "Acer",
          "Lenovo",
          "Acer",
          "MSI",
          "Dell",
          "Dell",
          "HP",
          "HP",
          "Dell",
          "Lenovo",
          "GIGABYTE",
          "Lenovo",
          "Acer",
          "HP",
          "ASUS",
          "Dell",
          "Lenovo",
          "Lenovo",
          "Lenovo",
          "HP",
          "Lenovo",
          "MSI",
          "Acer",
          "Dell",
          "HP",
          "Dell",
          "HP",
          "HP",
          "Lenovo",
          "ASUS",
          "Lenovo",
          "Dell",
          "HP",
          "Dell",
          "Dell",
          "Lenovo",
          "Lenovo",
          "Microsoft",
          "HP",
          "Lenovo",
          "Samsung",
          "HP",
          "Lenovo",
          "HP",
          "HP",
          "ASUS",
          "Dell",
          "Lenovo",
          "Dell",
          "ASUS",
          "Microsoft",
          "Acer",
          "Acer",
          "Acer",
          "HP",
          "Dell",
          "ASUS",
          "HP",
          "Lenovo",
          "Microsoft",
          "Acer",
          "MSI",
          "HP",
          "Dell",
          "MSI",
          "ASUS",
          "ASUS",
          "Acer",
          "Dell",
          "ASUS",
          "ASUS",
          "MSI",
          "ASUS",
          "Dell",
          "Acer",
          "ASUS",
          "HP",
          "HP",
          "Microsoft",
          "Microsoft",
          "HP",
          "Dell",
          "Dell",
          "Dell",
          "Acer",
          "Samsung",
          "Acer",
          "HP",
          "MSI",
          "MSI",
          "Microsoft",
          "ASUS",
          "Dell",
          "Dell",
          "Lenovo",
          "Dell",
          "Acer",
          "Lenovo",
          "HP",
          "Dell",
          "Lenovo",
          "Lenovo"
         ],
         "xaxis": "x",
         "y": [
          0.013411078717201165,
          0.009284332688588007,
          0.009284332688588007,
          0.48888888888888893,
          2.5,
          0.9199999999999999,
          0.00717557251908397,
          0.006105834464043419,
          1.2,
          0.0318840579710145,
          0.2866666666666667,
          0.15833333333333333,
          0.03428571428571429,
          1.2,
          0.048314606741573035,
          0.04036697247706422,
          1.5,
          5,
          0.8333333333333334,
          2.5,
          0.4444444444444444,
          1.125,
          2.5,
          0.34615384615384615,
          0.44000000000000006,
          2.5,
          0.10476190476190476,
          1.5666666666666667,
          0.04035087719298245,
          1.6666666666666667,
          5,
          1.5666666666666667,
          2.25,
          2.25,
          0.75,
          0.39999999999999997,
          1.4333333333333333,
          1,
          5,
          1.75,
          1.6666666666666667,
          0.11470588235294117,
          5,
          0.6799999999999999,
          2.25,
          2.5,
          0.2,
          0.31666666666666665,
          0.2157894736842105,
          0.23684210526315788,
          4,
          4,
          2.5,
          0.26666666666666666,
          0.8,
          5,
          1.5666666666666667,
          1.5666666666666667,
          5,
          0.875,
          0.36153846153846153,
          1.25,
          0.6142857142857142,
          1,
          5,
          1.4333333333333333,
          5,
          0.23500000000000001,
          0.72,
          5,
          0.34285714285714286,
          5,
          1.3333333333333333,
          0.12058823529411763,
          4,
          1,
          1,
          5,
          0.09999999999999999,
          0.6571428571428571,
          0.72,
          0.2375,
          1.5,
          4,
          5,
          0.42857142857142855,
          4,
          0.3,
          2.25,
          5,
          5,
          0.12121212121212122,
          5,
          4,
          2,
          0.3,
          1,
          1.5,
          1.5,
          0.8333333333333334,
          1.6666666666666667,
          3,
          0.11000000000000001,
          1.0999999999999999,
          1.4333333333333333,
          5,
          0.12580645161290321,
          0.20952380952380953,
          1,
          0.6142857142857142,
          0.0014308943089430895,
          0.5142857142857143,
          1,
          0.35833333333333334,
          0.7000000000000001,
          0.5599999999999999,
          5,
          2.5,
          0.75,
          0.75,
          2,
          0.5,
          5,
          5,
          2,
          5,
          4,
          0.15416666666666667,
          0.825,
          1.6666666666666667,
          5,
          5
         ],
         "yaxis": "y"
        }
       ],
       "layout": {
        "barmode": "relative",
        "legend": {
         "tracegroupgap": 0
        },
        "template": {
         "data": {
          "bar": [
           {
            "error_x": {
             "color": "#2a3f5f"
            },
            "error_y": {
             "color": "#2a3f5f"
            },
            "marker": {
             "line": {
              "color": "#E5ECF6",
              "width": 0.5
             },
             "pattern": {
              "fillmode": "overlay",
              "size": 10,
              "solidity": 0.2
             }
            },
            "type": "bar"
           }
          ],
          "barpolar": [
           {
            "marker": {
             "line": {
              "color": "#E5ECF6",
              "width": 0.5
             },
             "pattern": {
              "fillmode": "overlay",
              "size": 10,
              "solidity": 0.2
             }
            },
            "type": "barpolar"
           }
          ],
          "carpet": [
           {
            "aaxis": {
             "endlinecolor": "#2a3f5f",
             "gridcolor": "white",
             "linecolor": "white",
             "minorgridcolor": "white",
             "startlinecolor": "#2a3f5f"
            },
            "baxis": {
             "endlinecolor": "#2a3f5f",
             "gridcolor": "white",
             "linecolor": "white",
             "minorgridcolor": "white",
             "startlinecolor": "#2a3f5f"
            },
            "type": "carpet"
           }
          ],
          "choropleth": [
           {
            "colorbar": {
             "outlinewidth": 0,
             "ticks": ""
            },
            "type": "choropleth"
           }
          ],
          "contour": [
           {
            "colorbar": {
             "outlinewidth": 0,
             "ticks": ""
            },
            "colorscale": [
             [
              0,
              "#0d0887"
             ],
             [
              0.1111111111111111,
              "#46039f"
             ],
             [
              0.2222222222222222,
              "#7201a8"
             ],
             [
              0.3333333333333333,
              "#9c179e"
             ],
             [
              0.4444444444444444,
              "#bd3786"
             ],
             [
              0.5555555555555556,
              "#d8576b"
             ],
             [
              0.6666666666666666,
              "#ed7953"
             ],
             [
              0.7777777777777778,
              "#fb9f3a"
             ],
             [
              0.8888888888888888,
              "#fdca26"
             ],
             [
              1,
              "#f0f921"
             ]
            ],
            "type": "contour"
           }
          ],
          "contourcarpet": [
           {
            "colorbar": {
             "outlinewidth": 0,
             "ticks": ""
            },
            "type": "contourcarpet"
           }
          ],
          "heatmap": [
           {
            "colorbar": {
             "outlinewidth": 0,
             "ticks": ""
            },
            "colorscale": [
             [
              0,
              "#0d0887"
             ],
             [
              0.1111111111111111,
              "#46039f"
             ],
             [
              0.2222222222222222,
              "#7201a8"
             ],
             [
              0.3333333333333333,
              "#9c179e"
             ],
             [
              0.4444444444444444,
              "#bd3786"
             ],
             [
              0.5555555555555556,
              "#d8576b"
             ],
             [
              0.6666666666666666,
              "#ed7953"
             ],
             [
              0.7777777777777778,
              "#fb9f3a"
             ],
             [
              0.8888888888888888,
              "#fdca26"
             ],
             [
              1,
              "#f0f921"
             ]
            ],
            "type": "heatmap"
           }
          ],
          "heatmapgl": [
           {
            "colorbar": {
             "outlinewidth": 0,
             "ticks": ""
            },
            "colorscale": [
             [
              0,
              "#0d0887"
             ],
             [
              0.1111111111111111,
              "#46039f"
             ],
             [
              0.2222222222222222,
              "#7201a8"
             ],
             [
              0.3333333333333333,
              "#9c179e"
             ],
             [
              0.4444444444444444,
              "#bd3786"
             ],
             [
              0.5555555555555556,
              "#d8576b"
             ],
             [
              0.6666666666666666,
              "#ed7953"
             ],
             [
              0.7777777777777778,
              "#fb9f3a"
             ],
             [
              0.8888888888888888,
              "#fdca26"
             ],
             [
              1,
              "#f0f921"
             ]
            ],
            "type": "heatmapgl"
           }
          ],
          "histogram": [
           {
            "marker": {
             "pattern": {
              "fillmode": "overlay",
              "size": 10,
              "solidity": 0.2
             }
            },
            "type": "histogram"
           }
          ],
          "histogram2d": [
           {
            "colorbar": {
             "outlinewidth": 0,
             "ticks": ""
            },
            "colorscale": [
             [
              0,
              "#0d0887"
             ],
             [
              0.1111111111111111,
              "#46039f"
             ],
             [
              0.2222222222222222,
              "#7201a8"
             ],
             [
              0.3333333333333333,
              "#9c179e"
             ],
             [
              0.4444444444444444,
              "#bd3786"
             ],
             [
              0.5555555555555556,
              "#d8576b"
             ],
             [
              0.6666666666666666,
              "#ed7953"
             ],
             [
              0.7777777777777778,
              "#fb9f3a"
             ],
             [
              0.8888888888888888,
              "#fdca26"
             ],
             [
              1,
              "#f0f921"
             ]
            ],
            "type": "histogram2d"
           }
          ],
          "histogram2dcontour": [
           {
            "colorbar": {
             "outlinewidth": 0,
             "ticks": ""
            },
            "colorscale": [
             [
              0,
              "#0d0887"
             ],
             [
              0.1111111111111111,
              "#46039f"
             ],
             [
              0.2222222222222222,
              "#7201a8"
             ],
             [
              0.3333333333333333,
              "#9c179e"
             ],
             [
              0.4444444444444444,
              "#bd3786"
             ],
             [
              0.5555555555555556,
              "#d8576b"
             ],
             [
              0.6666666666666666,
              "#ed7953"
             ],
             [
              0.7777777777777778,
              "#fb9f3a"
             ],
             [
              0.8888888888888888,
              "#fdca26"
             ],
             [
              1,
              "#f0f921"
             ]
            ],
            "type": "histogram2dcontour"
           }
          ],
          "mesh3d": [
           {
            "colorbar": {
             "outlinewidth": 0,
             "ticks": ""
            },
            "type": "mesh3d"
           }
          ],
          "parcoords": [
           {
            "line": {
             "colorbar": {
              "outlinewidth": 0,
              "ticks": ""
             }
            },
            "type": "parcoords"
           }
          ],
          "pie": [
           {
            "automargin": true,
            "type": "pie"
           }
          ],
          "scatter": [
           {
            "fillpattern": {
             "fillmode": "overlay",
             "size": 10,
             "solidity": 0.2
            },
            "type": "scatter"
           }
          ],
          "scatter3d": [
           {
            "line": {
             "colorbar": {
              "outlinewidth": 0,
              "ticks": ""
             }
            },
            "marker": {
             "colorbar": {
              "outlinewidth": 0,
              "ticks": ""
             }
            },
            "type": "scatter3d"
           }
          ],
          "scattercarpet": [
           {
            "marker": {
             "colorbar": {
              "outlinewidth": 0,
              "ticks": ""
             }
            },
            "type": "scattercarpet"
           }
          ],
          "scattergeo": [
           {
            "marker": {
             "colorbar": {
              "outlinewidth": 0,
              "ticks": ""
             }
            },
            "type": "scattergeo"
           }
          ],
          "scattergl": [
           {
            "marker": {
             "colorbar": {
              "outlinewidth": 0,
              "ticks": ""
             }
            },
            "type": "scattergl"
           }
          ],
          "scattermapbox": [
           {
            "marker": {
             "colorbar": {
              "outlinewidth": 0,
              "ticks": ""
             }
            },
            "type": "scattermapbox"
           }
          ],
          "scatterpolar": [
           {
            "marker": {
             "colorbar": {
              "outlinewidth": 0,
              "ticks": ""
             }
            },
            "type": "scatterpolar"
           }
          ],
          "scatterpolargl": [
           {
            "marker": {
             "colorbar": {
              "outlinewidth": 0,
              "ticks": ""
             }
            },
            "type": "scatterpolargl"
           }
          ],
          "scatterternary": [
           {
            "marker": {
             "colorbar": {
              "outlinewidth": 0,
              "ticks": ""
             }
            },
            "type": "scatterternary"
           }
          ],
          "surface": [
           {
            "colorbar": {
             "outlinewidth": 0,
             "ticks": ""
            },
            "colorscale": [
             [
              0,
              "#0d0887"
             ],
             [
              0.1111111111111111,
              "#46039f"
             ],
             [
              0.2222222222222222,
              "#7201a8"
             ],
             [
              0.3333333333333333,
              "#9c179e"
             ],
             [
              0.4444444444444444,
              "#bd3786"
             ],
             [
              0.5555555555555556,
              "#d8576b"
             ],
             [
              0.6666666666666666,
              "#ed7953"
             ],
             [
              0.7777777777777778,
              "#fb9f3a"
             ],
             [
              0.8888888888888888,
              "#fdca26"
             ],
             [
              1,
              "#f0f921"
             ]
            ],
            "type": "surface"
           }
          ],
          "table": [
           {
            "cells": {
             "fill": {
              "color": "#EBF0F8"
             },
             "line": {
              "color": "white"
             }
            },
            "header": {
             "fill": {
              "color": "#C8D4E3"
             },
             "line": {
              "color": "white"
             }
            },
            "type": "table"
           }
          ]
         },
         "layout": {
          "annotationdefaults": {
           "arrowcolor": "#2a3f5f",
           "arrowhead": 0,
           "arrowwidth": 1
          },
          "autotypenumbers": "strict",
          "coloraxis": {
           "colorbar": {
            "outlinewidth": 0,
            "ticks": ""
           }
          },
          "colorscale": {
           "diverging": [
            [
             0,
             "#8e0152"
            ],
            [
             0.1,
             "#c51b7d"
            ],
            [
             0.2,
             "#de77ae"
            ],
            [
             0.3,
             "#f1b6da"
            ],
            [
             0.4,
             "#fde0ef"
            ],
            [
             0.5,
             "#f7f7f7"
            ],
            [
             0.6,
             "#e6f5d0"
            ],
            [
             0.7,
             "#b8e186"
            ],
            [
             0.8,
             "#7fbc41"
            ],
            [
             0.9,
             "#4d9221"
            ],
            [
             1,
             "#276419"
            ]
           ],
           "sequential": [
            [
             0,
             "#0d0887"
            ],
            [
             0.1111111111111111,
             "#46039f"
            ],
            [
             0.2222222222222222,
             "#7201a8"
            ],
            [
             0.3333333333333333,
             "#9c179e"
            ],
            [
             0.4444444444444444,
             "#bd3786"
            ],
            [
             0.5555555555555556,
             "#d8576b"
            ],
            [
             0.6666666666666666,
             "#ed7953"
            ],
            [
             0.7777777777777778,
             "#fb9f3a"
            ],
            [
             0.8888888888888888,
             "#fdca26"
            ],
            [
             1,
             "#f0f921"
            ]
           ],
           "sequentialminus": [
            [
             0,
             "#0d0887"
            ],
            [
             0.1111111111111111,
             "#46039f"
            ],
            [
             0.2222222222222222,
             "#7201a8"
            ],
            [
             0.3333333333333333,
             "#9c179e"
            ],
            [
             0.4444444444444444,
             "#bd3786"
            ],
            [
             0.5555555555555556,
             "#d8576b"
            ],
            [
             0.6666666666666666,
             "#ed7953"
            ],
            [
             0.7777777777777778,
             "#fb9f3a"
            ],
            [
             0.8888888888888888,
             "#fdca26"
            ],
            [
             1,
             "#f0f921"
            ]
           ]
          },
          "colorway": [
           "#636efa",
           "#EF553B",
           "#00cc96",
           "#ab63fa",
           "#FFA15A",
           "#19d3f3",
           "#FF6692",
           "#B6E880",
           "#FF97FF",
           "#FECB52"
          ],
          "font": {
           "color": "#2a3f5f"
          },
          "geo": {
           "bgcolor": "white",
           "lakecolor": "white",
           "landcolor": "#E5ECF6",
           "showlakes": true,
           "showland": true,
           "subunitcolor": "white"
          },
          "hoverlabel": {
           "align": "left"
          },
          "hovermode": "closest",
          "mapbox": {
           "style": "light"
          },
          "paper_bgcolor": "white",
          "plot_bgcolor": "#E5ECF6",
          "polar": {
           "angularaxis": {
            "gridcolor": "white",
            "linecolor": "white",
            "ticks": ""
           },
           "bgcolor": "#E5ECF6",
           "radialaxis": {
            "gridcolor": "white",
            "linecolor": "white",
            "ticks": ""
           }
          },
          "scene": {
           "xaxis": {
            "backgroundcolor": "#E5ECF6",
            "gridcolor": "white",
            "gridwidth": 2,
            "linecolor": "white",
            "showbackground": true,
            "ticks": "",
            "zerolinecolor": "white"
           },
           "yaxis": {
            "backgroundcolor": "#E5ECF6",
            "gridcolor": "white",
            "gridwidth": 2,
            "linecolor": "white",
            "showbackground": true,
            "ticks": "",
            "zerolinecolor": "white"
           },
           "zaxis": {
            "backgroundcolor": "#E5ECF6",
            "gridcolor": "white",
            "gridwidth": 2,
            "linecolor": "white",
            "showbackground": true,
            "ticks": "",
            "zerolinecolor": "white"
           }
          },
          "shapedefaults": {
           "line": {
            "color": "#2a3f5f"
           }
          },
          "ternary": {
           "aaxis": {
            "gridcolor": "white",
            "linecolor": "white",
            "ticks": ""
           },
           "baxis": {
            "gridcolor": "white",
            "linecolor": "white",
            "ticks": ""
           },
           "bgcolor": "#E5ECF6",
           "caxis": {
            "gridcolor": "white",
            "linecolor": "white",
            "ticks": ""
           }
          },
          "title": {
           "x": 0.05
          },
          "xaxis": {
           "automargin": true,
           "gridcolor": "white",
           "linecolor": "white",
           "ticks": "",
           "title": {
            "standoff": 15
           },
           "zerolinecolor": "white",
           "zerolinewidth": 2
          },
          "yaxis": {
           "automargin": true,
           "gridcolor": "white",
           "linecolor": "white",
           "ticks": "",
           "title": {
            "standoff": 15
           },
           "zerolinecolor": "white",
           "zerolinewidth": 2
          }
         }
        },
        "title": {
         "text": "Distribution of Satisfaction Scores per Brands"
        },
        "xaxis": {
         "anchor": "y",
         "domain": [
          0,
          1
         ],
         "title": {
          "text": "Brand Name"
         }
        },
        "yaxis": {
         "anchor": "x",
         "domain": [
          0,
          1
         ],
         "title": {
          "text": "Satisfaction Score"
         }
        }
       }
      },
      "text/html": [
       "<div>                            <div id=\"2d017290-9c4e-4a89-ac46-75dd217ad651\" class=\"plotly-graph-div\" style=\"height:525px; width:100%;\"></div>            <script type=\"text/javascript\">                require([\"plotly\"], function(Plotly) {                    window.PLOTLYENV=window.PLOTLYENV || {};                                    if (document.getElementById(\"2d017290-9c4e-4a89-ac46-75dd217ad651\")) {                    Plotly.newPlot(                        \"2d017290-9c4e-4a89-ac46-75dd217ad651\",                        [{\"alignmentgroup\":\"True\",\"bingroup\":\"x\",\"histfunc\":\"sum\",\"histnorm\":\"probability density\",\"hovertemplate\":\"Brand=%{x}\\u003cbr\\u003eprobability density weighted by Satisfaction Score=%{y}\\u003cextra\\u003e\\u003c\\u002fextra\\u003e\",\"legendgroup\":\"\",\"marker\":{\"color\":\"#636efa\",\"pattern\":{\"shape\":\"\"}},\"name\":\"\",\"offsetgroup\":\"\",\"orientation\":\"v\",\"showlegend\":false,\"x\":[\"Acer\",\"Microsoft\",\"Microsoft\",\"Microsoft\",\"Lenovo\",\"Lenovo\",\"Microsoft\",\"Acer\",\"Lenovo\",\"MSI\",\"ASUS\",\"HP\",\"Acer\",\"Microsoft\",\"Acer\",\"MSI\",\"Lenovo\",\"HP\",\"Dell\",\"HP\",\"Dell\",\"Lenovo\",\"Lenovo\",\"Dell\",\"Dell\",\"Dell\",\"HP\",\"Dell\",\"MSI\",\"Microsoft\",\"Acer\",\"Lenovo\",\"Acer\",\"MSI\",\"Dell\",\"Dell\",\"HP\",\"HP\",\"Dell\",\"Lenovo\",\"GIGABYTE\",\"Lenovo\",\"Acer\",\"HP\",\"ASUS\",\"Dell\",\"Lenovo\",\"Lenovo\",\"Lenovo\",\"HP\",\"Lenovo\",\"MSI\",\"Acer\",\"Dell\",\"HP\",\"Dell\",\"HP\",\"HP\",\"Lenovo\",\"ASUS\",\"Lenovo\",\"Dell\",\"HP\",\"Dell\",\"Dell\",\"Lenovo\",\"Lenovo\",\"Microsoft\",\"HP\",\"Lenovo\",\"Samsung\",\"HP\",\"Lenovo\",\"HP\",\"HP\",\"ASUS\",\"Dell\",\"Lenovo\",\"Dell\",\"ASUS\",\"Microsoft\",\"Acer\",\"Acer\",\"Acer\",\"HP\",\"Dell\",\"ASUS\",\"HP\",\"Lenovo\",\"Microsoft\",\"Acer\",\"MSI\",\"HP\",\"Dell\",\"MSI\",\"ASUS\",\"ASUS\",\"Acer\",\"Dell\",\"ASUS\",\"ASUS\",\"MSI\",\"ASUS\",\"Dell\",\"Acer\",\"ASUS\",\"HP\",\"HP\",\"Microsoft\",\"Microsoft\",\"HP\",\"Dell\",\"Dell\",\"Dell\",\"Acer\",\"Samsung\",\"Acer\",\"HP\",\"MSI\",\"MSI\",\"Microsoft\",\"ASUS\",\"Dell\",\"Dell\",\"Lenovo\",\"Dell\",\"Acer\",\"Lenovo\",\"HP\",\"Dell\",\"Lenovo\",\"Lenovo\"],\"xaxis\":\"x\",\"y\":[0.013411078717201165,0.009284332688588007,0.009284332688588007,0.48888888888888893,2.5,0.9199999999999999,0.00717557251908397,0.006105834464043419,1.2,0.0318840579710145,0.2866666666666667,0.15833333333333333,0.03428571428571429,1.2,0.048314606741573035,0.04036697247706422,1.5,5.0,0.8333333333333334,2.5,0.4444444444444444,1.125,2.5,0.34615384615384615,0.44000000000000006,2.5,0.10476190476190476,1.5666666666666667,0.04035087719298245,1.6666666666666667,5.0,1.5666666666666667,2.25,2.25,0.75,0.39999999999999997,1.4333333333333333,1.0,5.0,1.75,1.6666666666666667,0.11470588235294117,5.0,0.6799999999999999,2.25,2.5,0.2,0.31666666666666665,0.2157894736842105,0.23684210526315788,4.0,4.0,2.5,0.26666666666666666,0.8,5.0,1.5666666666666667,1.5666666666666667,5.0,0.875,0.36153846153846153,1.25,0.6142857142857142,1.0,5.0,1.4333333333333333,5.0,0.23500000000000001,0.72,5.0,0.34285714285714286,5.0,1.3333333333333333,0.12058823529411763,4.0,1.0,1.0,5.0,0.09999999999999999,0.6571428571428571,0.72,0.2375,1.5,4.0,5.0,0.42857142857142855,4.0,0.3,2.25,5.0,5.0,0.12121212121212122,5.0,4.0,2.0,0.3,1.0,1.5,1.5,0.8333333333333334,1.6666666666666667,3.0,0.11000000000000001,1.0999999999999999,1.4333333333333333,5.0,0.12580645161290321,0.20952380952380953,1.0,0.6142857142857142,0.0014308943089430895,0.5142857142857143,1.0,0.35833333333333334,0.7000000000000001,0.5599999999999999,5.0,2.5,0.75,0.75,2.0,0.5,5.0,5.0,2.0,5.0,4.0,0.15416666666666667,0.825,1.6666666666666667,5.0,5.0],\"yaxis\":\"y\",\"type\":\"histogram\"}],                        {\"template\":{\"data\":{\"histogram2dcontour\":[{\"type\":\"histogram2dcontour\",\"colorbar\":{\"outlinewidth\":0,\"ticks\":\"\"},\"colorscale\":[[0.0,\"#0d0887\"],[0.1111111111111111,\"#46039f\"],[0.2222222222222222,\"#7201a8\"],[0.3333333333333333,\"#9c179e\"],[0.4444444444444444,\"#bd3786\"],[0.5555555555555556,\"#d8576b\"],[0.6666666666666666,\"#ed7953\"],[0.7777777777777778,\"#fb9f3a\"],[0.8888888888888888,\"#fdca26\"],[1.0,\"#f0f921\"]]}],\"choropleth\":[{\"type\":\"choropleth\",\"colorbar\":{\"outlinewidth\":0,\"ticks\":\"\"}}],\"histogram2d\":[{\"type\":\"histogram2d\",\"colorbar\":{\"outlinewidth\":0,\"ticks\":\"\"},\"colorscale\":[[0.0,\"#0d0887\"],[0.1111111111111111,\"#46039f\"],[0.2222222222222222,\"#7201a8\"],[0.3333333333333333,\"#9c179e\"],[0.4444444444444444,\"#bd3786\"],[0.5555555555555556,\"#d8576b\"],[0.6666666666666666,\"#ed7953\"],[0.7777777777777778,\"#fb9f3a\"],[0.8888888888888888,\"#fdca26\"],[1.0,\"#f0f921\"]]}],\"heatmap\":[{\"type\":\"heatmap\",\"colorbar\":{\"outlinewidth\":0,\"ticks\":\"\"},\"colorscale\":[[0.0,\"#0d0887\"],[0.1111111111111111,\"#46039f\"],[0.2222222222222222,\"#7201a8\"],[0.3333333333333333,\"#9c179e\"],[0.4444444444444444,\"#bd3786\"],[0.5555555555555556,\"#d8576b\"],[0.6666666666666666,\"#ed7953\"],[0.7777777777777778,\"#fb9f3a\"],[0.8888888888888888,\"#fdca26\"],[1.0,\"#f0f921\"]]}],\"heatmapgl\":[{\"type\":\"heatmapgl\",\"colorbar\":{\"outlinewidth\":0,\"ticks\":\"\"},\"colorscale\":[[0.0,\"#0d0887\"],[0.1111111111111111,\"#46039f\"],[0.2222222222222222,\"#7201a8\"],[0.3333333333333333,\"#9c179e\"],[0.4444444444444444,\"#bd3786\"],[0.5555555555555556,\"#d8576b\"],[0.6666666666666666,\"#ed7953\"],[0.7777777777777778,\"#fb9f3a\"],[0.8888888888888888,\"#fdca26\"],[1.0,\"#f0f921\"]]}],\"contourcarpet\":[{\"type\":\"contourcarpet\",\"colorbar\":{\"outlinewidth\":0,\"ticks\":\"\"}}],\"contour\":[{\"type\":\"contour\",\"colorbar\":{\"outlinewidth\":0,\"ticks\":\"\"},\"colorscale\":[[0.0,\"#0d0887\"],[0.1111111111111111,\"#46039f\"],[0.2222222222222222,\"#7201a8\"],[0.3333333333333333,\"#9c179e\"],[0.4444444444444444,\"#bd3786\"],[0.5555555555555556,\"#d8576b\"],[0.6666666666666666,\"#ed7953\"],[0.7777777777777778,\"#fb9f3a\"],[0.8888888888888888,\"#fdca26\"],[1.0,\"#f0f921\"]]}],\"surface\":[{\"type\":\"surface\",\"colorbar\":{\"outlinewidth\":0,\"ticks\":\"\"},\"colorscale\":[[0.0,\"#0d0887\"],[0.1111111111111111,\"#46039f\"],[0.2222222222222222,\"#7201a8\"],[0.3333333333333333,\"#9c179e\"],[0.4444444444444444,\"#bd3786\"],[0.5555555555555556,\"#d8576b\"],[0.6666666666666666,\"#ed7953\"],[0.7777777777777778,\"#fb9f3a\"],[0.8888888888888888,\"#fdca26\"],[1.0,\"#f0f921\"]]}],\"mesh3d\":[{\"type\":\"mesh3d\",\"colorbar\":{\"outlinewidth\":0,\"ticks\":\"\"}}],\"scatter\":[{\"fillpattern\":{\"fillmode\":\"overlay\",\"size\":10,\"solidity\":0.2},\"type\":\"scatter\"}],\"parcoords\":[{\"type\":\"parcoords\",\"line\":{\"colorbar\":{\"outlinewidth\":0,\"ticks\":\"\"}}}],\"scatterpolargl\":[{\"type\":\"scatterpolargl\",\"marker\":{\"colorbar\":{\"outlinewidth\":0,\"ticks\":\"\"}}}],\"bar\":[{\"error_x\":{\"color\":\"#2a3f5f\"},\"error_y\":{\"color\":\"#2a3f5f\"},\"marker\":{\"line\":{\"color\":\"#E5ECF6\",\"width\":0.5},\"pattern\":{\"fillmode\":\"overlay\",\"size\":10,\"solidity\":0.2}},\"type\":\"bar\"}],\"scattergeo\":[{\"type\":\"scattergeo\",\"marker\":{\"colorbar\":{\"outlinewidth\":0,\"ticks\":\"\"}}}],\"scatterpolar\":[{\"type\":\"scatterpolar\",\"marker\":{\"colorbar\":{\"outlinewidth\":0,\"ticks\":\"\"}}}],\"histogram\":[{\"marker\":{\"pattern\":{\"fillmode\":\"overlay\",\"size\":10,\"solidity\":0.2}},\"type\":\"histogram\"}],\"scattergl\":[{\"type\":\"scattergl\",\"marker\":{\"colorbar\":{\"outlinewidth\":0,\"ticks\":\"\"}}}],\"scatter3d\":[{\"type\":\"scatter3d\",\"line\":{\"colorbar\":{\"outlinewidth\":0,\"ticks\":\"\"}},\"marker\":{\"colorbar\":{\"outlinewidth\":0,\"ticks\":\"\"}}}],\"scattermapbox\":[{\"type\":\"scattermapbox\",\"marker\":{\"colorbar\":{\"outlinewidth\":0,\"ticks\":\"\"}}}],\"scatterternary\":[{\"type\":\"scatterternary\",\"marker\":{\"colorbar\":{\"outlinewidth\":0,\"ticks\":\"\"}}}],\"scattercarpet\":[{\"type\":\"scattercarpet\",\"marker\":{\"colorbar\":{\"outlinewidth\":0,\"ticks\":\"\"}}}],\"carpet\":[{\"aaxis\":{\"endlinecolor\":\"#2a3f5f\",\"gridcolor\":\"white\",\"linecolor\":\"white\",\"minorgridcolor\":\"white\",\"startlinecolor\":\"#2a3f5f\"},\"baxis\":{\"endlinecolor\":\"#2a3f5f\",\"gridcolor\":\"white\",\"linecolor\":\"white\",\"minorgridcolor\":\"white\",\"startlinecolor\":\"#2a3f5f\"},\"type\":\"carpet\"}],\"table\":[{\"cells\":{\"fill\":{\"color\":\"#EBF0F8\"},\"line\":{\"color\":\"white\"}},\"header\":{\"fill\":{\"color\":\"#C8D4E3\"},\"line\":{\"color\":\"white\"}},\"type\":\"table\"}],\"barpolar\":[{\"marker\":{\"line\":{\"color\":\"#E5ECF6\",\"width\":0.5},\"pattern\":{\"fillmode\":\"overlay\",\"size\":10,\"solidity\":0.2}},\"type\":\"barpolar\"}],\"pie\":[{\"automargin\":true,\"type\":\"pie\"}]},\"layout\":{\"autotypenumbers\":\"strict\",\"colorway\":[\"#636efa\",\"#EF553B\",\"#00cc96\",\"#ab63fa\",\"#FFA15A\",\"#19d3f3\",\"#FF6692\",\"#B6E880\",\"#FF97FF\",\"#FECB52\"],\"font\":{\"color\":\"#2a3f5f\"},\"hovermode\":\"closest\",\"hoverlabel\":{\"align\":\"left\"},\"paper_bgcolor\":\"white\",\"plot_bgcolor\":\"#E5ECF6\",\"polar\":{\"bgcolor\":\"#E5ECF6\",\"angularaxis\":{\"gridcolor\":\"white\",\"linecolor\":\"white\",\"ticks\":\"\"},\"radialaxis\":{\"gridcolor\":\"white\",\"linecolor\":\"white\",\"ticks\":\"\"}},\"ternary\":{\"bgcolor\":\"#E5ECF6\",\"aaxis\":{\"gridcolor\":\"white\",\"linecolor\":\"white\",\"ticks\":\"\"},\"baxis\":{\"gridcolor\":\"white\",\"linecolor\":\"white\",\"ticks\":\"\"},\"caxis\":{\"gridcolor\":\"white\",\"linecolor\":\"white\",\"ticks\":\"\"}},\"coloraxis\":{\"colorbar\":{\"outlinewidth\":0,\"ticks\":\"\"}},\"colorscale\":{\"sequential\":[[0.0,\"#0d0887\"],[0.1111111111111111,\"#46039f\"],[0.2222222222222222,\"#7201a8\"],[0.3333333333333333,\"#9c179e\"],[0.4444444444444444,\"#bd3786\"],[0.5555555555555556,\"#d8576b\"],[0.6666666666666666,\"#ed7953\"],[0.7777777777777778,\"#fb9f3a\"],[0.8888888888888888,\"#fdca26\"],[1.0,\"#f0f921\"]],\"sequentialminus\":[[0.0,\"#0d0887\"],[0.1111111111111111,\"#46039f\"],[0.2222222222222222,\"#7201a8\"],[0.3333333333333333,\"#9c179e\"],[0.4444444444444444,\"#bd3786\"],[0.5555555555555556,\"#d8576b\"],[0.6666666666666666,\"#ed7953\"],[0.7777777777777778,\"#fb9f3a\"],[0.8888888888888888,\"#fdca26\"],[1.0,\"#f0f921\"]],\"diverging\":[[0,\"#8e0152\"],[0.1,\"#c51b7d\"],[0.2,\"#de77ae\"],[0.3,\"#f1b6da\"],[0.4,\"#fde0ef\"],[0.5,\"#f7f7f7\"],[0.6,\"#e6f5d0\"],[0.7,\"#b8e186\"],[0.8,\"#7fbc41\"],[0.9,\"#4d9221\"],[1,\"#276419\"]]},\"xaxis\":{\"gridcolor\":\"white\",\"linecolor\":\"white\",\"ticks\":\"\",\"title\":{\"standoff\":15},\"zerolinecolor\":\"white\",\"automargin\":true,\"zerolinewidth\":2},\"yaxis\":{\"gridcolor\":\"white\",\"linecolor\":\"white\",\"ticks\":\"\",\"title\":{\"standoff\":15},\"zerolinecolor\":\"white\",\"automargin\":true,\"zerolinewidth\":2},\"scene\":{\"xaxis\":{\"backgroundcolor\":\"#E5ECF6\",\"gridcolor\":\"white\",\"linecolor\":\"white\",\"showbackground\":true,\"ticks\":\"\",\"zerolinecolor\":\"white\",\"gridwidth\":2},\"yaxis\":{\"backgroundcolor\":\"#E5ECF6\",\"gridcolor\":\"white\",\"linecolor\":\"white\",\"showbackground\":true,\"ticks\":\"\",\"zerolinecolor\":\"white\",\"gridwidth\":2},\"zaxis\":{\"backgroundcolor\":\"#E5ECF6\",\"gridcolor\":\"white\",\"linecolor\":\"white\",\"showbackground\":true,\"ticks\":\"\",\"zerolinecolor\":\"white\",\"gridwidth\":2}},\"shapedefaults\":{\"line\":{\"color\":\"#2a3f5f\"}},\"annotationdefaults\":{\"arrowcolor\":\"#2a3f5f\",\"arrowhead\":0,\"arrowwidth\":1},\"geo\":{\"bgcolor\":\"white\",\"landcolor\":\"#E5ECF6\",\"subunitcolor\":\"white\",\"showland\":true,\"showlakes\":true,\"lakecolor\":\"white\"},\"title\":{\"x\":0.05},\"mapbox\":{\"style\":\"light\"}}},\"xaxis\":{\"anchor\":\"y\",\"domain\":[0.0,1.0],\"title\":{\"text\":\"Brand Name\"}},\"yaxis\":{\"anchor\":\"x\",\"domain\":[0.0,1.0],\"title\":{\"text\":\"Satisfaction Score\"}},\"legend\":{\"tracegroupgap\":0},\"title\":{\"text\":\"Distribution of Satisfaction Scores per Brands\"},\"barmode\":\"relative\"},                        {\"responsive\": true}                    ).then(function(){\n",
       "                            \n",
       "var gd = document.getElementById('2d017290-9c4e-4a89-ac46-75dd217ad651');\n",
       "var x = new MutationObserver(function (mutations, observer) {{\n",
       "        var display = window.getComputedStyle(gd).display;\n",
       "        if (!display || display === 'none') {{\n",
       "            console.log([gd, 'removed!']);\n",
       "            Plotly.purge(gd);\n",
       "            observer.disconnect();\n",
       "        }}\n",
       "}});\n",
       "\n",
       "// Listen for the removal of the full notebook cells\n",
       "var notebookContainer = gd.closest('#notebook-container');\n",
       "if (notebookContainer) {{\n",
       "    x.observe(notebookContainer, {childList: true});\n",
       "}}\n",
       "\n",
       "// Listen for the clearing of the current output cell\n",
       "var outputEl = gd.closest('.output');\n",
       "if (outputEl) {{\n",
       "    x.observe(outputEl, {childList: true});\n",
       "}}\n",
       "\n",
       "                        })                };                });            </script>        </div>"
      ]
     },
     "metadata": {},
     "output_type": "display_data"
    }
   ],
   "source": [
    "satisfaction_histogram = px.histogram(laptops_cleaned, x = \"Brand\", y = \"Satisfaction Score\", histnorm='probability density',\n",
    "                               title = \"Distribution of Satisfaction Scores per Brands\")\n",
    "satisfaction_histogram.update_xaxes(title_text = \"Brand Name\")\n",
    "satisfaction_histogram.update_yaxes(title_text = \"Satisfaction Score\")\n",
    "satisfaction_histogram.show()"
   ]
  },
  {
   "cell_type": "markdown",
   "id": "9d2fc667",
   "metadata": {},
   "source": [
    "After normalizing the satisfaction score using the \"probabilty density\" option of the histonorm value, Lenovo, Dell, Acer, and HP have the highest customer satisfication ratings. Next I will explore the brand counts."
   ]
  },
  {
   "cell_type": "code",
   "execution_count": 11,
   "id": "f35db9d5",
   "metadata": {},
   "outputs": [
    {
     "data": {
      "text/html": [
       "<div>\n",
       "<style scoped>\n",
       "    .dataframe tbody tr th:only-of-type {\n",
       "        vertical-align: middle;\n",
       "    }\n",
       "\n",
       "    .dataframe tbody tr th {\n",
       "        vertical-align: top;\n",
       "    }\n",
       "\n",
       "    .dataframe thead th {\n",
       "        text-align: right;\n",
       "    }\n",
       "</style>\n",
       "<table border=\"1\" class=\"dataframe\">\n",
       "  <thead>\n",
       "    <tr style=\"text-align: right;\">\n",
       "      <th></th>\n",
       "      <th>Brand</th>\n",
       "      <th>Counts</th>\n",
       "    </tr>\n",
       "  </thead>\n",
       "  <tbody>\n",
       "    <tr>\n",
       "      <th>0</th>\n",
       "      <td>Lenovo</td>\n",
       "      <td>67</td>\n",
       "    </tr>\n",
       "    <tr>\n",
       "      <th>1</th>\n",
       "      <td>Dell</td>\n",
       "      <td>63</td>\n",
       "    </tr>\n",
       "    <tr>\n",
       "      <th>2</th>\n",
       "      <td>HP</td>\n",
       "      <td>32</td>\n",
       "    </tr>\n",
       "    <tr>\n",
       "      <th>3</th>\n",
       "      <td>Acer</td>\n",
       "      <td>29</td>\n",
       "    </tr>\n",
       "    <tr>\n",
       "      <th>4</th>\n",
       "      <td>Microsoft</td>\n",
       "      <td>20</td>\n",
       "    </tr>\n",
       "    <tr>\n",
       "      <th>5</th>\n",
       "      <td>MSI</td>\n",
       "      <td>19</td>\n",
       "    </tr>\n",
       "    <tr>\n",
       "      <th>6</th>\n",
       "      <td>ASUS</td>\n",
       "      <td>16</td>\n",
       "    </tr>\n",
       "    <tr>\n",
       "      <th>7</th>\n",
       "      <td>GIGABYTE</td>\n",
       "      <td>8</td>\n",
       "    </tr>\n",
       "    <tr>\n",
       "      <th>8</th>\n",
       "      <td>Razer</td>\n",
       "      <td>4</td>\n",
       "    </tr>\n",
       "    <tr>\n",
       "      <th>9</th>\n",
       "      <td>Samsung</td>\n",
       "      <td>2</td>\n",
       "    </tr>\n",
       "    <tr>\n",
       "      <th>10</th>\n",
       "      <td>Alienware</td>\n",
       "      <td>1</td>\n",
       "    </tr>\n",
       "    <tr>\n",
       "      <th>11</th>\n",
       "      <td>LG</td>\n",
       "      <td>1</td>\n",
       "    </tr>\n",
       "  </tbody>\n",
       "</table>\n",
       "</div>"
      ],
      "text/plain": [
       "        Brand  Counts\n",
       "0      Lenovo      67\n",
       "1        Dell      63\n",
       "2          HP      32\n",
       "3        Acer      29\n",
       "4   Microsoft      20\n",
       "5         MSI      19\n",
       "6        ASUS      16\n",
       "7    GIGABYTE       8\n",
       "8       Razer       4\n",
       "9     Samsung       2\n",
       "10  Alienware       1\n",
       "11         LG       1"
      ]
     },
     "execution_count": 11,
     "metadata": {},
     "output_type": "execute_result"
    }
   ],
   "source": [
    "#creating a brand_counts dataframe \n",
    "brand_counts = laptops_cleaned[\"Brand\"].value_counts()\n",
    "brand_counts_df = pd.DataFrame({\"Brand\":brand_counts.index, \"Counts\": brand_counts.values})\n",
    "brand_counts_df"
   ]
  },
  {
   "cell_type": "code",
   "execution_count": 12,
   "id": "e231131e",
   "metadata": {},
   "outputs": [
    {
     "data": {
      "application/vnd.plotly.v1+json": {
       "config": {
        "plotlyServerURL": "https://plot.ly"
       },
       "data": [
        {
         "alignmentgroup": "True",
         "bingroup": "x",
         "histfunc": "sum",
         "hovertemplate": "Brand=%{x}<br>sum of Counts=%{y}<extra></extra>",
         "legendgroup": "",
         "marker": {
          "color": "#636efa",
          "pattern": {
           "shape": ""
          }
         },
         "name": "",
         "offsetgroup": "",
         "orientation": "v",
         "showlegend": false,
         "type": "histogram",
         "x": [
          "Lenovo",
          "Dell",
          "HP",
          "Acer",
          "Microsoft",
          "MSI",
          "ASUS",
          "GIGABYTE",
          "Razer",
          "Samsung",
          "Alienware",
          "LG"
         ],
         "xaxis": "x",
         "y": [
          67,
          63,
          32,
          29,
          20,
          19,
          16,
          8,
          4,
          2,
          1,
          1
         ],
         "yaxis": "y"
        }
       ],
       "layout": {
        "barmode": "relative",
        "legend": {
         "tracegroupgap": 0
        },
        "template": {
         "data": {
          "bar": [
           {
            "error_x": {
             "color": "#2a3f5f"
            },
            "error_y": {
             "color": "#2a3f5f"
            },
            "marker": {
             "line": {
              "color": "#E5ECF6",
              "width": 0.5
             },
             "pattern": {
              "fillmode": "overlay",
              "size": 10,
              "solidity": 0.2
             }
            },
            "type": "bar"
           }
          ],
          "barpolar": [
           {
            "marker": {
             "line": {
              "color": "#E5ECF6",
              "width": 0.5
             },
             "pattern": {
              "fillmode": "overlay",
              "size": 10,
              "solidity": 0.2
             }
            },
            "type": "barpolar"
           }
          ],
          "carpet": [
           {
            "aaxis": {
             "endlinecolor": "#2a3f5f",
             "gridcolor": "white",
             "linecolor": "white",
             "minorgridcolor": "white",
             "startlinecolor": "#2a3f5f"
            },
            "baxis": {
             "endlinecolor": "#2a3f5f",
             "gridcolor": "white",
             "linecolor": "white",
             "minorgridcolor": "white",
             "startlinecolor": "#2a3f5f"
            },
            "type": "carpet"
           }
          ],
          "choropleth": [
           {
            "colorbar": {
             "outlinewidth": 0,
             "ticks": ""
            },
            "type": "choropleth"
           }
          ],
          "contour": [
           {
            "colorbar": {
             "outlinewidth": 0,
             "ticks": ""
            },
            "colorscale": [
             [
              0,
              "#0d0887"
             ],
             [
              0.1111111111111111,
              "#46039f"
             ],
             [
              0.2222222222222222,
              "#7201a8"
             ],
             [
              0.3333333333333333,
              "#9c179e"
             ],
             [
              0.4444444444444444,
              "#bd3786"
             ],
             [
              0.5555555555555556,
              "#d8576b"
             ],
             [
              0.6666666666666666,
              "#ed7953"
             ],
             [
              0.7777777777777778,
              "#fb9f3a"
             ],
             [
              0.8888888888888888,
              "#fdca26"
             ],
             [
              1,
              "#f0f921"
             ]
            ],
            "type": "contour"
           }
          ],
          "contourcarpet": [
           {
            "colorbar": {
             "outlinewidth": 0,
             "ticks": ""
            },
            "type": "contourcarpet"
           }
          ],
          "heatmap": [
           {
            "colorbar": {
             "outlinewidth": 0,
             "ticks": ""
            },
            "colorscale": [
             [
              0,
              "#0d0887"
             ],
             [
              0.1111111111111111,
              "#46039f"
             ],
             [
              0.2222222222222222,
              "#7201a8"
             ],
             [
              0.3333333333333333,
              "#9c179e"
             ],
             [
              0.4444444444444444,
              "#bd3786"
             ],
             [
              0.5555555555555556,
              "#d8576b"
             ],
             [
              0.6666666666666666,
              "#ed7953"
             ],
             [
              0.7777777777777778,
              "#fb9f3a"
             ],
             [
              0.8888888888888888,
              "#fdca26"
             ],
             [
              1,
              "#f0f921"
             ]
            ],
            "type": "heatmap"
           }
          ],
          "heatmapgl": [
           {
            "colorbar": {
             "outlinewidth": 0,
             "ticks": ""
            },
            "colorscale": [
             [
              0,
              "#0d0887"
             ],
             [
              0.1111111111111111,
              "#46039f"
             ],
             [
              0.2222222222222222,
              "#7201a8"
             ],
             [
              0.3333333333333333,
              "#9c179e"
             ],
             [
              0.4444444444444444,
              "#bd3786"
             ],
             [
              0.5555555555555556,
              "#d8576b"
             ],
             [
              0.6666666666666666,
              "#ed7953"
             ],
             [
              0.7777777777777778,
              "#fb9f3a"
             ],
             [
              0.8888888888888888,
              "#fdca26"
             ],
             [
              1,
              "#f0f921"
             ]
            ],
            "type": "heatmapgl"
           }
          ],
          "histogram": [
           {
            "marker": {
             "pattern": {
              "fillmode": "overlay",
              "size": 10,
              "solidity": 0.2
             }
            },
            "type": "histogram"
           }
          ],
          "histogram2d": [
           {
            "colorbar": {
             "outlinewidth": 0,
             "ticks": ""
            },
            "colorscale": [
             [
              0,
              "#0d0887"
             ],
             [
              0.1111111111111111,
              "#46039f"
             ],
             [
              0.2222222222222222,
              "#7201a8"
             ],
             [
              0.3333333333333333,
              "#9c179e"
             ],
             [
              0.4444444444444444,
              "#bd3786"
             ],
             [
              0.5555555555555556,
              "#d8576b"
             ],
             [
              0.6666666666666666,
              "#ed7953"
             ],
             [
              0.7777777777777778,
              "#fb9f3a"
             ],
             [
              0.8888888888888888,
              "#fdca26"
             ],
             [
              1,
              "#f0f921"
             ]
            ],
            "type": "histogram2d"
           }
          ],
          "histogram2dcontour": [
           {
            "colorbar": {
             "outlinewidth": 0,
             "ticks": ""
            },
            "colorscale": [
             [
              0,
              "#0d0887"
             ],
             [
              0.1111111111111111,
              "#46039f"
             ],
             [
              0.2222222222222222,
              "#7201a8"
             ],
             [
              0.3333333333333333,
              "#9c179e"
             ],
             [
              0.4444444444444444,
              "#bd3786"
             ],
             [
              0.5555555555555556,
              "#d8576b"
             ],
             [
              0.6666666666666666,
              "#ed7953"
             ],
             [
              0.7777777777777778,
              "#fb9f3a"
             ],
             [
              0.8888888888888888,
              "#fdca26"
             ],
             [
              1,
              "#f0f921"
             ]
            ],
            "type": "histogram2dcontour"
           }
          ],
          "mesh3d": [
           {
            "colorbar": {
             "outlinewidth": 0,
             "ticks": ""
            },
            "type": "mesh3d"
           }
          ],
          "parcoords": [
           {
            "line": {
             "colorbar": {
              "outlinewidth": 0,
              "ticks": ""
             }
            },
            "type": "parcoords"
           }
          ],
          "pie": [
           {
            "automargin": true,
            "type": "pie"
           }
          ],
          "scatter": [
           {
            "fillpattern": {
             "fillmode": "overlay",
             "size": 10,
             "solidity": 0.2
            },
            "type": "scatter"
           }
          ],
          "scatter3d": [
           {
            "line": {
             "colorbar": {
              "outlinewidth": 0,
              "ticks": ""
             }
            },
            "marker": {
             "colorbar": {
              "outlinewidth": 0,
              "ticks": ""
             }
            },
            "type": "scatter3d"
           }
          ],
          "scattercarpet": [
           {
            "marker": {
             "colorbar": {
              "outlinewidth": 0,
              "ticks": ""
             }
            },
            "type": "scattercarpet"
           }
          ],
          "scattergeo": [
           {
            "marker": {
             "colorbar": {
              "outlinewidth": 0,
              "ticks": ""
             }
            },
            "type": "scattergeo"
           }
          ],
          "scattergl": [
           {
            "marker": {
             "colorbar": {
              "outlinewidth": 0,
              "ticks": ""
             }
            },
            "type": "scattergl"
           }
          ],
          "scattermapbox": [
           {
            "marker": {
             "colorbar": {
              "outlinewidth": 0,
              "ticks": ""
             }
            },
            "type": "scattermapbox"
           }
          ],
          "scatterpolar": [
           {
            "marker": {
             "colorbar": {
              "outlinewidth": 0,
              "ticks": ""
             }
            },
            "type": "scatterpolar"
           }
          ],
          "scatterpolargl": [
           {
            "marker": {
             "colorbar": {
              "outlinewidth": 0,
              "ticks": ""
             }
            },
            "type": "scatterpolargl"
           }
          ],
          "scatterternary": [
           {
            "marker": {
             "colorbar": {
              "outlinewidth": 0,
              "ticks": ""
             }
            },
            "type": "scatterternary"
           }
          ],
          "surface": [
           {
            "colorbar": {
             "outlinewidth": 0,
             "ticks": ""
            },
            "colorscale": [
             [
              0,
              "#0d0887"
             ],
             [
              0.1111111111111111,
              "#46039f"
             ],
             [
              0.2222222222222222,
              "#7201a8"
             ],
             [
              0.3333333333333333,
              "#9c179e"
             ],
             [
              0.4444444444444444,
              "#bd3786"
             ],
             [
              0.5555555555555556,
              "#d8576b"
             ],
             [
              0.6666666666666666,
              "#ed7953"
             ],
             [
              0.7777777777777778,
              "#fb9f3a"
             ],
             [
              0.8888888888888888,
              "#fdca26"
             ],
             [
              1,
              "#f0f921"
             ]
            ],
            "type": "surface"
           }
          ],
          "table": [
           {
            "cells": {
             "fill": {
              "color": "#EBF0F8"
             },
             "line": {
              "color": "white"
             }
            },
            "header": {
             "fill": {
              "color": "#C8D4E3"
             },
             "line": {
              "color": "white"
             }
            },
            "type": "table"
           }
          ]
         },
         "layout": {
          "annotationdefaults": {
           "arrowcolor": "#2a3f5f",
           "arrowhead": 0,
           "arrowwidth": 1
          },
          "autotypenumbers": "strict",
          "coloraxis": {
           "colorbar": {
            "outlinewidth": 0,
            "ticks": ""
           }
          },
          "colorscale": {
           "diverging": [
            [
             0,
             "#8e0152"
            ],
            [
             0.1,
             "#c51b7d"
            ],
            [
             0.2,
             "#de77ae"
            ],
            [
             0.3,
             "#f1b6da"
            ],
            [
             0.4,
             "#fde0ef"
            ],
            [
             0.5,
             "#f7f7f7"
            ],
            [
             0.6,
             "#e6f5d0"
            ],
            [
             0.7,
             "#b8e186"
            ],
            [
             0.8,
             "#7fbc41"
            ],
            [
             0.9,
             "#4d9221"
            ],
            [
             1,
             "#276419"
            ]
           ],
           "sequential": [
            [
             0,
             "#0d0887"
            ],
            [
             0.1111111111111111,
             "#46039f"
            ],
            [
             0.2222222222222222,
             "#7201a8"
            ],
            [
             0.3333333333333333,
             "#9c179e"
            ],
            [
             0.4444444444444444,
             "#bd3786"
            ],
            [
             0.5555555555555556,
             "#d8576b"
            ],
            [
             0.6666666666666666,
             "#ed7953"
            ],
            [
             0.7777777777777778,
             "#fb9f3a"
            ],
            [
             0.8888888888888888,
             "#fdca26"
            ],
            [
             1,
             "#f0f921"
            ]
           ],
           "sequentialminus": [
            [
             0,
             "#0d0887"
            ],
            [
             0.1111111111111111,
             "#46039f"
            ],
            [
             0.2222222222222222,
             "#7201a8"
            ],
            [
             0.3333333333333333,
             "#9c179e"
            ],
            [
             0.4444444444444444,
             "#bd3786"
            ],
            [
             0.5555555555555556,
             "#d8576b"
            ],
            [
             0.6666666666666666,
             "#ed7953"
            ],
            [
             0.7777777777777778,
             "#fb9f3a"
            ],
            [
             0.8888888888888888,
             "#fdca26"
            ],
            [
             1,
             "#f0f921"
            ]
           ]
          },
          "colorway": [
           "#636efa",
           "#EF553B",
           "#00cc96",
           "#ab63fa",
           "#FFA15A",
           "#19d3f3",
           "#FF6692",
           "#B6E880",
           "#FF97FF",
           "#FECB52"
          ],
          "font": {
           "color": "#2a3f5f"
          },
          "geo": {
           "bgcolor": "white",
           "lakecolor": "white",
           "landcolor": "#E5ECF6",
           "showlakes": true,
           "showland": true,
           "subunitcolor": "white"
          },
          "hoverlabel": {
           "align": "left"
          },
          "hovermode": "closest",
          "mapbox": {
           "style": "light"
          },
          "paper_bgcolor": "white",
          "plot_bgcolor": "#E5ECF6",
          "polar": {
           "angularaxis": {
            "gridcolor": "white",
            "linecolor": "white",
            "ticks": ""
           },
           "bgcolor": "#E5ECF6",
           "radialaxis": {
            "gridcolor": "white",
            "linecolor": "white",
            "ticks": ""
           }
          },
          "scene": {
           "xaxis": {
            "backgroundcolor": "#E5ECF6",
            "gridcolor": "white",
            "gridwidth": 2,
            "linecolor": "white",
            "showbackground": true,
            "ticks": "",
            "zerolinecolor": "white"
           },
           "yaxis": {
            "backgroundcolor": "#E5ECF6",
            "gridcolor": "white",
            "gridwidth": 2,
            "linecolor": "white",
            "showbackground": true,
            "ticks": "",
            "zerolinecolor": "white"
           },
           "zaxis": {
            "backgroundcolor": "#E5ECF6",
            "gridcolor": "white",
            "gridwidth": 2,
            "linecolor": "white",
            "showbackground": true,
            "ticks": "",
            "zerolinecolor": "white"
           }
          },
          "shapedefaults": {
           "line": {
            "color": "#2a3f5f"
           }
          },
          "ternary": {
           "aaxis": {
            "gridcolor": "white",
            "linecolor": "white",
            "ticks": ""
           },
           "baxis": {
            "gridcolor": "white",
            "linecolor": "white",
            "ticks": ""
           },
           "bgcolor": "#E5ECF6",
           "caxis": {
            "gridcolor": "white",
            "linecolor": "white",
            "ticks": ""
           }
          },
          "title": {
           "x": 0.05
          },
          "xaxis": {
           "automargin": true,
           "gridcolor": "white",
           "linecolor": "white",
           "ticks": "",
           "title": {
            "standoff": 15
           },
           "zerolinecolor": "white",
           "zerolinewidth": 2
          },
          "yaxis": {
           "automargin": true,
           "gridcolor": "white",
           "linecolor": "white",
           "ticks": "",
           "title": {
            "standoff": 15
           },
           "zerolinecolor": "white",
           "zerolinewidth": 2
          }
         }
        },
        "title": {
         "text": "Distribution of Laptop Brands"
        },
        "xaxis": {
         "anchor": "y",
         "domain": [
          0,
          1
         ],
         "title": {
          "text": "Brand Name"
         }
        },
        "yaxis": {
         "anchor": "x",
         "domain": [
          0,
          1
         ],
         "title": {
          "text": "Counts"
         }
        }
       }
      },
      "text/html": [
       "<div>                            <div id=\"626d4cc5-d455-47a3-891d-43bae350a6f7\" class=\"plotly-graph-div\" style=\"height:525px; width:100%;\"></div>            <script type=\"text/javascript\">                require([\"plotly\"], function(Plotly) {                    window.PLOTLYENV=window.PLOTLYENV || {};                                    if (document.getElementById(\"626d4cc5-d455-47a3-891d-43bae350a6f7\")) {                    Plotly.newPlot(                        \"626d4cc5-d455-47a3-891d-43bae350a6f7\",                        [{\"alignmentgroup\":\"True\",\"bingroup\":\"x\",\"histfunc\":\"sum\",\"hovertemplate\":\"Brand=%{x}\\u003cbr\\u003esum of Counts=%{y}\\u003cextra\\u003e\\u003c\\u002fextra\\u003e\",\"legendgroup\":\"\",\"marker\":{\"color\":\"#636efa\",\"pattern\":{\"shape\":\"\"}},\"name\":\"\",\"offsetgroup\":\"\",\"orientation\":\"v\",\"showlegend\":false,\"x\":[\"Lenovo\",\"Dell\",\"HP\",\"Acer\",\"Microsoft\",\"MSI\",\"ASUS\",\"GIGABYTE\",\"Razer\",\"Samsung\",\"Alienware\",\"LG\"],\"xaxis\":\"x\",\"y\":[67,63,32,29,20,19,16,8,4,2,1,1],\"yaxis\":\"y\",\"type\":\"histogram\"}],                        {\"template\":{\"data\":{\"histogram2dcontour\":[{\"type\":\"histogram2dcontour\",\"colorbar\":{\"outlinewidth\":0,\"ticks\":\"\"},\"colorscale\":[[0.0,\"#0d0887\"],[0.1111111111111111,\"#46039f\"],[0.2222222222222222,\"#7201a8\"],[0.3333333333333333,\"#9c179e\"],[0.4444444444444444,\"#bd3786\"],[0.5555555555555556,\"#d8576b\"],[0.6666666666666666,\"#ed7953\"],[0.7777777777777778,\"#fb9f3a\"],[0.8888888888888888,\"#fdca26\"],[1.0,\"#f0f921\"]]}],\"choropleth\":[{\"type\":\"choropleth\",\"colorbar\":{\"outlinewidth\":0,\"ticks\":\"\"}}],\"histogram2d\":[{\"type\":\"histogram2d\",\"colorbar\":{\"outlinewidth\":0,\"ticks\":\"\"},\"colorscale\":[[0.0,\"#0d0887\"],[0.1111111111111111,\"#46039f\"],[0.2222222222222222,\"#7201a8\"],[0.3333333333333333,\"#9c179e\"],[0.4444444444444444,\"#bd3786\"],[0.5555555555555556,\"#d8576b\"],[0.6666666666666666,\"#ed7953\"],[0.7777777777777778,\"#fb9f3a\"],[0.8888888888888888,\"#fdca26\"],[1.0,\"#f0f921\"]]}],\"heatmap\":[{\"type\":\"heatmap\",\"colorbar\":{\"outlinewidth\":0,\"ticks\":\"\"},\"colorscale\":[[0.0,\"#0d0887\"],[0.1111111111111111,\"#46039f\"],[0.2222222222222222,\"#7201a8\"],[0.3333333333333333,\"#9c179e\"],[0.4444444444444444,\"#bd3786\"],[0.5555555555555556,\"#d8576b\"],[0.6666666666666666,\"#ed7953\"],[0.7777777777777778,\"#fb9f3a\"],[0.8888888888888888,\"#fdca26\"],[1.0,\"#f0f921\"]]}],\"heatmapgl\":[{\"type\":\"heatmapgl\",\"colorbar\":{\"outlinewidth\":0,\"ticks\":\"\"},\"colorscale\":[[0.0,\"#0d0887\"],[0.1111111111111111,\"#46039f\"],[0.2222222222222222,\"#7201a8\"],[0.3333333333333333,\"#9c179e\"],[0.4444444444444444,\"#bd3786\"],[0.5555555555555556,\"#d8576b\"],[0.6666666666666666,\"#ed7953\"],[0.7777777777777778,\"#fb9f3a\"],[0.8888888888888888,\"#fdca26\"],[1.0,\"#f0f921\"]]}],\"contourcarpet\":[{\"type\":\"contourcarpet\",\"colorbar\":{\"outlinewidth\":0,\"ticks\":\"\"}}],\"contour\":[{\"type\":\"contour\",\"colorbar\":{\"outlinewidth\":0,\"ticks\":\"\"},\"colorscale\":[[0.0,\"#0d0887\"],[0.1111111111111111,\"#46039f\"],[0.2222222222222222,\"#7201a8\"],[0.3333333333333333,\"#9c179e\"],[0.4444444444444444,\"#bd3786\"],[0.5555555555555556,\"#d8576b\"],[0.6666666666666666,\"#ed7953\"],[0.7777777777777778,\"#fb9f3a\"],[0.8888888888888888,\"#fdca26\"],[1.0,\"#f0f921\"]]}],\"surface\":[{\"type\":\"surface\",\"colorbar\":{\"outlinewidth\":0,\"ticks\":\"\"},\"colorscale\":[[0.0,\"#0d0887\"],[0.1111111111111111,\"#46039f\"],[0.2222222222222222,\"#7201a8\"],[0.3333333333333333,\"#9c179e\"],[0.4444444444444444,\"#bd3786\"],[0.5555555555555556,\"#d8576b\"],[0.6666666666666666,\"#ed7953\"],[0.7777777777777778,\"#fb9f3a\"],[0.8888888888888888,\"#fdca26\"],[1.0,\"#f0f921\"]]}],\"mesh3d\":[{\"type\":\"mesh3d\",\"colorbar\":{\"outlinewidth\":0,\"ticks\":\"\"}}],\"scatter\":[{\"fillpattern\":{\"fillmode\":\"overlay\",\"size\":10,\"solidity\":0.2},\"type\":\"scatter\"}],\"parcoords\":[{\"type\":\"parcoords\",\"line\":{\"colorbar\":{\"outlinewidth\":0,\"ticks\":\"\"}}}],\"scatterpolargl\":[{\"type\":\"scatterpolargl\",\"marker\":{\"colorbar\":{\"outlinewidth\":0,\"ticks\":\"\"}}}],\"bar\":[{\"error_x\":{\"color\":\"#2a3f5f\"},\"error_y\":{\"color\":\"#2a3f5f\"},\"marker\":{\"line\":{\"color\":\"#E5ECF6\",\"width\":0.5},\"pattern\":{\"fillmode\":\"overlay\",\"size\":10,\"solidity\":0.2}},\"type\":\"bar\"}],\"scattergeo\":[{\"type\":\"scattergeo\",\"marker\":{\"colorbar\":{\"outlinewidth\":0,\"ticks\":\"\"}}}],\"scatterpolar\":[{\"type\":\"scatterpolar\",\"marker\":{\"colorbar\":{\"outlinewidth\":0,\"ticks\":\"\"}}}],\"histogram\":[{\"marker\":{\"pattern\":{\"fillmode\":\"overlay\",\"size\":10,\"solidity\":0.2}},\"type\":\"histogram\"}],\"scattergl\":[{\"type\":\"scattergl\",\"marker\":{\"colorbar\":{\"outlinewidth\":0,\"ticks\":\"\"}}}],\"scatter3d\":[{\"type\":\"scatter3d\",\"line\":{\"colorbar\":{\"outlinewidth\":0,\"ticks\":\"\"}},\"marker\":{\"colorbar\":{\"outlinewidth\":0,\"ticks\":\"\"}}}],\"scattermapbox\":[{\"type\":\"scattermapbox\",\"marker\":{\"colorbar\":{\"outlinewidth\":0,\"ticks\":\"\"}}}],\"scatterternary\":[{\"type\":\"scatterternary\",\"marker\":{\"colorbar\":{\"outlinewidth\":0,\"ticks\":\"\"}}}],\"scattercarpet\":[{\"type\":\"scattercarpet\",\"marker\":{\"colorbar\":{\"outlinewidth\":0,\"ticks\":\"\"}}}],\"carpet\":[{\"aaxis\":{\"endlinecolor\":\"#2a3f5f\",\"gridcolor\":\"white\",\"linecolor\":\"white\",\"minorgridcolor\":\"white\",\"startlinecolor\":\"#2a3f5f\"},\"baxis\":{\"endlinecolor\":\"#2a3f5f\",\"gridcolor\":\"white\",\"linecolor\":\"white\",\"minorgridcolor\":\"white\",\"startlinecolor\":\"#2a3f5f\"},\"type\":\"carpet\"}],\"table\":[{\"cells\":{\"fill\":{\"color\":\"#EBF0F8\"},\"line\":{\"color\":\"white\"}},\"header\":{\"fill\":{\"color\":\"#C8D4E3\"},\"line\":{\"color\":\"white\"}},\"type\":\"table\"}],\"barpolar\":[{\"marker\":{\"line\":{\"color\":\"#E5ECF6\",\"width\":0.5},\"pattern\":{\"fillmode\":\"overlay\",\"size\":10,\"solidity\":0.2}},\"type\":\"barpolar\"}],\"pie\":[{\"automargin\":true,\"type\":\"pie\"}]},\"layout\":{\"autotypenumbers\":\"strict\",\"colorway\":[\"#636efa\",\"#EF553B\",\"#00cc96\",\"#ab63fa\",\"#FFA15A\",\"#19d3f3\",\"#FF6692\",\"#B6E880\",\"#FF97FF\",\"#FECB52\"],\"font\":{\"color\":\"#2a3f5f\"},\"hovermode\":\"closest\",\"hoverlabel\":{\"align\":\"left\"},\"paper_bgcolor\":\"white\",\"plot_bgcolor\":\"#E5ECF6\",\"polar\":{\"bgcolor\":\"#E5ECF6\",\"angularaxis\":{\"gridcolor\":\"white\",\"linecolor\":\"white\",\"ticks\":\"\"},\"radialaxis\":{\"gridcolor\":\"white\",\"linecolor\":\"white\",\"ticks\":\"\"}},\"ternary\":{\"bgcolor\":\"#E5ECF6\",\"aaxis\":{\"gridcolor\":\"white\",\"linecolor\":\"white\",\"ticks\":\"\"},\"baxis\":{\"gridcolor\":\"white\",\"linecolor\":\"white\",\"ticks\":\"\"},\"caxis\":{\"gridcolor\":\"white\",\"linecolor\":\"white\",\"ticks\":\"\"}},\"coloraxis\":{\"colorbar\":{\"outlinewidth\":0,\"ticks\":\"\"}},\"colorscale\":{\"sequential\":[[0.0,\"#0d0887\"],[0.1111111111111111,\"#46039f\"],[0.2222222222222222,\"#7201a8\"],[0.3333333333333333,\"#9c179e\"],[0.4444444444444444,\"#bd3786\"],[0.5555555555555556,\"#d8576b\"],[0.6666666666666666,\"#ed7953\"],[0.7777777777777778,\"#fb9f3a\"],[0.8888888888888888,\"#fdca26\"],[1.0,\"#f0f921\"]],\"sequentialminus\":[[0.0,\"#0d0887\"],[0.1111111111111111,\"#46039f\"],[0.2222222222222222,\"#7201a8\"],[0.3333333333333333,\"#9c179e\"],[0.4444444444444444,\"#bd3786\"],[0.5555555555555556,\"#d8576b\"],[0.6666666666666666,\"#ed7953\"],[0.7777777777777778,\"#fb9f3a\"],[0.8888888888888888,\"#fdca26\"],[1.0,\"#f0f921\"]],\"diverging\":[[0,\"#8e0152\"],[0.1,\"#c51b7d\"],[0.2,\"#de77ae\"],[0.3,\"#f1b6da\"],[0.4,\"#fde0ef\"],[0.5,\"#f7f7f7\"],[0.6,\"#e6f5d0\"],[0.7,\"#b8e186\"],[0.8,\"#7fbc41\"],[0.9,\"#4d9221\"],[1,\"#276419\"]]},\"xaxis\":{\"gridcolor\":\"white\",\"linecolor\":\"white\",\"ticks\":\"\",\"title\":{\"standoff\":15},\"zerolinecolor\":\"white\",\"automargin\":true,\"zerolinewidth\":2},\"yaxis\":{\"gridcolor\":\"white\",\"linecolor\":\"white\",\"ticks\":\"\",\"title\":{\"standoff\":15},\"zerolinecolor\":\"white\",\"automargin\":true,\"zerolinewidth\":2},\"scene\":{\"xaxis\":{\"backgroundcolor\":\"#E5ECF6\",\"gridcolor\":\"white\",\"linecolor\":\"white\",\"showbackground\":true,\"ticks\":\"\",\"zerolinecolor\":\"white\",\"gridwidth\":2},\"yaxis\":{\"backgroundcolor\":\"#E5ECF6\",\"gridcolor\":\"white\",\"linecolor\":\"white\",\"showbackground\":true,\"ticks\":\"\",\"zerolinecolor\":\"white\",\"gridwidth\":2},\"zaxis\":{\"backgroundcolor\":\"#E5ECF6\",\"gridcolor\":\"white\",\"linecolor\":\"white\",\"showbackground\":true,\"ticks\":\"\",\"zerolinecolor\":\"white\",\"gridwidth\":2}},\"shapedefaults\":{\"line\":{\"color\":\"#2a3f5f\"}},\"annotationdefaults\":{\"arrowcolor\":\"#2a3f5f\",\"arrowhead\":0,\"arrowwidth\":1},\"geo\":{\"bgcolor\":\"white\",\"landcolor\":\"#E5ECF6\",\"subunitcolor\":\"white\",\"showland\":true,\"showlakes\":true,\"lakecolor\":\"white\"},\"title\":{\"x\":0.05},\"mapbox\":{\"style\":\"light\"}}},\"xaxis\":{\"anchor\":\"y\",\"domain\":[0.0,1.0],\"title\":{\"text\":\"Brand Name\"}},\"yaxis\":{\"anchor\":\"x\",\"domain\":[0.0,1.0],\"title\":{\"text\":\"Counts\"}},\"legend\":{\"tracegroupgap\":0},\"title\":{\"text\":\"Distribution of Laptop Brands\"},\"barmode\":\"relative\"},                        {\"responsive\": true}                    ).then(function(){\n",
       "                            \n",
       "var gd = document.getElementById('626d4cc5-d455-47a3-891d-43bae350a6f7');\n",
       "var x = new MutationObserver(function (mutations, observer) {{\n",
       "        var display = window.getComputedStyle(gd).display;\n",
       "        if (!display || display === 'none') {{\n",
       "            console.log([gd, 'removed!']);\n",
       "            Plotly.purge(gd);\n",
       "            observer.disconnect();\n",
       "        }}\n",
       "}});\n",
       "\n",
       "// Listen for the removal of the full notebook cells\n",
       "var notebookContainer = gd.closest('#notebook-container');\n",
       "if (notebookContainer) {{\n",
       "    x.observe(notebookContainer, {childList: true});\n",
       "}}\n",
       "\n",
       "// Listen for the clearing of the current output cell\n",
       "var outputEl = gd.closest('.output');\n",
       "if (outputEl) {{\n",
       "    x.observe(outputEl, {childList: true});\n",
       "}}\n",
       "\n",
       "                        })                };                });            </script>        </div>"
      ]
     },
     "metadata": {},
     "output_type": "display_data"
    }
   ],
   "source": [
    "#plotting the distribution in a histogramc\n",
    "laptop_histogram = px.histogram(brand_counts_df, x = \"Brand\", y = \"Counts\",\n",
    "                               title = \"Distribution of Laptop Brands\")\n",
    "laptop_histogram.update_xaxes(title_text = \"Brand Name\")\n",
    "laptop_histogram.update_yaxes(title_text = \"Counts\")\n",
    "laptop_histogram.show()"
   ]
  },
  {
   "cell_type": "code",
   "execution_count": 13,
   "id": "dedd4f4e",
   "metadata": {},
   "outputs": [
    {
     "data": {
      "application/vnd.plotly.v1+json": {
       "config": {
        "plotlyServerURL": "https://plot.ly"
       },
       "data": [
        {
         "domain": {
          "x": [
           0,
           1
          ],
          "y": [
           0,
           1
          ]
         },
         "hovertemplate": "Brand=%{label}<br>Counts=%{value}<extra></extra>",
         "labels": [
          "Lenovo",
          "Dell",
          "HP",
          "Acer",
          "Microsoft",
          "MSI",
          "ASUS",
          "GIGABYTE",
          "Razer",
          "Samsung",
          "Alienware",
          "LG"
         ],
         "legendgroup": "",
         "name": "",
         "showlegend": true,
         "type": "pie",
         "values": [
          67,
          63,
          32,
          29,
          20,
          19,
          16,
          8,
          4,
          2,
          1,
          1
         ]
        }
       ],
       "layout": {
        "legend": {
         "tracegroupgap": 0
        },
        "template": {
         "data": {
          "bar": [
           {
            "error_x": {
             "color": "#2a3f5f"
            },
            "error_y": {
             "color": "#2a3f5f"
            },
            "marker": {
             "line": {
              "color": "#E5ECF6",
              "width": 0.5
             },
             "pattern": {
              "fillmode": "overlay",
              "size": 10,
              "solidity": 0.2
             }
            },
            "type": "bar"
           }
          ],
          "barpolar": [
           {
            "marker": {
             "line": {
              "color": "#E5ECF6",
              "width": 0.5
             },
             "pattern": {
              "fillmode": "overlay",
              "size": 10,
              "solidity": 0.2
             }
            },
            "type": "barpolar"
           }
          ],
          "carpet": [
           {
            "aaxis": {
             "endlinecolor": "#2a3f5f",
             "gridcolor": "white",
             "linecolor": "white",
             "minorgridcolor": "white",
             "startlinecolor": "#2a3f5f"
            },
            "baxis": {
             "endlinecolor": "#2a3f5f",
             "gridcolor": "white",
             "linecolor": "white",
             "minorgridcolor": "white",
             "startlinecolor": "#2a3f5f"
            },
            "type": "carpet"
           }
          ],
          "choropleth": [
           {
            "colorbar": {
             "outlinewidth": 0,
             "ticks": ""
            },
            "type": "choropleth"
           }
          ],
          "contour": [
           {
            "colorbar": {
             "outlinewidth": 0,
             "ticks": ""
            },
            "colorscale": [
             [
              0,
              "#0d0887"
             ],
             [
              0.1111111111111111,
              "#46039f"
             ],
             [
              0.2222222222222222,
              "#7201a8"
             ],
             [
              0.3333333333333333,
              "#9c179e"
             ],
             [
              0.4444444444444444,
              "#bd3786"
             ],
             [
              0.5555555555555556,
              "#d8576b"
             ],
             [
              0.6666666666666666,
              "#ed7953"
             ],
             [
              0.7777777777777778,
              "#fb9f3a"
             ],
             [
              0.8888888888888888,
              "#fdca26"
             ],
             [
              1,
              "#f0f921"
             ]
            ],
            "type": "contour"
           }
          ],
          "contourcarpet": [
           {
            "colorbar": {
             "outlinewidth": 0,
             "ticks": ""
            },
            "type": "contourcarpet"
           }
          ],
          "heatmap": [
           {
            "colorbar": {
             "outlinewidth": 0,
             "ticks": ""
            },
            "colorscale": [
             [
              0,
              "#0d0887"
             ],
             [
              0.1111111111111111,
              "#46039f"
             ],
             [
              0.2222222222222222,
              "#7201a8"
             ],
             [
              0.3333333333333333,
              "#9c179e"
             ],
             [
              0.4444444444444444,
              "#bd3786"
             ],
             [
              0.5555555555555556,
              "#d8576b"
             ],
             [
              0.6666666666666666,
              "#ed7953"
             ],
             [
              0.7777777777777778,
              "#fb9f3a"
             ],
             [
              0.8888888888888888,
              "#fdca26"
             ],
             [
              1,
              "#f0f921"
             ]
            ],
            "type": "heatmap"
           }
          ],
          "heatmapgl": [
           {
            "colorbar": {
             "outlinewidth": 0,
             "ticks": ""
            },
            "colorscale": [
             [
              0,
              "#0d0887"
             ],
             [
              0.1111111111111111,
              "#46039f"
             ],
             [
              0.2222222222222222,
              "#7201a8"
             ],
             [
              0.3333333333333333,
              "#9c179e"
             ],
             [
              0.4444444444444444,
              "#bd3786"
             ],
             [
              0.5555555555555556,
              "#d8576b"
             ],
             [
              0.6666666666666666,
              "#ed7953"
             ],
             [
              0.7777777777777778,
              "#fb9f3a"
             ],
             [
              0.8888888888888888,
              "#fdca26"
             ],
             [
              1,
              "#f0f921"
             ]
            ],
            "type": "heatmapgl"
           }
          ],
          "histogram": [
           {
            "marker": {
             "pattern": {
              "fillmode": "overlay",
              "size": 10,
              "solidity": 0.2
             }
            },
            "type": "histogram"
           }
          ],
          "histogram2d": [
           {
            "colorbar": {
             "outlinewidth": 0,
             "ticks": ""
            },
            "colorscale": [
             [
              0,
              "#0d0887"
             ],
             [
              0.1111111111111111,
              "#46039f"
             ],
             [
              0.2222222222222222,
              "#7201a8"
             ],
             [
              0.3333333333333333,
              "#9c179e"
             ],
             [
              0.4444444444444444,
              "#bd3786"
             ],
             [
              0.5555555555555556,
              "#d8576b"
             ],
             [
              0.6666666666666666,
              "#ed7953"
             ],
             [
              0.7777777777777778,
              "#fb9f3a"
             ],
             [
              0.8888888888888888,
              "#fdca26"
             ],
             [
              1,
              "#f0f921"
             ]
            ],
            "type": "histogram2d"
           }
          ],
          "histogram2dcontour": [
           {
            "colorbar": {
             "outlinewidth": 0,
             "ticks": ""
            },
            "colorscale": [
             [
              0,
              "#0d0887"
             ],
             [
              0.1111111111111111,
              "#46039f"
             ],
             [
              0.2222222222222222,
              "#7201a8"
             ],
             [
              0.3333333333333333,
              "#9c179e"
             ],
             [
              0.4444444444444444,
              "#bd3786"
             ],
             [
              0.5555555555555556,
              "#d8576b"
             ],
             [
              0.6666666666666666,
              "#ed7953"
             ],
             [
              0.7777777777777778,
              "#fb9f3a"
             ],
             [
              0.8888888888888888,
              "#fdca26"
             ],
             [
              1,
              "#f0f921"
             ]
            ],
            "type": "histogram2dcontour"
           }
          ],
          "mesh3d": [
           {
            "colorbar": {
             "outlinewidth": 0,
             "ticks": ""
            },
            "type": "mesh3d"
           }
          ],
          "parcoords": [
           {
            "line": {
             "colorbar": {
              "outlinewidth": 0,
              "ticks": ""
             }
            },
            "type": "parcoords"
           }
          ],
          "pie": [
           {
            "automargin": true,
            "type": "pie"
           }
          ],
          "scatter": [
           {
            "fillpattern": {
             "fillmode": "overlay",
             "size": 10,
             "solidity": 0.2
            },
            "type": "scatter"
           }
          ],
          "scatter3d": [
           {
            "line": {
             "colorbar": {
              "outlinewidth": 0,
              "ticks": ""
             }
            },
            "marker": {
             "colorbar": {
              "outlinewidth": 0,
              "ticks": ""
             }
            },
            "type": "scatter3d"
           }
          ],
          "scattercarpet": [
           {
            "marker": {
             "colorbar": {
              "outlinewidth": 0,
              "ticks": ""
             }
            },
            "type": "scattercarpet"
           }
          ],
          "scattergeo": [
           {
            "marker": {
             "colorbar": {
              "outlinewidth": 0,
              "ticks": ""
             }
            },
            "type": "scattergeo"
           }
          ],
          "scattergl": [
           {
            "marker": {
             "colorbar": {
              "outlinewidth": 0,
              "ticks": ""
             }
            },
            "type": "scattergl"
           }
          ],
          "scattermapbox": [
           {
            "marker": {
             "colorbar": {
              "outlinewidth": 0,
              "ticks": ""
             }
            },
            "type": "scattermapbox"
           }
          ],
          "scatterpolar": [
           {
            "marker": {
             "colorbar": {
              "outlinewidth": 0,
              "ticks": ""
             }
            },
            "type": "scatterpolar"
           }
          ],
          "scatterpolargl": [
           {
            "marker": {
             "colorbar": {
              "outlinewidth": 0,
              "ticks": ""
             }
            },
            "type": "scatterpolargl"
           }
          ],
          "scatterternary": [
           {
            "marker": {
             "colorbar": {
              "outlinewidth": 0,
              "ticks": ""
             }
            },
            "type": "scatterternary"
           }
          ],
          "surface": [
           {
            "colorbar": {
             "outlinewidth": 0,
             "ticks": ""
            },
            "colorscale": [
             [
              0,
              "#0d0887"
             ],
             [
              0.1111111111111111,
              "#46039f"
             ],
             [
              0.2222222222222222,
              "#7201a8"
             ],
             [
              0.3333333333333333,
              "#9c179e"
             ],
             [
              0.4444444444444444,
              "#bd3786"
             ],
             [
              0.5555555555555556,
              "#d8576b"
             ],
             [
              0.6666666666666666,
              "#ed7953"
             ],
             [
              0.7777777777777778,
              "#fb9f3a"
             ],
             [
              0.8888888888888888,
              "#fdca26"
             ],
             [
              1,
              "#f0f921"
             ]
            ],
            "type": "surface"
           }
          ],
          "table": [
           {
            "cells": {
             "fill": {
              "color": "#EBF0F8"
             },
             "line": {
              "color": "white"
             }
            },
            "header": {
             "fill": {
              "color": "#C8D4E3"
             },
             "line": {
              "color": "white"
             }
            },
            "type": "table"
           }
          ]
         },
         "layout": {
          "annotationdefaults": {
           "arrowcolor": "#2a3f5f",
           "arrowhead": 0,
           "arrowwidth": 1
          },
          "autotypenumbers": "strict",
          "coloraxis": {
           "colorbar": {
            "outlinewidth": 0,
            "ticks": ""
           }
          },
          "colorscale": {
           "diverging": [
            [
             0,
             "#8e0152"
            ],
            [
             0.1,
             "#c51b7d"
            ],
            [
             0.2,
             "#de77ae"
            ],
            [
             0.3,
             "#f1b6da"
            ],
            [
             0.4,
             "#fde0ef"
            ],
            [
             0.5,
             "#f7f7f7"
            ],
            [
             0.6,
             "#e6f5d0"
            ],
            [
             0.7,
             "#b8e186"
            ],
            [
             0.8,
             "#7fbc41"
            ],
            [
             0.9,
             "#4d9221"
            ],
            [
             1,
             "#276419"
            ]
           ],
           "sequential": [
            [
             0,
             "#0d0887"
            ],
            [
             0.1111111111111111,
             "#46039f"
            ],
            [
             0.2222222222222222,
             "#7201a8"
            ],
            [
             0.3333333333333333,
             "#9c179e"
            ],
            [
             0.4444444444444444,
             "#bd3786"
            ],
            [
             0.5555555555555556,
             "#d8576b"
            ],
            [
             0.6666666666666666,
             "#ed7953"
            ],
            [
             0.7777777777777778,
             "#fb9f3a"
            ],
            [
             0.8888888888888888,
             "#fdca26"
            ],
            [
             1,
             "#f0f921"
            ]
           ],
           "sequentialminus": [
            [
             0,
             "#0d0887"
            ],
            [
             0.1111111111111111,
             "#46039f"
            ],
            [
             0.2222222222222222,
             "#7201a8"
            ],
            [
             0.3333333333333333,
             "#9c179e"
            ],
            [
             0.4444444444444444,
             "#bd3786"
            ],
            [
             0.5555555555555556,
             "#d8576b"
            ],
            [
             0.6666666666666666,
             "#ed7953"
            ],
            [
             0.7777777777777778,
             "#fb9f3a"
            ],
            [
             0.8888888888888888,
             "#fdca26"
            ],
            [
             1,
             "#f0f921"
            ]
           ]
          },
          "colorway": [
           "#636efa",
           "#EF553B",
           "#00cc96",
           "#ab63fa",
           "#FFA15A",
           "#19d3f3",
           "#FF6692",
           "#B6E880",
           "#FF97FF",
           "#FECB52"
          ],
          "font": {
           "color": "#2a3f5f"
          },
          "geo": {
           "bgcolor": "white",
           "lakecolor": "white",
           "landcolor": "#E5ECF6",
           "showlakes": true,
           "showland": true,
           "subunitcolor": "white"
          },
          "hoverlabel": {
           "align": "left"
          },
          "hovermode": "closest",
          "mapbox": {
           "style": "light"
          },
          "paper_bgcolor": "white",
          "plot_bgcolor": "#E5ECF6",
          "polar": {
           "angularaxis": {
            "gridcolor": "white",
            "linecolor": "white",
            "ticks": ""
           },
           "bgcolor": "#E5ECF6",
           "radialaxis": {
            "gridcolor": "white",
            "linecolor": "white",
            "ticks": ""
           }
          },
          "scene": {
           "xaxis": {
            "backgroundcolor": "#E5ECF6",
            "gridcolor": "white",
            "gridwidth": 2,
            "linecolor": "white",
            "showbackground": true,
            "ticks": "",
            "zerolinecolor": "white"
           },
           "yaxis": {
            "backgroundcolor": "#E5ECF6",
            "gridcolor": "white",
            "gridwidth": 2,
            "linecolor": "white",
            "showbackground": true,
            "ticks": "",
            "zerolinecolor": "white"
           },
           "zaxis": {
            "backgroundcolor": "#E5ECF6",
            "gridcolor": "white",
            "gridwidth": 2,
            "linecolor": "white",
            "showbackground": true,
            "ticks": "",
            "zerolinecolor": "white"
           }
          },
          "shapedefaults": {
           "line": {
            "color": "#2a3f5f"
           }
          },
          "ternary": {
           "aaxis": {
            "gridcolor": "white",
            "linecolor": "white",
            "ticks": ""
           },
           "baxis": {
            "gridcolor": "white",
            "linecolor": "white",
            "ticks": ""
           },
           "bgcolor": "#E5ECF6",
           "caxis": {
            "gridcolor": "white",
            "linecolor": "white",
            "ticks": ""
           }
          },
          "title": {
           "x": 0.05
          },
          "xaxis": {
           "automargin": true,
           "gridcolor": "white",
           "linecolor": "white",
           "ticks": "",
           "title": {
            "standoff": 15
           },
           "zerolinecolor": "white",
           "zerolinewidth": 2
          },
          "yaxis": {
           "automargin": true,
           "gridcolor": "white",
           "linecolor": "white",
           "ticks": "",
           "title": {
            "standoff": 15
           },
           "zerolinecolor": "white",
           "zerolinewidth": 2
          }
         }
        },
        "title": {
         "text": "Brand Count Pie Chart"
        }
       }
      },
      "text/html": [
       "<div>                            <div id=\"c6643774-6fb0-4f62-81ad-0785fd082a41\" class=\"plotly-graph-div\" style=\"height:525px; width:100%;\"></div>            <script type=\"text/javascript\">                require([\"plotly\"], function(Plotly) {                    window.PLOTLYENV=window.PLOTLYENV || {};                                    if (document.getElementById(\"c6643774-6fb0-4f62-81ad-0785fd082a41\")) {                    Plotly.newPlot(                        \"c6643774-6fb0-4f62-81ad-0785fd082a41\",                        [{\"domain\":{\"x\":[0.0,1.0],\"y\":[0.0,1.0]},\"hovertemplate\":\"Brand=%{label}\\u003cbr\\u003eCounts=%{value}\\u003cextra\\u003e\\u003c\\u002fextra\\u003e\",\"labels\":[\"Lenovo\",\"Dell\",\"HP\",\"Acer\",\"Microsoft\",\"MSI\",\"ASUS\",\"GIGABYTE\",\"Razer\",\"Samsung\",\"Alienware\",\"LG\"],\"legendgroup\":\"\",\"name\":\"\",\"showlegend\":true,\"values\":[67,63,32,29,20,19,16,8,4,2,1,1],\"type\":\"pie\"}],                        {\"template\":{\"data\":{\"histogram2dcontour\":[{\"type\":\"histogram2dcontour\",\"colorbar\":{\"outlinewidth\":0,\"ticks\":\"\"},\"colorscale\":[[0.0,\"#0d0887\"],[0.1111111111111111,\"#46039f\"],[0.2222222222222222,\"#7201a8\"],[0.3333333333333333,\"#9c179e\"],[0.4444444444444444,\"#bd3786\"],[0.5555555555555556,\"#d8576b\"],[0.6666666666666666,\"#ed7953\"],[0.7777777777777778,\"#fb9f3a\"],[0.8888888888888888,\"#fdca26\"],[1.0,\"#f0f921\"]]}],\"choropleth\":[{\"type\":\"choropleth\",\"colorbar\":{\"outlinewidth\":0,\"ticks\":\"\"}}],\"histogram2d\":[{\"type\":\"histogram2d\",\"colorbar\":{\"outlinewidth\":0,\"ticks\":\"\"},\"colorscale\":[[0.0,\"#0d0887\"],[0.1111111111111111,\"#46039f\"],[0.2222222222222222,\"#7201a8\"],[0.3333333333333333,\"#9c179e\"],[0.4444444444444444,\"#bd3786\"],[0.5555555555555556,\"#d8576b\"],[0.6666666666666666,\"#ed7953\"],[0.7777777777777778,\"#fb9f3a\"],[0.8888888888888888,\"#fdca26\"],[1.0,\"#f0f921\"]]}],\"heatmap\":[{\"type\":\"heatmap\",\"colorbar\":{\"outlinewidth\":0,\"ticks\":\"\"},\"colorscale\":[[0.0,\"#0d0887\"],[0.1111111111111111,\"#46039f\"],[0.2222222222222222,\"#7201a8\"],[0.3333333333333333,\"#9c179e\"],[0.4444444444444444,\"#bd3786\"],[0.5555555555555556,\"#d8576b\"],[0.6666666666666666,\"#ed7953\"],[0.7777777777777778,\"#fb9f3a\"],[0.8888888888888888,\"#fdca26\"],[1.0,\"#f0f921\"]]}],\"heatmapgl\":[{\"type\":\"heatmapgl\",\"colorbar\":{\"outlinewidth\":0,\"ticks\":\"\"},\"colorscale\":[[0.0,\"#0d0887\"],[0.1111111111111111,\"#46039f\"],[0.2222222222222222,\"#7201a8\"],[0.3333333333333333,\"#9c179e\"],[0.4444444444444444,\"#bd3786\"],[0.5555555555555556,\"#d8576b\"],[0.6666666666666666,\"#ed7953\"],[0.7777777777777778,\"#fb9f3a\"],[0.8888888888888888,\"#fdca26\"],[1.0,\"#f0f921\"]]}],\"contourcarpet\":[{\"type\":\"contourcarpet\",\"colorbar\":{\"outlinewidth\":0,\"ticks\":\"\"}}],\"contour\":[{\"type\":\"contour\",\"colorbar\":{\"outlinewidth\":0,\"ticks\":\"\"},\"colorscale\":[[0.0,\"#0d0887\"],[0.1111111111111111,\"#46039f\"],[0.2222222222222222,\"#7201a8\"],[0.3333333333333333,\"#9c179e\"],[0.4444444444444444,\"#bd3786\"],[0.5555555555555556,\"#d8576b\"],[0.6666666666666666,\"#ed7953\"],[0.7777777777777778,\"#fb9f3a\"],[0.8888888888888888,\"#fdca26\"],[1.0,\"#f0f921\"]]}],\"surface\":[{\"type\":\"surface\",\"colorbar\":{\"outlinewidth\":0,\"ticks\":\"\"},\"colorscale\":[[0.0,\"#0d0887\"],[0.1111111111111111,\"#46039f\"],[0.2222222222222222,\"#7201a8\"],[0.3333333333333333,\"#9c179e\"],[0.4444444444444444,\"#bd3786\"],[0.5555555555555556,\"#d8576b\"],[0.6666666666666666,\"#ed7953\"],[0.7777777777777778,\"#fb9f3a\"],[0.8888888888888888,\"#fdca26\"],[1.0,\"#f0f921\"]]}],\"mesh3d\":[{\"type\":\"mesh3d\",\"colorbar\":{\"outlinewidth\":0,\"ticks\":\"\"}}],\"scatter\":[{\"fillpattern\":{\"fillmode\":\"overlay\",\"size\":10,\"solidity\":0.2},\"type\":\"scatter\"}],\"parcoords\":[{\"type\":\"parcoords\",\"line\":{\"colorbar\":{\"outlinewidth\":0,\"ticks\":\"\"}}}],\"scatterpolargl\":[{\"type\":\"scatterpolargl\",\"marker\":{\"colorbar\":{\"outlinewidth\":0,\"ticks\":\"\"}}}],\"bar\":[{\"error_x\":{\"color\":\"#2a3f5f\"},\"error_y\":{\"color\":\"#2a3f5f\"},\"marker\":{\"line\":{\"color\":\"#E5ECF6\",\"width\":0.5},\"pattern\":{\"fillmode\":\"overlay\",\"size\":10,\"solidity\":0.2}},\"type\":\"bar\"}],\"scattergeo\":[{\"type\":\"scattergeo\",\"marker\":{\"colorbar\":{\"outlinewidth\":0,\"ticks\":\"\"}}}],\"scatterpolar\":[{\"type\":\"scatterpolar\",\"marker\":{\"colorbar\":{\"outlinewidth\":0,\"ticks\":\"\"}}}],\"histogram\":[{\"marker\":{\"pattern\":{\"fillmode\":\"overlay\",\"size\":10,\"solidity\":0.2}},\"type\":\"histogram\"}],\"scattergl\":[{\"type\":\"scattergl\",\"marker\":{\"colorbar\":{\"outlinewidth\":0,\"ticks\":\"\"}}}],\"scatter3d\":[{\"type\":\"scatter3d\",\"line\":{\"colorbar\":{\"outlinewidth\":0,\"ticks\":\"\"}},\"marker\":{\"colorbar\":{\"outlinewidth\":0,\"ticks\":\"\"}}}],\"scattermapbox\":[{\"type\":\"scattermapbox\",\"marker\":{\"colorbar\":{\"outlinewidth\":0,\"ticks\":\"\"}}}],\"scatterternary\":[{\"type\":\"scatterternary\",\"marker\":{\"colorbar\":{\"outlinewidth\":0,\"ticks\":\"\"}}}],\"scattercarpet\":[{\"type\":\"scattercarpet\",\"marker\":{\"colorbar\":{\"outlinewidth\":0,\"ticks\":\"\"}}}],\"carpet\":[{\"aaxis\":{\"endlinecolor\":\"#2a3f5f\",\"gridcolor\":\"white\",\"linecolor\":\"white\",\"minorgridcolor\":\"white\",\"startlinecolor\":\"#2a3f5f\"},\"baxis\":{\"endlinecolor\":\"#2a3f5f\",\"gridcolor\":\"white\",\"linecolor\":\"white\",\"minorgridcolor\":\"white\",\"startlinecolor\":\"#2a3f5f\"},\"type\":\"carpet\"}],\"table\":[{\"cells\":{\"fill\":{\"color\":\"#EBF0F8\"},\"line\":{\"color\":\"white\"}},\"header\":{\"fill\":{\"color\":\"#C8D4E3\"},\"line\":{\"color\":\"white\"}},\"type\":\"table\"}],\"barpolar\":[{\"marker\":{\"line\":{\"color\":\"#E5ECF6\",\"width\":0.5},\"pattern\":{\"fillmode\":\"overlay\",\"size\":10,\"solidity\":0.2}},\"type\":\"barpolar\"}],\"pie\":[{\"automargin\":true,\"type\":\"pie\"}]},\"layout\":{\"autotypenumbers\":\"strict\",\"colorway\":[\"#636efa\",\"#EF553B\",\"#00cc96\",\"#ab63fa\",\"#FFA15A\",\"#19d3f3\",\"#FF6692\",\"#B6E880\",\"#FF97FF\",\"#FECB52\"],\"font\":{\"color\":\"#2a3f5f\"},\"hovermode\":\"closest\",\"hoverlabel\":{\"align\":\"left\"},\"paper_bgcolor\":\"white\",\"plot_bgcolor\":\"#E5ECF6\",\"polar\":{\"bgcolor\":\"#E5ECF6\",\"angularaxis\":{\"gridcolor\":\"white\",\"linecolor\":\"white\",\"ticks\":\"\"},\"radialaxis\":{\"gridcolor\":\"white\",\"linecolor\":\"white\",\"ticks\":\"\"}},\"ternary\":{\"bgcolor\":\"#E5ECF6\",\"aaxis\":{\"gridcolor\":\"white\",\"linecolor\":\"white\",\"ticks\":\"\"},\"baxis\":{\"gridcolor\":\"white\",\"linecolor\":\"white\",\"ticks\":\"\"},\"caxis\":{\"gridcolor\":\"white\",\"linecolor\":\"white\",\"ticks\":\"\"}},\"coloraxis\":{\"colorbar\":{\"outlinewidth\":0,\"ticks\":\"\"}},\"colorscale\":{\"sequential\":[[0.0,\"#0d0887\"],[0.1111111111111111,\"#46039f\"],[0.2222222222222222,\"#7201a8\"],[0.3333333333333333,\"#9c179e\"],[0.4444444444444444,\"#bd3786\"],[0.5555555555555556,\"#d8576b\"],[0.6666666666666666,\"#ed7953\"],[0.7777777777777778,\"#fb9f3a\"],[0.8888888888888888,\"#fdca26\"],[1.0,\"#f0f921\"]],\"sequentialminus\":[[0.0,\"#0d0887\"],[0.1111111111111111,\"#46039f\"],[0.2222222222222222,\"#7201a8\"],[0.3333333333333333,\"#9c179e\"],[0.4444444444444444,\"#bd3786\"],[0.5555555555555556,\"#d8576b\"],[0.6666666666666666,\"#ed7953\"],[0.7777777777777778,\"#fb9f3a\"],[0.8888888888888888,\"#fdca26\"],[1.0,\"#f0f921\"]],\"diverging\":[[0,\"#8e0152\"],[0.1,\"#c51b7d\"],[0.2,\"#de77ae\"],[0.3,\"#f1b6da\"],[0.4,\"#fde0ef\"],[0.5,\"#f7f7f7\"],[0.6,\"#e6f5d0\"],[0.7,\"#b8e186\"],[0.8,\"#7fbc41\"],[0.9,\"#4d9221\"],[1,\"#276419\"]]},\"xaxis\":{\"gridcolor\":\"white\",\"linecolor\":\"white\",\"ticks\":\"\",\"title\":{\"standoff\":15},\"zerolinecolor\":\"white\",\"automargin\":true,\"zerolinewidth\":2},\"yaxis\":{\"gridcolor\":\"white\",\"linecolor\":\"white\",\"ticks\":\"\",\"title\":{\"standoff\":15},\"zerolinecolor\":\"white\",\"automargin\":true,\"zerolinewidth\":2},\"scene\":{\"xaxis\":{\"backgroundcolor\":\"#E5ECF6\",\"gridcolor\":\"white\",\"linecolor\":\"white\",\"showbackground\":true,\"ticks\":\"\",\"zerolinecolor\":\"white\",\"gridwidth\":2},\"yaxis\":{\"backgroundcolor\":\"#E5ECF6\",\"gridcolor\":\"white\",\"linecolor\":\"white\",\"showbackground\":true,\"ticks\":\"\",\"zerolinecolor\":\"white\",\"gridwidth\":2},\"zaxis\":{\"backgroundcolor\":\"#E5ECF6\",\"gridcolor\":\"white\",\"linecolor\":\"white\",\"showbackground\":true,\"ticks\":\"\",\"zerolinecolor\":\"white\",\"gridwidth\":2}},\"shapedefaults\":{\"line\":{\"color\":\"#2a3f5f\"}},\"annotationdefaults\":{\"arrowcolor\":\"#2a3f5f\",\"arrowhead\":0,\"arrowwidth\":1},\"geo\":{\"bgcolor\":\"white\",\"landcolor\":\"#E5ECF6\",\"subunitcolor\":\"white\",\"showland\":true,\"showlakes\":true,\"lakecolor\":\"white\"},\"title\":{\"x\":0.05},\"mapbox\":{\"style\":\"light\"}}},\"legend\":{\"tracegroupgap\":0},\"title\":{\"text\":\"Brand Count Pie Chart\"}},                        {\"responsive\": true}                    ).then(function(){\n",
       "                            \n",
       "var gd = document.getElementById('c6643774-6fb0-4f62-81ad-0785fd082a41');\n",
       "var x = new MutationObserver(function (mutations, observer) {{\n",
       "        var display = window.getComputedStyle(gd).display;\n",
       "        if (!display || display === 'none') {{\n",
       "            console.log([gd, 'removed!']);\n",
       "            Plotly.purge(gd);\n",
       "            observer.disconnect();\n",
       "        }}\n",
       "}});\n",
       "\n",
       "// Listen for the removal of the full notebook cells\n",
       "var notebookContainer = gd.closest('#notebook-container');\n",
       "if (notebookContainer) {{\n",
       "    x.observe(notebookContainer, {childList: true});\n",
       "}}\n",
       "\n",
       "// Listen for the clearing of the current output cell\n",
       "var outputEl = gd.closest('.output');\n",
       "if (outputEl) {{\n",
       "    x.observe(outputEl, {childList: true});\n",
       "}}\n",
       "\n",
       "                        })                };                });            </script>        </div>"
      ]
     },
     "metadata": {},
     "output_type": "display_data"
    }
   ],
   "source": [
    "#plotting the distribution in a pie chart\n",
    "pie_chart = px.pie(brand_counts_df, values = \"Counts\", names = \"Brand\", title = \"Brand Count Pie Chart\")\n",
    "pie_chart.show()"
   ]
  },
  {
   "cell_type": "markdown",
   "id": "61679fc7",
   "metadata": {},
   "source": [
    "Taking a look at the laptop histogram and pie chart we can see the Lenovo, Dell, HP, Acer, and Microsoft are the top 5 brands with the most number of laptops within this cleaned dataset."
   ]
  },
  {
   "cell_type": "code",
   "execution_count": null,
   "id": "e16b306c",
   "metadata": {},
   "outputs": [],
   "source": []
  },
  {
   "cell_type": "code",
   "execution_count": null,
   "id": "dc004e3c",
   "metadata": {},
   "outputs": [],
   "source": []
  },
  {
   "cell_type": "code",
   "execution_count": null,
   "id": "91719438",
   "metadata": {},
   "outputs": [],
   "source": []
  }
 ],
 "metadata": {
  "kernelspec": {
   "display_name": "Python 3 (ipykernel)",
   "language": "python",
   "name": "python3"
  },
  "language_info": {
   "codemirror_mode": {
    "name": "ipython",
    "version": 3
   },
   "file_extension": ".py",
   "mimetype": "text/x-python",
   "name": "python",
   "nbconvert_exporter": "python",
   "pygments_lexer": "ipython3",
   "version": "3.10.12"
  }
 },
 "nbformat": 4,
 "nbformat_minor": 5
}
