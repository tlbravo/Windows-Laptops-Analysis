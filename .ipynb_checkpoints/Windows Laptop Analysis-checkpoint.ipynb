{
 "cells": [
  {
   "cell_type": "code",
   "execution_count": 1,
   "id": "b09d6126",
   "metadata": {},
   "outputs": [],
   "source": [
    "import pandas as pd\n",
    "import numpy as np\n",
    "import matplotlib.pyplot as plt\n",
    "import plotly.express as px"
   ]
  },
  {
   "cell_type": "code",
   "execution_count": 2,
   "id": "3de69ad1",
   "metadata": {},
   "outputs": [
    {
     "data": {
      "text/html": [
       "<div>\n",
       "<style scoped>\n",
       "    .dataframe tbody tr th:only-of-type {\n",
       "        vertical-align: middle;\n",
       "    }\n",
       "\n",
       "    .dataframe tbody tr th {\n",
       "        vertical-align: top;\n",
       "    }\n",
       "\n",
       "    .dataframe thead th {\n",
       "        text-align: right;\n",
       "    }\n",
       "</style>\n",
       "<table border=\"1\" class=\"dataframe\">\n",
       "  <thead>\n",
       "    <tr style=\"text-align: right;\">\n",
       "      <th></th>\n",
       "      <th>brand</th>\n",
       "      <th>model</th>\n",
       "      <th>aggregateRating/ratingValue</th>\n",
       "      <th>aggregateRating/reviewCount</th>\n",
       "      <th>offers/price</th>\n",
       "      <th>offers/priceCurrency</th>\n",
       "      <th>depth</th>\n",
       "      <th>width</th>\n",
       "      <th>features/0/description</th>\n",
       "      <th>features/1/description</th>\n",
       "    </tr>\n",
       "  </thead>\n",
       "  <tbody>\n",
       "    <tr>\n",
       "      <th>0</th>\n",
       "      <td>Dell</td>\n",
       "      <td>i7430-7374SLV-PUS</td>\n",
       "      <td>4.7</td>\n",
       "      <td>1088.0</td>\n",
       "      <td>NaN</td>\n",
       "      <td>USD</td>\n",
       "      <td>8.92</td>\n",
       "      <td>12.36</td>\n",
       "      <td>Windows 11 brings back the Start Menu from Win...</td>\n",
       "      <td>Equipped with a FHD+ IPS touch screen, the bor...</td>\n",
       "    </tr>\n",
       "    <tr>\n",
       "      <th>1</th>\n",
       "      <td>Dell</td>\n",
       "      <td>i3520-5810BLK-PUS</td>\n",
       "      <td>4.6</td>\n",
       "      <td>839.0</td>\n",
       "      <td>NaN</td>\n",
       "      <td>USD</td>\n",
       "      <td>9.27</td>\n",
       "      <td>14.11</td>\n",
       "      <td>Experience the most secure Windows ever built ...</td>\n",
       "      <td>Natural finger-touch navigation makes the most...</td>\n",
       "    </tr>\n",
       "    <tr>\n",
       "      <th>2</th>\n",
       "      <td>Lenovo</td>\n",
       "      <td>82YL0002US</td>\n",
       "      <td>4.7</td>\n",
       "      <td>127.0</td>\n",
       "      <td>NaN</td>\n",
       "      <td>USD</td>\n",
       "      <td>8.76</td>\n",
       "      <td>12.51</td>\n",
       "      <td>Windows 11 brings back the Start Menu from Win...</td>\n",
       "      <td>Find the relevant information and ideas you ne...</td>\n",
       "    </tr>\n",
       "    <tr>\n",
       "      <th>3</th>\n",
       "      <td>Microsoft</td>\n",
       "      <td>DTI-00001</td>\n",
       "      <td>4.7</td>\n",
       "      <td>926.0</td>\n",
       "      <td>NaN</td>\n",
       "      <td>USD</td>\n",
       "      <td>7.90</td>\n",
       "      <td>11.50</td>\n",
       "      <td>Find the relevant information and ideas you ne...</td>\n",
       "      <td>Iconic 2-in-1 design transforms into what you ...</td>\n",
       "    </tr>\n",
       "    <tr>\n",
       "      <th>4</th>\n",
       "      <td>Microsoft</td>\n",
       "      <td>R1S-00062</td>\n",
       "      <td>4.7</td>\n",
       "      <td>422.0</td>\n",
       "      <td>NaN</td>\n",
       "      <td>USD</td>\n",
       "      <td>8.80</td>\n",
       "      <td>12.10</td>\n",
       "      <td>Find the relevant information and ideas you ne...</td>\n",
       "      <td>Family, friends, passions, music, creations – ...</td>\n",
       "    </tr>\n",
       "  </tbody>\n",
       "</table>\n",
       "</div>"
      ],
      "text/plain": [
       "       brand              model  aggregateRating/ratingValue  \\\n",
       "0       Dell  i7430-7374SLV-PUS                          4.7   \n",
       "1       Dell  i3520-5810BLK-PUS                          4.6   \n",
       "2     Lenovo         82YL0002US                          4.7   \n",
       "3  Microsoft          DTI-00001                          4.7   \n",
       "4  Microsoft          R1S-00062                          4.7   \n",
       "\n",
       "   aggregateRating/reviewCount  offers/price offers/priceCurrency  depth  \\\n",
       "0                       1088.0           NaN                  USD   8.92   \n",
       "1                        839.0           NaN                  USD   9.27   \n",
       "2                        127.0           NaN                  USD   8.76   \n",
       "3                        926.0           NaN                  USD   7.90   \n",
       "4                        422.0           NaN                  USD   8.80   \n",
       "\n",
       "   width                             features/0/description  \\\n",
       "0  12.36  Windows 11 brings back the Start Menu from Win...   \n",
       "1  14.11  Experience the most secure Windows ever built ...   \n",
       "2  12.51  Windows 11 brings back the Start Menu from Win...   \n",
       "3  11.50  Find the relevant information and ideas you ne...   \n",
       "4  12.10  Find the relevant information and ideas you ne...   \n",
       "\n",
       "                              features/1/description  \n",
       "0  Equipped with a FHD+ IPS touch screen, the bor...  \n",
       "1  Natural finger-touch navigation makes the most...  \n",
       "2  Find the relevant information and ideas you ne...  \n",
       "3  Iconic 2-in-1 design transforms into what you ...  \n",
       "4  Family, friends, passions, music, creations – ...  "
      ]
     },
     "execution_count": 2,
     "metadata": {},
     "output_type": "execute_result"
    }
   ],
   "source": [
    "# Load monthly sales data \n",
    "laptops = pd.read_csv('best_buy_laptops_2024.csv')\n",
    "laptops.head()"
   ]
  },
  {
   "cell_type": "markdown",
   "id": "ae3414a5",
   "metadata": {},
   "source": [
    "This [dataset](https://www.kaggle.com/datasets/kanchana1990/best-buy-2024-windows-laptops?resource=download) encapsulates a comprehensive collection of Windows laptop listings from Best Buy for the 2024.\n",
    "\n",
    "Column Descriptions:\n",
    "1. brand (489 non-null, object): The manufacturer of the laptop, covering a diverse range of well-known companies such as Dell, Lenovo, Microsoft, and more, indicating the dataset's breadth in representing different manufacturers.\n",
    "2. model (488 non-null, object): The specific model identifier for each laptop, providing a unique distinction between different laptop offerings.\n",
    "3. aggregateRating/ratingValue (357 non-null, float64): The average consumer rating for each laptop on a scale, reflecting overall consumer satisfaction.\n",
    "4. aggregateRating/reviewCount (357 non-null, float64): The total number of reviews submitted for each laptop, offering insight into the level of consumer engagement and feedback.\n",
    "5. offers/price (262 non-null, float64): The listed selling price for each laptop on Best Buy, crucial for price trend analysis and market positioning.\n",
    "6. offers/priceCurrency (489 non-null, object): The currency of the listed price, uniformly denoted as 'USD', ensuring consistency in price data.\n",
    "7. depth (431 non-null, float64): The front-to-back measurement of each laptop, contributing to the understanding of laptop size and portability.\n",
    "8. width (431 non-null, float64): The side-to-side measurement, further detailing the physical dimensions of the laptops.\n",
    "9. features/0/description (486 non-null, object): A description of a primary feature or selling point for the laptop, highlighting unique or standout specifications.\n",
    "10. features/1/description (483 non-null, object): Descriptions of a secondary feature, providing additional insights into the laptops' capabilities and attractions."
   ]
  },
  {
   "cell_type": "code",
   "execution_count": 6,
   "id": "07f2fc7e",
   "metadata": {},
   "outputs": [
    {
     "data": {
      "text/plain": [
       "brand                            0\n",
       "model                            1\n",
       "aggregateRating/ratingValue    132\n",
       "aggregateRating/reviewCount    132\n",
       "offers/price                   227\n",
       "offers/priceCurrency             0\n",
       "depth                           58\n",
       "width                           58\n",
       "features/0/description           3\n",
       "features/1/description           6\n",
       "dtype: int64"
      ]
     },
     "execution_count": 6,
     "metadata": {},
     "output_type": "execute_result"
    }
   ],
   "source": [
    "# Check number of NaNs for each column\n",
    "missing_info = laptops.isna().sum()\n",
    "missing_info"
   ]
  },
  {
   "cell_type": "code",
   "execution_count": 10,
   "id": "7d45beea",
   "metadata": {},
   "outputs": [
    {
     "data": {
      "text/html": [
       "<div>\n",
       "<style scoped>\n",
       "    .dataframe tbody tr th:only-of-type {\n",
       "        vertical-align: middle;\n",
       "    }\n",
       "\n",
       "    .dataframe tbody tr th {\n",
       "        vertical-align: top;\n",
       "    }\n",
       "\n",
       "    .dataframe thead th {\n",
       "        text-align: right;\n",
       "    }\n",
       "</style>\n",
       "<table border=\"1\" class=\"dataframe\">\n",
       "  <thead>\n",
       "    <tr style=\"text-align: right;\">\n",
       "      <th></th>\n",
       "      <th>brand</th>\n",
       "      <th>model</th>\n",
       "      <th>aggregateRating/ratingValue</th>\n",
       "      <th>aggregateRating/reviewCount</th>\n",
       "      <th>offers/price</th>\n",
       "      <th>offers/priceCurrency</th>\n",
       "      <th>depth</th>\n",
       "      <th>width</th>\n",
       "      <th>features/0/description</th>\n",
       "      <th>features/1/description</th>\n",
       "    </tr>\n",
       "  </thead>\n",
       "  <tbody>\n",
       "    <tr>\n",
       "      <th>0</th>\n",
       "      <td>Dell</td>\n",
       "      <td>i7430-7374SLV-PUS</td>\n",
       "      <td>4.7</td>\n",
       "      <td>1088.0</td>\n",
       "      <td>0.0</td>\n",
       "      <td>USD</td>\n",
       "      <td>8.92</td>\n",
       "      <td>12.36</td>\n",
       "      <td>Windows 11 brings back the Start Menu from Win...</td>\n",
       "      <td>Equipped with a FHD+ IPS touch screen, the bor...</td>\n",
       "    </tr>\n",
       "    <tr>\n",
       "      <th>1</th>\n",
       "      <td>Dell</td>\n",
       "      <td>i3520-5810BLK-PUS</td>\n",
       "      <td>4.6</td>\n",
       "      <td>839.0</td>\n",
       "      <td>0.0</td>\n",
       "      <td>USD</td>\n",
       "      <td>9.27</td>\n",
       "      <td>14.11</td>\n",
       "      <td>Experience the most secure Windows ever built ...</td>\n",
       "      <td>Natural finger-touch navigation makes the most...</td>\n",
       "    </tr>\n",
       "    <tr>\n",
       "      <th>2</th>\n",
       "      <td>Lenovo</td>\n",
       "      <td>82YL0002US</td>\n",
       "      <td>4.7</td>\n",
       "      <td>127.0</td>\n",
       "      <td>0.0</td>\n",
       "      <td>USD</td>\n",
       "      <td>8.76</td>\n",
       "      <td>12.51</td>\n",
       "      <td>Windows 11 brings back the Start Menu from Win...</td>\n",
       "      <td>Find the relevant information and ideas you ne...</td>\n",
       "    </tr>\n",
       "    <tr>\n",
       "      <th>3</th>\n",
       "      <td>Microsoft</td>\n",
       "      <td>DTI-00001</td>\n",
       "      <td>4.7</td>\n",
       "      <td>926.0</td>\n",
       "      <td>0.0</td>\n",
       "      <td>USD</td>\n",
       "      <td>7.90</td>\n",
       "      <td>11.50</td>\n",
       "      <td>Find the relevant information and ideas you ne...</td>\n",
       "      <td>Iconic 2-in-1 design transforms into what you ...</td>\n",
       "    </tr>\n",
       "    <tr>\n",
       "      <th>4</th>\n",
       "      <td>Microsoft</td>\n",
       "      <td>R1S-00062</td>\n",
       "      <td>4.7</td>\n",
       "      <td>422.0</td>\n",
       "      <td>0.0</td>\n",
       "      <td>USD</td>\n",
       "      <td>8.80</td>\n",
       "      <td>12.10</td>\n",
       "      <td>Find the relevant information and ideas you ne...</td>\n",
       "      <td>Family, friends, passions, music, creations – ...</td>\n",
       "    </tr>\n",
       "  </tbody>\n",
       "</table>\n",
       "</div>"
      ],
      "text/plain": [
       "       brand              model  aggregateRating/ratingValue  \\\n",
       "0       Dell  i7430-7374SLV-PUS                          4.7   \n",
       "1       Dell  i3520-5810BLK-PUS                          4.6   \n",
       "2     Lenovo         82YL0002US                          4.7   \n",
       "3  Microsoft          DTI-00001                          4.7   \n",
       "4  Microsoft          R1S-00062                          4.7   \n",
       "\n",
       "   aggregateRating/reviewCount  offers/price offers/priceCurrency  depth  \\\n",
       "0                       1088.0           0.0                  USD   8.92   \n",
       "1                        839.0           0.0                  USD   9.27   \n",
       "2                        127.0           0.0                  USD   8.76   \n",
       "3                        926.0           0.0                  USD   7.90   \n",
       "4                        422.0           0.0                  USD   8.80   \n",
       "\n",
       "   width                             features/0/description  \\\n",
       "0  12.36  Windows 11 brings back the Start Menu from Win...   \n",
       "1  14.11  Experience the most secure Windows ever built ...   \n",
       "2  12.51  Windows 11 brings back the Start Menu from Win...   \n",
       "3  11.50  Find the relevant information and ideas you ne...   \n",
       "4  12.10  Find the relevant information and ideas you ne...   \n",
       "\n",
       "                              features/1/description  \n",
       "0  Equipped with a FHD+ IPS touch screen, the bor...  \n",
       "1  Natural finger-touch navigation makes the most...  \n",
       "2  Find the relevant information and ideas you ne...  \n",
       "3  Iconic 2-in-1 design transforms into what you ...  \n",
       "4  Family, friends, passions, music, creations – ...  "
      ]
     },
     "execution_count": 10,
     "metadata": {},
     "output_type": "execute_result"
    }
   ],
   "source": [
    "#Filling NaNs with 0\n",
    "updated_info = laptops.fillna(0)\n",
    "updated_info.head()"
   ]
  },
  {
   "cell_type": "code",
   "execution_count": 11,
   "id": "cb138d74",
   "metadata": {},
   "outputs": [
    {
     "data": {
      "text/plain": [
       "620.9993047034765"
      ]
     },
     "execution_count": 11,
     "metadata": {},
     "output_type": "execute_result"
    }
   ],
   "source": [
    "average_price = updated_info[\"offers/price\"].mean()\n",
    "average_price"
   ]
  },
  {
   "cell_type": "code",
   "execution_count": 14,
   "id": "b6331463",
   "metadata": {},
   "outputs": [
    {
     "data": {
      "text/plain": [
       "813.8669597591672"
      ]
     },
     "execution_count": 14,
     "metadata": {},
     "output_type": "execute_result"
    }
   ],
   "source": [
    "std_price = updated_info[\"offers/price\"].std()\n",
    "std_price"
   ]
  },
  {
   "cell_type": "code",
   "execution_count": 13,
   "id": "ec15b4ab",
   "metadata": {},
   "outputs": [
    {
     "data": {
      "text/plain": [
       "5.0"
      ]
     },
     "execution_count": 13,
     "metadata": {},
     "output_type": "execute_result"
    }
   ],
   "source": [
    "top_rating = updated_info[\"aggregateRating/ratingValue\"].max()\n",
    "top_rating"
   ]
  },
  {
   "cell_type": "code",
   "execution_count": null,
   "id": "eac6c5c1",
   "metadata": {},
   "outputs": [],
   "source": []
  }
 ],
 "metadata": {
  "kernelspec": {
   "display_name": "Python 3 (ipykernel)",
   "language": "python",
   "name": "python3"
  },
  "language_info": {
   "codemirror_mode": {
    "name": "ipython",
    "version": 3
   },
   "file_extension": ".py",
   "mimetype": "text/x-python",
   "name": "python",
   "nbconvert_exporter": "python",
   "pygments_lexer": "ipython3",
   "version": "3.10.12"
  }
 },
 "nbformat": 4,
 "nbformat_minor": 5
}
