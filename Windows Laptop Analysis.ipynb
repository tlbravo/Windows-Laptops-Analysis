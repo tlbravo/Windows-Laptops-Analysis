{
 "cells": [
  {
   "cell_type": "code",
   "execution_count": 1,
   "id": "b09d6126",
   "metadata": {},
   "outputs": [],
   "source": [
    "import pandas as pd\n",
    "import numpy as np\n",
    "import matplotlib.pyplot as plt\n",
    "import plotly.express as px"
   ]
  },
  {
   "cell_type": "code",
   "execution_count": 2,
   "id": "3de69ad1",
   "metadata": {},
   "outputs": [
    {
     "data": {
      "text/html": [
       "<div>\n",
       "<style scoped>\n",
       "    .dataframe tbody tr th:only-of-type {\n",
       "        vertical-align: middle;\n",
       "    }\n",
       "\n",
       "    .dataframe tbody tr th {\n",
       "        vertical-align: top;\n",
       "    }\n",
       "\n",
       "    .dataframe thead th {\n",
       "        text-align: right;\n",
       "    }\n",
       "</style>\n",
       "<table border=\"1\" class=\"dataframe\">\n",
       "  <thead>\n",
       "    <tr style=\"text-align: right;\">\n",
       "      <th></th>\n",
       "      <th>brand</th>\n",
       "      <th>model</th>\n",
       "      <th>aggregateRating/ratingValue</th>\n",
       "      <th>aggregateRating/reviewCount</th>\n",
       "      <th>offers/price</th>\n",
       "      <th>offers/priceCurrency</th>\n",
       "      <th>depth</th>\n",
       "      <th>width</th>\n",
       "      <th>features/0/description</th>\n",
       "      <th>features/1/description</th>\n",
       "    </tr>\n",
       "  </thead>\n",
       "  <tbody>\n",
       "    <tr>\n",
       "      <th>0</th>\n",
       "      <td>Dell</td>\n",
       "      <td>i7430-7374SLV-PUS</td>\n",
       "      <td>4.7</td>\n",
       "      <td>1088.0</td>\n",
       "      <td>NaN</td>\n",
       "      <td>USD</td>\n",
       "      <td>8.92</td>\n",
       "      <td>12.36</td>\n",
       "      <td>Windows 11 brings back the Start Menu from Win...</td>\n",
       "      <td>Equipped with a FHD+ IPS touch screen, the bor...</td>\n",
       "    </tr>\n",
       "    <tr>\n",
       "      <th>1</th>\n",
       "      <td>Dell</td>\n",
       "      <td>i3520-5810BLK-PUS</td>\n",
       "      <td>4.6</td>\n",
       "      <td>839.0</td>\n",
       "      <td>NaN</td>\n",
       "      <td>USD</td>\n",
       "      <td>9.27</td>\n",
       "      <td>14.11</td>\n",
       "      <td>Experience the most secure Windows ever built ...</td>\n",
       "      <td>Natural finger-touch navigation makes the most...</td>\n",
       "    </tr>\n",
       "    <tr>\n",
       "      <th>2</th>\n",
       "      <td>Lenovo</td>\n",
       "      <td>82YL0002US</td>\n",
       "      <td>4.7</td>\n",
       "      <td>127.0</td>\n",
       "      <td>NaN</td>\n",
       "      <td>USD</td>\n",
       "      <td>8.76</td>\n",
       "      <td>12.51</td>\n",
       "      <td>Windows 11 brings back the Start Menu from Win...</td>\n",
       "      <td>Find the relevant information and ideas you ne...</td>\n",
       "    </tr>\n",
       "    <tr>\n",
       "      <th>3</th>\n",
       "      <td>Microsoft</td>\n",
       "      <td>DTI-00001</td>\n",
       "      <td>4.7</td>\n",
       "      <td>926.0</td>\n",
       "      <td>NaN</td>\n",
       "      <td>USD</td>\n",
       "      <td>7.90</td>\n",
       "      <td>11.50</td>\n",
       "      <td>Find the relevant information and ideas you ne...</td>\n",
       "      <td>Iconic 2-in-1 design transforms into what you ...</td>\n",
       "    </tr>\n",
       "    <tr>\n",
       "      <th>4</th>\n",
       "      <td>Microsoft</td>\n",
       "      <td>R1S-00062</td>\n",
       "      <td>4.7</td>\n",
       "      <td>422.0</td>\n",
       "      <td>NaN</td>\n",
       "      <td>USD</td>\n",
       "      <td>8.80</td>\n",
       "      <td>12.10</td>\n",
       "      <td>Find the relevant information and ideas you ne...</td>\n",
       "      <td>Family, friends, passions, music, creations – ...</td>\n",
       "    </tr>\n",
       "  </tbody>\n",
       "</table>\n",
       "</div>"
      ],
      "text/plain": [
       "       brand              model  aggregateRating/ratingValue  \\\n",
       "0       Dell  i7430-7374SLV-PUS                          4.7   \n",
       "1       Dell  i3520-5810BLK-PUS                          4.6   \n",
       "2     Lenovo         82YL0002US                          4.7   \n",
       "3  Microsoft          DTI-00001                          4.7   \n",
       "4  Microsoft          R1S-00062                          4.7   \n",
       "\n",
       "   aggregateRating/reviewCount  offers/price offers/priceCurrency  depth  \\\n",
       "0                       1088.0           NaN                  USD   8.92   \n",
       "1                        839.0           NaN                  USD   9.27   \n",
       "2                        127.0           NaN                  USD   8.76   \n",
       "3                        926.0           NaN                  USD   7.90   \n",
       "4                        422.0           NaN                  USD   8.80   \n",
       "\n",
       "   width                             features/0/description  \\\n",
       "0  12.36  Windows 11 brings back the Start Menu from Win...   \n",
       "1  14.11  Experience the most secure Windows ever built ...   \n",
       "2  12.51  Windows 11 brings back the Start Menu from Win...   \n",
       "3  11.50  Find the relevant information and ideas you ne...   \n",
       "4  12.10  Find the relevant information and ideas you ne...   \n",
       "\n",
       "                              features/1/description  \n",
       "0  Equipped with a FHD+ IPS touch screen, the bor...  \n",
       "1  Natural finger-touch navigation makes the most...  \n",
       "2  Find the relevant information and ideas you ne...  \n",
       "3  Iconic 2-in-1 design transforms into what you ...  \n",
       "4  Family, friends, passions, music, creations – ...  "
      ]
     },
     "execution_count": 2,
     "metadata": {},
     "output_type": "execute_result"
    }
   ],
   "source": [
    "# Load monthly sales data \n",
    "laptops = pd.read_csv('best_buy_laptops_2024.csv')\n",
    "laptops.head()"
   ]
  },
  {
   "cell_type": "markdown",
   "id": "ae3414a5",
   "metadata": {},
   "source": [
    "This [dataset](https://www.kaggle.com/datasets/kanchana1990/best-buy-2024-windows-laptops?resource=download) encapsulates a comprehensive collection of Windows laptop listings from Best Buy for the 2024.\n",
    "\n",
    "Column Descriptions:\n",
    "1. brand (489 non-null, object): The manufacturer of the laptop, covering a diverse range of well-known companies such as Dell, Lenovo, Microsoft, and more, indicating the dataset's breadth in representing different manufacturers.\n",
    "2. model (488 non-null, object): The specific model identifier for each laptop, providing a unique distinction between different laptop offerings.\n",
    "3. aggregateRating/ratingValue (357 non-null, float64): The average consumer rating for each laptop on a scale, reflecting overall consumer satisfaction.\n",
    "4. aggregateRating/reviewCount (357 non-null, float64): The total number of reviews submitted for each laptop, offering insight into the level of consumer engagement and feedback.\n",
    "5. offers/price (262 non-null, float64): The listed selling price for each laptop on Best Buy, crucial for price trend analysis and market positioning.\n",
    "6. offers/priceCurrency (489 non-null, object): The currency of the listed price, uniformly denoted as 'USD', ensuring consistency in price data.\n",
    "7. depth (431 non-null, float64): The front-to-back measurement of each laptop, contributing to the understanding of laptop size and portability.\n",
    "8. width (431 non-null, float64): The side-to-side measurement, further detailing the physical dimensions of the laptops.\n",
    "9. features/0/description (486 non-null, object): A description of a primary feature or selling point for the laptop, highlighting unique or standout specifications.\n",
    "10. features/1/description (483 non-null, object): Descriptions of a secondary feature, providing additional insights into the laptops' capabilities and attractions."
   ]
  },
  {
   "cell_type": "code",
   "execution_count": 3,
   "id": "07f2fc7e",
   "metadata": {},
   "outputs": [
    {
     "data": {
      "text/plain": [
       "brand                            0\n",
       "model                            1\n",
       "aggregateRating/ratingValue    132\n",
       "aggregateRating/reviewCount    132\n",
       "offers/price                   227\n",
       "offers/priceCurrency             0\n",
       "depth                           58\n",
       "width                           58\n",
       "features/0/description           3\n",
       "features/1/description           6\n",
       "dtype: int64"
      ]
     },
     "execution_count": 3,
     "metadata": {},
     "output_type": "execute_result"
    }
   ],
   "source": [
    "# Check number of NaNs for each column\n",
    "missing_info = laptops.isna().sum()\n",
    "missing_info"
   ]
  },
  {
   "cell_type": "code",
   "execution_count": 4,
   "id": "7d45beea",
   "metadata": {},
   "outputs": [
    {
     "data": {
      "text/html": [
       "<div>\n",
       "<style scoped>\n",
       "    .dataframe tbody tr th:only-of-type {\n",
       "        vertical-align: middle;\n",
       "    }\n",
       "\n",
       "    .dataframe tbody tr th {\n",
       "        vertical-align: top;\n",
       "    }\n",
       "\n",
       "    .dataframe thead th {\n",
       "        text-align: right;\n",
       "    }\n",
       "</style>\n",
       "<table border=\"1\" class=\"dataframe\">\n",
       "  <thead>\n",
       "    <tr style=\"text-align: right;\">\n",
       "      <th></th>\n",
       "      <th>brand</th>\n",
       "      <th>model</th>\n",
       "      <th>aggregateRating/ratingValue</th>\n",
       "      <th>aggregateRating/reviewCount</th>\n",
       "      <th>offers/price</th>\n",
       "      <th>offers/priceCurrency</th>\n",
       "      <th>depth</th>\n",
       "      <th>width</th>\n",
       "      <th>features/0/description</th>\n",
       "      <th>features/1/description</th>\n",
       "    </tr>\n",
       "  </thead>\n",
       "  <tbody>\n",
       "    <tr>\n",
       "      <th>0</th>\n",
       "      <td>Dell</td>\n",
       "      <td>i7430-7374SLV-PUS</td>\n",
       "      <td>4.7</td>\n",
       "      <td>1088.0</td>\n",
       "      <td>0.0</td>\n",
       "      <td>USD</td>\n",
       "      <td>8.92</td>\n",
       "      <td>12.36</td>\n",
       "      <td>Windows 11 brings back the Start Menu from Win...</td>\n",
       "      <td>Equipped with a FHD+ IPS touch screen, the bor...</td>\n",
       "    </tr>\n",
       "    <tr>\n",
       "      <th>1</th>\n",
       "      <td>Dell</td>\n",
       "      <td>i3520-5810BLK-PUS</td>\n",
       "      <td>4.6</td>\n",
       "      <td>839.0</td>\n",
       "      <td>0.0</td>\n",
       "      <td>USD</td>\n",
       "      <td>9.27</td>\n",
       "      <td>14.11</td>\n",
       "      <td>Experience the most secure Windows ever built ...</td>\n",
       "      <td>Natural finger-touch navigation makes the most...</td>\n",
       "    </tr>\n",
       "    <tr>\n",
       "      <th>2</th>\n",
       "      <td>Lenovo</td>\n",
       "      <td>82YL0002US</td>\n",
       "      <td>4.7</td>\n",
       "      <td>127.0</td>\n",
       "      <td>0.0</td>\n",
       "      <td>USD</td>\n",
       "      <td>8.76</td>\n",
       "      <td>12.51</td>\n",
       "      <td>Windows 11 brings back the Start Menu from Win...</td>\n",
       "      <td>Find the relevant information and ideas you ne...</td>\n",
       "    </tr>\n",
       "    <tr>\n",
       "      <th>3</th>\n",
       "      <td>Microsoft</td>\n",
       "      <td>DTI-00001</td>\n",
       "      <td>4.7</td>\n",
       "      <td>926.0</td>\n",
       "      <td>0.0</td>\n",
       "      <td>USD</td>\n",
       "      <td>7.90</td>\n",
       "      <td>11.50</td>\n",
       "      <td>Find the relevant information and ideas you ne...</td>\n",
       "      <td>Iconic 2-in-1 design transforms into what you ...</td>\n",
       "    </tr>\n",
       "    <tr>\n",
       "      <th>4</th>\n",
       "      <td>Microsoft</td>\n",
       "      <td>R1S-00062</td>\n",
       "      <td>4.7</td>\n",
       "      <td>422.0</td>\n",
       "      <td>0.0</td>\n",
       "      <td>USD</td>\n",
       "      <td>8.80</td>\n",
       "      <td>12.10</td>\n",
       "      <td>Find the relevant information and ideas you ne...</td>\n",
       "      <td>Family, friends, passions, music, creations – ...</td>\n",
       "    </tr>\n",
       "  </tbody>\n",
       "</table>\n",
       "</div>"
      ],
      "text/plain": [
       "       brand              model  aggregateRating/ratingValue  \\\n",
       "0       Dell  i7430-7374SLV-PUS                          4.7   \n",
       "1       Dell  i3520-5810BLK-PUS                          4.6   \n",
       "2     Lenovo         82YL0002US                          4.7   \n",
       "3  Microsoft          DTI-00001                          4.7   \n",
       "4  Microsoft          R1S-00062                          4.7   \n",
       "\n",
       "   aggregateRating/reviewCount  offers/price offers/priceCurrency  depth  \\\n",
       "0                       1088.0           0.0                  USD   8.92   \n",
       "1                        839.0           0.0                  USD   9.27   \n",
       "2                        127.0           0.0                  USD   8.76   \n",
       "3                        926.0           0.0                  USD   7.90   \n",
       "4                        422.0           0.0                  USD   8.80   \n",
       "\n",
       "   width                             features/0/description  \\\n",
       "0  12.36  Windows 11 brings back the Start Menu from Win...   \n",
       "1  14.11  Experience the most secure Windows ever built ...   \n",
       "2  12.51  Windows 11 brings back the Start Menu from Win...   \n",
       "3  11.50  Find the relevant information and ideas you ne...   \n",
       "4  12.10  Find the relevant information and ideas you ne...   \n",
       "\n",
       "                              features/1/description  \n",
       "0  Equipped with a FHD+ IPS touch screen, the bor...  \n",
       "1  Natural finger-touch navigation makes the most...  \n",
       "2  Find the relevant information and ideas you ne...  \n",
       "3  Iconic 2-in-1 design transforms into what you ...  \n",
       "4  Family, friends, passions, music, creations – ...  "
      ]
     },
     "execution_count": 4,
     "metadata": {},
     "output_type": "execute_result"
    }
   ],
   "source": [
    "#Filling NaNs with 0\n",
    "updated_info = laptops.fillna(0)\n",
    "updated_info.head()"
   ]
  },
  {
   "cell_type": "code",
   "execution_count": 8,
   "id": "32aa1758",
   "metadata": {},
   "outputs": [
    {
     "data": {
      "text/html": [
       "<div>\n",
       "<style scoped>\n",
       "    .dataframe tbody tr th:only-of-type {\n",
       "        vertical-align: middle;\n",
       "    }\n",
       "\n",
       "    .dataframe tbody tr th {\n",
       "        vertical-align: top;\n",
       "    }\n",
       "\n",
       "    .dataframe thead th {\n",
       "        text-align: right;\n",
       "    }\n",
       "</style>\n",
       "<table border=\"1\" class=\"dataframe\">\n",
       "  <thead>\n",
       "    <tr style=\"text-align: right;\">\n",
       "      <th></th>\n",
       "      <th>brand</th>\n",
       "      <th>model</th>\n",
       "      <th>Rating</th>\n",
       "      <th>Review Count</th>\n",
       "      <th>Price</th>\n",
       "      <th>Currency</th>\n",
       "      <th>depth</th>\n",
       "      <th>width</th>\n",
       "      <th>Features</th>\n",
       "      <th>Description</th>\n",
       "    </tr>\n",
       "  </thead>\n",
       "  <tbody>\n",
       "    <tr>\n",
       "      <th>0</th>\n",
       "      <td>Dell</td>\n",
       "      <td>i7430-7374SLV-PUS</td>\n",
       "      <td>4.7</td>\n",
       "      <td>1088.0</td>\n",
       "      <td>0.0</td>\n",
       "      <td>USD</td>\n",
       "      <td>8.92</td>\n",
       "      <td>12.36</td>\n",
       "      <td>Windows 11 brings back the Start Menu from Win...</td>\n",
       "      <td>Equipped with a FHD+ IPS touch screen, the bor...</td>\n",
       "    </tr>\n",
       "    <tr>\n",
       "      <th>1</th>\n",
       "      <td>Dell</td>\n",
       "      <td>i3520-5810BLK-PUS</td>\n",
       "      <td>4.6</td>\n",
       "      <td>839.0</td>\n",
       "      <td>0.0</td>\n",
       "      <td>USD</td>\n",
       "      <td>9.27</td>\n",
       "      <td>14.11</td>\n",
       "      <td>Experience the most secure Windows ever built ...</td>\n",
       "      <td>Natural finger-touch navigation makes the most...</td>\n",
       "    </tr>\n",
       "    <tr>\n",
       "      <th>2</th>\n",
       "      <td>Lenovo</td>\n",
       "      <td>82YL0002US</td>\n",
       "      <td>4.7</td>\n",
       "      <td>127.0</td>\n",
       "      <td>0.0</td>\n",
       "      <td>USD</td>\n",
       "      <td>8.76</td>\n",
       "      <td>12.51</td>\n",
       "      <td>Windows 11 brings back the Start Menu from Win...</td>\n",
       "      <td>Find the relevant information and ideas you ne...</td>\n",
       "    </tr>\n",
       "    <tr>\n",
       "      <th>3</th>\n",
       "      <td>Microsoft</td>\n",
       "      <td>DTI-00001</td>\n",
       "      <td>4.7</td>\n",
       "      <td>926.0</td>\n",
       "      <td>0.0</td>\n",
       "      <td>USD</td>\n",
       "      <td>7.90</td>\n",
       "      <td>11.50</td>\n",
       "      <td>Find the relevant information and ideas you ne...</td>\n",
       "      <td>Iconic 2-in-1 design transforms into what you ...</td>\n",
       "    </tr>\n",
       "    <tr>\n",
       "      <th>4</th>\n",
       "      <td>Microsoft</td>\n",
       "      <td>R1S-00062</td>\n",
       "      <td>4.7</td>\n",
       "      <td>422.0</td>\n",
       "      <td>0.0</td>\n",
       "      <td>USD</td>\n",
       "      <td>8.80</td>\n",
       "      <td>12.10</td>\n",
       "      <td>Find the relevant information and ideas you ne...</td>\n",
       "      <td>Family, friends, passions, music, creations – ...</td>\n",
       "    </tr>\n",
       "  </tbody>\n",
       "</table>\n",
       "</div>"
      ],
      "text/plain": [
       "       brand              model  Rating  Review Count  Price Currency  depth  \\\n",
       "0       Dell  i7430-7374SLV-PUS     4.7        1088.0    0.0      USD   8.92   \n",
       "1       Dell  i3520-5810BLK-PUS     4.6         839.0    0.0      USD   9.27   \n",
       "2     Lenovo         82YL0002US     4.7         127.0    0.0      USD   8.76   \n",
       "3  Microsoft          DTI-00001     4.7         926.0    0.0      USD   7.90   \n",
       "4  Microsoft          R1S-00062     4.7         422.0    0.0      USD   8.80   \n",
       "\n",
       "   width                                           Features  \\\n",
       "0  12.36  Windows 11 brings back the Start Menu from Win...   \n",
       "1  14.11  Experience the most secure Windows ever built ...   \n",
       "2  12.51  Windows 11 brings back the Start Menu from Win...   \n",
       "3  11.50  Find the relevant information and ideas you ne...   \n",
       "4  12.10  Find the relevant information and ideas you ne...   \n",
       "\n",
       "                                         Description  \n",
       "0  Equipped with a FHD+ IPS touch screen, the bor...  \n",
       "1  Natural finger-touch navigation makes the most...  \n",
       "2  Find the relevant information and ideas you ne...  \n",
       "3  Iconic 2-in-1 design transforms into what you ...  \n",
       "4  Family, friends, passions, music, creations – ...  "
      ]
     },
     "execution_count": 8,
     "metadata": {},
     "output_type": "execute_result"
    }
   ],
   "source": [
    "updated_info.rename(columns={'aggregateRating/ratingValue': 'Rating', \n",
    "                             'aggregateRating/reviewCount': 'Review Count', \n",
    "                             'offers/price': 'Price',\n",
    "                            'offers/priceCurrency': 'Currency',\n",
    "                            'features/0/description': 'Features',\n",
    "                            'features/1/description':'Description'}, inplace=True)\n",
    "updated_info.head()"
   ]
  },
  {
   "cell_type": "code",
   "execution_count": 9,
   "id": "cb138d74",
   "metadata": {},
   "outputs": [
    {
     "data": {
      "text/plain": [
       "620.9993047034765"
      ]
     },
     "execution_count": 9,
     "metadata": {},
     "output_type": "execute_result"
    }
   ],
   "source": [
    "average_price = updated_info[\"Price\"].mean()\n",
    "average_price"
   ]
  },
  {
   "cell_type": "code",
   "execution_count": 10,
   "id": "ec15b4ab",
   "metadata": {},
   "outputs": [
    {
     "data": {
      "text/plain": [
       "5.0"
      ]
     },
     "execution_count": 10,
     "metadata": {},
     "output_type": "execute_result"
    }
   ],
   "source": [
    "top_rating = updated_info[\"Rating\"].max()\n",
    "top_rating"
   ]
  },
  {
   "cell_type": "code",
   "execution_count": 22,
   "id": "17cdf53f",
   "metadata": {},
   "outputs": [
    {
     "data": {
      "text/plain": [
       "brand\n",
       "ASUS         4.136508\n",
       "Acer         2.746875\n",
       "Alienware    3.583333\n",
       "Dell         2.515663\n",
       "GIGABYTE     2.221429\n",
       "HP           3.941176\n",
       "HP OMEN      4.500000\n",
       "LG           4.077778\n",
       "Lenovo       2.504040\n",
       "MSI          2.318182\n",
       "Microsoft    3.886275\n",
       "Razer        3.522727\n",
       "Samsung      4.184615\n",
       "Thomson      5.000000\n",
       "Name: Rating, dtype: float64"
      ]
     },
     "execution_count": 22,
     "metadata": {},
     "output_type": "execute_result"
    }
   ],
   "source": [
    "average_rating = updated_info.groupby(\"brand\")[\"Rating\"].mean()\n",
    "average_rating"
   ]
  },
  {
   "cell_type": "code",
   "execution_count": 31,
   "id": "eac6c5c1",
   "metadata": {},
   "outputs": [
    {
     "data": {
      "application/vnd.plotly.v1+json": {
       "config": {
        "plotlyServerURL": "https://plot.ly"
       },
       "data": [
        {
         "alignmentgroup": "True",
         "hovertemplate": "Brand=%{x}<br>Rating=%{marker.color}<extra></extra>",
         "legendgroup": "",
         "marker": {
          "color": [
           4.7,
           4.6,
           4.7,
           4.7,
           4.7,
           4.7,
           4.7,
           4.8,
           4.8,
           4.7,
           4.8,
           4.7,
           4.7,
           4.6,
           4.7,
           4.7,
           4.8,
           4.7,
           4.7,
           4.6,
           4.3,
           4.6,
           4.1,
           4.8,
           4.2,
           4.5,
           4.8,
           0,
           4.7,
           4.7,
           4.5,
           4.8,
           4.8,
           4.1,
           4.6,
           4.6,
           4.6,
           4.4,
           4.5,
           4.7,
           4.1,
           4.7,
           4.6,
           4.6,
           4.6,
           4.4,
           4.6,
           4.7,
           4.7,
           0,
           4.5,
           4.2,
           3.5,
           5,
           4.6,
           4.8,
           4.1,
           0,
           4.7,
           4.7,
           5,
           4.7,
           4.5,
           5,
           4.7,
           4.6,
           4.6,
           4.7,
           4.6,
           4.6,
           4.5,
           4.6,
           4.1,
           4.7,
           4.8,
           4.5,
           4.7,
           0,
           4.6,
           4.4,
           4.6,
           0,
           3.6,
           4.7,
           4.3,
           3.8,
           4.7,
           0,
           4.5,
           5,
           4.7,
           4.6,
           4.7,
           4.8,
           5,
           4.6,
           4.5,
           4.7,
           4.7,
           4.7,
           4.8,
           4.5,
           4.8,
           4.7,
           4.7,
           4.7,
           4.8,
           4.5,
           4.6,
           4.4,
           4.8,
           3.5,
           4.7,
           4.7,
           4.3,
           4.2,
           4.8,
           4.8,
           4.7,
           4.7,
           4.6,
           4.3,
           4.7,
           4.5,
           4.6,
           4.6,
           4.5,
           4.7,
           4.8,
           4.8,
           4.3,
           4.6,
           4.7,
           4.2,
           4.4,
           4.5,
           4.7,
           4.6,
           4.7,
           3.5,
           4.7,
           4.6,
           4.7,
           4.6,
           4.7,
           4.6,
           4.6,
           5,
           4.6,
           4.6,
           4.5,
           4.5,
           4.4,
           4.7,
           3.9,
           4.7,
           4.7,
           4.5,
           4.7,
           4.7,
           4.2,
           4.6,
           4,
           4.6,
           4.5,
           0,
           0,
           3,
           5,
           5,
           4.7,
           0,
           4.8,
           4.6,
           4.5,
           5,
           3,
           4.4,
           4.5,
           4.7,
           4.3,
           4.8,
           4.4,
           5,
           4,
           4.5,
           4.7,
           4.3,
           4.5,
           4.5,
           5,
           4.7,
           0,
           4.1,
           4.8,
           5,
           4.5,
           4.8,
           5,
           4,
           4.7,
           4.5,
           5,
           4.5,
           5,
           4.5,
           4.5,
           0,
           0,
           2.8,
           5,
           5,
           5,
           4.5,
           4.4,
           5,
           4.4,
           4.1,
           4.7,
           4.9,
           4.9,
           3.9,
           4.6,
           5,
           5,
           5,
           3.7,
           5,
           4.5,
           4.7,
           4.8,
           4.7,
           4.5,
           4.5,
           4.5,
           4.6,
           0,
           0,
           0,
           5,
           4.5,
           4.8,
           4.2,
           4.3,
           0,
           4,
           5,
           0,
           0,
           4.2,
           4,
           0,
           3.5,
           5,
           3.9,
           5,
           2.7,
           3.4,
           4.5,
           5,
           0,
           0,
           4,
           3.8,
           0,
           0,
           4.1,
           4.5,
           4,
           5,
           4,
           0,
           4,
           0,
           5,
           3.5,
           0,
           4.8,
           4.9,
           4,
           5,
           0,
           4.5,
           4.7,
           0,
           4.7,
           5,
           0,
           3.9,
           3.5,
           4.5,
           4.7,
           5,
           4.3,
           0,
           5,
           0,
           0,
           4.3,
           4.3,
           0,
           4,
           5,
           4.1,
           0,
           4.3,
           0,
           0,
           5,
           0,
           4.7,
           0,
           3.6,
           0,
           0,
           5,
           0,
           2.4,
           0,
           0,
           0,
           5,
           0,
           0,
           4,
           4.7,
           4.1,
           4,
           1,
           0,
           0,
           0,
           0,
           0,
           3.6,
           1,
           0,
           0,
           5,
           0,
           3.3,
           4.6,
           0,
           0,
           5,
           3.8,
           0,
           3.6,
           3.8,
           0,
           0,
           3,
           4,
           0,
           0,
           0,
           0,
           5,
           5,
           4,
           0,
           4.4,
           3,
           0,
           4,
           3.9,
           0,
           4.5,
           0,
           5,
           5,
           4.4,
           4,
           5,
           0,
           0,
           4,
           4,
           3.6,
           2,
           3,
           3,
           0,
           0,
           0,
           0,
           5,
           5,
           0,
           0,
           0,
           0,
           0,
           0,
           0,
           0,
           0,
           0,
           0,
           0,
           0,
           0,
           0,
           5,
           0,
           4.7,
           0,
           3,
           0,
           0,
           0,
           0,
           5,
           4.4,
           0,
           3.3,
           4.3,
           5,
           0,
           0,
           0,
           3.9,
           0,
           4.4,
           0,
           0,
           4,
           0,
           4.3,
           4.4,
           3.6,
           1,
           0,
           0,
           0,
           0,
           0,
           4.3,
           4.2,
           0,
           2.8,
           0,
           0,
           0,
           0,
           0,
           0,
           0,
           5,
           0,
           0,
           4.6,
           5,
           5,
           5,
           3,
           0,
           1.5,
           0,
           3.4,
           3.9,
           4,
           0,
           1,
           5,
           5,
           0,
           0,
           0,
           4,
           5,
           5,
           0,
           4.2,
           0,
           4,
           3.7,
           0,
           0,
           3.3,
           0,
           0,
           0,
           4,
           5,
           5,
           5,
           0,
           0
          ],
          "coloraxis": "coloraxis",
          "pattern": {
           "shape": ""
          }
         },
         "name": "",
         "offsetgroup": "",
         "orientation": "v",
         "showlegend": false,
         "textposition": "auto",
         "type": "bar",
         "x": [
          "Dell",
          "Dell",
          "Lenovo",
          "Microsoft",
          "Microsoft",
          "Dell",
          "Lenovo",
          "Lenovo",
          "Samsung",
          "ASUS",
          "Samsung",
          "HP",
          "HP",
          "Acer",
          "Lenovo",
          "HP",
          "HP",
          "HP",
          "HP",
          "HP",
          "Dell",
          "Microsoft",
          "HP",
          "Microsoft",
          "LG",
          "Dell",
          "Lenovo",
          "Lenovo",
          "Lenovo",
          "HP",
          "LG",
          "Microsoft",
          "Microsoft",
          "HP",
          "Lenovo",
          "HP",
          "Lenovo",
          "Dell",
          "ASUS",
          "Dell",
          "HP",
          "ASUS",
          "Microsoft",
          "LG",
          "HP",
          "Microsoft",
          "Dell",
          "Microsoft",
          "HP",
          "MSI",
          "ASUS",
          "HP",
          "Lenovo",
          "Lenovo",
          "Lenovo",
          "Microsoft",
          "LG",
          "Lenovo",
          "ASUS",
          "Lenovo",
          "ASUS",
          "Microsoft",
          "Acer",
          "HP",
          "Lenovo",
          "Samsung",
          "LG",
          "Lenovo",
          "Dell",
          "Acer",
          "ASUS",
          "ASUS",
          "HP",
          "Lenovo",
          "Lenovo",
          "MSI",
          "Microsoft",
          "HP",
          "Lenovo",
          "MSI",
          "Samsung",
          "Lenovo",
          "ASUS",
          "LG",
          "ASUS",
          "HP",
          "Lenovo",
          "Lenovo",
          "Dell",
          "Razer",
          "HP",
          "MSI",
          "Microsoft",
          "Microsoft",
          "LG",
          "ASUS",
          "ASUS",
          "Microsoft",
          "Microsoft",
          "Microsoft",
          "Microsoft",
          "MSI",
          "HP",
          "Microsoft",
          "Microsoft",
          "Microsoft",
          "Acer",
          "HP",
          "Dell",
          "Samsung",
          "Microsoft",
          "Razer",
          "Microsoft",
          "Samsung",
          "Alienware",
          "Razer",
          "Microsoft",
          "Microsoft",
          "ASUS",
          "Microsoft",
          "Microsoft",
          "ASUS",
          "Lenovo",
          "ASUS",
          "HP",
          "Samsung",
          "Dell",
          "Microsoft",
          "Microsoft",
          "Lenovo",
          "Acer",
          "Lenovo",
          "Microsoft",
          "Lenovo",
          "MSI",
          "Dell",
          "Microsoft",
          "Dell",
          "Lenovo",
          "Samsung",
          "Microsoft",
          "HP",
          "Lenovo",
          "Lenovo",
          "HP OMEN",
          "HP",
          "Dell",
          "ASUS",
          "HP",
          "Acer",
          "Lenovo",
          "Microsoft",
          "Dell",
          "HP OMEN",
          "Lenovo",
          "Dell",
          "HP",
          "Alienware",
          "HP",
          "Acer",
          "Razer",
          "Dell",
          "Lenovo",
          "Lenovo",
          "HP",
          "Lenovo",
          "Dell",
          "ASUS",
          "ASUS",
          "ASUS",
          "HP",
          "HP",
          "ASUS",
          "HP OMEN",
          "ASUS",
          "Lenovo",
          "Lenovo",
          "Alienware",
          "HP",
          "ASUS",
          "ASUS",
          "Samsung",
          "GIGABYTE",
          "HP",
          "Alienware",
          "ASUS",
          "Dell",
          "ASUS",
          "ASUS",
          "HP OMEN",
          "Razer",
          "ASUS",
          "GIGABYTE",
          "ASUS",
          "ASUS",
          "Dell",
          "Lenovo",
          "Dell",
          "HP",
          "Dell",
          "HP",
          "ASUS",
          "ASUS",
          "Lenovo",
          "Lenovo",
          "ASUS",
          "Dell",
          "Lenovo",
          "Microsoft",
          "Microsoft",
          "ASUS",
          "ASUS",
          "HP",
          "Microsoft",
          "Dell",
          "Dell",
          "HP",
          "ASUS",
          "Dell",
          "ASUS",
          "ASUS",
          "ASUS",
          "MSI",
          "HP",
          "Lenovo",
          "Microsoft",
          "Razer",
          "Acer",
          "Razer",
          "Lenovo",
          "Lenovo",
          "ASUS",
          "Acer",
          "MSI",
          "Dell",
          "HP",
          "Lenovo",
          "MSI",
          "Lenovo",
          "GIGABYTE",
          "Razer",
          "Dell",
          "Samsung",
          "HP",
          "Lenovo",
          "HP",
          "Dell",
          "Lenovo",
          "Dell",
          "ASUS",
          "ASUS",
          "Alienware",
          "Lenovo",
          "GIGABYTE",
          "Lenovo",
          "Acer",
          "Razer",
          "HP",
          "ASUS",
          "Dell",
          "Lenovo",
          "Lenovo",
          "Lenovo",
          "Lenovo",
          "Lenovo",
          "Dell",
          "Lenovo",
          "HP",
          "Lenovo",
          "LG",
          "MSI",
          "Dell",
          "HP",
          "MSI",
          "Acer",
          "HP OMEN",
          "Dell",
          "Dell",
          "ASUS",
          "HP",
          "Dell",
          "Lenovo",
          "GIGABYTE",
          "HP",
          "HP",
          "HP",
          "Lenovo",
          "MSI",
          "Razer",
          "ASUS",
          "ASUS",
          "Lenovo",
          "Dell",
          "Alienware",
          "Lenovo",
          "HP OMEN",
          "Dell",
          "Dell",
          "HP",
          "GIGABYTE",
          "ASUS",
          "Dell",
          "Dell",
          "ASUS",
          "Lenovo",
          "Lenovo",
          "Lenovo",
          "Dell",
          "Lenovo",
          "Microsoft",
          "Microsoft",
          "Razer",
          "HP",
          "Microsoft",
          "HP",
          "Lenovo",
          "Lenovo",
          "Samsung",
          "Lenovo",
          "Dell",
          "Lenovo",
          "HP",
          "Lenovo",
          "Dell",
          "Lenovo",
          "Razer",
          "HP",
          "HP",
          "ASUS",
          "Lenovo",
          "ASUS",
          "Dell",
          "Dell",
          "Dell",
          "ASUS",
          "Dell",
          "Microsoft",
          "Microsoft",
          "Lenovo",
          "Dell",
          "Dell",
          "ASUS",
          "LG",
          "Lenovo",
          "Thomson",
          "Razer",
          "Lenovo",
          "Microsoft",
          "Acer",
          "Lenovo",
          "Lenovo",
          "Acer",
          "Acer",
          "Dell",
          "Lenovo",
          "Dell",
          "HP",
          "ASUS",
          "HP",
          "Razer",
          "Dell",
          "Razer",
          "Dell",
          "Microsoft",
          "ASUS",
          "HP",
          "Lenovo",
          "Lenovo",
          "HP",
          "Microsoft",
          "Acer",
          "Razer",
          "MSI",
          "HP",
          "Lenovo",
          "Lenovo",
          "Dell",
          "MSI",
          "ASUS",
          "ASUS",
          "Acer",
          "Dell",
          "Microsoft",
          "Acer",
          "MSI",
          "GIGABYTE",
          "Razer",
          "ASUS",
          "GIGABYTE",
          "GIGABYTE",
          "Dell",
          "Dell",
          "Acer",
          "Acer",
          "Dell",
          "GIGABYTE",
          "Lenovo",
          "Lenovo",
          "Razer",
          "Dell",
          "Acer",
          "Dell",
          "Dell",
          "ASUS",
          "Acer",
          "ASUS",
          "HP",
          "MSI",
          "Dell",
          "Razer",
          "Lenovo",
          "Lenovo",
          "Razer",
          "ASUS",
          "HP",
          "Dell",
          "Acer",
          "ASUS",
          "Acer",
          "Dell",
          "Acer",
          "HP",
          "Lenovo",
          "HP",
          "Dell",
          "Lenovo",
          "Microsoft",
          "Dell",
          "Microsoft",
          "HP",
          "Dell",
          "Dell",
          "Acer",
          "Dell",
          "Acer",
          "MSI",
          "Acer",
          "Dell",
          "Acer",
          "MSI",
          "Samsung",
          "Acer",
          "Dell",
          "Razer",
          "GIGABYTE",
          "Dell",
          "Lenovo",
          "Dell",
          "Razer",
          "Microsoft",
          "MSI",
          "ASUS",
          "HP",
          "Acer",
          "HP",
          "MSI",
          "GIGABYTE",
          "MSI",
          "Dell",
          "HP",
          "GIGABYTE",
          "Microsoft",
          "ASUS",
          "ASUS",
          "Dell",
          "Dell",
          "Lenovo",
          "Lenovo",
          "Lenovo",
          "Lenovo",
          "Microsoft",
          "Dell",
          "Dell",
          "Samsung",
          "Lenovo",
          "Acer",
          "Lenovo",
          "Dell",
          "Lenovo",
          "HP",
          "Lenovo",
          "MSI",
          "Acer",
          "GIGABYTE",
          "Dell",
          "Lenovo",
          "Lenovo",
          "Lenovo",
          "Dell"
         ],
         "xaxis": "x",
         "y": [
          4.7,
          4.6,
          4.7,
          4.7,
          4.7,
          4.7,
          4.7,
          4.8,
          4.8,
          4.7,
          4.8,
          4.7,
          4.7,
          4.6,
          4.7,
          4.7,
          4.8,
          4.7,
          4.7,
          4.6,
          4.3,
          4.6,
          4.1,
          4.8,
          4.2,
          4.5,
          4.8,
          0,
          4.7,
          4.7,
          4.5,
          4.8,
          4.8,
          4.1,
          4.6,
          4.6,
          4.6,
          4.4,
          4.5,
          4.7,
          4.1,
          4.7,
          4.6,
          4.6,
          4.6,
          4.4,
          4.6,
          4.7,
          4.7,
          0,
          4.5,
          4.2,
          3.5,
          5,
          4.6,
          4.8,
          4.1,
          0,
          4.7,
          4.7,
          5,
          4.7,
          4.5,
          5,
          4.7,
          4.6,
          4.6,
          4.7,
          4.6,
          4.6,
          4.5,
          4.6,
          4.1,
          4.7,
          4.8,
          4.5,
          4.7,
          0,
          4.6,
          4.4,
          4.6,
          0,
          3.6,
          4.7,
          4.3,
          3.8,
          4.7,
          0,
          4.5,
          5,
          4.7,
          4.6,
          4.7,
          4.8,
          5,
          4.6,
          4.5,
          4.7,
          4.7,
          4.7,
          4.8,
          4.5,
          4.8,
          4.7,
          4.7,
          4.7,
          4.8,
          4.5,
          4.6,
          4.4,
          4.8,
          3.5,
          4.7,
          4.7,
          4.3,
          4.2,
          4.8,
          4.8,
          4.7,
          4.7,
          4.6,
          4.3,
          4.7,
          4.5,
          4.6,
          4.6,
          4.5,
          4.7,
          4.8,
          4.8,
          4.3,
          4.6,
          4.7,
          4.2,
          4.4,
          4.5,
          4.7,
          4.6,
          4.7,
          3.5,
          4.7,
          4.6,
          4.7,
          4.6,
          4.7,
          4.6,
          4.6,
          5,
          4.6,
          4.6,
          4.5,
          4.5,
          4.4,
          4.7,
          3.9,
          4.7,
          4.7,
          4.5,
          4.7,
          4.7,
          4.2,
          4.6,
          4,
          4.6,
          4.5,
          0,
          0,
          3,
          5,
          5,
          4.7,
          0,
          4.8,
          4.6,
          4.5,
          5,
          3,
          4.4,
          4.5,
          4.7,
          4.3,
          4.8,
          4.4,
          5,
          4,
          4.5,
          4.7,
          4.3,
          4.5,
          4.5,
          5,
          4.7,
          0,
          4.1,
          4.8,
          5,
          4.5,
          4.8,
          5,
          4,
          4.7,
          4.5,
          5,
          4.5,
          5,
          4.5,
          4.5,
          0,
          0,
          2.8,
          5,
          5,
          5,
          4.5,
          4.4,
          5,
          4.4,
          4.1,
          4.7,
          4.9,
          4.9,
          3.9,
          4.6,
          5,
          5,
          5,
          3.7,
          5,
          4.5,
          4.7,
          4.8,
          4.7,
          4.5,
          4.5,
          4.5,
          4.6,
          0,
          0,
          0,
          5,
          4.5,
          4.8,
          4.2,
          4.3,
          0,
          4,
          5,
          0,
          0,
          4.2,
          4,
          0,
          3.5,
          5,
          3.9,
          5,
          2.7,
          3.4,
          4.5,
          5,
          0,
          0,
          4,
          3.8,
          0,
          0,
          4.1,
          4.5,
          4,
          5,
          4,
          0,
          4,
          0,
          5,
          3.5,
          0,
          4.8,
          4.9,
          4,
          5,
          0,
          4.5,
          4.7,
          0,
          4.7,
          5,
          0,
          3.9,
          3.5,
          4.5,
          4.7,
          5,
          4.3,
          0,
          5,
          0,
          0,
          4.3,
          4.3,
          0,
          4,
          5,
          4.1,
          0,
          4.3,
          0,
          0,
          5,
          0,
          4.7,
          0,
          3.6,
          0,
          0,
          5,
          0,
          2.4,
          0,
          0,
          0,
          5,
          0,
          0,
          4,
          4.7,
          4.1,
          4,
          1,
          0,
          0,
          0,
          0,
          0,
          3.6,
          1,
          0,
          0,
          5,
          0,
          3.3,
          4.6,
          0,
          0,
          5,
          3.8,
          0,
          3.6,
          3.8,
          0,
          0,
          3,
          4,
          0,
          0,
          0,
          0,
          5,
          5,
          4,
          0,
          4.4,
          3,
          0,
          4,
          3.9,
          0,
          4.5,
          0,
          5,
          5,
          4.4,
          4,
          5,
          0,
          0,
          4,
          4,
          3.6,
          2,
          3,
          3,
          0,
          0,
          0,
          0,
          5,
          5,
          0,
          0,
          0,
          0,
          0,
          0,
          0,
          0,
          0,
          0,
          0,
          0,
          0,
          0,
          0,
          5,
          0,
          4.7,
          0,
          3,
          0,
          0,
          0,
          0,
          5,
          4.4,
          0,
          3.3,
          4.3,
          5,
          0,
          0,
          0,
          3.9,
          0,
          4.4,
          0,
          0,
          4,
          0,
          4.3,
          4.4,
          3.6,
          1,
          0,
          0,
          0,
          0,
          0,
          4.3,
          4.2,
          0,
          2.8,
          0,
          0,
          0,
          0,
          0,
          0,
          0,
          5,
          0,
          0,
          4.6,
          5,
          5,
          5,
          3,
          0,
          1.5,
          0,
          3.4,
          3.9,
          4,
          0,
          1,
          5,
          5,
          0,
          0,
          0,
          4,
          5,
          5,
          0,
          4.2,
          0,
          4,
          3.7,
          0,
          0,
          3.3,
          0,
          0,
          0,
          4,
          5,
          5,
          5,
          0,
          0
         ],
         "yaxis": "y"
        }
       ],
       "layout": {
        "barmode": "relative",
        "coloraxis": {
         "colorbar": {
          "title": {
           "text": "Rating"
          }
         },
         "colorscale": [
          [
           0,
           "#440154"
          ],
          [
           0.1111111111111111,
           "#482878"
          ],
          [
           0.2222222222222222,
           "#3e4989"
          ],
          [
           0.3333333333333333,
           "#31688e"
          ],
          [
           0.4444444444444444,
           "#26828e"
          ],
          [
           0.5555555555555556,
           "#1f9e89"
          ],
          [
           0.6666666666666666,
           "#35b779"
          ],
          [
           0.7777777777777778,
           "#6ece58"
          ],
          [
           0.8888888888888888,
           "#b5de2b"
          ],
          [
           1,
           "#fde725"
          ]
         ]
        },
        "height": 500,
        "legend": {
         "tracegroupgap": 0
        },
        "showlegend": false,
        "template": {
         "data": {
          "bar": [
           {
            "error_x": {
             "color": "#2a3f5f"
            },
            "error_y": {
             "color": "#2a3f5f"
            },
            "marker": {
             "line": {
              "color": "#E5ECF6",
              "width": 0.5
             },
             "pattern": {
              "fillmode": "overlay",
              "size": 10,
              "solidity": 0.2
             }
            },
            "type": "bar"
           }
          ],
          "barpolar": [
           {
            "marker": {
             "line": {
              "color": "#E5ECF6",
              "width": 0.5
             },
             "pattern": {
              "fillmode": "overlay",
              "size": 10,
              "solidity": 0.2
             }
            },
            "type": "barpolar"
           }
          ],
          "carpet": [
           {
            "aaxis": {
             "endlinecolor": "#2a3f5f",
             "gridcolor": "white",
             "linecolor": "white",
             "minorgridcolor": "white",
             "startlinecolor": "#2a3f5f"
            },
            "baxis": {
             "endlinecolor": "#2a3f5f",
             "gridcolor": "white",
             "linecolor": "white",
             "minorgridcolor": "white",
             "startlinecolor": "#2a3f5f"
            },
            "type": "carpet"
           }
          ],
          "choropleth": [
           {
            "colorbar": {
             "outlinewidth": 0,
             "ticks": ""
            },
            "type": "choropleth"
           }
          ],
          "contour": [
           {
            "colorbar": {
             "outlinewidth": 0,
             "ticks": ""
            },
            "colorscale": [
             [
              0,
              "#0d0887"
             ],
             [
              0.1111111111111111,
              "#46039f"
             ],
             [
              0.2222222222222222,
              "#7201a8"
             ],
             [
              0.3333333333333333,
              "#9c179e"
             ],
             [
              0.4444444444444444,
              "#bd3786"
             ],
             [
              0.5555555555555556,
              "#d8576b"
             ],
             [
              0.6666666666666666,
              "#ed7953"
             ],
             [
              0.7777777777777778,
              "#fb9f3a"
             ],
             [
              0.8888888888888888,
              "#fdca26"
             ],
             [
              1,
              "#f0f921"
             ]
            ],
            "type": "contour"
           }
          ],
          "contourcarpet": [
           {
            "colorbar": {
             "outlinewidth": 0,
             "ticks": ""
            },
            "type": "contourcarpet"
           }
          ],
          "heatmap": [
           {
            "colorbar": {
             "outlinewidth": 0,
             "ticks": ""
            },
            "colorscale": [
             [
              0,
              "#0d0887"
             ],
             [
              0.1111111111111111,
              "#46039f"
             ],
             [
              0.2222222222222222,
              "#7201a8"
             ],
             [
              0.3333333333333333,
              "#9c179e"
             ],
             [
              0.4444444444444444,
              "#bd3786"
             ],
             [
              0.5555555555555556,
              "#d8576b"
             ],
             [
              0.6666666666666666,
              "#ed7953"
             ],
             [
              0.7777777777777778,
              "#fb9f3a"
             ],
             [
              0.8888888888888888,
              "#fdca26"
             ],
             [
              1,
              "#f0f921"
             ]
            ],
            "type": "heatmap"
           }
          ],
          "heatmapgl": [
           {
            "colorbar": {
             "outlinewidth": 0,
             "ticks": ""
            },
            "colorscale": [
             [
              0,
              "#0d0887"
             ],
             [
              0.1111111111111111,
              "#46039f"
             ],
             [
              0.2222222222222222,
              "#7201a8"
             ],
             [
              0.3333333333333333,
              "#9c179e"
             ],
             [
              0.4444444444444444,
              "#bd3786"
             ],
             [
              0.5555555555555556,
              "#d8576b"
             ],
             [
              0.6666666666666666,
              "#ed7953"
             ],
             [
              0.7777777777777778,
              "#fb9f3a"
             ],
             [
              0.8888888888888888,
              "#fdca26"
             ],
             [
              1,
              "#f0f921"
             ]
            ],
            "type": "heatmapgl"
           }
          ],
          "histogram": [
           {
            "marker": {
             "pattern": {
              "fillmode": "overlay",
              "size": 10,
              "solidity": 0.2
             }
            },
            "type": "histogram"
           }
          ],
          "histogram2d": [
           {
            "colorbar": {
             "outlinewidth": 0,
             "ticks": ""
            },
            "colorscale": [
             [
              0,
              "#0d0887"
             ],
             [
              0.1111111111111111,
              "#46039f"
             ],
             [
              0.2222222222222222,
              "#7201a8"
             ],
             [
              0.3333333333333333,
              "#9c179e"
             ],
             [
              0.4444444444444444,
              "#bd3786"
             ],
             [
              0.5555555555555556,
              "#d8576b"
             ],
             [
              0.6666666666666666,
              "#ed7953"
             ],
             [
              0.7777777777777778,
              "#fb9f3a"
             ],
             [
              0.8888888888888888,
              "#fdca26"
             ],
             [
              1,
              "#f0f921"
             ]
            ],
            "type": "histogram2d"
           }
          ],
          "histogram2dcontour": [
           {
            "colorbar": {
             "outlinewidth": 0,
             "ticks": ""
            },
            "colorscale": [
             [
              0,
              "#0d0887"
             ],
             [
              0.1111111111111111,
              "#46039f"
             ],
             [
              0.2222222222222222,
              "#7201a8"
             ],
             [
              0.3333333333333333,
              "#9c179e"
             ],
             [
              0.4444444444444444,
              "#bd3786"
             ],
             [
              0.5555555555555556,
              "#d8576b"
             ],
             [
              0.6666666666666666,
              "#ed7953"
             ],
             [
              0.7777777777777778,
              "#fb9f3a"
             ],
             [
              0.8888888888888888,
              "#fdca26"
             ],
             [
              1,
              "#f0f921"
             ]
            ],
            "type": "histogram2dcontour"
           }
          ],
          "mesh3d": [
           {
            "colorbar": {
             "outlinewidth": 0,
             "ticks": ""
            },
            "type": "mesh3d"
           }
          ],
          "parcoords": [
           {
            "line": {
             "colorbar": {
              "outlinewidth": 0,
              "ticks": ""
             }
            },
            "type": "parcoords"
           }
          ],
          "pie": [
           {
            "automargin": true,
            "type": "pie"
           }
          ],
          "scatter": [
           {
            "fillpattern": {
             "fillmode": "overlay",
             "size": 10,
             "solidity": 0.2
            },
            "type": "scatter"
           }
          ],
          "scatter3d": [
           {
            "line": {
             "colorbar": {
              "outlinewidth": 0,
              "ticks": ""
             }
            },
            "marker": {
             "colorbar": {
              "outlinewidth": 0,
              "ticks": ""
             }
            },
            "type": "scatter3d"
           }
          ],
          "scattercarpet": [
           {
            "marker": {
             "colorbar": {
              "outlinewidth": 0,
              "ticks": ""
             }
            },
            "type": "scattercarpet"
           }
          ],
          "scattergeo": [
           {
            "marker": {
             "colorbar": {
              "outlinewidth": 0,
              "ticks": ""
             }
            },
            "type": "scattergeo"
           }
          ],
          "scattergl": [
           {
            "marker": {
             "colorbar": {
              "outlinewidth": 0,
              "ticks": ""
             }
            },
            "type": "scattergl"
           }
          ],
          "scattermapbox": [
           {
            "marker": {
             "colorbar": {
              "outlinewidth": 0,
              "ticks": ""
             }
            },
            "type": "scattermapbox"
           }
          ],
          "scatterpolar": [
           {
            "marker": {
             "colorbar": {
              "outlinewidth": 0,
              "ticks": ""
             }
            },
            "type": "scatterpolar"
           }
          ],
          "scatterpolargl": [
           {
            "marker": {
             "colorbar": {
              "outlinewidth": 0,
              "ticks": ""
             }
            },
            "type": "scatterpolargl"
           }
          ],
          "scatterternary": [
           {
            "marker": {
             "colorbar": {
              "outlinewidth": 0,
              "ticks": ""
             }
            },
            "type": "scatterternary"
           }
          ],
          "surface": [
           {
            "colorbar": {
             "outlinewidth": 0,
             "ticks": ""
            },
            "colorscale": [
             [
              0,
              "#0d0887"
             ],
             [
              0.1111111111111111,
              "#46039f"
             ],
             [
              0.2222222222222222,
              "#7201a8"
             ],
             [
              0.3333333333333333,
              "#9c179e"
             ],
             [
              0.4444444444444444,
              "#bd3786"
             ],
             [
              0.5555555555555556,
              "#d8576b"
             ],
             [
              0.6666666666666666,
              "#ed7953"
             ],
             [
              0.7777777777777778,
              "#fb9f3a"
             ],
             [
              0.8888888888888888,
              "#fdca26"
             ],
             [
              1,
              "#f0f921"
             ]
            ],
            "type": "surface"
           }
          ],
          "table": [
           {
            "cells": {
             "fill": {
              "color": "#EBF0F8"
             },
             "line": {
              "color": "white"
             }
            },
            "header": {
             "fill": {
              "color": "#C8D4E3"
             },
             "line": {
              "color": "white"
             }
            },
            "type": "table"
           }
          ]
         },
         "layout": {
          "annotationdefaults": {
           "arrowcolor": "#2a3f5f",
           "arrowhead": 0,
           "arrowwidth": 1
          },
          "autotypenumbers": "strict",
          "coloraxis": {
           "colorbar": {
            "outlinewidth": 0,
            "ticks": ""
           }
          },
          "colorscale": {
           "diverging": [
            [
             0,
             "#8e0152"
            ],
            [
             0.1,
             "#c51b7d"
            ],
            [
             0.2,
             "#de77ae"
            ],
            [
             0.3,
             "#f1b6da"
            ],
            [
             0.4,
             "#fde0ef"
            ],
            [
             0.5,
             "#f7f7f7"
            ],
            [
             0.6,
             "#e6f5d0"
            ],
            [
             0.7,
             "#b8e186"
            ],
            [
             0.8,
             "#7fbc41"
            ],
            [
             0.9,
             "#4d9221"
            ],
            [
             1,
             "#276419"
            ]
           ],
           "sequential": [
            [
             0,
             "#0d0887"
            ],
            [
             0.1111111111111111,
             "#46039f"
            ],
            [
             0.2222222222222222,
             "#7201a8"
            ],
            [
             0.3333333333333333,
             "#9c179e"
            ],
            [
             0.4444444444444444,
             "#bd3786"
            ],
            [
             0.5555555555555556,
             "#d8576b"
            ],
            [
             0.6666666666666666,
             "#ed7953"
            ],
            [
             0.7777777777777778,
             "#fb9f3a"
            ],
            [
             0.8888888888888888,
             "#fdca26"
            ],
            [
             1,
             "#f0f921"
            ]
           ],
           "sequentialminus": [
            [
             0,
             "#0d0887"
            ],
            [
             0.1111111111111111,
             "#46039f"
            ],
            [
             0.2222222222222222,
             "#7201a8"
            ],
            [
             0.3333333333333333,
             "#9c179e"
            ],
            [
             0.4444444444444444,
             "#bd3786"
            ],
            [
             0.5555555555555556,
             "#d8576b"
            ],
            [
             0.6666666666666666,
             "#ed7953"
            ],
            [
             0.7777777777777778,
             "#fb9f3a"
            ],
            [
             0.8888888888888888,
             "#fdca26"
            ],
            [
             1,
             "#f0f921"
            ]
           ]
          },
          "colorway": [
           "#636efa",
           "#EF553B",
           "#00cc96",
           "#ab63fa",
           "#FFA15A",
           "#19d3f3",
           "#FF6692",
           "#B6E880",
           "#FF97FF",
           "#FECB52"
          ],
          "font": {
           "color": "#2a3f5f"
          },
          "geo": {
           "bgcolor": "white",
           "lakecolor": "white",
           "landcolor": "#E5ECF6",
           "showlakes": true,
           "showland": true,
           "subunitcolor": "white"
          },
          "hoverlabel": {
           "align": "left"
          },
          "hovermode": "closest",
          "mapbox": {
           "style": "light"
          },
          "paper_bgcolor": "white",
          "plot_bgcolor": "#E5ECF6",
          "polar": {
           "angularaxis": {
            "gridcolor": "white",
            "linecolor": "white",
            "ticks": ""
           },
           "bgcolor": "#E5ECF6",
           "radialaxis": {
            "gridcolor": "white",
            "linecolor": "white",
            "ticks": ""
           }
          },
          "scene": {
           "xaxis": {
            "backgroundcolor": "#E5ECF6",
            "gridcolor": "white",
            "gridwidth": 2,
            "linecolor": "white",
            "showbackground": true,
            "ticks": "",
            "zerolinecolor": "white"
           },
           "yaxis": {
            "backgroundcolor": "#E5ECF6",
            "gridcolor": "white",
            "gridwidth": 2,
            "linecolor": "white",
            "showbackground": true,
            "ticks": "",
            "zerolinecolor": "white"
           },
           "zaxis": {
            "backgroundcolor": "#E5ECF6",
            "gridcolor": "white",
            "gridwidth": 2,
            "linecolor": "white",
            "showbackground": true,
            "ticks": "",
            "zerolinecolor": "white"
           }
          },
          "shapedefaults": {
           "line": {
            "color": "#2a3f5f"
           }
          },
          "ternary": {
           "aaxis": {
            "gridcolor": "white",
            "linecolor": "white",
            "ticks": ""
           },
           "baxis": {
            "gridcolor": "white",
            "linecolor": "white",
            "ticks": ""
           },
           "bgcolor": "#E5ECF6",
           "caxis": {
            "gridcolor": "white",
            "linecolor": "white",
            "ticks": ""
           }
          },
          "title": {
           "x": 0.05
          },
          "xaxis": {
           "automargin": true,
           "gridcolor": "white",
           "linecolor": "white",
           "ticks": "",
           "title": {
            "standoff": 15
           },
           "zerolinecolor": "white",
           "zerolinewidth": 2
          },
          "yaxis": {
           "automargin": true,
           "gridcolor": "white",
           "linecolor": "white",
           "ticks": "",
           "title": {
            "standoff": 15
           },
           "zerolinecolor": "white",
           "zerolinewidth": 2
          }
         }
        },
        "title": {
         "text": "Average Rating by Brand"
        },
        "width": 800,
        "xaxis": {
         "anchor": "y",
         "domain": [
          0,
          1
         ],
         "title": {
          "text": "Brand"
         }
        },
        "yaxis": {
         "anchor": "x",
         "domain": [
          0,
          1
         ],
         "title": {
          "text": "Average Rating"
         }
        }
       }
      },
      "text/html": [
       "<div>                            <div id=\"4ae0b208-6229-4187-8b74-66064fe4bf2a\" class=\"plotly-graph-div\" style=\"height:500px; width:800px;\"></div>            <script type=\"text/javascript\">                require([\"plotly\"], function(Plotly) {                    window.PLOTLYENV=window.PLOTLYENV || {};                                    if (document.getElementById(\"4ae0b208-6229-4187-8b74-66064fe4bf2a\")) {                    Plotly.newPlot(                        \"4ae0b208-6229-4187-8b74-66064fe4bf2a\",                        [{\"alignmentgroup\":\"True\",\"hovertemplate\":\"Brand=%{x}\\u003cbr\\u003eRating=%{marker.color}\\u003cextra\\u003e\\u003c\\u002fextra\\u003e\",\"legendgroup\":\"\",\"marker\":{\"color\":[4.7,4.6,4.7,4.7,4.7,4.7,4.7,4.8,4.8,4.7,4.8,4.7,4.7,4.6,4.7,4.7,4.8,4.7,4.7,4.6,4.3,4.6,4.1,4.8,4.2,4.5,4.8,0.0,4.7,4.7,4.5,4.8,4.8,4.1,4.6,4.6,4.6,4.4,4.5,4.7,4.1,4.7,4.6,4.6,4.6,4.4,4.6,4.7,4.7,0.0,4.5,4.2,3.5,5.0,4.6,4.8,4.1,0.0,4.7,4.7,5.0,4.7,4.5,5.0,4.7,4.6,4.6,4.7,4.6,4.6,4.5,4.6,4.1,4.7,4.8,4.5,4.7,0.0,4.6,4.4,4.6,0.0,3.6,4.7,4.3,3.8,4.7,0.0,4.5,5.0,4.7,4.6,4.7,4.8,5.0,4.6,4.5,4.7,4.7,4.7,4.8,4.5,4.8,4.7,4.7,4.7,4.8,4.5,4.6,4.4,4.8,3.5,4.7,4.7,4.3,4.2,4.8,4.8,4.7,4.7,4.6,4.3,4.7,4.5,4.6,4.6,4.5,4.7,4.8,4.8,4.3,4.6,4.7,4.2,4.4,4.5,4.7,4.6,4.7,3.5,4.7,4.6,4.7,4.6,4.7,4.6,4.6,5.0,4.6,4.6,4.5,4.5,4.4,4.7,3.9,4.7,4.7,4.5,4.7,4.7,4.2,4.6,4.0,4.6,4.5,0.0,0.0,3.0,5.0,5.0,4.7,0.0,4.8,4.6,4.5,5.0,3.0,4.4,4.5,4.7,4.3,4.8,4.4,5.0,4.0,4.5,4.7,4.3,4.5,4.5,5.0,4.7,0.0,4.1,4.8,5.0,4.5,4.8,5.0,4.0,4.7,4.5,5.0,4.5,5.0,4.5,4.5,0.0,0.0,2.8,5.0,5.0,5.0,4.5,4.4,5.0,4.4,4.1,4.7,4.9,4.9,3.9,4.6,5.0,5.0,5.0,3.7,5.0,4.5,4.7,4.8,4.7,4.5,4.5,4.5,4.6,0.0,0.0,0.0,5.0,4.5,4.8,4.2,4.3,0.0,4.0,5.0,0.0,0.0,4.2,4.0,0.0,3.5,5.0,3.9,5.0,2.7,3.4,4.5,5.0,0.0,0.0,4.0,3.8,0.0,0.0,4.1,4.5,4.0,5.0,4.0,0.0,4.0,0.0,5.0,3.5,0.0,4.8,4.9,4.0,5.0,0.0,4.5,4.7,0.0,4.7,5.0,0.0,3.9,3.5,4.5,4.7,5.0,4.3,0.0,5.0,0.0,0.0,4.3,4.3,0.0,4.0,5.0,4.1,0.0,4.3,0.0,0.0,5.0,0.0,4.7,0.0,3.6,0.0,0.0,5.0,0.0,2.4,0.0,0.0,0.0,5.0,0.0,0.0,4.0,4.7,4.1,4.0,1.0,0.0,0.0,0.0,0.0,0.0,3.6,1.0,0.0,0.0,5.0,0.0,3.3,4.6,0.0,0.0,5.0,3.8,0.0,3.6,3.8,0.0,0.0,3.0,4.0,0.0,0.0,0.0,0.0,5.0,5.0,4.0,0.0,4.4,3.0,0.0,4.0,3.9,0.0,4.5,0.0,5.0,5.0,4.4,4.0,5.0,0.0,0.0,4.0,4.0,3.6,2.0,3.0,3.0,0.0,0.0,0.0,0.0,5.0,5.0,0.0,0.0,0.0,0.0,0.0,0.0,0.0,0.0,0.0,0.0,0.0,0.0,0.0,0.0,0.0,5.0,0.0,4.7,0.0,3.0,0.0,0.0,0.0,0.0,5.0,4.4,0.0,3.3,4.3,5.0,0.0,0.0,0.0,3.9,0.0,4.4,0.0,0.0,4.0,0.0,4.3,4.4,3.6,1.0,0.0,0.0,0.0,0.0,0.0,4.3,4.2,0.0,2.8,0.0,0.0,0.0,0.0,0.0,0.0,0.0,5.0,0.0,0.0,4.6,5.0,5.0,5.0,3.0,0.0,1.5,0.0,3.4,3.9,4.0,0.0,1.0,5.0,5.0,0.0,0.0,0.0,4.0,5.0,5.0,0.0,4.2,0.0,4.0,3.7,0.0,0.0,3.3,0.0,0.0,0.0,4.0,5.0,5.0,5.0,0.0,0.0],\"coloraxis\":\"coloraxis\",\"pattern\":{\"shape\":\"\"}},\"name\":\"\",\"offsetgroup\":\"\",\"orientation\":\"v\",\"showlegend\":false,\"textposition\":\"auto\",\"x\":[\"Dell\",\"Dell\",\"Lenovo\",\"Microsoft\",\"Microsoft\",\"Dell\",\"Lenovo\",\"Lenovo\",\"Samsung\",\"ASUS\",\"Samsung\",\"HP\",\"HP\",\"Acer\",\"Lenovo\",\"HP\",\"HP\",\"HP\",\"HP\",\"HP\",\"Dell\",\"Microsoft\",\"HP\",\"Microsoft\",\"LG\",\"Dell\",\"Lenovo\",\"Lenovo\",\"Lenovo\",\"HP\",\"LG\",\"Microsoft\",\"Microsoft\",\"HP\",\"Lenovo\",\"HP\",\"Lenovo\",\"Dell\",\"ASUS\",\"Dell\",\"HP\",\"ASUS\",\"Microsoft\",\"LG\",\"HP\",\"Microsoft\",\"Dell\",\"Microsoft\",\"HP\",\"MSI\",\"ASUS\",\"HP\",\"Lenovo\",\"Lenovo\",\"Lenovo\",\"Microsoft\",\"LG\",\"Lenovo\",\"ASUS\",\"Lenovo\",\"ASUS\",\"Microsoft\",\"Acer\",\"HP\",\"Lenovo\",\"Samsung\",\"LG\",\"Lenovo\",\"Dell\",\"Acer\",\"ASUS\",\"ASUS\",\"HP\",\"Lenovo\",\"Lenovo\",\"MSI\",\"Microsoft\",\"HP\",\"Lenovo\",\"MSI\",\"Samsung\",\"Lenovo\",\"ASUS\",\"LG\",\"ASUS\",\"HP\",\"Lenovo\",\"Lenovo\",\"Dell\",\"Razer\",\"HP\",\"MSI\",\"Microsoft\",\"Microsoft\",\"LG\",\"ASUS\",\"ASUS\",\"Microsoft\",\"Microsoft\",\"Microsoft\",\"Microsoft\",\"MSI\",\"HP\",\"Microsoft\",\"Microsoft\",\"Microsoft\",\"Acer\",\"HP\",\"Dell\",\"Samsung\",\"Microsoft\",\"Razer\",\"Microsoft\",\"Samsung\",\"Alienware\",\"Razer\",\"Microsoft\",\"Microsoft\",\"ASUS\",\"Microsoft\",\"Microsoft\",\"ASUS\",\"Lenovo\",\"ASUS\",\"HP\",\"Samsung\",\"Dell\",\"Microsoft\",\"Microsoft\",\"Lenovo\",\"Acer\",\"Lenovo\",\"Microsoft\",\"Lenovo\",\"MSI\",\"Dell\",\"Microsoft\",\"Dell\",\"Lenovo\",\"Samsung\",\"Microsoft\",\"HP\",\"Lenovo\",\"Lenovo\",\"HP OMEN\",\"HP\",\"Dell\",\"ASUS\",\"HP\",\"Acer\",\"Lenovo\",\"Microsoft\",\"Dell\",\"HP OMEN\",\"Lenovo\",\"Dell\",\"HP\",\"Alienware\",\"HP\",\"Acer\",\"Razer\",\"Dell\",\"Lenovo\",\"Lenovo\",\"HP\",\"Lenovo\",\"Dell\",\"ASUS\",\"ASUS\",\"ASUS\",\"HP\",\"HP\",\"ASUS\",\"HP OMEN\",\"ASUS\",\"Lenovo\",\"Lenovo\",\"Alienware\",\"HP\",\"ASUS\",\"ASUS\",\"Samsung\",\"GIGABYTE\",\"HP\",\"Alienware\",\"ASUS\",\"Dell\",\"ASUS\",\"ASUS\",\"HP OMEN\",\"Razer\",\"ASUS\",\"GIGABYTE\",\"ASUS\",\"ASUS\",\"Dell\",\"Lenovo\",\"Dell\",\"HP\",\"Dell\",\"HP\",\"ASUS\",\"ASUS\",\"Lenovo\",\"Lenovo\",\"ASUS\",\"Dell\",\"Lenovo\",\"Microsoft\",\"Microsoft\",\"ASUS\",\"ASUS\",\"HP\",\"Microsoft\",\"Dell\",\"Dell\",\"HP\",\"ASUS\",\"Dell\",\"ASUS\",\"ASUS\",\"ASUS\",\"MSI\",\"HP\",\"Lenovo\",\"Microsoft\",\"Razer\",\"Acer\",\"Razer\",\"Lenovo\",\"Lenovo\",\"ASUS\",\"Acer\",\"MSI\",\"Dell\",\"HP\",\"Lenovo\",\"MSI\",\"Lenovo\",\"GIGABYTE\",\"Razer\",\"Dell\",\"Samsung\",\"HP\",\"Lenovo\",\"HP\",\"Dell\",\"Lenovo\",\"Dell\",\"ASUS\",\"ASUS\",\"Alienware\",\"Lenovo\",\"GIGABYTE\",\"Lenovo\",\"Acer\",\"Razer\",\"HP\",\"ASUS\",\"Dell\",\"Lenovo\",\"Lenovo\",\"Lenovo\",\"Lenovo\",\"Lenovo\",\"Dell\",\"Lenovo\",\"HP\",\"Lenovo\",\"LG\",\"MSI\",\"Dell\",\"HP\",\"MSI\",\"Acer\",\"HP OMEN\",\"Dell\",\"Dell\",\"ASUS\",\"HP\",\"Dell\",\"Lenovo\",\"GIGABYTE\",\"HP\",\"HP\",\"HP\",\"Lenovo\",\"MSI\",\"Razer\",\"ASUS\",\"ASUS\",\"Lenovo\",\"Dell\",\"Alienware\",\"Lenovo\",\"HP OMEN\",\"Dell\",\"Dell\",\"HP\",\"GIGABYTE\",\"ASUS\",\"Dell\",\"Dell\",\"ASUS\",\"Lenovo\",\"Lenovo\",\"Lenovo\",\"Dell\",\"Lenovo\",\"Microsoft\",\"Microsoft\",\"Razer\",\"HP\",\"Microsoft\",\"HP\",\"Lenovo\",\"Lenovo\",\"Samsung\",\"Lenovo\",\"Dell\",\"Lenovo\",\"HP\",\"Lenovo\",\"Dell\",\"Lenovo\",\"Razer\",\"HP\",\"HP\",\"ASUS\",\"Lenovo\",\"ASUS\",\"Dell\",\"Dell\",\"Dell\",\"ASUS\",\"Dell\",\"Microsoft\",\"Microsoft\",\"Lenovo\",\"Dell\",\"Dell\",\"ASUS\",\"LG\",\"Lenovo\",\"Thomson\",\"Razer\",\"Lenovo\",\"Microsoft\",\"Acer\",\"Lenovo\",\"Lenovo\",\"Acer\",\"Acer\",\"Dell\",\"Lenovo\",\"Dell\",\"HP\",\"ASUS\",\"HP\",\"Razer\",\"Dell\",\"Razer\",\"Dell\",\"Microsoft\",\"ASUS\",\"HP\",\"Lenovo\",\"Lenovo\",\"HP\",\"Microsoft\",\"Acer\",\"Razer\",\"MSI\",\"HP\",\"Lenovo\",\"Lenovo\",\"Dell\",\"MSI\",\"ASUS\",\"ASUS\",\"Acer\",\"Dell\",\"Microsoft\",\"Acer\",\"MSI\",\"GIGABYTE\",\"Razer\",\"ASUS\",\"GIGABYTE\",\"GIGABYTE\",\"Dell\",\"Dell\",\"Acer\",\"Acer\",\"Dell\",\"GIGABYTE\",\"Lenovo\",\"Lenovo\",\"Razer\",\"Dell\",\"Acer\",\"Dell\",\"Dell\",\"ASUS\",\"Acer\",\"ASUS\",\"HP\",\"MSI\",\"Dell\",\"Razer\",\"Lenovo\",\"Lenovo\",\"Razer\",\"ASUS\",\"HP\",\"Dell\",\"Acer\",\"ASUS\",\"Acer\",\"Dell\",\"Acer\",\"HP\",\"Lenovo\",\"HP\",\"Dell\",\"Lenovo\",\"Microsoft\",\"Dell\",\"Microsoft\",\"HP\",\"Dell\",\"Dell\",\"Acer\",\"Dell\",\"Acer\",\"MSI\",\"Acer\",\"Dell\",\"Acer\",\"MSI\",\"Samsung\",\"Acer\",\"Dell\",\"Razer\",\"GIGABYTE\",\"Dell\",\"Lenovo\",\"Dell\",\"Razer\",\"Microsoft\",\"MSI\",\"ASUS\",\"HP\",\"Acer\",\"HP\",\"MSI\",\"GIGABYTE\",\"MSI\",\"Dell\",\"HP\",\"GIGABYTE\",\"Microsoft\",\"ASUS\",\"ASUS\",\"Dell\",\"Dell\",\"Lenovo\",\"Lenovo\",\"Lenovo\",\"Lenovo\",\"Microsoft\",\"Dell\",\"Dell\",\"Samsung\",\"Lenovo\",\"Acer\",\"Lenovo\",\"Dell\",\"Lenovo\",\"HP\",\"Lenovo\",\"MSI\",\"Acer\",\"GIGABYTE\",\"Dell\",\"Lenovo\",\"Lenovo\",\"Lenovo\",\"Dell\"],\"xaxis\":\"x\",\"y\":[4.7,4.6,4.7,4.7,4.7,4.7,4.7,4.8,4.8,4.7,4.8,4.7,4.7,4.6,4.7,4.7,4.8,4.7,4.7,4.6,4.3,4.6,4.1,4.8,4.2,4.5,4.8,0.0,4.7,4.7,4.5,4.8,4.8,4.1,4.6,4.6,4.6,4.4,4.5,4.7,4.1,4.7,4.6,4.6,4.6,4.4,4.6,4.7,4.7,0.0,4.5,4.2,3.5,5.0,4.6,4.8,4.1,0.0,4.7,4.7,5.0,4.7,4.5,5.0,4.7,4.6,4.6,4.7,4.6,4.6,4.5,4.6,4.1,4.7,4.8,4.5,4.7,0.0,4.6,4.4,4.6,0.0,3.6,4.7,4.3,3.8,4.7,0.0,4.5,5.0,4.7,4.6,4.7,4.8,5.0,4.6,4.5,4.7,4.7,4.7,4.8,4.5,4.8,4.7,4.7,4.7,4.8,4.5,4.6,4.4,4.8,3.5,4.7,4.7,4.3,4.2,4.8,4.8,4.7,4.7,4.6,4.3,4.7,4.5,4.6,4.6,4.5,4.7,4.8,4.8,4.3,4.6,4.7,4.2,4.4,4.5,4.7,4.6,4.7,3.5,4.7,4.6,4.7,4.6,4.7,4.6,4.6,5.0,4.6,4.6,4.5,4.5,4.4,4.7,3.9,4.7,4.7,4.5,4.7,4.7,4.2,4.6,4.0,4.6,4.5,0.0,0.0,3.0,5.0,5.0,4.7,0.0,4.8,4.6,4.5,5.0,3.0,4.4,4.5,4.7,4.3,4.8,4.4,5.0,4.0,4.5,4.7,4.3,4.5,4.5,5.0,4.7,0.0,4.1,4.8,5.0,4.5,4.8,5.0,4.0,4.7,4.5,5.0,4.5,5.0,4.5,4.5,0.0,0.0,2.8,5.0,5.0,5.0,4.5,4.4,5.0,4.4,4.1,4.7,4.9,4.9,3.9,4.6,5.0,5.0,5.0,3.7,5.0,4.5,4.7,4.8,4.7,4.5,4.5,4.5,4.6,0.0,0.0,0.0,5.0,4.5,4.8,4.2,4.3,0.0,4.0,5.0,0.0,0.0,4.2,4.0,0.0,3.5,5.0,3.9,5.0,2.7,3.4,4.5,5.0,0.0,0.0,4.0,3.8,0.0,0.0,4.1,4.5,4.0,5.0,4.0,0.0,4.0,0.0,5.0,3.5,0.0,4.8,4.9,4.0,5.0,0.0,4.5,4.7,0.0,4.7,5.0,0.0,3.9,3.5,4.5,4.7,5.0,4.3,0.0,5.0,0.0,0.0,4.3,4.3,0.0,4.0,5.0,4.1,0.0,4.3,0.0,0.0,5.0,0.0,4.7,0.0,3.6,0.0,0.0,5.0,0.0,2.4,0.0,0.0,0.0,5.0,0.0,0.0,4.0,4.7,4.1,4.0,1.0,0.0,0.0,0.0,0.0,0.0,3.6,1.0,0.0,0.0,5.0,0.0,3.3,4.6,0.0,0.0,5.0,3.8,0.0,3.6,3.8,0.0,0.0,3.0,4.0,0.0,0.0,0.0,0.0,5.0,5.0,4.0,0.0,4.4,3.0,0.0,4.0,3.9,0.0,4.5,0.0,5.0,5.0,4.4,4.0,5.0,0.0,0.0,4.0,4.0,3.6,2.0,3.0,3.0,0.0,0.0,0.0,0.0,5.0,5.0,0.0,0.0,0.0,0.0,0.0,0.0,0.0,0.0,0.0,0.0,0.0,0.0,0.0,0.0,0.0,5.0,0.0,4.7,0.0,3.0,0.0,0.0,0.0,0.0,5.0,4.4,0.0,3.3,4.3,5.0,0.0,0.0,0.0,3.9,0.0,4.4,0.0,0.0,4.0,0.0,4.3,4.4,3.6,1.0,0.0,0.0,0.0,0.0,0.0,4.3,4.2,0.0,2.8,0.0,0.0,0.0,0.0,0.0,0.0,0.0,5.0,0.0,0.0,4.6,5.0,5.0,5.0,3.0,0.0,1.5,0.0,3.4,3.9,4.0,0.0,1.0,5.0,5.0,0.0,0.0,0.0,4.0,5.0,5.0,0.0,4.2,0.0,4.0,3.7,0.0,0.0,3.3,0.0,0.0,0.0,4.0,5.0,5.0,5.0,0.0,0.0],\"yaxis\":\"y\",\"type\":\"bar\"}],                        {\"template\":{\"data\":{\"histogram2dcontour\":[{\"type\":\"histogram2dcontour\",\"colorbar\":{\"outlinewidth\":0,\"ticks\":\"\"},\"colorscale\":[[0.0,\"#0d0887\"],[0.1111111111111111,\"#46039f\"],[0.2222222222222222,\"#7201a8\"],[0.3333333333333333,\"#9c179e\"],[0.4444444444444444,\"#bd3786\"],[0.5555555555555556,\"#d8576b\"],[0.6666666666666666,\"#ed7953\"],[0.7777777777777778,\"#fb9f3a\"],[0.8888888888888888,\"#fdca26\"],[1.0,\"#f0f921\"]]}],\"choropleth\":[{\"type\":\"choropleth\",\"colorbar\":{\"outlinewidth\":0,\"ticks\":\"\"}}],\"histogram2d\":[{\"type\":\"histogram2d\",\"colorbar\":{\"outlinewidth\":0,\"ticks\":\"\"},\"colorscale\":[[0.0,\"#0d0887\"],[0.1111111111111111,\"#46039f\"],[0.2222222222222222,\"#7201a8\"],[0.3333333333333333,\"#9c179e\"],[0.4444444444444444,\"#bd3786\"],[0.5555555555555556,\"#d8576b\"],[0.6666666666666666,\"#ed7953\"],[0.7777777777777778,\"#fb9f3a\"],[0.8888888888888888,\"#fdca26\"],[1.0,\"#f0f921\"]]}],\"heatmap\":[{\"type\":\"heatmap\",\"colorbar\":{\"outlinewidth\":0,\"ticks\":\"\"},\"colorscale\":[[0.0,\"#0d0887\"],[0.1111111111111111,\"#46039f\"],[0.2222222222222222,\"#7201a8\"],[0.3333333333333333,\"#9c179e\"],[0.4444444444444444,\"#bd3786\"],[0.5555555555555556,\"#d8576b\"],[0.6666666666666666,\"#ed7953\"],[0.7777777777777778,\"#fb9f3a\"],[0.8888888888888888,\"#fdca26\"],[1.0,\"#f0f921\"]]}],\"heatmapgl\":[{\"type\":\"heatmapgl\",\"colorbar\":{\"outlinewidth\":0,\"ticks\":\"\"},\"colorscale\":[[0.0,\"#0d0887\"],[0.1111111111111111,\"#46039f\"],[0.2222222222222222,\"#7201a8\"],[0.3333333333333333,\"#9c179e\"],[0.4444444444444444,\"#bd3786\"],[0.5555555555555556,\"#d8576b\"],[0.6666666666666666,\"#ed7953\"],[0.7777777777777778,\"#fb9f3a\"],[0.8888888888888888,\"#fdca26\"],[1.0,\"#f0f921\"]]}],\"contourcarpet\":[{\"type\":\"contourcarpet\",\"colorbar\":{\"outlinewidth\":0,\"ticks\":\"\"}}],\"contour\":[{\"type\":\"contour\",\"colorbar\":{\"outlinewidth\":0,\"ticks\":\"\"},\"colorscale\":[[0.0,\"#0d0887\"],[0.1111111111111111,\"#46039f\"],[0.2222222222222222,\"#7201a8\"],[0.3333333333333333,\"#9c179e\"],[0.4444444444444444,\"#bd3786\"],[0.5555555555555556,\"#d8576b\"],[0.6666666666666666,\"#ed7953\"],[0.7777777777777778,\"#fb9f3a\"],[0.8888888888888888,\"#fdca26\"],[1.0,\"#f0f921\"]]}],\"surface\":[{\"type\":\"surface\",\"colorbar\":{\"outlinewidth\":0,\"ticks\":\"\"},\"colorscale\":[[0.0,\"#0d0887\"],[0.1111111111111111,\"#46039f\"],[0.2222222222222222,\"#7201a8\"],[0.3333333333333333,\"#9c179e\"],[0.4444444444444444,\"#bd3786\"],[0.5555555555555556,\"#d8576b\"],[0.6666666666666666,\"#ed7953\"],[0.7777777777777778,\"#fb9f3a\"],[0.8888888888888888,\"#fdca26\"],[1.0,\"#f0f921\"]]}],\"mesh3d\":[{\"type\":\"mesh3d\",\"colorbar\":{\"outlinewidth\":0,\"ticks\":\"\"}}],\"scatter\":[{\"fillpattern\":{\"fillmode\":\"overlay\",\"size\":10,\"solidity\":0.2},\"type\":\"scatter\"}],\"parcoords\":[{\"type\":\"parcoords\",\"line\":{\"colorbar\":{\"outlinewidth\":0,\"ticks\":\"\"}}}],\"scatterpolargl\":[{\"type\":\"scatterpolargl\",\"marker\":{\"colorbar\":{\"outlinewidth\":0,\"ticks\":\"\"}}}],\"bar\":[{\"error_x\":{\"color\":\"#2a3f5f\"},\"error_y\":{\"color\":\"#2a3f5f\"},\"marker\":{\"line\":{\"color\":\"#E5ECF6\",\"width\":0.5},\"pattern\":{\"fillmode\":\"overlay\",\"size\":10,\"solidity\":0.2}},\"type\":\"bar\"}],\"scattergeo\":[{\"type\":\"scattergeo\",\"marker\":{\"colorbar\":{\"outlinewidth\":0,\"ticks\":\"\"}}}],\"scatterpolar\":[{\"type\":\"scatterpolar\",\"marker\":{\"colorbar\":{\"outlinewidth\":0,\"ticks\":\"\"}}}],\"histogram\":[{\"marker\":{\"pattern\":{\"fillmode\":\"overlay\",\"size\":10,\"solidity\":0.2}},\"type\":\"histogram\"}],\"scattergl\":[{\"type\":\"scattergl\",\"marker\":{\"colorbar\":{\"outlinewidth\":0,\"ticks\":\"\"}}}],\"scatter3d\":[{\"type\":\"scatter3d\",\"line\":{\"colorbar\":{\"outlinewidth\":0,\"ticks\":\"\"}},\"marker\":{\"colorbar\":{\"outlinewidth\":0,\"ticks\":\"\"}}}],\"scattermapbox\":[{\"type\":\"scattermapbox\",\"marker\":{\"colorbar\":{\"outlinewidth\":0,\"ticks\":\"\"}}}],\"scatterternary\":[{\"type\":\"scatterternary\",\"marker\":{\"colorbar\":{\"outlinewidth\":0,\"ticks\":\"\"}}}],\"scattercarpet\":[{\"type\":\"scattercarpet\",\"marker\":{\"colorbar\":{\"outlinewidth\":0,\"ticks\":\"\"}}}],\"carpet\":[{\"aaxis\":{\"endlinecolor\":\"#2a3f5f\",\"gridcolor\":\"white\",\"linecolor\":\"white\",\"minorgridcolor\":\"white\",\"startlinecolor\":\"#2a3f5f\"},\"baxis\":{\"endlinecolor\":\"#2a3f5f\",\"gridcolor\":\"white\",\"linecolor\":\"white\",\"minorgridcolor\":\"white\",\"startlinecolor\":\"#2a3f5f\"},\"type\":\"carpet\"}],\"table\":[{\"cells\":{\"fill\":{\"color\":\"#EBF0F8\"},\"line\":{\"color\":\"white\"}},\"header\":{\"fill\":{\"color\":\"#C8D4E3\"},\"line\":{\"color\":\"white\"}},\"type\":\"table\"}],\"barpolar\":[{\"marker\":{\"line\":{\"color\":\"#E5ECF6\",\"width\":0.5},\"pattern\":{\"fillmode\":\"overlay\",\"size\":10,\"solidity\":0.2}},\"type\":\"barpolar\"}],\"pie\":[{\"automargin\":true,\"type\":\"pie\"}]},\"layout\":{\"autotypenumbers\":\"strict\",\"colorway\":[\"#636efa\",\"#EF553B\",\"#00cc96\",\"#ab63fa\",\"#FFA15A\",\"#19d3f3\",\"#FF6692\",\"#B6E880\",\"#FF97FF\",\"#FECB52\"],\"font\":{\"color\":\"#2a3f5f\"},\"hovermode\":\"closest\",\"hoverlabel\":{\"align\":\"left\"},\"paper_bgcolor\":\"white\",\"plot_bgcolor\":\"#E5ECF6\",\"polar\":{\"bgcolor\":\"#E5ECF6\",\"angularaxis\":{\"gridcolor\":\"white\",\"linecolor\":\"white\",\"ticks\":\"\"},\"radialaxis\":{\"gridcolor\":\"white\",\"linecolor\":\"white\",\"ticks\":\"\"}},\"ternary\":{\"bgcolor\":\"#E5ECF6\",\"aaxis\":{\"gridcolor\":\"white\",\"linecolor\":\"white\",\"ticks\":\"\"},\"baxis\":{\"gridcolor\":\"white\",\"linecolor\":\"white\",\"ticks\":\"\"},\"caxis\":{\"gridcolor\":\"white\",\"linecolor\":\"white\",\"ticks\":\"\"}},\"coloraxis\":{\"colorbar\":{\"outlinewidth\":0,\"ticks\":\"\"}},\"colorscale\":{\"sequential\":[[0.0,\"#0d0887\"],[0.1111111111111111,\"#46039f\"],[0.2222222222222222,\"#7201a8\"],[0.3333333333333333,\"#9c179e\"],[0.4444444444444444,\"#bd3786\"],[0.5555555555555556,\"#d8576b\"],[0.6666666666666666,\"#ed7953\"],[0.7777777777777778,\"#fb9f3a\"],[0.8888888888888888,\"#fdca26\"],[1.0,\"#f0f921\"]],\"sequentialminus\":[[0.0,\"#0d0887\"],[0.1111111111111111,\"#46039f\"],[0.2222222222222222,\"#7201a8\"],[0.3333333333333333,\"#9c179e\"],[0.4444444444444444,\"#bd3786\"],[0.5555555555555556,\"#d8576b\"],[0.6666666666666666,\"#ed7953\"],[0.7777777777777778,\"#fb9f3a\"],[0.8888888888888888,\"#fdca26\"],[1.0,\"#f0f921\"]],\"diverging\":[[0,\"#8e0152\"],[0.1,\"#c51b7d\"],[0.2,\"#de77ae\"],[0.3,\"#f1b6da\"],[0.4,\"#fde0ef\"],[0.5,\"#f7f7f7\"],[0.6,\"#e6f5d0\"],[0.7,\"#b8e186\"],[0.8,\"#7fbc41\"],[0.9,\"#4d9221\"],[1,\"#276419\"]]},\"xaxis\":{\"gridcolor\":\"white\",\"linecolor\":\"white\",\"ticks\":\"\",\"title\":{\"standoff\":15},\"zerolinecolor\":\"white\",\"automargin\":true,\"zerolinewidth\":2},\"yaxis\":{\"gridcolor\":\"white\",\"linecolor\":\"white\",\"ticks\":\"\",\"title\":{\"standoff\":15},\"zerolinecolor\":\"white\",\"automargin\":true,\"zerolinewidth\":2},\"scene\":{\"xaxis\":{\"backgroundcolor\":\"#E5ECF6\",\"gridcolor\":\"white\",\"linecolor\":\"white\",\"showbackground\":true,\"ticks\":\"\",\"zerolinecolor\":\"white\",\"gridwidth\":2},\"yaxis\":{\"backgroundcolor\":\"#E5ECF6\",\"gridcolor\":\"white\",\"linecolor\":\"white\",\"showbackground\":true,\"ticks\":\"\",\"zerolinecolor\":\"white\",\"gridwidth\":2},\"zaxis\":{\"backgroundcolor\":\"#E5ECF6\",\"gridcolor\":\"white\",\"linecolor\":\"white\",\"showbackground\":true,\"ticks\":\"\",\"zerolinecolor\":\"white\",\"gridwidth\":2}},\"shapedefaults\":{\"line\":{\"color\":\"#2a3f5f\"}},\"annotationdefaults\":{\"arrowcolor\":\"#2a3f5f\",\"arrowhead\":0,\"arrowwidth\":1},\"geo\":{\"bgcolor\":\"white\",\"landcolor\":\"#E5ECF6\",\"subunitcolor\":\"white\",\"showland\":true,\"showlakes\":true,\"lakecolor\":\"white\"},\"title\":{\"x\":0.05},\"mapbox\":{\"style\":\"light\"}}},\"xaxis\":{\"anchor\":\"y\",\"domain\":[0.0,1.0],\"title\":{\"text\":\"Brand\"}},\"yaxis\":{\"anchor\":\"x\",\"domain\":[0.0,1.0],\"title\":{\"text\":\"Average Rating\"}},\"coloraxis\":{\"colorbar\":{\"title\":{\"text\":\"Rating\"}},\"colorscale\":[[0.0,\"#440154\"],[0.1111111111111111,\"#482878\"],[0.2222222222222222,\"#3e4989\"],[0.3333333333333333,\"#31688e\"],[0.4444444444444444,\"#26828e\"],[0.5555555555555556,\"#1f9e89\"],[0.6666666666666666,\"#35b779\"],[0.7777777777777778,\"#6ece58\"],[0.8888888888888888,\"#b5de2b\"],[1.0,\"#fde725\"]]},\"legend\":{\"tracegroupgap\":0},\"title\":{\"text\":\"Average Rating by Brand\"},\"barmode\":\"relative\",\"height\":500,\"width\":800,\"showlegend\":false},                        {\"responsive\": true}                    ).then(function(){\n",
       "                            \n",
       "var gd = document.getElementById('4ae0b208-6229-4187-8b74-66064fe4bf2a');\n",
       "var x = new MutationObserver(function (mutations, observer) {{\n",
       "        var display = window.getComputedStyle(gd).display;\n",
       "        if (!display || display === 'none') {{\n",
       "            console.log([gd, 'removed!']);\n",
       "            Plotly.purge(gd);\n",
       "            observer.disconnect();\n",
       "        }}\n",
       "}});\n",
       "\n",
       "// Listen for the removal of the full notebook cells\n",
       "var notebookContainer = gd.closest('#notebook-container');\n",
       "if (notebookContainer) {{\n",
       "    x.observe(notebookContainer, {childList: true});\n",
       "}}\n",
       "\n",
       "// Listen for the clearing of the current output cell\n",
       "var outputEl = gd.closest('.output');\n",
       "if (outputEl) {{\n",
       "    x.observe(outputEl, {childList: true});\n",
       "}}\n",
       "\n",
       "                        })                };                });            </script>        </div>"
      ]
     },
     "metadata": {},
     "output_type": "display_data"
    }
   ],
   "source": [
    "# view_bar = px.bar(average_rating,\n",
    "#                    title=\"Average Rating by Brand\")\n",
    "# view_bar.show()\n",
    "\n",
    "fig = px.bar(updated_info.reset_index(),\n",
    "             x='brand',\n",
    "             y='Rating',\n",
    "             title=\"Average Rating by Brand\",\n",
    "             labels={'Rating': 'Rating', 'brand': 'Brand'},\n",
    "             color='Rating',  # Color bars based on average rating\n",
    "             color_continuous_scale='Viridis',  # Choose a color scale\n",
    "             height=500,  # Set the height of the graph\n",
    "             width=800)   # Set the width of the graph\n",
    "\n",
    "# Customize the layout\n",
    "fig.update_layout(xaxis_title='Brand',  # X-axis label\n",
    "                  yaxis_title='Average Rating',  # Y-axis label\n",
    "                  showlegend=False)  # Do not display legend\n",
    "\n",
    "fig.show()"
   ]
  },
  {
   "cell_type": "code",
   "execution_count": null,
   "id": "f75af288",
   "metadata": {},
   "outputs": [],
   "source": []
  }
 ],
 "metadata": {
  "kernelspec": {
   "display_name": "Python 3 (ipykernel)",
   "language": "python",
   "name": "python3"
  },
  "language_info": {
   "codemirror_mode": {
    "name": "ipython",
    "version": 3
   },
   "file_extension": ".py",
   "mimetype": "text/x-python",
   "name": "python",
   "nbconvert_exporter": "python",
   "pygments_lexer": "ipython3",
   "version": "3.10.12"
  }
 },
 "nbformat": 4,
 "nbformat_minor": 5
}
